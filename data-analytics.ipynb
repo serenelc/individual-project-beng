{
 "cells": [
  {
   "cell_type": "code",
   "execution_count": 60,
   "metadata": {},
   "outputs": [],
   "source": [
    "import pandas as pd\n",
    "import datetime as dt\n",
    "import numpy as np\n",
    "import time\n",
    "import calendar\n",
    "import matplotlib\n",
    "import matplotlib.pyplot as plt\n",
    "import seaborn as sns\n",
    "import collections\n",
    "import sklearn\n",
    "import sklearn.ensemble as ens\n",
    "from sklearn import preprocessing, metrics, cluster\n",
    "from scipy import stats\n",
    "from matplotlib.dates import DateFormatter\n",
    "\n",
    "sns.set()\n",
    "my_palette = sns.color_palette(\"husl\")\n",
    "my_palette.pop(1)\n",
    "sns.set_palette(sns.color_palette(my_palette))"
   ]
  },
  {
   "cell_type": "markdown",
   "metadata": {},
   "source": [
    "## Data Exploration"
   ]
  },
  {
   "cell_type": "code",
   "execution_count": 6,
   "metadata": {},
   "outputs": [
    {
     "name": "stdout",
     "output_type": "stream",
     "text": [
      "(22860, 6)\n"
     ]
    },
    {
     "data": {
      "text/html": [
       "<div>\n",
       "<style scoped>\n",
       "    .dataframe tbody tr th:only-of-type {\n",
       "        vertical-align: middle;\n",
       "    }\n",
       "\n",
       "    .dataframe tbody tr th {\n",
       "        vertical-align: top;\n",
       "    }\n",
       "\n",
       "    .dataframe thead th {\n",
       "        text-align: right;\n",
       "    }\n",
       "</style>\n",
       "<table border=\"1\" class=\"dataframe\">\n",
       "  <thead>\n",
       "    <tr style=\"text-align: right;\">\n",
       "      <th></th>\n",
       "      <th>arrived</th>\n",
       "      <th>bus_stop_name</th>\n",
       "      <th>expected_arrival</th>\n",
       "      <th>vehicle_id</th>\n",
       "      <th>time_of_req</th>\n",
       "      <th>direction</th>\n",
       "    </tr>\n",
       "  </thead>\n",
       "  <tbody>\n",
       "    <tr>\n",
       "      <td>0</td>\n",
       "      <td>True</td>\n",
       "      <td>Ladbroke Grove Sainsbury's</td>\n",
       "      <td>2020-04-02 10:14:26</td>\n",
       "      <td>20286_490008897T_2020-04-02_out_1</td>\n",
       "      <td>2020-04-02 09:50:43</td>\n",
       "      <td>out</td>\n",
       "    </tr>\n",
       "    <tr>\n",
       "      <td>1</td>\n",
       "      <td>True</td>\n",
       "      <td>Silverthorne Road</td>\n",
       "      <td>2020-04-01 20:48:48</td>\n",
       "      <td>20279_490012162E_2020-04-01_out_0</td>\n",
       "      <td>2020-04-01 20:45:13</td>\n",
       "      <td>out</td>\n",
       "    </tr>\n",
       "    <tr>\n",
       "      <td>2</td>\n",
       "      <td>True</td>\n",
       "      <td>Knightsbridge Station  / Harrods</td>\n",
       "      <td>2020-04-02 05:01:49</td>\n",
       "      <td>20212_490000130KE_2020-04-02_out_0</td>\n",
       "      <td>2020-04-02 04:42:42</td>\n",
       "      <td>out</td>\n",
       "    </tr>\n",
       "    <tr>\n",
       "      <td>3</td>\n",
       "      <td>True</td>\n",
       "      <td>Prince Of Wales Gate</td>\n",
       "      <td>2020-04-02 18:16:35</td>\n",
       "      <td>20198_490011198W_2020-04-02_out_6</td>\n",
       "      <td>2020-04-02 18:16:05</td>\n",
       "      <td>out</td>\n",
       "    </tr>\n",
       "    <tr>\n",
       "      <td>4</td>\n",
       "      <td>True</td>\n",
       "      <td>Ladbroke Road</td>\n",
       "      <td>2020-04-01 09:57:41</td>\n",
       "      <td>20198_490000167A_2020-04-01_out_0</td>\n",
       "      <td>2020-04-01 09:52:33</td>\n",
       "      <td>out</td>\n",
       "    </tr>\n",
       "  </tbody>\n",
       "</table>\n",
       "</div>"
      ],
      "text/plain": [
       "   arrived                     bus_stop_name     expected_arrival  \\\n",
       "0     True        Ladbroke Grove Sainsbury's  2020-04-02 10:14:26   \n",
       "1     True                 Silverthorne Road  2020-04-01 20:48:48   \n",
       "2     True  Knightsbridge Station  / Harrods  2020-04-02 05:01:49   \n",
       "3     True              Prince Of Wales Gate  2020-04-02 18:16:35   \n",
       "4     True                     Ladbroke Road  2020-04-01 09:57:41   \n",
       "\n",
       "                           vehicle_id          time_of_req direction  \n",
       "0   20286_490008897T_2020-04-02_out_1  2020-04-02 09:50:43       out  \n",
       "1   20279_490012162E_2020-04-01_out_0  2020-04-01 20:45:13       out  \n",
       "2  20212_490000130KE_2020-04-02_out_0  2020-04-02 04:42:42       out  \n",
       "3   20198_490011198W_2020-04-02_out_6  2020-04-02 18:16:05       out  \n",
       "4   20198_490000167A_2020-04-01_out_0  2020-04-01 09:52:33       out  "
      ]
     },
     "execution_count": 6,
     "metadata": {},
     "output_type": "execute_result"
    }
   ],
   "source": [
    "data = pd.read_csv(\"data/452 07-04-20.csv\")\n",
    "print(data.shape)\n",
    "data.head()"
   ]
  },
  {
   "cell_type": "code",
   "execution_count": 7,
   "metadata": {},
   "outputs": [
    {
     "name": "stdout",
     "output_type": "stream",
     "text": [
      "[\"Ladbroke Grove Sainsbury's\" 'Silverthorne Road'\n",
      " 'Knightsbridge Station  / Harrods' 'Prince Of Wales Gate' 'Ladbroke Road'\n",
      " 'Notting Hill Gate Station' 'Pont Street' 'Knightsbridge Station'\n",
      " 'Kensington Church Street / Holland St' 'Vauxhall Bus Station'\n",
      " 'Battersea Park Station' 'Cedars Road' 'Kilburn Lane / Harrow Road'\n",
      " 'Kensal House' 'Ladbroke Grove Station' \"Queen's Gate\" 'Sopwith Way'\n",
      " 'Queenstown Road / Wandsworth Road' 'Sheffield Terrace' 'Chesterton Road'\n",
      " 'Union Road' 'The Chase' 'Kensal Rise Station'\n",
      " 'Sloane Street / Knightsbridge Station' 'Battersea Park / Chelsea Gate'\n",
      " 'Royal Albert Hall' 'Wandsworth Road Station' 'Rutland Gardens'\n",
      " 'Queenstown Road Station' 'Royal Hospital Road' 'Knightsbridge Barracks'\n",
      " 'Barlby Road' 'Prairie Street' 'Covent Garden Market East Side'\n",
      " 'Larkhall Park' 'Lister Hospital' 'Harrow Road / Kilburn Lane'\n",
      " 'Banister Road' 'Stanley Gardens' 'Palace Gate' 'St Charles Square'\n",
      " 'Lansdowne Green' 'Sloane Square Stn  / Lower Sloane St'\n",
      " 'Kensington Palace' 'St Rule Street' 'Exhibition Road'\n",
      " 'Portobello and Golborne Market' 'York House Place / Kensington High St'\n",
      " 'Sloane Street / Sloane Square Station' 'Sloane Square' 'Wilcox Road'\n",
      " 'Palace Gardens Terr / Notting Hill Gte' 'Westbury Street'\n",
      " 'Chepstow Villas' 'Blenheim Crescent' 'Station Terrace'\n",
      " 'Royal Hospital Chelsea' 'Sloane Square Station']\n",
      "58\n"
     ]
    }
   ],
   "source": [
    "data = data.drop(columns = \"arrived\")\n",
    "print(data['bus_stop_name'].unique())\n",
    "print(len(data['bus_stop_name'].unique()))"
   ]
  },
  {
   "cell_type": "code",
   "execution_count": 8,
   "metadata": {},
   "outputs": [
    {
     "data": {
      "image/png": "[encoded data removed]",
      "text/plain": [
       "<Figure size 936x360 with 1 Axes>"
      ]
     },
     "metadata": {},
     "output_type": "display_data"
    }
   ],
   "source": [
    "hour_min = [x[11:15] + '0' for x in data['expected_arrival']]\n",
    "for_aggr = data.assign(hour_min = hour_min)\n",
    "for_aggr = for_aggr.groupby('hour_min').count().reset_index()\n",
    "\n",
    "arrival_times = [dt.datetime.strptime(time, '%H:%M') for time in for_aggr['hour_min']]\n",
    "\n",
    "fig, ax = plt.subplots(figsize=(13, 5))\n",
    "ax.plot(arrival_times, for_aggr['bus_stop_name'])\n",
    "ax.set_title(\"Spread of time of data collected\")\n",
    "ax.set_xlim(dt.datetime.strptime('00:00', '%H:%M'), dt.datetime.strptime('23:59', '%H:%M'))\n",
    "date_form = DateFormatter(\"%H-%M\")\n",
    "ax.xaxis.set_major_formatter(date_form)\n",
    "ax.set_xlabel(\"Time of day\")\n",
    "ax.set_ylabel(\"Occurences\")\n",
    "plt.show()"
   ]
  },
  {
   "cell_type": "code",
   "execution_count": 9,
   "metadata": {},
   "outputs": [
    {
     "data": {
      "image/png": "[encoded data removed]",
      "text/plain": [
       "<Figure size 936x360 with 1 Axes>"
      ]
     },
     "metadata": {},
     "output_type": "display_data"
    }
   ],
   "source": [
    "day_of_week = [x[:10] for x in data['expected_arrival']]\n",
    "day_of_week = [dt.datetime.strptime(date, '%Y-%m-%d') for date in day_of_week]\n",
    "\n",
    "day_of_week = [calendar.day_name[date.weekday()] for date in day_of_week]\n",
    "for_aggr = data.assign(day_of_week = day_of_week)\n",
    "for_aggr = for_aggr.groupby('day_of_week').count().reset_index()\n",
    "\n",
    "fig, ax = plt.subplots(figsize=(13, 5))\n",
    "ax.plot(for_aggr['day_of_week'], for_aggr['bus_stop_name'])\n",
    "ax.set_title(\"Spread of days of the week for data collected\")\n",
    "ax.set_xlabel(\"Day of Week\")\n",
    "ax.set_ylabel(\"Occurences\")\n",
    "plt.show()"
   ]
  },
  {
   "cell_type": "markdown",
   "metadata": {},
   "source": [
    "### Try to see if I can get the average time taken for a bus to travel between \"Vauxhall Bus Station\" and \"Battersea Park Station\" (inbound)"
   ]
  },
  {
   "cell_type": "code",
   "execution_count": 12,
   "metadata": {},
   "outputs": [
    {
     "name": "stdout",
     "output_type": "stream",
     "text": [
      "(249, 5)\n",
      "490000247G1\n"
     ]
    },
    {
     "data": {
      "text/html": [
       "<div>\n",
       "<style scoped>\n",
       "    .dataframe tbody tr th:only-of-type {\n",
       "        vertical-align: middle;\n",
       "    }\n",
       "\n",
       "    .dataframe tbody tr th {\n",
       "        vertical-align: top;\n",
       "    }\n",
       "\n",
       "    .dataframe thead th {\n",
       "        text-align: right;\n",
       "    }\n",
       "</style>\n",
       "<table border=\"1\" class=\"dataframe\">\n",
       "  <thead>\n",
       "    <tr style=\"text-align: right;\">\n",
       "      <th></th>\n",
       "      <th>bus_stop_name</th>\n",
       "      <th>expected_arrival</th>\n",
       "      <th>vehicle_id</th>\n",
       "      <th>time_of_req</th>\n",
       "      <th>direction</th>\n",
       "    </tr>\n",
       "  </thead>\n",
       "  <tbody>\n",
       "    <tr>\n",
       "      <td>11</td>\n",
       "      <td>Vauxhall Bus Station</td>\n",
       "      <td>2020-04-02 17:07:31</td>\n",
       "      <td>20189_490000247G1_2020-04-02_in_2</td>\n",
       "      <td>2020-04-02 16:49:18</td>\n",
       "      <td>in</td>\n",
       "    </tr>\n",
       "    <tr>\n",
       "      <td>48</td>\n",
       "      <td>Vauxhall Bus Station</td>\n",
       "      <td>2020-03-30 05:52:51</td>\n",
       "      <td>20191_490000247G1_2020-03-30_in_0</td>\n",
       "      <td>2020-03-30 05:28:43</td>\n",
       "      <td>in</td>\n",
       "    </tr>\n",
       "    <tr>\n",
       "      <td>76</td>\n",
       "      <td>Vauxhall Bus Station</td>\n",
       "      <td>2020-03-30 07:11:46</td>\n",
       "      <td>20310_490000247G1_2020-03-30_in_0</td>\n",
       "      <td>2020-03-30 06:43:43</td>\n",
       "      <td>in</td>\n",
       "    </tr>\n",
       "    <tr>\n",
       "      <td>151</td>\n",
       "      <td>Vauxhall Bus Station</td>\n",
       "      <td>2020-04-02 22:51:27</td>\n",
       "      <td>20199_490000247G1_2020-04-02_in_8</td>\n",
       "      <td>2020-04-02 22:51:37</td>\n",
       "      <td>in</td>\n",
       "    </tr>\n",
       "    <tr>\n",
       "      <td>292</td>\n",
       "      <td>Vauxhall Bus Station</td>\n",
       "      <td>2020-04-02 22:39:01</td>\n",
       "      <td>20278_490000247G1_2020-04-02_in_7</td>\n",
       "      <td>2020-04-02 22:36:37</td>\n",
       "      <td>in</td>\n",
       "    </tr>\n",
       "  </tbody>\n",
       "</table>\n",
       "</div>"
      ],
      "text/plain": [
       "            bus_stop_name     expected_arrival  \\\n",
       "11   Vauxhall Bus Station  2020-04-02 17:07:31   \n",
       "48   Vauxhall Bus Station  2020-03-30 05:52:51   \n",
       "76   Vauxhall Bus Station  2020-03-30 07:11:46   \n",
       "151  Vauxhall Bus Station  2020-04-02 22:51:27   \n",
       "292  Vauxhall Bus Station  2020-04-02 22:39:01   \n",
       "\n",
       "                            vehicle_id          time_of_req direction  \n",
       "11   20189_490000247G1_2020-04-02_in_2  2020-04-02 16:49:18        in  \n",
       "48   20191_490000247G1_2020-03-30_in_0  2020-03-30 05:28:43        in  \n",
       "76   20310_490000247G1_2020-03-30_in_0  2020-03-30 06:43:43        in  \n",
       "151  20199_490000247G1_2020-04-02_in_8  2020-04-02 22:51:37        in  \n",
       "292  20278_490000247G1_2020-04-02_in_7  2020-04-02 22:36:37        in  "
      ]
     },
     "execution_count": 12,
     "metadata": {},
     "output_type": "execute_result"
    }
   ],
   "source": [
    "vauxhall = data.loc[(data['bus_stop_name'] == 'Vauxhall Bus Station') & (data['direction'] == 'in')]\n",
    "[_, vauxhall_id, _, _, _] = vauxhall.iloc[0]['vehicle_id'].split('_')\n",
    "print(vauxhall.shape)\n",
    "print(vauxhall_id)\n",
    "vauxhall.head()"
   ]
  },
  {
   "cell_type": "code",
   "execution_count": 13,
   "metadata": {},
   "outputs": [
    {
     "name": "stdout",
     "output_type": "stream",
     "text": [
      "(259, 5)\n",
      "490G01016A\n"
     ]
    },
    {
     "data": {
      "text/html": [
       "<div>\n",
       "<style scoped>\n",
       "    .dataframe tbody tr th:only-of-type {\n",
       "        vertical-align: middle;\n",
       "    }\n",
       "\n",
       "    .dataframe tbody tr th {\n",
       "        vertical-align: top;\n",
       "    }\n",
       "\n",
       "    .dataframe thead th {\n",
       "        text-align: right;\n",
       "    }\n",
       "</style>\n",
       "<table border=\"1\" class=\"dataframe\">\n",
       "  <thead>\n",
       "    <tr style=\"text-align: right;\">\n",
       "      <th></th>\n",
       "      <th>bus_stop_name</th>\n",
       "      <th>expected_arrival</th>\n",
       "      <th>vehicle_id</th>\n",
       "      <th>time_of_req</th>\n",
       "      <th>direction</th>\n",
       "    </tr>\n",
       "  </thead>\n",
       "  <tbody>\n",
       "    <tr>\n",
       "      <td>12</td>\n",
       "      <td>Battersea Park Station</td>\n",
       "      <td>2020-04-02 13:18:42</td>\n",
       "      <td>20189_490G01016A_2020-04-02_in_0</td>\n",
       "      <td>2020-04-02 13:16:44</td>\n",
       "      <td>in</td>\n",
       "    </tr>\n",
       "    <tr>\n",
       "      <td>13</td>\n",
       "      <td>Battersea Park Station</td>\n",
       "      <td>2020-04-01 10:27:00</td>\n",
       "      <td>20271_490G01016A_2020-04-01_in_0</td>\n",
       "      <td>2020-04-01 10:26:42</td>\n",
       "      <td>in</td>\n",
       "    </tr>\n",
       "    <tr>\n",
       "      <td>34</td>\n",
       "      <td>Battersea Park Station</td>\n",
       "      <td>2020-04-01 09:53:39</td>\n",
       "      <td>20196_490G01016A_2020-04-01_in_0</td>\n",
       "      <td>2020-04-01 09:53:03</td>\n",
       "      <td>in</td>\n",
       "    </tr>\n",
       "    <tr>\n",
       "      <td>37</td>\n",
       "      <td>Battersea Park Station</td>\n",
       "      <td>2020-04-06 07:36:56</td>\n",
       "      <td>20314_490G01016A_2020-04-06_in_1</td>\n",
       "      <td>2020-04-06 07:27:02</td>\n",
       "      <td>in</td>\n",
       "    </tr>\n",
       "    <tr>\n",
       "      <td>84</td>\n",
       "      <td>Battersea Park Station</td>\n",
       "      <td>2020-04-02 05:41:12</td>\n",
       "      <td>20193_490G01016A_2020-04-02_in_0</td>\n",
       "      <td>2020-04-02 05:34:44</td>\n",
       "      <td>in</td>\n",
       "    </tr>\n",
       "  </tbody>\n",
       "</table>\n",
       "</div>"
      ],
      "text/plain": [
       "             bus_stop_name     expected_arrival  \\\n",
       "12  Battersea Park Station  2020-04-02 13:18:42   \n",
       "13  Battersea Park Station  2020-04-01 10:27:00   \n",
       "34  Battersea Park Station  2020-04-01 09:53:39   \n",
       "37  Battersea Park Station  2020-04-06 07:36:56   \n",
       "84  Battersea Park Station  2020-04-02 05:41:12   \n",
       "\n",
       "                          vehicle_id          time_of_req direction  \n",
       "12  20189_490G01016A_2020-04-02_in_0  2020-04-02 13:16:44        in  \n",
       "13  20271_490G01016A_2020-04-01_in_0  2020-04-01 10:26:42        in  \n",
       "34  20196_490G01016A_2020-04-01_in_0  2020-04-01 09:53:03        in  \n",
       "37  20314_490G01016A_2020-04-06_in_1  2020-04-06 07:27:02        in  \n",
       "84  20193_490G01016A_2020-04-02_in_0  2020-04-02 05:34:44        in  "
      ]
     },
     "execution_count": 13,
     "metadata": {},
     "output_type": "execute_result"
    }
   ],
   "source": [
    "battersea_prk_st = data.loc[(data['bus_stop_name'] == 'Battersea Park Station') & (data['direction'] == 'in')]\n",
    "[_, battersea_prk_st_id, _, _, _] = battersea_prk_st.iloc[0]['vehicle_id'].split('_')\n",
    "print(battersea_prk_st.shape)\n",
    "print(battersea_prk_st_id)\n",
    "battersea_prk_st.head()"
   ]
  },
  {
   "cell_type": "code",
   "execution_count": 14,
   "metadata": {},
   "outputs": [],
   "source": [
    "def convert_time_to_datetime(given_time):\n",
    "    year = int(given_time[:4])\n",
    "    month = int(given_time[5:7])\n",
    "    day = int(given_time[8:10])\n",
    "    hour = int(given_time[11:13])\n",
    "    minute = int(given_time[14:16])\n",
    "    second = int(given_time[17:19])\n",
    "\n",
    "    date_time = dt.datetime(year, month, day, hour, minute, second)\n",
    "    return date_time"
   ]
  },
  {
   "cell_type": "code",
   "execution_count": 73,
   "metadata": {},
   "outputs": [
    {
     "name": "stdout",
     "output_type": "stream",
     "text": [
      "Time taken:  4.413011074066162\n"
     ]
    }
   ],
   "source": [
    "journey_times = []\n",
    "\n",
    "a = time.time()\n",
    "for i, journey in battersea_prk_st.iterrows():\n",
    "    [bus_id, stop_id, date, direction, num_trip] = journey['vehicle_id'].split('_')\n",
    "    match_id = bus_id + '_' + vauxhall_id + '_' + date + '_' + direction + '_'\n",
    "    start = convert_time_to_datetime(journey['expected_arrival'])\n",
    "    for j, match in vauxhall.iterrows():\n",
    "        [bus_idx, stop_idx, datex, directionx, num_tripx] = match['vehicle_id'].split('_')\n",
    "        end = convert_time_to_datetime(match['expected_arrival'])\n",
    "        if match['vehicle_id'].startswith(match_id):\n",
    "            if (end - start < dt.timedelta(hours = 1, minutes = 40)) & (end - start > dt.timedelta(minutes = 0)):\n",
    "                diff = end - start\n",
    "                journey_times.append(diff)\n",
    "                break\n",
    "                \n",
    "print(\"Time taken: \", (time.time() - a))"
   ]
  },
  {
   "cell_type": "code",
   "execution_count": 76,
   "metadata": {},
   "outputs": [
    {
     "name": "stdout",
     "output_type": "stream",
     "text": [
      "Average travel time between Vauxhall Bus Station and Battersea Park Station is 14.576501501501513 minutes\n"
     ]
    },
    {
     "data": {
      "image/png": "[encoded data removed]",
      "text/plain": [
       "<Figure size 432x288 with 1 Axes>"
      ]
     },
     "metadata": {},
     "output_type": "display_data"
    }
   ],
   "source": [
    "travel_times = [(time.total_seconds() / 60) for time in journey_times]\n",
    "avg_time = sum(travel_times) / len(travel_times)\n",
    "print(\"Average travel time between Vauxhall Bus Station and Battersea Park Station is {} minutes\".format(avg_time))\n",
    "\n",
    "counts = [journey_times.count(elem) for elem in journey_times]\n",
    "\n",
    "fig, ax = plt.subplots()\n",
    "ax.scatter(travel_times, counts)\n",
    "ax.axvline(x = avg_time, linestyle='dashed', label = \"average travel time\")\n",
    "ax.set_xlabel(\"Travel Time (minute)\")\n",
    "ax.set_ylabel(\"Occurences\")\n",
    "ax.set_ylim(0)\n",
    "ax.legend()\n",
    "plt.show()"
   ]
  },
  {
   "cell_type": "code",
   "execution_count": null,
   "metadata": {},
   "outputs": [],
   "source": []
  }
 ],
 "metadata": {
  "kernelspec": {
   "display_name": "Python 3",
   "language": "python",
   "name": "python3"
  },
  "language_info": {
   "codemirror_mode": {
    "name": "ipython",
    "version": 3
   },
   "file_extension": ".py",
   "mimetype": "text/x-python",
   "name": "python",
   "nbconvert_exporter": "python",
   "pygments_lexer": "ipython3",
   "version": "3.7.4"
  }
 },
 "nbformat": 4,
 "nbformat_minor": 2
}
