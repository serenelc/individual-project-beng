{
 "cells": [
  {
   "cell_type": "code",
   "execution_count": 106,
   "metadata": {},
   "outputs": [],
   "source": [
    "import pandas as pd\n",
    "import datetime as dt\n",
    "import numpy as np\n",
    "import calendar\n",
    "import matplotlib\n",
    "import matplotlib.pyplot as plt\n",
    "import seaborn as sns\n",
    "import collections\n",
    "import sklearn\n",
    "import sklearn.ensemble as ens\n",
    "from sklearn import preprocessing, metrics, cluster\n",
    "from scipy import stats\n",
    "from matplotlib.dates import DateFormatter\n",
    "\n",
    "sns.set()\n",
    "my_palette = sns.color_palette(\"husl\")\n",
    "my_palette.pop(1)\n",
    "sns.set_palette(sns.color_palette(my_palette))"
   ]
  },
  {
   "cell_type": "markdown",
   "metadata": {},
   "source": [
    "## Data Exploration"
   ]
  },
  {
   "cell_type": "code",
   "execution_count": 94,
   "metadata": {},
   "outputs": [
    {
     "name": "stdout",
     "output_type": "stream",
     "text": [
      "(10239, 6)\n"
     ]
    },
    {
     "data": {
      "text/html": [
       "<div>\n",
       "<style scoped>\n",
       "    .dataframe tbody tr th:only-of-type {\n",
       "        vertical-align: middle;\n",
       "    }\n",
       "\n",
       "    .dataframe tbody tr th {\n",
       "        vertical-align: top;\n",
       "    }\n",
       "\n",
       "    .dataframe thead th {\n",
       "        text-align: right;\n",
       "    }\n",
       "</style>\n",
       "<table border=\"1\" class=\"dataframe\">\n",
       "  <thead>\n",
       "    <tr style=\"text-align: right;\">\n",
       "      <th></th>\n",
       "      <th>arrived</th>\n",
       "      <th>bus_stop_name</th>\n",
       "      <th>expected_arrival</th>\n",
       "      <th>vehicle_id</th>\n",
       "      <th>time_of_req</th>\n",
       "      <th>direction</th>\n",
       "    </tr>\n",
       "  </thead>\n",
       "  <tbody>\n",
       "    <tr>\n",
       "      <td>0</td>\n",
       "      <td>True</td>\n",
       "      <td>Ladbroke Road</td>\n",
       "      <td>2020-04-01 09:57:41</td>\n",
       "      <td>20198_490000167A_2020-04-01_out_0</td>\n",
       "      <td>2020-04-01 09:52:33</td>\n",
       "      <td>out</td>\n",
       "    </tr>\n",
       "    <tr>\n",
       "      <td>1</td>\n",
       "      <td>True</td>\n",
       "      <td>Silverthorne Road</td>\n",
       "      <td>2020-03-11 09:52:37</td>\n",
       "      <td>20191_490012162E_2020-03-11_out_0</td>\n",
       "      <td>2020-03-11 09:52:12</td>\n",
       "      <td>out</td>\n",
       "    </tr>\n",
       "    <tr>\n",
       "      <td>2</td>\n",
       "      <td>True</td>\n",
       "      <td>Knightsbridge Station</td>\n",
       "      <td>2020-03-30 05:43:05</td>\n",
       "      <td>20278_490G00130K1_2020-03-30_out_0</td>\n",
       "      <td>2020-03-30 05:20:12</td>\n",
       "      <td>out</td>\n",
       "    </tr>\n",
       "    <tr>\n",
       "      <td>3</td>\n",
       "      <td>True</td>\n",
       "      <td>Notting Hill Gate Station</td>\n",
       "      <td>2020-03-11 14:27:25</td>\n",
       "      <td>20190_490000167G_2020-03-11_out_0</td>\n",
       "      <td>2020-03-11 14:27:10</td>\n",
       "      <td>out</td>\n",
       "    </tr>\n",
       "    <tr>\n",
       "      <td>4</td>\n",
       "      <td>True</td>\n",
       "      <td>Battersea Park Station</td>\n",
       "      <td>2020-04-01 10:27:00</td>\n",
       "      <td>20271_490G01016A_2020-04-01_in_0</td>\n",
       "      <td>2020-04-01 10:26:42</td>\n",
       "      <td>in</td>\n",
       "    </tr>\n",
       "  </tbody>\n",
       "</table>\n",
       "</div>"
      ],
      "text/plain": [
       "   arrived              bus_stop_name     expected_arrival  \\\n",
       "0     True              Ladbroke Road  2020-04-01 09:57:41   \n",
       "1     True          Silverthorne Road  2020-03-11 09:52:37   \n",
       "2     True      Knightsbridge Station  2020-03-30 05:43:05   \n",
       "3     True  Notting Hill Gate Station  2020-03-11 14:27:25   \n",
       "4     True     Battersea Park Station  2020-04-01 10:27:00   \n",
       "\n",
       "                           vehicle_id          time_of_req direction  \n",
       "0   20198_490000167A_2020-04-01_out_0  2020-04-01 09:52:33       out  \n",
       "1   20191_490012162E_2020-03-11_out_0  2020-03-11 09:52:12       out  \n",
       "2  20278_490G00130K1_2020-03-30_out_0  2020-03-30 05:20:12       out  \n",
       "3   20190_490000167G_2020-03-11_out_0  2020-03-11 14:27:10       out  \n",
       "4    20271_490G01016A_2020-04-01_in_0  2020-04-01 10:26:42        in  "
      ]
     },
     "execution_count": 94,
     "metadata": {},
     "output_type": "execute_result"
    }
   ],
   "source": [
    "data = pd.read_csv(\"data/452 01-04-20.csv\")\n",
    "print(data.shape)\n",
    "data.head()"
   ]
  },
  {
   "cell_type": "code",
   "execution_count": 95,
   "metadata": {},
   "outputs": [
    {
     "name": "stdout",
     "output_type": "stream",
     "text": [
      "['Ladbroke Road' 'Silverthorne Road' 'Knightsbridge Station'\n",
      " 'Notting Hill Gate Station' 'Battersea Park Station'\n",
      " 'Kilburn Lane / Harrow Road' 'Sopwith Way' \"Ladbroke Grove Sainsbury's\"\n",
      " 'Queenstown Road / Wandsworth Road' 'Sheffield Terrace'\n",
      " 'Sloane Street / Knightsbridge Station' 'Battersea Park / Chelsea Gate'\n",
      " 'Wandsworth Road Station' 'Royal Hospital Road' 'Barlby Road'\n",
      " 'Vauxhall Bus Station' 'Larkhall Park' 'Prairie Street' 'Lister Hospital'\n",
      " 'Banister Road' 'Chesterton Road' 'Stanley Gardens'\n",
      " 'Prince Of Wales Gate' 'Lansdowne Green'\n",
      " 'Sloane Square Stn  / Lower Sloane St' 'Kensington Palace'\n",
      " 'Portobello and Golborne Market' 'St Charles Square' 'Union Road'\n",
      " 'The Chase' 'Queenstown Road Station' 'Westbury Street'\n",
      " 'Kensal Rise Station' 'Kensal House'\n",
      " 'York House Place / Kensington High St' 'Knightsbridge Barracks'\n",
      " 'Exhibition Road' 'Blenheim Crescent' 'St Rule Street' 'Wilcox Road'\n",
      " 'Station Terrace' 'Royal Hospital Chelsea' 'Palace Gate'\n",
      " 'Rutland Gardens' 'Sloane Street / Sloane Square Station' 'Pont Street'\n",
      " 'Royal Albert Hall' 'Ladbroke Grove Station'\n",
      " 'Knightsbridge Station  / Harrods'\n",
      " 'Kensington Church Street / Holland St' 'Chepstow Villas'\n",
      " 'Sloane Square Station' 'Covent Garden Market East Side'\n",
      " 'Harrow Road / Kilburn Lane' 'Cedars Road' 'Sloane Square'\n",
      " 'Palace Gardens Terr / Notting Hill Gte' \"Queen's Gate\"]\n",
      "58\n"
     ]
    }
   ],
   "source": [
    "data = data.drop(columns = \"arrived\")\n",
    "print(data['bus_stop_name'].unique())\n",
    "print(len(data['bus_stop_name'].unique()))"
   ]
  },
  {
   "cell_type": "code",
   "execution_count": 102,
   "metadata": {},
   "outputs": [
    {
     "data": {
      "image/png": "[encoded data removed]",
      "text/plain": [
       "<Figure size 936x360 with 1 Axes>"
      ]
     },
     "metadata": {},
     "output_type": "display_data"
    }
   ],
   "source": [
    "hour_min = [x[11:15] + '0' for x in data['expected_arrival']]\n",
    "for_aggr = data.assign(hour_min = hour_min)\n",
    "for_aggr = for_aggr.groupby('hour_min').count().reset_index()\n",
    "\n",
    "arrival_times = [dt.datetime.strptime(time, '%H:%M') for time in for_aggr['hour_min']]\n",
    "\n",
    "fig, ax = plt.subplots(figsize=(13, 5))\n",
    "ax.plot(arrival_times, for_aggr['bus_stop_name'])\n",
    "ax.set_title(\"Spread of time of data collected\")\n",
    "ax.set_xlim(dt.datetime.strptime('00:00', '%H:%M'), dt.datetime.strptime('23:59', '%H:%M'))\n",
    "date_form = DateFormatter(\"%H-%M\")\n",
    "ax.xaxis.set_major_formatter(date_form)\n",
    "ax.set_xlabel(\"Time of day\")\n",
    "ax.set_ylabel(\"Occurences\")\n",
    "plt.show()"
   ]
  },
  {
   "cell_type": "code",
   "execution_count": 110,
   "metadata": {},
   "outputs": [
    {
     "data": {
      "image/png": "[encoded data removed]",
      "text/plain": [
       "<Figure size 936x360 with 1 Axes>"
      ]
     },
     "metadata": {},
     "output_type": "display_data"
    }
   ],
   "source": [
    "day_of_week = [x[:10] for x in data['expected_arrival']]\n",
    "day_of_week = [dt.datetime.strptime(date, '%Y-%m-%d') for date in day_of_week]\n",
    "\n",
    "day_of_week = [calendar.day_name[date.weekday()] for date in day_of_week]\n",
    "for_aggr = data.assign(day_of_week = day_of_week)\n",
    "for_aggr = for_aggr.groupby('day_of_week').count().reset_index()\n",
    "\n",
    "fig, ax = plt.subplots(figsize=(13, 5))\n",
    "ax.plot(for_aggr['day_of_week'], for_aggr['bus_stop_name'])\n",
    "ax.set_title(\"Spread of days of the week for data collected\")\n",
    "ax.set_xlabel(\"Day of Week\")\n",
    "ax.set_ylabel(\"Occurences\")\n",
    "plt.show()"
   ]
  },
  {
   "cell_type": "markdown",
   "metadata": {},
   "source": [
    "### Try to see if I can get the average time taken for a bus to travel between \"Vauxhall Bus Station\" and \"Covent Garden Market East Side\" (inbound)"
   ]
  },
  {
   "cell_type": "code",
   "execution_count": 114,
   "metadata": {},
   "outputs": [
    {
     "name": "stdout",
     "output_type": "stream",
     "text": [
      "(112, 5)\n"
     ]
    },
    {
     "data": {
      "text/html": [
       "<div>\n",
       "<style scoped>\n",
       "    .dataframe tbody tr th:only-of-type {\n",
       "        vertical-align: middle;\n",
       "    }\n",
       "\n",
       "    .dataframe tbody tr th {\n",
       "        vertical-align: top;\n",
       "    }\n",
       "\n",
       "    .dataframe thead th {\n",
       "        text-align: right;\n",
       "    }\n",
       "</style>\n",
       "<table border=\"1\" class=\"dataframe\">\n",
       "  <thead>\n",
       "    <tr style=\"text-align: right;\">\n",
       "      <th></th>\n",
       "      <th>bus_stop_name</th>\n",
       "      <th>expected_arrival</th>\n",
       "      <th>vehicle_id</th>\n",
       "      <th>time_of_req</th>\n",
       "      <th>direction</th>\n",
       "    </tr>\n",
       "  </thead>\n",
       "  <tbody>\n",
       "    <tr>\n",
       "      <td>18</td>\n",
       "      <td>Vauxhall Bus Station</td>\n",
       "      <td>2020-03-30 05:52:51</td>\n",
       "      <td>20191_490000247G1_2020-03-30_in_0</td>\n",
       "      <td>2020-03-30 05:28:43</td>\n",
       "      <td>in</td>\n",
       "    </tr>\n",
       "    <tr>\n",
       "      <td>31</td>\n",
       "      <td>Vauxhall Bus Station</td>\n",
       "      <td>2020-03-30 07:11:46</td>\n",
       "      <td>20310_490000247G1_2020-03-30_in_0</td>\n",
       "      <td>2020-03-30 06:43:43</td>\n",
       "      <td>in</td>\n",
       "    </tr>\n",
       "    <tr>\n",
       "      <td>125</td>\n",
       "      <td>Vauxhall Bus Station</td>\n",
       "      <td>2020-03-27 09:24:34</td>\n",
       "      <td>20194_490000247G1_2020-03-27_in_0</td>\n",
       "      <td>2020-03-27 09:03:54</td>\n",
       "      <td>in</td>\n",
       "    </tr>\n",
       "    <tr>\n",
       "      <td>222</td>\n",
       "      <td>Vauxhall Bus Station</td>\n",
       "      <td>2020-03-18 18:05:21</td>\n",
       "      <td>20193_490000247G1_2020-03-18_in_0</td>\n",
       "      <td>2020-03-18 18:05:12</td>\n",
       "      <td>in</td>\n",
       "    </tr>\n",
       "    <tr>\n",
       "      <td>305</td>\n",
       "      <td>Vauxhall Bus Station</td>\n",
       "      <td>2020-03-11 10:37:58</td>\n",
       "      <td>20190_490000247G1_2020-03-11_in_0</td>\n",
       "      <td>2020-03-11 10:38:22</td>\n",
       "      <td>in</td>\n",
       "    </tr>\n",
       "  </tbody>\n",
       "</table>\n",
       "</div>"
      ],
      "text/plain": [
       "            bus_stop_name     expected_arrival  \\\n",
       "18   Vauxhall Bus Station  2020-03-30 05:52:51   \n",
       "31   Vauxhall Bus Station  2020-03-30 07:11:46   \n",
       "125  Vauxhall Bus Station  2020-03-27 09:24:34   \n",
       "222  Vauxhall Bus Station  2020-03-18 18:05:21   \n",
       "305  Vauxhall Bus Station  2020-03-11 10:37:58   \n",
       "\n",
       "                            vehicle_id          time_of_req direction  \n",
       "18   20191_490000247G1_2020-03-30_in_0  2020-03-30 05:28:43        in  \n",
       "31   20310_490000247G1_2020-03-30_in_0  2020-03-30 06:43:43        in  \n",
       "125  20194_490000247G1_2020-03-27_in_0  2020-03-27 09:03:54        in  \n",
       "222  20193_490000247G1_2020-03-18_in_0  2020-03-18 18:05:12        in  \n",
       "305  20190_490000247G1_2020-03-11_in_0  2020-03-11 10:38:22        in  "
      ]
     },
     "execution_count": 114,
     "metadata": {},
     "output_type": "execute_result"
    }
   ],
   "source": [
    "vauxhall = data.loc[(data['bus_stop_name'] == 'Vauxhall Bus Station') & (data['direction'] == 'in')]\n",
    "print(vauxhall.shape)\n",
    "vauxhall.head()"
   ]
  },
  {
   "cell_type": "code",
   "execution_count": 115,
   "metadata": {},
   "outputs": [
    {
     "name": "stdout",
     "output_type": "stream",
     "text": [
      "(113, 5)\n"
     ]
    },
    {
     "data": {
      "text/html": [
       "<div>\n",
       "<style scoped>\n",
       "    .dataframe tbody tr th:only-of-type {\n",
       "        vertical-align: middle;\n",
       "    }\n",
       "\n",
       "    .dataframe tbody tr th {\n",
       "        vertical-align: top;\n",
       "    }\n",
       "\n",
       "    .dataframe thead th {\n",
       "        text-align: right;\n",
       "    }\n",
       "</style>\n",
       "<table border=\"1\" class=\"dataframe\">\n",
       "  <thead>\n",
       "    <tr style=\"text-align: right;\">\n",
       "      <th></th>\n",
       "      <th>bus_stop_name</th>\n",
       "      <th>expected_arrival</th>\n",
       "      <th>vehicle_id</th>\n",
       "      <th>time_of_req</th>\n",
       "      <th>direction</th>\n",
       "    </tr>\n",
       "  </thead>\n",
       "  <tbody>\n",
       "    <tr>\n",
       "      <td>136</td>\n",
       "      <td>Covent Garden Market East Side</td>\n",
       "      <td>2020-03-03 14:29:47</td>\n",
       "      <td>20280_490005678X_2020-03-03_in_0</td>\n",
       "      <td>2020-03-03 14:29:42</td>\n",
       "      <td>in</td>\n",
       "    </tr>\n",
       "    <tr>\n",
       "      <td>161</td>\n",
       "      <td>Covent Garden Market East Side</td>\n",
       "      <td>2020-03-31 07:33:40</td>\n",
       "      <td>20202_490005678X_2020-03-31_in_0</td>\n",
       "      <td>2020-03-31 07:33:11</td>\n",
       "      <td>in</td>\n",
       "    </tr>\n",
       "    <tr>\n",
       "      <td>248</td>\n",
       "      <td>Covent Garden Market East Side</td>\n",
       "      <td>2020-03-25 15:23:55</td>\n",
       "      <td>20312_490005678X_2020-03-25_in_0</td>\n",
       "      <td>2020-03-25 15:21:08</td>\n",
       "      <td>in</td>\n",
       "    </tr>\n",
       "    <tr>\n",
       "      <td>499</td>\n",
       "      <td>Covent Garden Market East Side</td>\n",
       "      <td>2020-03-30 05:42:48</td>\n",
       "      <td>20275_490005678X_2020-03-30_in_0</td>\n",
       "      <td>2020-03-30 05:20:12</td>\n",
       "      <td>in</td>\n",
       "    </tr>\n",
       "    <tr>\n",
       "      <td>586</td>\n",
       "      <td>Covent Garden Market East Side</td>\n",
       "      <td>2020-03-18 17:30:03</td>\n",
       "      <td>20197_490005678X_2020-03-18_in_0</td>\n",
       "      <td>2020-03-18 17:25:33</td>\n",
       "      <td>in</td>\n",
       "    </tr>\n",
       "  </tbody>\n",
       "</table>\n",
       "</div>"
      ],
      "text/plain": [
       "                      bus_stop_name     expected_arrival  \\\n",
       "136  Covent Garden Market East Side  2020-03-03 14:29:47   \n",
       "161  Covent Garden Market East Side  2020-03-31 07:33:40   \n",
       "248  Covent Garden Market East Side  2020-03-25 15:23:55   \n",
       "499  Covent Garden Market East Side  2020-03-30 05:42:48   \n",
       "586  Covent Garden Market East Side  2020-03-18 17:30:03   \n",
       "\n",
       "                           vehicle_id          time_of_req direction  \n",
       "136  20280_490005678X_2020-03-03_in_0  2020-03-03 14:29:42        in  \n",
       "161  20202_490005678X_2020-03-31_in_0  2020-03-31 07:33:11        in  \n",
       "248  20312_490005678X_2020-03-25_in_0  2020-03-25 15:21:08        in  \n",
       "499  20275_490005678X_2020-03-30_in_0  2020-03-30 05:20:12        in  \n",
       "586  20197_490005678X_2020-03-18_in_0  2020-03-18 17:25:33        in  "
      ]
     },
     "execution_count": 115,
     "metadata": {},
     "output_type": "execute_result"
    }
   ],
   "source": [
    "covent_garden = data.loc[(data['bus_stop_name'] == 'Covent Garden Market East Side') & (data['direction'] == 'in')]\n",
    "print(covent_garden.shape)\n",
    "covent_garden.head()"
   ]
  },
  {
   "cell_type": "code",
   "execution_count": 116,
   "metadata": {},
   "outputs": [
    {
     "name": "stdout",
     "output_type": "stream",
     "text": [
      "          expected_arrival                        vehicle_id\n",
      "136    2020-03-03 14:29:47  20280_490005678X_2020-03-03_in_0\n",
      "8313   2020-03-10 11:14:59  20280_490005678X_2020-03-10_in_0\n",
      "10203  2020-03-11 10:58:18  20280_490005678X_2020-03-11_in_0\n",
      "         expected_arrival                         vehicle_id\n",
      "6066  2020-03-10 11:17:41  20280_490000247G1_2020-03-10_in_0\n",
      "8450  2020-03-11 10:59:41  20280_490000247G1_2020-03-11_in_0\n",
      "8555  2020-03-03 14:31:38  20280_490000247G1_2020-03-03_in_0\n"
     ]
    }
   ],
   "source": [
    "vehicle_id = '20280_490005678X_2020-03-03_in_0'\n",
    "[bus_id, stop_id, date, direction, num_trip] = vehicle_id.split('_')\n",
    "\n",
    "bus = covent_garden.loc[covent_garden['vehicle_id'].str.startswith(bus_id, na=False)]\n",
    "bus = bus.drop(columns = [\"direction\", \"bus_stop_name\", \"time_of_req\"])\n",
    "print(bus)\n",
    "same_bus = vauxhall.loc[vauxhall['vehicle_id'].str.startswith(bus_id, na=False)]\n",
    "same_bus = same_bus.drop(columns = [\"direction\", \"bus_stop_name\", \"time_of_req\"])\n",
    "print(same_bus)"
   ]
  },
  {
   "cell_type": "code",
   "execution_count": null,
   "metadata": {},
   "outputs": [],
   "source": []
  }
 ],
 "metadata": {
  "kernelspec": {
   "display_name": "Python 3",
   "language": "python",
   "name": "python3"
  },
  "language_info": {
   "codemirror_mode": {
    "name": "ipython",
    "version": 3
   },
   "file_extension": ".py",
   "mimetype": "text/x-python",
   "name": "python",
   "nbconvert_exporter": "python",
   "pygments_lexer": "ipython3",
   "version": "3.7.4"
  }
 },
 "nbformat": 4,
 "nbformat_minor": 2
}
