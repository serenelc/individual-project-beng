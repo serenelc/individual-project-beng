{
 "cells": [
  {
   "cell_type": "code",
   "execution_count": 2,
   "metadata": {},
   "outputs": [],
   "source": [
    "import pandas as pd\n",
    "import numpy as np\n",
    "import matplotlib.pyplot as plt\n",
    "import seaborn as sns\n",
    "import collections\n",
    "import sklearn\n",
    "import sklearn.ensemble as ens\n",
    "from sklearn import preprocessing, metrics, cluster\n",
    "from scipy import stats\n",
    "\n",
    "sns.set()\n",
    "my_palette = sns.color_palette(\"husl\")\n",
    "my_palette.pop(1)\n",
    "sns.set_palette(sns.color_palette(my_palette))"
   ]
  },
  {
   "cell_type": "markdown",
   "metadata": {},
   "source": [
    "## Data Exploration"
   ]
  },
  {
   "cell_type": "code",
   "execution_count": 35,
   "metadata": {},
   "outputs": [
    {
     "name": "stdout",
     "output_type": "stream",
     "text": [
      "(5697, 6)\n"
     ]
    },
    {
     "data": {
      "text/html": [
       "<div>\n",
       "<style scoped>\n",
       "    .dataframe tbody tr th:only-of-type {\n",
       "        vertical-align: middle;\n",
       "    }\n",
       "\n",
       "    .dataframe tbody tr th {\n",
       "        vertical-align: top;\n",
       "    }\n",
       "\n",
       "    .dataframe thead th {\n",
       "        text-align: right;\n",
       "    }\n",
       "</style>\n",
       "<table border=\"1\" class=\"dataframe\">\n",
       "  <thead>\n",
       "    <tr style=\"text-align: right;\">\n",
       "      <th></th>\n",
       "      <th>arrived</th>\n",
       "      <th>bus_stop_name</th>\n",
       "      <th>expected_arrival</th>\n",
       "      <th>vehicle_id</th>\n",
       "      <th>time_of_req</th>\n",
       "      <th>direction</th>\n",
       "    </tr>\n",
       "  </thead>\n",
       "  <tbody>\n",
       "    <tr>\n",
       "      <td>0</td>\n",
       "      <td>True</td>\n",
       "      <td>Silverthorne Road</td>\n",
       "      <td>2020-03-11 09:52:37</td>\n",
       "      <td>20191_490012162E_2020-03-11_out_0</td>\n",
       "      <td>2020-03-11 09:52:12</td>\n",
       "      <td>out</td>\n",
       "    </tr>\n",
       "    <tr>\n",
       "      <td>1</td>\n",
       "      <td>True</td>\n",
       "      <td>Notting Hill Gate Station</td>\n",
       "      <td>2020-03-11 14:27:25</td>\n",
       "      <td>20190_490000167G_2020-03-11_out_0</td>\n",
       "      <td>2020-03-11 14:27:10</td>\n",
       "      <td>out</td>\n",
       "    </tr>\n",
       "    <tr>\n",
       "      <td>2</td>\n",
       "      <td>True</td>\n",
       "      <td>Kilburn Lane / Harrow Road</td>\n",
       "      <td>2020-03-19 10:32:23</td>\n",
       "      <td>20190_490007860N_2020-03-19_out_0</td>\n",
       "      <td>2020-03-19 10:31:09</td>\n",
       "      <td>out</td>\n",
       "    </tr>\n",
       "    <tr>\n",
       "      <td>3</td>\n",
       "      <td>True</td>\n",
       "      <td>Sopwith Way</td>\n",
       "      <td>2020-03-10 10:00:51</td>\n",
       "      <td>20191_490G00012235_2020-03-10_in_0</td>\n",
       "      <td>2020-03-10 09:56:47</td>\n",
       "      <td>in</td>\n",
       "    </tr>\n",
       "    <tr>\n",
       "      <td>4</td>\n",
       "      <td>True</td>\n",
       "      <td>Sheffield Terrace</td>\n",
       "      <td>2020-03-10 10:10:28</td>\n",
       "      <td>20203_490012055N_2020-03-10_in_0</td>\n",
       "      <td>2020-03-10 10:09:23</td>\n",
       "      <td>in</td>\n",
       "    </tr>\n",
       "  </tbody>\n",
       "</table>\n",
       "</div>"
      ],
      "text/plain": [
       "   arrived               bus_stop_name     expected_arrival  \\\n",
       "0     True           Silverthorne Road  2020-03-11 09:52:37   \n",
       "1     True   Notting Hill Gate Station  2020-03-11 14:27:25   \n",
       "2     True  Kilburn Lane / Harrow Road  2020-03-19 10:32:23   \n",
       "3     True                 Sopwith Way  2020-03-10 10:00:51   \n",
       "4     True           Sheffield Terrace  2020-03-10 10:10:28   \n",
       "\n",
       "                           vehicle_id          time_of_req direction  \n",
       "0   20191_490012162E_2020-03-11_out_0  2020-03-11 09:52:12       out  \n",
       "1   20190_490000167G_2020-03-11_out_0  2020-03-11 14:27:10       out  \n",
       "2   20190_490007860N_2020-03-19_out_0  2020-03-19 10:31:09       out  \n",
       "3  20191_490G00012235_2020-03-10_in_0  2020-03-10 09:56:47        in  \n",
       "4    20203_490012055N_2020-03-10_in_0  2020-03-10 10:09:23        in  "
      ]
     },
     "execution_count": 35,
     "metadata": {},
     "output_type": "execute_result"
    }
   ],
   "source": [
    "data = pd.read_csv(\"data/452 25:03:20.csv\")\n",
    "print(data.shape)\n",
    "data.head()"
   ]
  },
  {
   "cell_type": "code",
   "execution_count": 36,
   "metadata": {},
   "outputs": [
    {
     "name": "stdout",
     "output_type": "stream",
     "text": [
      "['Silverthorne Road' 'Notting Hill Gate Station'\n",
      " 'Kilburn Lane / Harrow Road' 'Sopwith Way' 'Sheffield Terrace'\n",
      " 'Sloane Street / Knightsbridge Station' 'Larkhall Park' 'Lister Hospital'\n",
      " 'Banister Road' 'Chesterton Road' 'Stanley Gardens'\n",
      " 'Vauxhall Bus Station' 'Ladbroke Road'\n",
      " 'Sloane Square Stn  / Lower Sloane St' 'Kensington Palace'\n",
      " 'Battersea Park Station' 'Prairie Street' 'Union Road'\n",
      " 'Queenstown Road / Wandsworth Road' 'The Chase' 'Knightsbridge Station'\n",
      " 'Kensal House' 'York House Place / Kensington High St'\n",
      " \"Ladbroke Grove Sainsbury's\" 'Knightsbridge Barracks' 'Pont Street'\n",
      " 'Station Terrace' 'Wandsworth Road Station' 'Royal Hospital Chelsea'\n",
      " 'Palace Gate' 'Sloane Street / Sloane Square Station'\n",
      " 'Ladbroke Grove Station' 'Rutland Gardens' 'Barlby Road'\n",
      " 'Exhibition Road' 'Lansdowne Green' 'Knightsbridge Station  / Harrods'\n",
      " 'Portobello and Golborne Market' 'Battersea Park / Chelsea Gate'\n",
      " 'Kensington Church Street / Holland St' 'Covent Garden Market East Side'\n",
      " 'Queenstown Road Station' 'Chepstow Villas' 'Westbury Street'\n",
      " 'St Rule Street' 'St Charles Square' 'Royal Albert Hall' 'Wilcox Road'\n",
      " 'Kensal Rise Station' 'Blenheim Crescent' 'Sloane Square Station'\n",
      " 'Prince Of Wales Gate' 'Royal Hospital Road' 'Sloane Square'\n",
      " \"Queen's Gate\" 'Palace Gardens Terr / Notting Hill Gte' 'Cedars Road'\n",
      " 'Harrow Road / Kilburn Lane']\n",
      "58\n"
     ]
    }
   ],
   "source": [
    "data = data.drop(columns = \"arrived\")\n",
    "print(data['bus_stop_name'].unique())\n",
    "print(len(data['bus_stop_name'].unique()))"
   ]
  },
  {
   "cell_type": "markdown",
   "metadata": {},
   "source": [
    "### Try to see if I can get the average time taken for a bus to travel between \"Vauxhall Bus Station\" and \"Covent Garden Market East Side\" (inbound)"
   ]
  },
  {
   "cell_type": "code",
   "execution_count": 37,
   "metadata": {},
   "outputs": [
    {
     "name": "stdout",
     "output_type": "stream",
     "text": [
      "(61, 5)\n"
     ]
    },
    {
     "data": {
      "text/html": [
       "<div>\n",
       "<style scoped>\n",
       "    .dataframe tbody tr th:only-of-type {\n",
       "        vertical-align: middle;\n",
       "    }\n",
       "\n",
       "    .dataframe tbody tr th {\n",
       "        vertical-align: top;\n",
       "    }\n",
       "\n",
       "    .dataframe thead th {\n",
       "        text-align: right;\n",
       "    }\n",
       "</style>\n",
       "<table border=\"1\" class=\"dataframe\">\n",
       "  <thead>\n",
       "    <tr style=\"text-align: right;\">\n",
       "      <th></th>\n",
       "      <th>bus_stop_name</th>\n",
       "      <th>expected_arrival</th>\n",
       "      <th>vehicle_id</th>\n",
       "      <th>time_of_req</th>\n",
       "      <th>direction</th>\n",
       "    </tr>\n",
       "  </thead>\n",
       "  <tbody>\n",
       "    <tr>\n",
       "      <td>13</td>\n",
       "      <td>Vauxhall Bus Station</td>\n",
       "      <td>2020-03-11 14:33:35</td>\n",
       "      <td>20196_490000247G1_2020-03-11_in_1</td>\n",
       "      <td>2020-03-11 14:21:20</td>\n",
       "      <td>in</td>\n",
       "    </tr>\n",
       "    <tr>\n",
       "      <td>115</td>\n",
       "      <td>Vauxhall Bus Station</td>\n",
       "      <td>2020-03-18 18:05:21</td>\n",
       "      <td>20193_490000247G1_2020-03-18_in_0</td>\n",
       "      <td>2020-03-18 18:05:12</td>\n",
       "      <td>in</td>\n",
       "    </tr>\n",
       "    <tr>\n",
       "      <td>162</td>\n",
       "      <td>Vauxhall Bus Station</td>\n",
       "      <td>2020-03-11 10:37:58</td>\n",
       "      <td>20190_490000247G1_2020-03-11_in_0</td>\n",
       "      <td>2020-03-11 10:38:22</td>\n",
       "      <td>in</td>\n",
       "    </tr>\n",
       "    <tr>\n",
       "      <td>199</td>\n",
       "      <td>Vauxhall Bus Station</td>\n",
       "      <td>2020-03-11 10:48:58</td>\n",
       "      <td>20283_490000247G1_2020-03-11_in_0</td>\n",
       "      <td>2020-03-11 10:44:06</td>\n",
       "      <td>in</td>\n",
       "    </tr>\n",
       "    <tr>\n",
       "      <td>326</td>\n",
       "      <td>Vauxhall Bus Station</td>\n",
       "      <td>2020-03-03 14:11:47</td>\n",
       "      <td>20311_490000247G1_2020-03-03_in_0</td>\n",
       "      <td>2020-03-03 14:01:23</td>\n",
       "      <td>in</td>\n",
       "    </tr>\n",
       "  </tbody>\n",
       "</table>\n",
       "</div>"
      ],
      "text/plain": [
       "            bus_stop_name     expected_arrival  \\\n",
       "13   Vauxhall Bus Station  2020-03-11 14:33:35   \n",
       "115  Vauxhall Bus Station  2020-03-18 18:05:21   \n",
       "162  Vauxhall Bus Station  2020-03-11 10:37:58   \n",
       "199  Vauxhall Bus Station  2020-03-11 10:48:58   \n",
       "326  Vauxhall Bus Station  2020-03-03 14:11:47   \n",
       "\n",
       "                            vehicle_id          time_of_req direction  \n",
       "13   20196_490000247G1_2020-03-11_in_1  2020-03-11 14:21:20        in  \n",
       "115  20193_490000247G1_2020-03-18_in_0  2020-03-18 18:05:12        in  \n",
       "162  20190_490000247G1_2020-03-11_in_0  2020-03-11 10:38:22        in  \n",
       "199  20283_490000247G1_2020-03-11_in_0  2020-03-11 10:44:06        in  \n",
       "326  20311_490000247G1_2020-03-03_in_0  2020-03-03 14:01:23        in  "
      ]
     },
     "execution_count": 37,
     "metadata": {},
     "output_type": "execute_result"
    }
   ],
   "source": [
    "vauxhall = data.loc[(data['bus_stop_name'] == 'Vauxhall Bus Station') & (data['direction'] == 'in')]\n",
    "print(vauxhall.shape)\n",
    "vauxhall.head()"
   ]
  },
  {
   "cell_type": "code",
   "execution_count": 38,
   "metadata": {},
   "outputs": [
    {
     "name": "stdout",
     "output_type": "stream",
     "text": [
      "(61, 5)\n"
     ]
    },
    {
     "data": {
      "text/html": [
       "<div>\n",
       "<style scoped>\n",
       "    .dataframe tbody tr th:only-of-type {\n",
       "        vertical-align: middle;\n",
       "    }\n",
       "\n",
       "    .dataframe tbody tr th {\n",
       "        vertical-align: top;\n",
       "    }\n",
       "\n",
       "    .dataframe thead th {\n",
       "        text-align: right;\n",
       "    }\n",
       "</style>\n",
       "<table border=\"1\" class=\"dataframe\">\n",
       "  <thead>\n",
       "    <tr style=\"text-align: right;\">\n",
       "      <th></th>\n",
       "      <th>bus_stop_name</th>\n",
       "      <th>expected_arrival</th>\n",
       "      <th>vehicle_id</th>\n",
       "      <th>time_of_req</th>\n",
       "      <th>direction</th>\n",
       "    </tr>\n",
       "  </thead>\n",
       "  <tbody>\n",
       "    <tr>\n",
       "      <td>66</td>\n",
       "      <td>Covent Garden Market East Side</td>\n",
       "      <td>2020-03-03 14:29:47</td>\n",
       "      <td>20280_490005678X_2020-03-03_in_0</td>\n",
       "      <td>2020-03-03 14:29:42</td>\n",
       "      <td>in</td>\n",
       "    </tr>\n",
       "    <tr>\n",
       "      <td>320</td>\n",
       "      <td>Covent Garden Market East Side</td>\n",
       "      <td>2020-03-18 17:30:03</td>\n",
       "      <td>20197_490005678X_2020-03-18_in_0</td>\n",
       "      <td>2020-03-18 17:25:33</td>\n",
       "      <td>in</td>\n",
       "    </tr>\n",
       "    <tr>\n",
       "      <td>353</td>\n",
       "      <td>Covent Garden Market East Side</td>\n",
       "      <td>2020-03-19 10:36:41</td>\n",
       "      <td>20199_490005678X_2020-03-19_in_0</td>\n",
       "      <td>2020-03-19 10:36:11</td>\n",
       "      <td>in</td>\n",
       "    </tr>\n",
       "    <tr>\n",
       "      <td>366</td>\n",
       "      <td>Covent Garden Market East Side</td>\n",
       "      <td>2020-03-03 15:00:01</td>\n",
       "      <td>20202_490005678X_2020-03-03_in_0</td>\n",
       "      <td>2020-03-03 15:00:12</td>\n",
       "      <td>in</td>\n",
       "    </tr>\n",
       "    <tr>\n",
       "      <td>422</td>\n",
       "      <td>Covent Garden Market East Side</td>\n",
       "      <td>2020-03-10 11:44:44</td>\n",
       "      <td>20277_490005678X_2020-03-10_in_0</td>\n",
       "      <td>2020-03-10 11:23:00</td>\n",
       "      <td>in</td>\n",
       "    </tr>\n",
       "  </tbody>\n",
       "</table>\n",
       "</div>"
      ],
      "text/plain": [
       "                      bus_stop_name     expected_arrival  \\\n",
       "66   Covent Garden Market East Side  2020-03-03 14:29:47   \n",
       "320  Covent Garden Market East Side  2020-03-18 17:30:03   \n",
       "353  Covent Garden Market East Side  2020-03-19 10:36:41   \n",
       "366  Covent Garden Market East Side  2020-03-03 15:00:01   \n",
       "422  Covent Garden Market East Side  2020-03-10 11:44:44   \n",
       "\n",
       "                           vehicle_id          time_of_req direction  \n",
       "66   20280_490005678X_2020-03-03_in_0  2020-03-03 14:29:42        in  \n",
       "320  20197_490005678X_2020-03-18_in_0  2020-03-18 17:25:33        in  \n",
       "353  20199_490005678X_2020-03-19_in_0  2020-03-19 10:36:11        in  \n",
       "366  20202_490005678X_2020-03-03_in_0  2020-03-03 15:00:12        in  \n",
       "422  20277_490005678X_2020-03-10_in_0  2020-03-10 11:23:00        in  "
      ]
     },
     "execution_count": 38,
     "metadata": {},
     "output_type": "execute_result"
    }
   ],
   "source": [
    "covent_garden = data.loc[(data['bus_stop_name'] == 'Covent Garden Market East Side') & (data['direction'] == 'in')]\n",
    "print(covent_garden.shape)\n",
    "covent_garden.head()"
   ]
  },
  {
   "cell_type": "code",
   "execution_count": 42,
   "metadata": {},
   "outputs": [
    {
     "name": "stdout",
     "output_type": "stream",
     "text": [
      "         expected_arrival                        vehicle_id\n",
      "66    2020-03-03 14:29:47  20280_490005678X_2020-03-03_in_0\n",
      "4684  2020-03-10 11:14:59  20280_490005678X_2020-03-10_in_0\n",
      "5683  2020-03-11 10:58:18  20280_490005678X_2020-03-11_in_0\n",
      "         expected_arrival                         vehicle_id\n",
      "3443  2020-03-10 11:17:41  20280_490000247G1_2020-03-10_in_0\n",
      "4757  2020-03-11 10:59:41  20280_490000247G1_2020-03-11_in_0\n",
      "4818  2020-03-03 14:31:38  20280_490000247G1_2020-03-03_in_0\n"
     ]
    }
   ],
   "source": [
    "vehicle_id = '20280_490005678X_2020-03-03_in_0'\n",
    "[bus_id, stop_id, date, direction, num_trip] = vehicle_id.split('_')\n",
    "\n",
    "bus = covent_garden.loc[covent_garden['vehicle_id'].str.startswith(bus_id, na=False)]\n",
    "bus = bus.drop(columns = [\"direction\", \"bus_stop_name\", \"time_of_req\"])\n",
    "print(bus)\n",
    "same_bus = vauxhall.loc[vauxhall['vehicle_id'].str.startswith(bus_id, na=False)]\n",
    "same_bus = same_bus.drop(columns = [\"direction\", \"bus_stop_name\", \"time_of_req\"])\n",
    "print(same_bus)"
   ]
  },
  {
   "cell_type": "code",
   "execution_count": null,
   "metadata": {},
   "outputs": [],
   "source": []
  }
 ],
 "metadata": {
  "kernelspec": {
   "display_name": "Python 3",
   "language": "python",
   "name": "python3"
  },
  "language_info": {
   "codemirror_mode": {
    "name": "ipython",
    "version": 3
   },
   "file_extension": ".py",
   "mimetype": "text/x-python",
   "name": "python",
   "nbconvert_exporter": "python",
   "pygments_lexer": "ipython3",
   "version": "3.7.4"
  }
 },
 "nbformat": 4,
 "nbformat_minor": 2
}
