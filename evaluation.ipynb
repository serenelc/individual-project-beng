{
 "cells": [
  {
   "cell_type": "code",
   "execution_count": 1,
   "metadata": {},
   "outputs": [],
   "source": [
    "import pandas as pd\n",
    "import datetime as dt\n",
    "import numpy as np\n",
    "import time\n",
    "import calendar\n",
    "import urllib\n",
    "import matplotlib\n",
    "import matplotlib.pyplot as plt\n",
    "import seaborn as sns\n",
    "import collections\n",
    "import sklearn\n",
    "import sklearn.ensemble as ens\n",
    "from sklearn import preprocessing, metrics, cluster\n",
    "from scipy import stats\n",
    "from matplotlib.dates import DateFormatter\n",
    "from pandas.plotting import register_matplotlib_converters\n",
    "\n",
    "sns.set()\n",
    "colours = sns.color_palette(\"husl\", 8)\n",
    "cs = [colours[i] for i in range(len(colours))]\n",
    "sns.set_palette(sns.color_palette(colours))\n",
    "register_matplotlib_converters()"
   ]
  },
  {
   "cell_type": "markdown",
   "metadata": {},
   "source": [
    "### Load MAPE and RMSE scores from historical and regression models."
   ]
  },
  {
   "cell_type": "code",
   "execution_count": 5,
   "metadata": {},
   "outputs": [],
   "source": [
    "%store -r historical_mapes\n",
    "%store -r historical_rmses\n",
    "%store -r regression_mapes\n",
    "%store -r regression_rmses"
   ]
  },
  {
   "cell_type": "code",
   "execution_count": 8,
   "metadata": {},
   "outputs": [
    {
     "data": {
      "image/png": "[encoded data removed]",
      "text/plain": [
       "<Figure size 432x288 with 1 Axes>"
      ]
     },
     "metadata": {},
     "output_type": "display_data"
    }
   ],
   "source": [
    "fig, ax = plt.subplots()\n",
    "ax.bar([\"h1\", \"h2\", \"h3\", \"h4\", \"h5\", \"h6\", \"h7\", \"h8\"], historical_mapes)\n",
    "ax.bar([\"r1\",\"r2\",\"r3\",\"r4\"], regression_mapes)\n",
    "plt.show()"
   ]
  },
  {
   "cell_type": "code",
   "execution_count": 3,
   "metadata": {},
   "outputs": [
    {
     "name": "stdout",
     "output_type": "stream",
     "text": [
      "[75.0662631325301, 67.186132284239, 65.51398141395775, 63.91526907367172, 74.98378216216214, 68.52959869295638, 69.86692965384168, 68.1041071715566]\n"
     ]
    }
   ],
   "source": [
    "compare_labels = [\"2 buses\", \"5 buses\", \"10 buses\", \"15 buses\", \"15 min\", \"30 min\", \"1 hour\", \"2 hours\"]\n",
    "[\"ToD\", \"DoW\", \"ToD + DoW\", \"ToD + DoW + Lockdown\"]\n",
    "\n",
    "rmses_compare = rmses_52b + rmses_52m\n",
    "mapes_compare = mapes_52b + mapes_52m\n",
    "colour_map = [cs[6], cs[6], cs[6], cs[6], cs[5], cs[5], cs[5], cs[5]]\n",
    "\n",
    "fig, ax = plt.subplots(figsize=(12,10), nrows = 2, ncols = 1)\n",
    "\n",
    "# different colours for buses back bersus time back\n",
    "ax[0].bar(compare_labels, rmses_compare, color=colour_map)\n",
    "ax[0].set_title(\"RMSE score for different models\")\n",
    "ax[0].set_xlabel(\"Model\")\n",
    "ax[0].set_ylabel(\"RMSE (seconds)\")\n",
    "\n",
    "rects_rmse = ax[0].patches\n",
    "labels_rmse = labels_rmseb + labels_rmsem\n",
    "\n",
    "for rect, label in zip(rects_rmse, labels_rmse):\n",
    "    height = rect.get_height()\n",
    "    ax[0].text(rect.get_x() + rect.get_width() / 2, height - 5, label,\n",
    "            ha='center', va='bottom')\n",
    "    \n",
    "ax[1].bar(compare_labels, mapes_compare, color=colour_map)\n",
    "ax[1].set_title(\"MAPE score for different models\")\n",
    "ax[1].set_xlabel(\"Model\")\n",
    "ax[1].set_ylabel(\"MAPE (seconds)\")\n",
    "\n",
    "rects_mape = ax[1].patches\n",
    "labels_mape = labels_mapeb + labels_mapem\n",
    "\n",
    "for rect, label in zip(rects_mape, labels_mape):\n",
    "    height = rect.get_height()\n",
    "    ax[1].text(rect.get_x() + rect.get_width() / 2, height - 5, label,\n",
    "            ha='center', va='bottom')\n",
    "\n",
    "plt.show()"
   ]
  },
  {
   "cell_type": "code",
   "execution_count": null,
   "metadata": {},
   "outputs": [],
   "source": []
  }
 ],
 "metadata": {
  "kernelspec": {
   "display_name": "Python 3",
   "language": "python",
   "name": "python3"
  },
  "language_info": {
   "codemirror_mode": {
    "name": "ipython",
    "version": 3
   },
   "file_extension": ".py",
   "mimetype": "text/x-python",
   "name": "python",
   "nbconvert_exporter": "python",
   "pygments_lexer": "ipython3",
   "version": "3.7.6"
  }
 },
 "nbformat": 4,
 "nbformat_minor": 4
}
