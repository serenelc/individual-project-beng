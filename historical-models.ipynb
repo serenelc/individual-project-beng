{
 "cells": [
  {
   "cell_type": "code",
   "execution_count": 466,
   "metadata": {},
   "outputs": [],
   "source": [
    "import pandas as pd\n",
    "import datetime as dt\n",
    "import numpy as np\n",
    "import time\n",
    "import calendar\n",
    "import urllib\n",
    "import matplotlib\n",
    "import matplotlib.pyplot as plt\n",
    "import seaborn as sns\n",
    "import collections\n",
    "import psycopg2\n",
    "import sklearn\n",
    "import sklearn.ensemble as ens\n",
    "from sklearn import preprocessing, metrics, cluster\n",
    "from scipy import stats\n",
    "from matplotlib.dates import DateFormatter\n",
    "from pandas.plotting import register_matplotlib_converters\n",
    "\n",
    "sns.set()\n",
    "colours = sns.color_palette(\"husl\", 8)\n",
    "sns.set_palette(sns.color_palette(colours))\n",
    "register_matplotlib_converters()"
   ]
  },
  {
   "cell_type": "markdown",
   "metadata": {},
   "source": [
    "# Load Data"
   ]
  },
  {
   "cell_type": "code",
   "execution_count": 467,
   "metadata": {},
   "outputs": [],
   "source": [
    "data = {}\n",
    "routes = [\"452\", \"9\", \"52\", \"267\", \"277\", \"7\", \"14\", \"35\", \"37\", \"69\", \"328\", \"6\"]\n",
    "\n",
    "b_452 = pd.read_csv(\"data/452 07-04-20.csv\")\n",
    "b_52 = pd.read_csv(\"data/52 07-04-20.csv\")\n",
    "b_7 = pd.read_csv(\"data/7 07-04-20.csv\")\n",
    "b_14 = pd.read_csv(\"data/14 07-04-20.csv\")\n",
    "b_9 = pd.read_csv(\"data/9 07-04-20.csv\")\n",
    "b_328 = pd.read_csv(\"data/328 07-04-20.csv\")\n",
    "b_69 = pd.read_csv(\"data/69 07-04-20.csv\")\n",
    "b_35 = pd.read_csv(\"data/35 07-04-20.csv\")\n",
    "b_37 = pd.read_csv(\"data/37 07-04-20.csv\")\n",
    "b_267 = pd.read_csv(\"data/267 07-04-20.csv\")\n",
    "b_277 = pd.read_csv(\"data/277 07-04-20.csv\")\n",
    "b_6 = pd.read_csv(\"data/6 07-04-20.csv\")\n",
    "\n",
    "data[\"452\"] = b_452\n",
    "data[\"52\"] = b_52\n",
    "data[\"7\"] = b_7\n",
    "data[\"9\"] = b_9\n",
    "data[\"14\"] = b_14\n",
    "data[\"328\"] = b_328\n",
    "data[\"267\"] = b_267\n",
    "data[\"277\"] = b_277\n",
    "data[\"35\"] = b_35\n",
    "data[\"37\"] = b_37\n",
    "data[\"69\"] = b_69\n",
    "data[\"6\"] = b_6\n",
    "\n",
    "# need to swap the inbound and outbound labels for data before 12/05/20 because \n",
    "# I noted them down wrong from the data collection stage\n",
    "def init_explore(df, route):\n",
    "    print(\"BUS ROUTE: \", route)\n",
    "    print(\"Shape: \", df.shape)\n",
    "    df = df.drop(columns = \"arrived\")\n",
    "    \n",
    "    df.loc[df['direction'] == 'out', 'direction'] = 'inbound'\n",
    "    df.loc[df['direction'] == 'in', 'direction'] = 'outbound'\n",
    "    df = df[[\"bus_stop_name\", \"expected_arrival\", \"vehicle_id\", \"time_of_req\", \"direction\"]]\n",
    "    return df"
   ]
  },
  {
   "cell_type": "code",
   "execution_count": 468,
   "metadata": {},
   "outputs": [],
   "source": [
    "def add_extra_data(route):\n",
    "    if route != \"6\":\n",
    "        more = pd.read_csv(\"data/\" + route + \" 22-04-20.csv\")\n",
    "        more.loc[more['arrived'] == 1, 'arrived'] = True\n",
    "        more = more[[\"arrived\", \"bus_stop_name\", \"expected_arrival\", \"vehicle_id\", \"time_of_req\", \"direction\"]]\n",
    "        data[route] = data[route].append(more, ignore_index = True)\n",
    "    \n",
    "    more = pd.read_csv(\"data/\" + route + \" 12-05-20.csv\")\n",
    "    more.loc[more['arrived'] == 1, 'arrived'] = True\n",
    "    more = more[[\"arrived\", \"bus_stop_name\", \"expected_arrival\", \"vehicle_id\", \"time_of_req\", \"direction\"]]\n",
    "    data[route] = data[route].append(more, ignore_index = True)"
   ]
  },
  {
   "cell_type": "code",
   "execution_count": 469,
   "metadata": {},
   "outputs": [],
   "source": [
    "for route in routes:\n",
    "    add_extra_data(route)"
   ]
  },
  {
   "cell_type": "code",
   "execution_count": 470,
   "metadata": {},
   "outputs": [
    {
     "name": "stdout",
     "output_type": "stream",
     "text": [
      "BUS ROUTE:  452\n",
      "Shape:  (56938, 6)\n",
      "BUS ROUTE:  9\n",
      "Shape:  (49935, 6)\n",
      "BUS ROUTE:  52\n",
      "Shape:  (92505, 6)\n",
      "BUS ROUTE:  267\n",
      "Shape:  (50939, 6)\n",
      "BUS ROUTE:  277\n",
      "Shape:  (71103, 6)\n",
      "BUS ROUTE:  7\n",
      "Shape:  (43271, 6)\n",
      "BUS ROUTE:  14\n",
      "Shape:  (80413, 6)\n",
      "BUS ROUTE:  35\n",
      "Shape:  (50120, 6)\n",
      "BUS ROUTE:  37\n",
      "Shape:  (78808, 6)\n",
      "BUS ROUTE:  69\n",
      "Shape:  (53844, 6)\n",
      "BUS ROUTE:  328\n",
      "Shape:  (41514, 6)\n",
      "BUS ROUTE:  6\n",
      "Shape:  (84330, 6)\n"
     ]
    }
   ],
   "source": [
    "for route in routes:\n",
    "    data[route] = init_explore(data[route], route)"
   ]
  },
  {
   "cell_type": "code",
   "execution_count": 63,
   "metadata": {
    "scrolled": true
   },
   "outputs": [
    {
     "name": "stdout",
     "output_type": "stream",
     "text": [
      "Making API call to get all stops on route  452\n",
      "Making API call to get all stops on route  452\n",
      "Making API call to get all stops on route  9\n",
      "Making API call to get all stops on route  9\n",
      "Making API call to get all stops on route  52\n",
      "Making API call to get all stops on route  52\n",
      "Making API call to get all stops on route  267\n",
      "Making API call to get all stops on route  267\n",
      "Making API call to get all stops on route  277\n",
      "Making API call to get all stops on route  277\n",
      "Making API call to get all stops on route  7\n",
      "Making API call to get all stops on route  7\n",
      "Making API call to get all stops on route  14\n",
      "Making API call to get all stops on route  14\n",
      "Making API call to get all stops on route  35\n",
      "Making API call to get all stops on route  35\n",
      "Making API call to get all stops on route  37\n",
      "Making API call to get all stops on route  37\n",
      "Making API call to get all stops on route  69\n",
      "Making API call to get all stops on route  69\n",
      "Making API call to get all stops on route  328\n",
      "Making API call to get all stops on route  328\n",
      "Making API call to get all stops on route  6\n",
      "Making API call to get all stops on route  6\n",
      "['Pound Lane / Willesden Bus Garage', 'Willesden Bus Garage', 'Villiers Road', 'Willesden Green Library', 'Hanover Road', 'All Souls Avenue', 'Okehampton Road', 'Whitmore Gardens', 'Kensal Rise Station', 'Station Terrace', 'Banister Road', 'Harrow Road / Kilburn Lane', \"Ladbroke Grove Sainsbury's\", 'Kensal House', 'Barlby Road', 'St Charles Square', 'Chesterton Road', 'Ladbroke Grove Station', 'Elgin Crescent', 'Portobello and Golborne Market', 'Chepstow Villas', 'Notting Hill Gate Station', 'Palace Gardens Terr / Notting Hill Gte', 'Sheffield Terrace', 'York House Place / Kensington High St', 'Kensington Palace', 'Palace Gate', \"Queen's Gate\", 'Royal Albert Hall', 'Prince Of Wales Gate', 'Rutland Gardens', 'Knightsbridge Station  / Harrods', 'Hyde Park Corner Station', 'Hyde Park Corner', 'Wilton Street', 'Buckingham Palace Rd / Bressenden Place', 'Victoria Bus Station']\n"
     ]
    }
   ],
   "source": [
    "import json\n",
    "\n",
    "stops_in_sequence_inbound = {}\n",
    "stops_in_sequence_outbound = {}\n",
    "\n",
    "for r in routes:\n",
    "    with urllib.request.urlopen(\"https://api.tfl.gov.uk/Line/\" + r + \"/Route/Sequence/inbound\") as api:\n",
    "        print(\"Making API call to get all stops on route \", r)\n",
    "        json_data = json.loads(api.read().decode())\n",
    "        seq = json_data.get(\"stopPointSequences\")\n",
    "        stops = []\n",
    "        for s in seq:\n",
    "            for stop in s.get(\"stopPoint\"):\n",
    "                name = stop.get(\"name\")\n",
    "                stops.append(name)\n",
    "        stops_in_sequence_inbound[r] = stops\n",
    "        \n",
    "    with urllib.request.urlopen(\"https://api.tfl.gov.uk/Line/\" + r + \"/Route/Sequence/outbound\") as api:\n",
    "        print(\"Making API call to get all stops on route \", r)\n",
    "        json_data = json.loads(api.read().decode())\n",
    "        seq = json_data.get(\"stopPointSequences\")\n",
    "        stops = []\n",
    "        for s in seq:\n",
    "            for stop in s.get(\"stopPoint\"):\n",
    "                name = stop.get(\"name\")\n",
    "                stops.append(name)\n",
    "        stops_in_sequence_outbound[r] = stops\n",
    "        \n",
    "print(stops_in_sequence_inbound.get(\"52\"))"
   ]
  },
  {
   "cell_type": "markdown",
   "metadata": {},
   "source": [
    "# Data Analytics\n",
    "\n",
    "## Helper Functions"
   ]
  },
  {
   "cell_type": "code",
   "execution_count": 471,
   "metadata": {},
   "outputs": [],
   "source": [
    "def convert_time_to_datetime(given_time):\n",
    "    year = int(given_time[:4])\n",
    "    month = int(given_time[5:7])\n",
    "    day = int(given_time[8:10])\n",
    "    hour = int(given_time[11:13])\n",
    "    minute = int(given_time[14:16])\n",
    "    second = int(given_time[17:19])\n",
    "\n",
    "    date_time = dt.datetime(year, month, day, hour, minute, second)\n",
    "    return date_time"
   ]
  },
  {
   "cell_type": "code",
   "execution_count": 472,
   "metadata": {},
   "outputs": [],
   "source": [
    "import random\n",
    "\n",
    "def random_date(start, end, prop):\n",
    "    \"\"\"\n",
    "    Generates a random date in between the start and end date given\n",
    "    \"\"\"\n",
    "    \n",
    "    stime = convert_time_to_datetime(start)\n",
    "    etime = convert_time_to_datetime(end)\n",
    "\n",
    "    ptime = stime + prop * (etime - stime)\n",
    "    return ptime"
   ]
  },
  {
   "cell_type": "markdown",
   "metadata": {},
   "source": [
    "## Predict journey time by taking recent information into account "
   ]
  },
  {
   "cell_type": "code",
   "execution_count": 473,
   "metadata": {},
   "outputs": [],
   "source": [
    "# Generate random list of request times\n",
    "def generate_random_request_times(start, end, num_times):\n",
    "    \"\"\"\n",
    "    start: start time\n",
    "    end: end time\n",
    "    num_times: the number of times to generate\n",
    "    \"\"\"\n",
    "    \n",
    "    req_times_random = [random_date(start, end, random.random()) for x in range(num_times)]\n",
    "    format = '%Y-%m-%d %H:%M:%S'\n",
    "    req_times_random.sort()\n",
    "    req_times = [t.strftime(format) for t in req_times_random]\n",
    "    print(req_times)\n",
    "    return req_times"
   ]
  },
  {
   "cell_type": "code",
   "execution_count": 474,
   "metadata": {},
   "outputs": [],
   "source": [
    "def get_times_past_2_hours(stop_a, stop_b, a_id, req_time):\n",
    "    \n",
    "    \"\"\"\n",
    "    journey_times \n",
    "        - is a list of journey times for a bus arriving at stop b within the past 2 hours of the request time.\n",
    "    most_recent_left\n",
    "        - is the last vehicle to leave stop a and arrive at stop b before req_time\n",
    "    arrived_journeys\n",
    "        - is a list of bus details for vehicles arriving at stop b within the past 2 hours of the request time.\n",
    "    \"\"\"\n",
    "\n",
    "    journey_times = []\n",
    "    most_recent_left = -1\n",
    "    arrived_journeys = []\n",
    "    req_time = convert_time_to_datetime(req_time)\n",
    "\n",
    "    for i, journey in stop_b.iterrows():\n",
    "        arr_dt = convert_time_to_datetime(journey['expected_arrival'])\n",
    "        past_2_hours = req_time - dt.timedelta(hours = 2)\n",
    "\n",
    "        if (arr_dt >= past_2_hours) & (arr_dt < req_time):\n",
    "            # arrived within past 2 hours and before request time\n",
    "            [bus_id, b_id, date, direction, _] = journey['vehicle_id'].split('_')\n",
    "            to_match_id = bus_id + '_' + a_id + '_' + date + '_' + direction + '_'\n",
    "            \n",
    "            for j, match in stop_a.iterrows():\n",
    "                if match['vehicle_id'].startswith(to_match_id):\n",
    "                    leave_dt = convert_time_to_datetime(match['expected_arrival'])\n",
    "                    journey_time = arr_dt - leave_dt\n",
    "\n",
    "                    if (journey_time > dt.timedelta(minutes = 0)) & (journey_time < dt.timedelta(minutes = 50)):\n",
    "                        most_recent_left = j\n",
    "                        arrived_journeys.append(journey)\n",
    "                        journey_times.append(journey_time)\n",
    "    \n",
    "    if most_recent_left != -1:\n",
    "        recent = stop_a.loc[most_recent_left, 'expected_arrival']\n",
    "        print(\"most recent left bus left at \", recent)\n",
    "        \n",
    "    return most_recent_left, arrived_journeys, journey_times"
   ]
  },
  {
   "cell_type": "code",
   "execution_count": 475,
   "metadata": {},
   "outputs": [],
   "source": [
    "weights = {\"10\": 0.6, \"20\": 0.25, \"40\": 0.1, \"80\": 0.04, \"120\": 0.01}\n",
    "\n",
    "def predict_journey_time(req_time, stop_a, stop_b, a_id):\n",
    "    \"\"\"\n",
    "    - A request for the predicted journey time of a bus arriving at stop b is \n",
    "    made at req_time\n",
    "    - Returns the predicted journey time based on journey times in the past 2 hours.\n",
    "    - Journey times from the past 2 hours are weighted depending on how long ago\n",
    "    they were compared to the request time.\n",
    "    - most_recent_left is the the last bus that left stop a and arrived at stop be before\n",
    "    req_time.\n",
    "\n",
    "    \"\"\"\n",
    "    \n",
    "    most_recent_left_indx, arrived, journey_times = get_times_past_2_hours(stop_a, stop_b, a_id, req_time)\n",
    "    \n",
    "    pred = 0\n",
    "    sum_weights = 0\n",
    "    for index, item in enumerate(arrived):\n",
    "        eta = convert_time_to_datetime(item[\"expected_arrival\"])\n",
    "        diff = convert_time_to_datetime(req_time) - eta\n",
    "        weight = 0\n",
    "        if (diff <= dt.timedelta(minutes = 120)) & (diff > dt.timedelta(minutes = 80)):\n",
    "            weight = weights[\"120\"]\n",
    "        elif (diff <= dt.timedelta(minutes = 80)) & (diff > dt.timedelta(minutes = 40)):\n",
    "            weight = weights[\"80\"]\n",
    "        elif (diff <= dt.timedelta(minutes = 40)) & (diff > dt.timedelta(minutes = 20)):\n",
    "            weight = weights[\"40\"]\n",
    "        elif (diff <= dt.timedelta(minutes = 20)) & (diff > dt.timedelta(minutes = 10)):\n",
    "            weight = weights[\"20\"]\n",
    "        elif (diff <= dt.timedelta(minutes = 10)) & (diff > dt.timedelta(minutes = 0)):\n",
    "            weight = weights[\"10\"]\n",
    "        journey_time = journey_times[index].total_seconds()\n",
    "        pred += weight * journey_time\n",
    "        sum_weights += weight\n",
    "    \n",
    "    if (sum_weights == 0) or (most_recent_left_indx == -1):\n",
    "        return pred, most_recent_left_indx\n",
    "    \n",
    "    pred = pred / sum_weights\n",
    "    \n",
    "    return pred, most_recent_left_indx"
   ]
  },
  {
   "cell_type": "code",
   "execution_count": 476,
   "metadata": {},
   "outputs": [],
   "source": [
    "def pred_arrival_time(req_time, leave_stop, pred, most_recent_left):\n",
    "    \"\"\"\n",
    "    Finds the nearest vehicle (i.e. the one that will arrive the earliest to stop b) and \n",
    "    adds the predicted journey time onto its leave time.\n",
    "    \n",
    "    Params\n",
    "    - req_time: the time of request\n",
    "    - leave_stop: stop that is being used to find the bus to track i.e. stop_a\n",
    "    - pred: predicted journey time (found previously)\n",
    "    - most_recent_left: the index of the bus that left leave_stop the last but\n",
    "    arrived at stop_a before the request time.\n",
    "    \n",
    "    Returns\n",
    "    - the predicted arrival time of the bus at stop B\n",
    "    - the actual vehicle that is being tracked.\n",
    "    \"\"\"\n",
    "    req_time = convert_time_to_datetime(req_time)\n",
    "\n",
    "    for i, bus in leave_stop.iterrows():\n",
    "        if i > most_recent_left:\n",
    "            # Ensures that it will arrive at stop b either ON or AFTER req_time\n",
    "            leave_time = convert_time_to_datetime(bus['expected_arrival'])\n",
    "            # This vehicle is the one that left immediately after\n",
    "\n",
    "            print(\"leave time = \", leave_time)\n",
    "            # else: The nearest vehicle left stop a after the request time, so this wouldn't count as historical data\")\n",
    "            if leave_time <= req_time:\n",
    "                # 30 second leeway for loading and unloading passengers\n",
    "                pred_arrival = leave_time + dt.timedelta(seconds = (pred + 30))\n",
    "                return pred_arrival, bus\n",
    "            break\n",
    "                \n",
    "    # Theoretically shouldn't get to this unless most_recent_left is the last item in the list already\n",
    "    print(\"There are no more buses due\")    \n",
    "    return 0, []"
   ]
  },
  {
   "cell_type": "code",
   "execution_count": 477,
   "metadata": {},
   "outputs": [],
   "source": [
    "def get_actual(arr_stop, req_time):\n",
    "    \"\"\"\n",
    "    Params:\n",
    "    - arr_stop: arrival stop = stop_b\n",
    "    - req_time: time of request\n",
    "    \n",
    "    Returns the first bus that arrives at arr_stop immediately after req_time.\n",
    "    Returns None if there is no bus that arrives after req_time.\n",
    "    \"\"\"\n",
    "    \n",
    "    req_time = convert_time_to_datetime(req_time)\n",
    "    for i, bus in arr_stop.iterrows():\n",
    "        actual_arr_time = convert_time_to_datetime(bus['expected_arrival'])\n",
    "        if actual_arr_time > req_time:\n",
    "            print(\"Actual arrival time is {}\".format(actual_arr_time))\n",
    "            return actual_arr_time\n",
    "        \n",
    "    return None"
   ]
  },
  {
   "cell_type": "code",
   "execution_count": 487,
   "metadata": {},
   "outputs": [],
   "source": [
    "def pred_eval_arrival_times_mult(req_time, stop_b, pred_arr):\n",
    "    \"\"\"\n",
    "    Use for testing and training\n",
    "    \n",
    "    If I request the arrival time of a bus at stop B at req_time, what is the predicted\n",
    "    arrival time of the nearest bus?\n",
    "    \n",
    "    Returns the predicted and actual arrival time of a bus at stop B.\n",
    "    If the actual bus data cannot be found, the actual arrival time = 0.\n",
    "    \n",
    "    \"\"\"\n",
    "    \n",
    "    print(\"Predicted arrival time is {}\".format(pred_arr))\n",
    "    actual_arr = get_actual(stop_b, req_time)\n",
    "    \n",
    "    if actual_arr is None:\n",
    "        print(\"There is no bus arriving at req_time\")\n",
    "        return pred_arr, 0\n",
    "    \n",
    "    return pred_arr, actual_arr"
   ]
  },
  {
   "cell_type": "code",
   "execution_count": 483,
   "metadata": {},
   "outputs": [],
   "source": [
    "def pred_arrival_times_mult(req_time, stop_a, stop_b, a_id, b_id):\n",
    "    \"\"\"\n",
    "    Use purely for predictions. Cannot use for testing because in real life, there \n",
    "    will not be data collected into the future after the request time so there is\n",
    "    no way to verify the prediction until the predicted arrival time has passed.\n",
    "    \n",
    "    If I request the arrival time of a bus at stop B at req_time, what is the predicted\n",
    "    arrival time of the nearest bus?\n",
    "    \n",
    "    Returns the predicted arrival time of a bus at stop B.\n",
    "    If the actual bus data cannot be found, the actual arrival time = 0.\n",
    "    \n",
    "    \"\"\"\n",
    "    print(\"Request time is \", req_time)\n",
    "    \n",
    "    \n",
    "    \n",
    "    pred_arr, bus_to_track = pred_arrival_time(req_time, stop_a, pred, most_recent_left)\n",
    "    \n",
    "    if isinstance(bus_to_track, list):\n",
    "        print(\"Cannot find correlating leaving bus.\")\n",
    "        return pred_arr, 0\n",
    "    \n",
    "    print(\"Predicted arrival time is {}\".format(pred_arr))\n",
    "\n",
    "    return pred_arr"
   ]
  },
  {
   "cell_type": "markdown",
   "metadata": {},
   "source": [
    "### All Souls Avenue to Nottinghill Gate Station Route 52 (inbound)\n",
    "\n",
    "If a bus left All Souls Avenue at time X, look at the other buses that have left All Souls Avenue and arrived at Nottinghill Gate Station in the past 2 hours. Weight it so that the journey times in the past 10 minutes weight more than journey times in the past 20 minutes, 20 minutes more than 40 minutes, 40 minutes more than 80 minutes and 80 minutes more than 120 minutes.\n",
    "\n",
    "Now try to get predicted arrival time\n",
    "- estimated_leaving_time = minus the predicted journey time from the request time\n",
    "- Find the the bus leaving from All Souls Avenue that is leaving as close to the estimated_leaving_time as possible (after or equal to this time)\n",
    "- Add the journey time back on to the leaving time and this should be the estimated arrival time.\n",
    "- Then can check in the database when this vehicle actually arrived.\n",
    "\n",
    "Length of unloading/loading time for passengers at a bus stop can be a hyperparameter to tune later on. Right now is set to 30 seconds. This can be adjusted to see varying accuracy?\n",
    "\n",
    "Need to decide how many bus stops back I look to predict a journey time of a bus. E.g. make it standard to look back say '12' bus stops to make a prediction. Could make this a hyperparameter to see how many stations back I can go before it becomes inaccurate etc."
   ]
  },
  {
   "cell_type": "code",
   "execution_count": 292,
   "metadata": {},
   "outputs": [
    {
     "name": "stdout",
     "output_type": "stream",
     "text": [
      "5\n",
      "21\n"
     ]
    }
   ],
   "source": [
    "print(stops_in_sequence_inbound.get(\"52\").index(\"All Souls Avenue\"))\n",
    "print(stops_in_sequence_inbound.get(\"52\").index(\"Notting Hill Gate Station\"))"
   ]
  },
  {
   "cell_type": "code",
   "execution_count": 293,
   "metadata": {},
   "outputs": [
    {
     "name": "stdout",
     "output_type": "stream",
     "text": [
      "(1302, 5)\n",
      "490003256N\n"
     ]
    },
    {
     "data": {
      "text/html": [
       "<div>\n",
       "<style scoped>\n",
       "    .dataframe tbody tr th:only-of-type {\n",
       "        vertical-align: middle;\n",
       "    }\n",
       "\n",
       "    .dataframe tbody tr th {\n",
       "        vertical-align: top;\n",
       "    }\n",
       "\n",
       "    .dataframe thead th {\n",
       "        text-align: right;\n",
       "    }\n",
       "</style>\n",
       "<table border=\"1\" class=\"dataframe\">\n",
       "  <thead>\n",
       "    <tr style=\"text-align: right;\">\n",
       "      <th></th>\n",
       "      <th>bus_stop_name</th>\n",
       "      <th>expected_arrival</th>\n",
       "      <th>vehicle_id</th>\n",
       "      <th>time_of_req</th>\n",
       "      <th>direction</th>\n",
       "    </tr>\n",
       "  </thead>\n",
       "  <tbody>\n",
       "    <tr>\n",
       "      <td>8</td>\n",
       "      <td>All Souls Avenue</td>\n",
       "      <td>2020-04-16 02:45:23</td>\n",
       "      <td>11536_490003256N_2020-04-16_out_0</td>\n",
       "      <td>2020-04-16 02:44:32</td>\n",
       "      <td>inbound</td>\n",
       "    </tr>\n",
       "    <tr>\n",
       "      <td>76</td>\n",
       "      <td>All Souls Avenue</td>\n",
       "      <td>2020-04-16 03:17:18</td>\n",
       "      <td>10292_490003256N_2020-04-16_out_0</td>\n",
       "      <td>2020-04-16 03:14:10</td>\n",
       "      <td>inbound</td>\n",
       "    </tr>\n",
       "    <tr>\n",
       "      <td>128</td>\n",
       "      <td>All Souls Avenue</td>\n",
       "      <td>2020-04-16 03:33:51</td>\n",
       "      <td>11808_490003256N_2020-04-16_out_0</td>\n",
       "      <td>2020-04-16 03:30:17</td>\n",
       "      <td>inbound</td>\n",
       "    </tr>\n",
       "    <tr>\n",
       "      <td>170</td>\n",
       "      <td>All Souls Avenue</td>\n",
       "      <td>2020-04-16 03:43:50</td>\n",
       "      <td>11744_490003256N_2020-04-16_out_0</td>\n",
       "      <td>2020-04-16 03:40:58</td>\n",
       "      <td>inbound</td>\n",
       "    </tr>\n",
       "    <tr>\n",
       "      <td>259</td>\n",
       "      <td>All Souls Avenue</td>\n",
       "      <td>2020-04-16 04:05:45</td>\n",
       "      <td>19643_490003256N_2020-04-16_out_0</td>\n",
       "      <td>2020-04-16 04:02:24</td>\n",
       "      <td>inbound</td>\n",
       "    </tr>\n",
       "  </tbody>\n",
       "</table>\n",
       "</div>"
      ],
      "text/plain": [
       "        bus_stop_name     expected_arrival                         vehicle_id  \\\n",
       "8    All Souls Avenue  2020-04-16 02:45:23  11536_490003256N_2020-04-16_out_0   \n",
       "76   All Souls Avenue  2020-04-16 03:17:18  10292_490003256N_2020-04-16_out_0   \n",
       "128  All Souls Avenue  2020-04-16 03:33:51  11808_490003256N_2020-04-16_out_0   \n",
       "170  All Souls Avenue  2020-04-16 03:43:50  11744_490003256N_2020-04-16_out_0   \n",
       "259  All Souls Avenue  2020-04-16 04:05:45  19643_490003256N_2020-04-16_out_0   \n",
       "\n",
       "             time_of_req direction  \n",
       "8    2020-04-16 02:44:32   inbound  \n",
       "76   2020-04-16 03:14:10   inbound  \n",
       "128  2020-04-16 03:30:17   inbound  \n",
       "170  2020-04-16 03:40:58   inbound  \n",
       "259  2020-04-16 04:02:24   inbound  "
      ]
     },
     "execution_count": 293,
     "metadata": {},
     "output_type": "execute_result"
    }
   ],
   "source": [
    "b_52 = data[\"52\"]\n",
    "\n",
    "all_souls_avn = b_52.loc[(b_52['bus_stop_name'] == 'All Souls Avenue') & (b_52['direction'] == 'inbound')]\n",
    "[_, all_souls_avn_id, _, _, _] = all_souls_avn.iloc[0]['vehicle_id'].split('_')\n",
    "print(all_souls_avn.shape)\n",
    "print(all_souls_avn_id)\n",
    "all_souls_avn.head()"
   ]
  },
  {
   "cell_type": "code",
   "execution_count": 294,
   "metadata": {},
   "outputs": [
    {
     "name": "stdout",
     "output_type": "stream",
     "text": [
      "(1360, 5)\n",
      "490000167G\n"
     ]
    },
    {
     "data": {
      "text/html": [
       "<div>\n",
       "<style scoped>\n",
       "    .dataframe tbody tr th:only-of-type {\n",
       "        vertical-align: middle;\n",
       "    }\n",
       "\n",
       "    .dataframe tbody tr th {\n",
       "        vertical-align: top;\n",
       "    }\n",
       "\n",
       "    .dataframe thead th {\n",
       "        text-align: right;\n",
       "    }\n",
       "</style>\n",
       "<table border=\"1\" class=\"dataframe\">\n",
       "  <thead>\n",
       "    <tr style=\"text-align: right;\">\n",
       "      <th></th>\n",
       "      <th>bus_stop_name</th>\n",
       "      <th>expected_arrival</th>\n",
       "      <th>vehicle_id</th>\n",
       "      <th>time_of_req</th>\n",
       "      <th>direction</th>\n",
       "    </tr>\n",
       "  </thead>\n",
       "  <tbody>\n",
       "    <tr>\n",
       "      <td>32</td>\n",
       "      <td>Notting Hill Gate Station</td>\n",
       "      <td>2020-04-16 02:58:29</td>\n",
       "      <td>11536_490000167G_2020-04-16_out_0</td>\n",
       "      <td>2020-04-16 02:44:26</td>\n",
       "      <td>inbound</td>\n",
       "    </tr>\n",
       "    <tr>\n",
       "      <td>110</td>\n",
       "      <td>Notting Hill Gate Station</td>\n",
       "      <td>2020-04-16 03:29:24</td>\n",
       "      <td>10292_490000167G_2020-04-16_out_0</td>\n",
       "      <td>2020-04-16 03:14:04</td>\n",
       "      <td>inbound</td>\n",
       "    </tr>\n",
       "    <tr>\n",
       "      <td>159</td>\n",
       "      <td>Notting Hill Gate Station</td>\n",
       "      <td>2020-04-16 03:45:43</td>\n",
       "      <td>11808_490000167G_2020-04-16_out_0</td>\n",
       "      <td>2020-04-16 03:40:51</td>\n",
       "      <td>inbound</td>\n",
       "    </tr>\n",
       "    <tr>\n",
       "      <td>219</td>\n",
       "      <td>Notting Hill Gate Station</td>\n",
       "      <td>2020-04-16 03:57:20</td>\n",
       "      <td>11744_490000167G_2020-04-16_out_0</td>\n",
       "      <td>2020-04-16 03:40:51</td>\n",
       "      <td>inbound</td>\n",
       "    </tr>\n",
       "    <tr>\n",
       "      <td>233</td>\n",
       "      <td>Notting Hill Gate Station</td>\n",
       "      <td>2020-04-16 04:00:00</td>\n",
       "      <td>10271_490000167G_2020-04-16_out_0</td>\n",
       "      <td>2020-04-16 03:57:30</td>\n",
       "      <td>inbound</td>\n",
       "    </tr>\n",
       "  </tbody>\n",
       "</table>\n",
       "</div>"
      ],
      "text/plain": [
       "                 bus_stop_name     expected_arrival  \\\n",
       "32   Notting Hill Gate Station  2020-04-16 02:58:29   \n",
       "110  Notting Hill Gate Station  2020-04-16 03:29:24   \n",
       "159  Notting Hill Gate Station  2020-04-16 03:45:43   \n",
       "219  Notting Hill Gate Station  2020-04-16 03:57:20   \n",
       "233  Notting Hill Gate Station  2020-04-16 04:00:00   \n",
       "\n",
       "                            vehicle_id          time_of_req direction  \n",
       "32   11536_490000167G_2020-04-16_out_0  2020-04-16 02:44:26   inbound  \n",
       "110  10292_490000167G_2020-04-16_out_0  2020-04-16 03:14:04   inbound  \n",
       "159  11808_490000167G_2020-04-16_out_0  2020-04-16 03:40:51   inbound  \n",
       "219  11744_490000167G_2020-04-16_out_0  2020-04-16 03:40:51   inbound  \n",
       "233  10271_490000167G_2020-04-16_out_0  2020-04-16 03:57:30   inbound  "
      ]
     },
     "execution_count": 294,
     "metadata": {},
     "output_type": "execute_result"
    }
   ],
   "source": [
    "ntg_stn = b_52.loc[(b_52['bus_stop_name'] == 'Notting Hill Gate Station') & (b_52['direction'] == 'inbound')]\n",
    "[_, ntg_stn_id, _, _, _] = ntg_stn.iloc[0]['vehicle_id'].split('_')\n",
    "print(ntg_stn.shape)\n",
    "print(ntg_stn_id)\n",
    "ntg_stn.head()"
   ]
  },
  {
   "cell_type": "code",
   "execution_count": null,
   "metadata": {
    "scrolled": true
   },
   "outputs": [],
   "source": [
    "# Getting predicted arrival times for buses on route 52 on 16/04/20\n",
    "\n",
    "preds_52_160420 = []\n",
    "accs_52_160420 = []\n",
    "req_times_52_160420 = [\"2020-04-16 02:58:12\", \"2020-04-16 03:16:27\", \"2020-04-16 03:59:55\", \"2020-04-16 04:51:36\", \"2020-04-16 05:11:55\",\"2020-04-16 05:52:43\", \"2020-04-16 06:07:01\", \"2020-04-16 06:43:22\", \"2020-04-16 06:59:11\", \"2020-04-16 07:17:02\", \"2020-04-16 08:00:22\", \"2020-04-16 08:33:18\", \"2020-04-16 09:10:54\", \"2020-04-16 09:48:37\", \"2020-04-16 10:02:43\", \"2020-04-16 10:49:21\"]\n",
    "req_timesx_52_160420 = []\n",
    "\n",
    "for req_time in req_times_52_160420:\n",
    "    p, a = pred_eval_arrival_times_mult(req_time, all_souls_avn, ntg_stn, all_souls_avn_id, ntg_stn_id)\n",
    "    if a == 0:\n",
    "        continue\n",
    "        \n",
    "    req_timesx_52_160420.append(req_time)\n",
    "    preds_52_160420.append(p)\n",
    "    accs_52_160420.append(a)"
   ]
  },
  {
   "cell_type": "code",
   "execution_count": null,
   "metadata": {
    "scrolled": true
   },
   "outputs": [],
   "source": [
    "# Getting predicted arrival times for buses on route 52 on 19/04/20\n",
    "\n",
    "preds_52_190420 = []\n",
    "accs_52_190420 = []\n",
    "req_times_52_190420 = [\"2020-04-19 08:59:59\", \"2020-04-19 09:13:27\", \"2020-04-19 09:48:55\", \"2020-04-19 10:15:27\", \"2020-04-19 10:38:41\",\"2020-04-19 11:14:43\", \"2020-04-19 11:22:01\", \"2020-04-19 12:28:22\", \"2020-04-19 12:59:11\", \"2020-04-19 13:02:02\", \"2020-04-19 13:40:22\", \"2020-04-19 14:00:18\", \"2020-04-19 14:42:54\", \"2020-04-19 15:05:37\", \"2020-04-19 15:37:43\", \"2020-04-19 16:17:21\", \"2020-04-19 16:52:16\", \"2020-04-19 17:18:55\", \"2020-04-19 17:26:11\", \"2020-04-19 18:00:00\", \"2020-04-19 18:42:15\", \"2020-04-19 18:56:19\", \"2020-04-19 19:04:09\", \"2020-04-19 19:32:07\", \"2020-04-19 19:55:22\", \"2020-04-19 20:19:23\", \"2020-04-19 20:46:32\", \"2020-04-19 21:09:21\", \"2020-04-19 21:32:56\", \"2020-04-19 21:54:12\", \"2020-04-19 22:04:00\"]\n",
    "req_timesx_52_190420 = []\n",
    "for req_time in req_times_52_190420:\n",
    "    p, a = pred_eval_arrival_times_mult(req_time, all_souls_avn, ntg_stn, all_souls_avn_id, ntg_stn_id)\n",
    "    if a == 0:\n",
    "        continue\n",
    "    \n",
    "    req_timesx_52_190420.append(req_time)\n",
    "    preds_52_190420.append(p)\n",
    "    accs_52_190420.append(a)"
   ]
  },
  {
   "cell_type": "code",
   "execution_count": null,
   "metadata": {},
   "outputs": [],
   "source": [
    "times_52_160420 = [convert_time_to_datetime(t) for t in req_timesx_52_160420]\n",
    "times_52_190420 = [convert_time_to_datetime(t) for t in req_timesx_52_190420]\n",
    "\n",
    "fig, ax = plt.subplots(figsize=(15,15), nrows=2, ncols=1)\n",
    "ax[0].scatter(times_52_190420, accs_52_190420, label=\"Actual arrival time\")\n",
    "ax[0].plot(times_52_190420, preds_52_190420, label=\"Predicted arrival time\")\n",
    "ax[0].set_xlabel(\"Time of request\")\n",
    "ax[0].set_ylabel(\"Arrival Time\")\n",
    "ax[0].set_ylim([dt.datetime(2020, 4, 19, 2), dt.datetime(2020, 4, 19, 22, 59, 59)])\n",
    "ax[0].set_xlim([dt.datetime(2020, 4, 19, 2), dt.datetime(2020, 4, 19, 22, 59, 59)])\n",
    "ax[0].set_title(\"Graph showing actual arrival time compared to predicted arrival time of a bus at Nottinghill Gate Station on route 52\")\n",
    "ax[0].legend()\n",
    "\n",
    "ax[1].scatter(times_52_160420, accs_52_160420, label=\"Actual arrival time\")\n",
    "ax[1].plot(times_52_160420, preds_52_160420, label=\"Predicted arrival time\")\n",
    "ax[1].set_xlabel(\"Time of request\")\n",
    "ax[1].set_ylabel(\"Arrival Time\")\n",
    "ax[1].set_ylim([dt.datetime(2020, 4, 16, 2), dt.datetime(2020, 4, 16, 22, 59, 59)])\n",
    "ax[1].set_xlim([dt.datetime(2020, 4, 16, 2), dt.datetime(2020, 4, 16, 22, 59, 59)])\n",
    "ax[1].set_title(\"Graph showing actual arrival time compared to predicted arrival time of a bus at Nottinghill Gate Station on route 52\")\n",
    "ax[1].legend()\n",
    "plt.show()"
   ]
  },
  {
   "cell_type": "markdown",
   "metadata": {},
   "source": [
    "### Measuring Success\n",
    "\n",
    "**Explained variance regression score function**: Best possible score is 1.0, lower values are worse. https://scikit-learn.org/stable/modules/model_evaluation.html#explained-variance-score "
   ]
  },
  {
   "cell_type": "code",
   "execution_count": 447,
   "metadata": {},
   "outputs": [
    {
     "name": "stdout",
     "output_type": "stream",
     "text": [
      "Explain variance score:  0.999970640949991\n"
     ]
    }
   ],
   "source": [
    "from sklearn.metrics import mean_squared_error, explained_variance_score\n",
    "\n",
    "actual_seconds_52 = [a.timestamp() for a in accs_52_160420]\n",
    "pred_seconds_52 = [p.timestamp() for p in preds_52_160420]\n",
    "evs = explained_variance_score(actual_seconds_52, pred_seconds_52)\n",
    "print(\"Explain variance score: \", evs)"
   ]
  },
  {
   "cell_type": "markdown",
   "metadata": {},
   "source": [
    "### Different gaps for predictions for bus route 14\n",
    "\n",
    "Experiment with different gaps to report back\n",
    "\n",
    "Look for the leave stop}: For route X, find what stop is 15 stops before stop B. Denote this stop as stop A, which will be used to calculate the journey time of the buses. A gap of smaller and larger than 15 stops was tried, however, it was found that when using stops that were too close to each other e.g. a gap of under 5, SOMETHING WAS FOUND. It was also found that when using stops that were too far away from each other e.g. a gap of more than 25 stops, SOMETHING ELSE WAS FOUND. "
   ]
  },
  {
   "cell_type": "code",
   "execution_count": null,
   "metadata": {},
   "outputs": [],
   "source": [
    "print(\"Number of stops in route 14: \", len(stops_in_sequence_outbound.get(\"14\")))\n",
    "stop_a = stops_in_sequence_outbound.get(\"14\")[1]\n",
    "\n",
    "# Gap = 5\n",
    "stop_b_5 = stops_in_sequence_outbound.get(\"14\")[6]\n",
    "\n",
    "# Gap = 10\n",
    "stop_b_10 = stops_in_sequence_outbound.get(\"14\")[11]\n",
    "\n",
    "# Gap = 15\n",
    "stop_b_15 = stops_in_sequence_outbound.get(\"14\")[16]\n",
    "\n",
    "# Gap = 20\n",
    "stop_b_20 = stops_in_sequence_outbound.get(\"14\")[21]\n",
    "\n",
    "# Gap = 25\n",
    "stop_b_25 = stops_in_sequence_outbound.get(\"14\")[26]\n",
    "\n",
    "# Gap = 30\n",
    "stop_b_30 = stops_in_sequence_outbound.get(\"14\")[31]\n",
    "\n",
    "# Gap = 35\n",
    "stop_b_35 = stops_in_sequence_outbound.get(\"14\")[36]\n",
    "\n",
    "destination_stops = [stop_b_5, stop_b_10, stop_b_20, stop_b_25, stop_b_30, stop_b_35]\n",
    "print(\"origin stop: \", stop_a)\n",
    "print(\"destiation stops: \", destination_stops)"
   ]
  },
  {
   "cell_type": "code",
   "execution_count": null,
   "metadata": {},
   "outputs": [],
   "source": [
    "b_14 = data[\"14\"]\n",
    "\n",
    "stop_a_entries = b_14.loc[(b_14['bus_stop_name'] == stop_a) & (b_14['direction'] == 'outbound')]\n",
    "[_, stop_a_id, _, _, _] = stop_a_entries.iloc[0]['vehicle_id'].split('_')\n",
    "print(stop_a_entries.shape)\n",
    "print(stop_a_id)"
   ]
  },
  {
   "cell_type": "code",
   "execution_count": null,
   "metadata": {
    "scrolled": true
   },
   "outputs": [],
   "source": [
    "full_preds_varying_gaps = []\n",
    "full_actual_varying_gaps = []\n",
    "full_req_varying_gaps = []\n",
    "\n",
    "req_times_14_060520 = generate_random_request_times(\"2020-05-06 03:00:00\", \"2020-05-06 20:00:00\")\n",
    "\n",
    "for i, end in enumerate(destination_stops):\n",
    "    stop_b_entries = b_14.loc[(b_14['bus_stop_name'] == destination_stops[i]) & (b_14['direction'] == 'outbound')]\n",
    "    [_, stop_b_id, _, _, _] = stop_b_entries.iloc[0]['vehicle_id'].split('_')\n",
    "\n",
    "    preds_14_060520 = []\n",
    "    accs_14_060520 = []\n",
    "    req_timesx_14_060520 = []\n",
    "\n",
    "    for req_time in req_times_6_060520:\n",
    "        p, a = pred_eval_arrival_times_mult(req_time, stop_a_entries, stop_b_entries, stop_a_id, stop_b_id)\n",
    "        if a == 0:\n",
    "            continue\n",
    "        req_timesx_14_060520.append(req_time)\n",
    "        preds_14_060520.append(p)\n",
    "        accs_14_060520.append(a)\n",
    "        \n",
    "    full_preds_varying_gaps.append(preds_14_060520)\n",
    "    full_actual_varying_gaps.append(accs_14_060520)\n",
    "    full_req_varying_gaps.append(req_timesx_14_060520)"
   ]
  },
  {
   "cell_type": "code",
   "execution_count": null,
   "metadata": {
    "scrolled": true
   },
   "outputs": [],
   "source": [
    "for i, gap in enumerate(destination_stops):\n",
    "    p = full_preds_varying_gaps[i]\n",
    "    a = full_actual_varying_gaps[i]\n",
    "    t = full_req_varying_gaps[i]\n",
    "    r = [convert_time_to_datetime(x) for x in t]\n",
    "    \n",
    "    fig, ax = plt.subplots(figsize=(10, 5))\n",
    "    ax.scatter(r, a, label=\"Actual arrival time\")\n",
    "    ax.plot(r, p, label=\"Predicted arrival time\")\n",
    "    ax.set_xlabel(\"Time of request\")\n",
    "    ax.set_ylabel(\"Arrival Time\")\n",
    "    ax.set_ylim([dt.datetime(2020, 5, 6, 2), dt.datetime(2020, 5, 6, 22, 59, 59)])\n",
    "    ax.set_xlim([dt.datetime(2020, 5, 6, 2), dt.datetime(2020, 5, 6, 22, 59, 59)])\n",
    "    ax.set_title(\"Gap = {}, End Stop = {}\".format((i + 1) * 5, destination_stops[i]))\n",
    "    ax.legend()\n",
    "    plt.show()"
   ]
  },
  {
   "cell_type": "code",
   "execution_count": 451,
   "metadata": {},
   "outputs": [
    {
     "name": "stdout",
     "output_type": "stream",
     "text": [
      "Gap = 5 Explain variance score = 0.999914196340387\n",
      "Gap = 10 Explain variance score = 0.999607017570896\n",
      "Gap = 15 Explain variance score = 0.9988003937122831\n",
      "Gap = 20 Explain variance score = 0.9194859215288302\n",
      "Gap = 25 Explain variance score = 0.849248737652785\n",
      "Gap = 30 Explain variance score = 0.0\n"
     ]
    }
   ],
   "source": [
    "for i, gap in enumerate(destination_stops):\n",
    "    p = full_preds_varying_gaps[i]\n",
    "    a = full_actual_varying_gaps[i]\n",
    "    t = full_req_varying_gaps[i]\n",
    "    actual_seconds_14 = [x.timestamp() for x in a]\n",
    "    pred_seconds_14 = [x.timestamp() for x in p]\n",
    "    evs = explained_variance_score(actual_seconds_14, pred_seconds_14)\n",
    "    print(\"Gap = {} Explain variance score = {}\".format((i + 1) * 5, evs))"
   ]
  },
  {
   "cell_type": "markdown",
   "metadata": {},
   "source": [
    "### Putting it all together\n",
    "\n",
    "The user gives their desired bus stop and bus route and gets a predicted arrival time back."
   ]
  },
  {
   "cell_type": "code",
   "execution_count": null,
   "metadata": {
    "scrolled": false
   },
   "outputs": [],
   "source": [
    "stops_in_sequence_inbound[\"267\"]"
   ]
  },
  {
   "cell_type": "code",
   "execution_count": 484,
   "metadata": {},
   "outputs": [
    {
     "name": "stdout",
     "output_type": "stream",
     "text": [
      "Clifton Gardens to Ravenscourt Park\n",
      "Request time is  2020-05-12 07:30:00\n",
      "most recent left bus left at  2020-05-12 07:20:06\n",
      "Predicted journey time is  4.005357142857143\n",
      "leave time =  2020-05-12 07:38:18\n",
      "There are no more buses due\n",
      "Cannot find correlating leaving bus.\n"
     ]
    },
    {
     "data": {
      "text/plain": [
       "(0, 0)"
      ]
     },
     "execution_count": 484,
     "metadata": {},
     "output_type": "execute_result"
    }
   ],
   "source": [
    "user_route = \"267\"\n",
    "user_stop = \"Ravenscourt Park\"\n",
    "\n",
    "def get_pred_arrival_time(route, stop):\n",
    "    # Will need to do something about inbound or outbound\n",
    "    \n",
    "    df = data[route]\n",
    "\n",
    "    stop_b_entries = df.loc[(df['bus_stop_name'] == stop) & (df['direction'] == 'inbound')]\n",
    "    [_, stop_b_id, _, _, _] = stop_b_entries.iloc[0]['vehicle_id'].split('_')\n",
    "    \n",
    "    b_stop_index = stops_in_sequence_inbound.get(route).index(stop)\n",
    "    a_stop_index = b_stop_index - 5 if (b_stop_index - 5) >= 0 else 0 \n",
    "    a_stop_name = stops_in_sequence_inbound.get(route)[a_stop_index]\n",
    "    print(\"{} to {}\".format(a_stop_name, stop))\n",
    "    \n",
    "    stop_a_entries = df.loc[(df['bus_stop_name'] == a_stop_name) & (df['direction'] == 'inbound')]\n",
    "    [_, stop_a_id, _, _, _] = stop_a_entries.iloc[0]['vehicle_id'].split('_')\n",
    "    \n",
    "    # req_time = dt.datetime.now()\n",
    "    req_time = \"2020-05-12 07:30:00\"\n",
    "\n",
    "    p, a = pred_eval_arrival_times_mult(req_time, stop_a_entries, stop_b_entries, stop_a_id, stop_b_id)\n",
    "    return p, a\n",
    "\n",
    "get_pred_arrival_time(user_route, user_stop)"
   ]
  },
  {
   "cell_type": "code",
   "execution_count": 494,
   "metadata": {},
   "outputs": [
    {
     "name": "stdout",
     "output_type": "stream",
     "text": [
      "Clifton Gardens to Ravenscourt Park\n",
      "Request time is  2020-05-12 07:30:00\n",
      "most recent left bus left at  2020-05-12 07:20:06\n",
      "Predicted journey time is  4.005357142857143\n",
      "leave time =  2020-05-12 07:38:18\n",
      "There are no more buses due\n",
      "Couldn't find correlating leaving bus, go back 1 more stop\n",
      "Turnham Green Church to Ravenscourt Park\n",
      "most recent left bus left at  2020-05-12 07:19:02\n",
      "Predicted journey time is  5.251785714285715\n",
      "leave time =  2020-05-12 07:37:48\n",
      "There are no more buses due\n",
      "Couldn't find correlating leaving bus, go back 1 more stop\n",
      "Chiswick Road to Ravenscourt Park\n",
      "most recent left bus left at  2020-05-12 07:17:46\n",
      "Predicted journey time is  6.445436507936509\n",
      "leave time =  2020-05-12 07:37:05\n",
      "There are no more buses due\n",
      "Couldn't find correlating leaving bus, go back 1 more stop\n",
      "Gunnersbury Station to Ravenscourt Park\n",
      "Predicted journey time is  0.0\n",
      "leave time =  2020-04-02 09:52:30\n"
     ]
    },
    {
     "ename": "TypeError",
     "evalue": "'<=' not supported between instances of 'datetime.datetime' and 'int'",
     "output_type": "error",
     "traceback": [
      "\u001b[0;31m---------------------------------------------------------------------------\u001b[0m",
      "\u001b[0;31mTypeError\u001b[0m                                 Traceback (most recent call last)",
      "\u001b[0;32m<ipython-input-494-9ef05499f3ad>\u001b[0m in \u001b[0;36m<module>\u001b[0;34m\u001b[0m\n\u001b[1;32m     53\u001b[0m     \u001b[0;32mreturn\u001b[0m \u001b[0mp\u001b[0m\u001b[0;34m,\u001b[0m \u001b[0ma\u001b[0m\u001b[0;34m\u001b[0m\u001b[0;34m\u001b[0m\u001b[0m\n\u001b[1;32m     54\u001b[0m \u001b[0;34m\u001b[0m\u001b[0m\n\u001b[0;32m---> 55\u001b[0;31m \u001b[0mget_pred_arrival_time\u001b[0m\u001b[0;34m(\u001b[0m\u001b[0muser_route\u001b[0m\u001b[0;34m,\u001b[0m \u001b[0muser_stop\u001b[0m\u001b[0;34m)\u001b[0m\u001b[0;34m\u001b[0m\u001b[0;34m\u001b[0m\u001b[0m\n\u001b[0m",
      "\u001b[0;32m<ipython-input-494-9ef05499f3ad>\u001b[0m in \u001b[0;36mget_pred_arrival_time\u001b[0;34m(route, stop)\u001b[0m\n\u001b[1;32m     25\u001b[0m     \u001b[0mpred_arr\u001b[0m \u001b[0;34m=\u001b[0m \u001b[0;34m-\u001b[0m\u001b[0;36m1\u001b[0m\u001b[0;34m\u001b[0m\u001b[0;34m\u001b[0m\u001b[0m\n\u001b[1;32m     26\u001b[0m \u001b[0;34m\u001b[0m\u001b[0m\n\u001b[0;32m---> 27\u001b[0;31m     \u001b[0;32mwhile\u001b[0m \u001b[0mpred_arr\u001b[0m \u001b[0;34m<=\u001b[0m \u001b[0;36m0\u001b[0m\u001b[0;34m:\u001b[0m\u001b[0;34m\u001b[0m\u001b[0;34m\u001b[0m\u001b[0m\n\u001b[0m\u001b[1;32m     28\u001b[0m         \u001b[0mpred_jrny_time\u001b[0m\u001b[0;34m,\u001b[0m \u001b[0mmost_recent_left\u001b[0m \u001b[0;34m=\u001b[0m \u001b[0mpredict_journey_time\u001b[0m\u001b[0;34m(\u001b[0m\u001b[0mreq_time\u001b[0m\u001b[0;34m,\u001b[0m \u001b[0mstop_a_entries\u001b[0m\u001b[0;34m,\u001b[0m \u001b[0mstop_b_entries\u001b[0m\u001b[0;34m,\u001b[0m \u001b[0mstop_a_id\u001b[0m\u001b[0;34m)\u001b[0m\u001b[0;34m\u001b[0m\u001b[0;34m\u001b[0m\u001b[0m\n\u001b[1;32m     29\u001b[0m         \u001b[0mprint\u001b[0m\u001b[0;34m(\u001b[0m\u001b[0;34m\"Predicted journey time is \"\u001b[0m\u001b[0;34m,\u001b[0m \u001b[0;34m(\u001b[0m\u001b[0mpred_jrny_time\u001b[0m\u001b[0;34m)\u001b[0m\u001b[0;34m/\u001b[0m\u001b[0;36m60\u001b[0m\u001b[0;34m)\u001b[0m\u001b[0;34m\u001b[0m\u001b[0;34m\u001b[0m\u001b[0m\n",
      "\u001b[0;31mTypeError\u001b[0m: '<=' not supported between instances of 'datetime.datetime' and 'int'"
     ]
    }
   ],
   "source": [
    "user_route = \"267\"\n",
    "user_stop = \"Ravenscourt Park\"\n",
    "\n",
    "def get_pred_arrival_time(route, stop):\n",
    "    # Will need to do something about inbound or outbound\n",
    "    \n",
    "    df = data[route]\n",
    "\n",
    "    stop_b_entries = df.loc[(df['bus_stop_name'] == stop) & (df['direction'] == 'inbound')]\n",
    "    [_, stop_b_id, _, _, _] = stop_b_entries.iloc[0]['vehicle_id'].split('_')\n",
    "    \n",
    "    b_stop_index = stops_in_sequence_inbound.get(route).index(stop)\n",
    "    a_stop_index = b_stop_index - 5 if (b_stop_index - 5) >= 0 else 0 \n",
    "    a_stop_name = stops_in_sequence_inbound.get(route)[a_stop_index]\n",
    "    print(\"{} to {}\".format(a_stop_name, stop))\n",
    "    \n",
    "    stop_a_entries = df.loc[(df['bus_stop_name'] == a_stop_name) & (df['direction'] == 'inbound')]\n",
    "    [_, stop_a_id, _, _, _] = stop_a_entries.iloc[0]['vehicle_id'].split('_')\n",
    "    \n",
    "    # req_time = dt.datetime.now()\n",
    "    req_time = \"2020-05-12 07:30:00\"\n",
    "    \n",
    "    print(\"Request time is \", req_time)\n",
    "    \n",
    "    pred_arr = -1\n",
    "    \n",
    "    while pred_arr <= 0:\n",
    "        pred_jrny_time, most_recent_left = predict_journey_time(req_time, stop_a_entries, stop_b_entries, stop_a_id)\n",
    "        print(\"Predicted journey time is \", (pred_jrny_time)/60)\n",
    "        \n",
    "        pred_arr, bus_to_track = pred_arrival_time(req_time, stop_a_entries, pred_jrny_time, most_recent_left)\n",
    "    \n",
    "        if pred_arr == 0:\n",
    "            print(\"Couldn't find correlating leaving bus, go back 1 more stop\")\n",
    "            a_stop_index = a_stop_index - 1\n",
    "            \n",
    "            if a_stop_index < 0:\n",
    "                print(\"No journeys found\")\n",
    "                return 0, 0\n",
    "        \n",
    "            a_stop_name = stops_in_sequence_inbound.get(route)[a_stop_index]\n",
    "            stop_a_entries = df.loc[(df['bus_stop_name'] == a_stop_name) & (df['direction'] == 'inbound')]\n",
    "            [_, stop_a_id, _, _, _] = stop_a_entries.iloc[0]['vehicle_id'].split('_')\n",
    "            print(\"{} to {}\".format(a_stop_name, stop))\n",
    "\n",
    "    print(\"Predicted arrival time is {}\".format(pred_arr))\n",
    "    actual_arr = get_actual(stop_b_entries, req_time)\n",
    "    \n",
    "    if actual_arr is None:\n",
    "        print(\"There is no bus arriving at req_time\")\n",
    "        return pred_arr, 0\n",
    "    \n",
    "    return p, a\n",
    "\n",
    "get_pred_arrival_time(user_route, user_stop)"
   ]
  },
  {
   "cell_type": "code",
   "execution_count": null,
   "metadata": {},
   "outputs": [],
   "source": []
  }
 ],
 "metadata": {
  "kernelspec": {
   "display_name": "Python 3",
   "language": "python",
   "name": "python3"
  },
  "language_info": {
   "codemirror_mode": {
    "name": "ipython",
    "version": 3
   },
   "file_extension": ".py",
   "mimetype": "text/x-python",
   "name": "python",
   "nbconvert_exporter": "python",
   "pygments_lexer": "ipython3",
   "version": "3.7.4"
  }
 },
 "nbformat": 4,
 "nbformat_minor": 2
}
