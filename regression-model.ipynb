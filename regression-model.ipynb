{
 "cells": [
  {
   "cell_type": "code",
   "execution_count": 228,
   "metadata": {},
   "outputs": [],
   "source": [
    "import pandas as pd\n",
    "import datetime as dt\n",
    "import numpy as np\n",
    "import time\n",
    "import calendar\n",
    "import urllib\n",
    "import matplotlib\n",
    "import matplotlib.pyplot as plt\n",
    "import seaborn as sns\n",
    "import collections\n",
    "import psycopg2\n",
    "import sklearn\n",
    "import sklearn.ensemble as ens\n",
    "from sklearn import preprocessing, metrics, cluster\n",
    "from scipy import stats\n",
    "from matplotlib.dates import DateFormatter\n",
    "from pandas.plotting import register_matplotlib_converters\n",
    "\n",
    "sns.set()\n",
    "colours = sns.color_palette(\"husl\", 8)\n",
    "cs = [colours[i] for i in range(len(colours))]\n",
    "sns.set_palette(sns.color_palette(colours))\n",
    "register_matplotlib_converters()"
   ]
  },
  {
   "cell_type": "markdown",
   "metadata": {},
   "source": [
    "# Load Data"
   ]
  },
  {
   "cell_type": "code",
   "execution_count": 8,
   "metadata": {},
   "outputs": [],
   "source": [
    "data = {}\n",
    "routes = [\"452\", \"9\", \"52\", \"267\", \"277\", \"7\", \"14\", \"35\", \"37\", \"69\", \"328\", \"6\"]\n",
    "\n",
    "b_452 = pd.read_csv(\"data/452 07-04-20.csv\")\n",
    "b_52 = pd.read_csv(\"data/52 07-04-20.csv\")\n",
    "b_7 = pd.read_csv(\"data/7 07-04-20.csv\")\n",
    "b_14 = pd.read_csv(\"data/14 07-04-20.csv\")\n",
    "b_9 = pd.read_csv(\"data/9 07-04-20.csv\")\n",
    "b_328 = pd.read_csv(\"data/328 07-04-20.csv\")\n",
    "b_69 = pd.read_csv(\"data/69 07-04-20.csv\")\n",
    "b_35 = pd.read_csv(\"data/35 07-04-20.csv\")\n",
    "b_37 = pd.read_csv(\"data/37 07-04-20.csv\")\n",
    "b_267 = pd.read_csv(\"data/267 07-04-20.csv\")\n",
    "b_277 = pd.read_csv(\"data/277 07-04-20.csv\")\n",
    "b_6 = pd.read_csv(\"data/6 07-04-20.csv\")\n",
    "\n",
    "data[\"452\"] = b_452\n",
    "data[\"52\"] = b_52\n",
    "data[\"7\"] = b_7\n",
    "data[\"9\"] = b_9\n",
    "data[\"14\"] = b_14\n",
    "data[\"328\"] = b_328\n",
    "data[\"267\"] = b_267\n",
    "data[\"277\"] = b_277\n",
    "data[\"35\"] = b_35\n",
    "data[\"37\"] = b_37\n",
    "data[\"69\"] = b_69\n",
    "data[\"6\"] = b_6\n",
    "\n",
    "# need to swap the inbound and outbound labels for data before 12/05/20 because \n",
    "# I noted them down wrong from the data collection stage\n",
    "def init_explore(df, route):\n",
    "    print(\"BUS ROUTE: \", route)\n",
    "    print(\"Shape: \", df.shape)\n",
    "    df = df.drop(columns = \"arrived\")\n",
    "    \n",
    "    df.loc[df['direction'] == 'out', 'direction'] = 'inbound'\n",
    "    df.loc[df['direction'] == 'in', 'direction'] = 'outbound'\n",
    "    df = df[[\"bus_stop_name\", \"expected_arrival\", \"vehicle_id\", \"time_of_req\", \"direction\"]]\n",
    "    return df"
   ]
  },
  {
   "cell_type": "code",
   "execution_count": 9,
   "metadata": {},
   "outputs": [],
   "source": [
    "def add_extra_data(route):\n",
    "    if route != \"6\":\n",
    "        more = pd.read_csv(\"data/\" + route + \" 22-04-20.csv\")\n",
    "        more.loc[more['arrived'] == 1, 'arrived'] = True\n",
    "        more = more[[\"arrived\", \"bus_stop_name\", \"expected_arrival\", \"vehicle_id\", \"time_of_req\", \"direction\"]]\n",
    "        data[route] = data[route].append(more, ignore_index = True)\n",
    "    \n",
    "    more = pd.read_csv(\"data/\" + route + \" 12-05-20.csv\")\n",
    "    more.loc[more['arrived'] == 1, 'arrived'] = True\n",
    "    more = more[[\"arrived\", \"bus_stop_name\", \"expected_arrival\", \"vehicle_id\", \"time_of_req\", \"direction\"]]\n",
    "    data[route] = data[route].append(more, ignore_index = True)"
   ]
  },
  {
   "cell_type": "code",
   "execution_count": 10,
   "metadata": {},
   "outputs": [],
   "source": [
    "for route in routes:\n",
    "    add_extra_data(route)"
   ]
  },
  {
   "cell_type": "code",
   "execution_count": 11,
   "metadata": {},
   "outputs": [
    {
     "name": "stdout",
     "output_type": "stream",
     "text": [
      "BUS ROUTE:  452\n",
      "Shape:  (56938, 6)\n",
      "BUS ROUTE:  9\n",
      "Shape:  (49935, 6)\n",
      "BUS ROUTE:  52\n",
      "Shape:  (92505, 6)\n",
      "BUS ROUTE:  267\n",
      "Shape:  (50939, 6)\n",
      "BUS ROUTE:  277\n",
      "Shape:  (71103, 6)\n",
      "BUS ROUTE:  7\n",
      "Shape:  (43271, 6)\n",
      "BUS ROUTE:  14\n",
      "Shape:  (80413, 6)\n",
      "BUS ROUTE:  35\n",
      "Shape:  (50120, 6)\n",
      "BUS ROUTE:  37\n",
      "Shape:  (78808, 6)\n",
      "BUS ROUTE:  69\n",
      "Shape:  (53844, 6)\n",
      "BUS ROUTE:  328\n",
      "Shape:  (41514, 6)\n",
      "BUS ROUTE:  6\n",
      "Shape:  (84330, 6)\n"
     ]
    }
   ],
   "source": [
    "for route in routes:\n",
    "    data[route] = init_explore(data[route], route)"
   ]
  },
  {
   "cell_type": "code",
   "execution_count": 12,
   "metadata": {
    "scrolled": true
   },
   "outputs": [
    {
     "name": "stdout",
     "output_type": "stream",
     "text": [
      "Making API call to get all stops on route  452\n",
      "Making API call to get all stops on route  452\n",
      "Making API call to get all stops on route  9\n",
      "Making API call to get all stops on route  9\n",
      "Making API call to get all stops on route  52\n",
      "Making API call to get all stops on route  52\n",
      "Making API call to get all stops on route  267\n",
      "Making API call to get all stops on route  267\n",
      "Making API call to get all stops on route  277\n",
      "Making API call to get all stops on route  277\n",
      "Making API call to get all stops on route  7\n",
      "Making API call to get all stops on route  7\n",
      "Making API call to get all stops on route  14\n",
      "Making API call to get all stops on route  14\n",
      "Making API call to get all stops on route  35\n",
      "Making API call to get all stops on route  35\n",
      "Making API call to get all stops on route  37\n",
      "Making API call to get all stops on route  37\n",
      "Making API call to get all stops on route  69\n",
      "Making API call to get all stops on route  69\n",
      "Making API call to get all stops on route  328\n",
      "Making API call to get all stops on route  328\n",
      "Making API call to get all stops on route  6\n",
      "Making API call to get all stops on route  6\n",
      "['Pound Lane / Willesden Bus Garage', 'Willesden Bus Garage', 'Villiers Road', 'Willesden Green Library', 'Hanover Road', 'All Souls Avenue', 'Okehampton Road', 'Whitmore Gardens', 'Kensal Rise Station', 'Station Terrace', 'Banister Road', 'Harrow Road / Kilburn Lane', \"Ladbroke Grove Sainsbury's\", 'Kensal House', 'Barlby Road', 'St Charles Square', 'Chesterton Road', 'Ladbroke Grove Station', 'Elgin Crescent', 'Portobello and Golborne Market', 'Chepstow Villas', 'Notting Hill Gate Station', 'Palace Gardens Terr / Notting Hill Gte', 'Sheffield Terrace', 'York House Place / Kensington High St', 'Kensington Palace', 'Palace Gate', \"Queen's Gate\", 'Royal Albert Hall', 'Prince Of Wales Gate', 'Rutland Gardens', 'Knightsbridge Station  / Harrods', 'Hyde Park Corner Station', 'Hyde Park Corner', 'Wilton Street', 'Buckingham Palace Rd / Bressenden Place', 'Victoria Bus Station']\n"
     ]
    }
   ],
   "source": [
    "import json\n",
    "\n",
    "stops_in_sequence_inbound = {}\n",
    "stops_in_sequence_outbound = {}\n",
    "\n",
    "for r in routes:\n",
    "    with urllib.request.urlopen(\"https://api.tfl.gov.uk/Line/\" + r + \"/Route/Sequence/inbound\") as api:\n",
    "        print(\"Making API call to get all stops on route \", r)\n",
    "        json_data = json.loads(api.read().decode())\n",
    "        seq = json_data.get(\"stopPointSequences\")\n",
    "        stops = []\n",
    "        for s in seq:\n",
    "            for stop in s.get(\"stopPoint\"):\n",
    "                name = stop.get(\"name\")\n",
    "                stops.append(name)\n",
    "        stops_in_sequence_inbound[r] = stops\n",
    "        \n",
    "    with urllib.request.urlopen(\"https://api.tfl.gov.uk/Line/\" + r + \"/Route/Sequence/outbound\") as api:\n",
    "        print(\"Making API call to get all stops on route \", r)\n",
    "        json_data = json.loads(api.read().decode())\n",
    "        seq = json_data.get(\"stopPointSequences\")\n",
    "        stops = []\n",
    "        for s in seq:\n",
    "            for stop in s.get(\"stopPoint\"):\n",
    "                name = stop.get(\"name\")\n",
    "                stops.append(name)\n",
    "        stops_in_sequence_outbound[r] = stops\n",
    "        \n",
    "print(stops_in_sequence_inbound.get(\"52\"))"
   ]
  },
  {
   "cell_type": "markdown",
   "metadata": {},
   "source": [
    "## Helper Functions"
   ]
  },
  {
   "cell_type": "code",
   "execution_count": 14,
   "metadata": {},
   "outputs": [],
   "source": [
    "def convert_time_to_datetime(given_time):\n",
    "    year = int(given_time[:4])\n",
    "    month = int(given_time[5:7])\n",
    "    day = int(given_time[8:10])\n",
    "    hour = int(given_time[11:13])\n",
    "    minute = int(given_time[14:16])\n",
    "    second = int(given_time[17:19])\n",
    "\n",
    "    date_time = dt.datetime(year, month, day, hour, minute, second)\n",
    "    return date_time"
   ]
  },
  {
   "cell_type": "code",
   "execution_count": 139,
   "metadata": {},
   "outputs": [],
   "source": [
    "def pre_lockdown(given_time):\n",
    "    month = int(given_time[5:7])\n",
    "    day = int(given_time[8:10])\n",
    "    \n",
    "    # lockdown = March 24th 2020\n",
    "    if month > 3:\n",
    "        return False\n",
    "    elif month == 3:\n",
    "        if day >= 24:\n",
    "            return False\n",
    "    \n",
    "    return True"
   ]
  },
  {
   "cell_type": "markdown",
   "metadata": {},
   "source": [
    "## Data Preprocessing"
   ]
  },
  {
   "cell_type": "markdown",
   "metadata": {},
   "source": [
    "Pick 2 stops on a route. Calculate all the journey times between them. Make a dataset with attributes time of day (split into hour slots), journey time, day of week, pre lockdown.\n",
    "\n",
    "Choose \"North End Road\" to \"Phillimore Gardens\" on route 9 inbound"
   ]
  },
  {
   "cell_type": "code",
   "execution_count": 247,
   "metadata": {},
   "outputs": [
    {
     "name": "stdout",
     "output_type": "stream",
     "text": [
      "(882, 5)\n",
      "(902, 5)\n"
     ]
    },
    {
     "data": {
      "text/html": [
       "<div>\n",
       "<style scoped>\n",
       "    .dataframe tbody tr th:only-of-type {\n",
       "        vertical-align: middle;\n",
       "    }\n",
       "\n",
       "    .dataframe tbody tr th {\n",
       "        vertical-align: top;\n",
       "    }\n",
       "\n",
       "    .dataframe thead th {\n",
       "        text-align: right;\n",
       "    }\n",
       "</style>\n",
       "<table border=\"1\" class=\"dataframe\">\n",
       "  <thead>\n",
       "    <tr style=\"text-align: right;\">\n",
       "      <th></th>\n",
       "      <th>bus_stop_name</th>\n",
       "      <th>expected_arrival</th>\n",
       "      <th>vehicle_id</th>\n",
       "      <th>time_of_req</th>\n",
       "      <th>direction</th>\n",
       "    </tr>\n",
       "  </thead>\n",
       "  <tbody>\n",
       "    <tr>\n",
       "      <td>6</td>\n",
       "      <td>North End Road</td>\n",
       "      <td>2020-04-02 11:42:14</td>\n",
       "      <td>15455_490010357F_2020-04-02_out_4</td>\n",
       "      <td>2020-04-02 11:12:42</td>\n",
       "      <td>inbound</td>\n",
       "    </tr>\n",
       "    <tr>\n",
       "      <td>143</td>\n",
       "      <td>North End Road</td>\n",
       "      <td>2020-03-19 10:39:04</td>\n",
       "      <td>15458_490010357F_2020-03-19_out_0</td>\n",
       "      <td>2020-03-19 10:23:21</td>\n",
       "      <td>inbound</td>\n",
       "    </tr>\n",
       "    <tr>\n",
       "      <td>147</td>\n",
       "      <td>North End Road</td>\n",
       "      <td>2020-03-31 07:33:30</td>\n",
       "      <td>14462_490010357F_2020-03-31_out_0</td>\n",
       "      <td>2020-03-31 07:33:39</td>\n",
       "      <td>inbound</td>\n",
       "    </tr>\n",
       "    <tr>\n",
       "      <td>231</td>\n",
       "      <td>North End Road</td>\n",
       "      <td>2020-04-01 10:46:17</td>\n",
       "      <td>14468_490010357F_2020-04-01_out_0</td>\n",
       "      <td>2020-04-01 10:45:08</td>\n",
       "      <td>inbound</td>\n",
       "    </tr>\n",
       "    <tr>\n",
       "      <td>239</td>\n",
       "      <td>North End Road</td>\n",
       "      <td>2020-04-02 10:17:16</td>\n",
       "      <td>14558_490010357F_2020-04-02_out_4</td>\n",
       "      <td>2020-04-02 09:50:43</td>\n",
       "      <td>inbound</td>\n",
       "    </tr>\n",
       "  </tbody>\n",
       "</table>\n",
       "</div>"
      ],
      "text/plain": [
       "      bus_stop_name     expected_arrival                         vehicle_id  \\\n",
       "6    North End Road  2020-04-02 11:42:14  15455_490010357F_2020-04-02_out_4   \n",
       "143  North End Road  2020-03-19 10:39:04  15458_490010357F_2020-03-19_out_0   \n",
       "147  North End Road  2020-03-31 07:33:30  14462_490010357F_2020-03-31_out_0   \n",
       "231  North End Road  2020-04-01 10:46:17  14468_490010357F_2020-04-01_out_0   \n",
       "239  North End Road  2020-04-02 10:17:16  14558_490010357F_2020-04-02_out_4   \n",
       "\n",
       "             time_of_req direction  \n",
       "6    2020-04-02 11:12:42   inbound  \n",
       "143  2020-03-19 10:23:21   inbound  \n",
       "147  2020-03-31 07:33:39   inbound  \n",
       "231  2020-04-01 10:45:08   inbound  \n",
       "239  2020-04-02 09:50:43   inbound  "
      ]
     },
     "execution_count": 247,
     "metadata": {},
     "output_type": "execute_result"
    }
   ],
   "source": [
    "from sklearn.metrics import mean_squared_error, r2_score\n",
    "from sklearn.linear_model import LinearRegression\n",
    "from sklearn import preprocessing\n",
    "\n",
    "b_9 = data.get(\"9\")\n",
    "north_end_rd = b_9.loc[(b_9['bus_stop_name'] == 'North End Road') & (b_9['direction'] == 'inbound')]\n",
    "phillimore_g = b_9.loc[(b_9['bus_stop_name'] == 'Phillimore Gardens') & (b_9['direction'] == 'inbound')]\n",
    "[_, north_end_rd_id, _, _, _] = north_end_rd.iloc[0]['vehicle_id'].split('_')\n",
    "[_, phillimore_id, _, _, _] = phillimore_g.iloc[0]['vehicle_id'].split('_')\n",
    "\n",
    "print(north_end_rd.shape)\n",
    "print(phillimore_g.shape)\n",
    "\n",
    "north_end_rd.head()"
   ]
  },
  {
   "cell_type": "code",
   "execution_count": 227,
   "metadata": {},
   "outputs": [
    {
     "name": "stdout",
     "output_type": "stream",
     "text": [
      "Getting journey times took 56.26347017288208\n"
     ]
    }
   ],
   "source": [
    "start = time.time()\n",
    "attrs = []\n",
    "\n",
    "for i, journey in phillimore_g.iterrows():\n",
    "    arr_dt = convert_time_to_datetime(journey['expected_arrival'])\n",
    "\n",
    "    [bus_id, phillimore_id, date, direction, _] = journey['vehicle_id'].split('_')\n",
    "    to_match_id = bus_id + '_' + north_end_rd_id + '_' + date + '_' + direction + '_'\n",
    "\n",
    "    for j, match in north_end_rd.iterrows():\n",
    "        if match['vehicle_id'].startswith(to_match_id):\n",
    "            leave_dt = convert_time_to_datetime(match['expected_arrival'])\n",
    "            journey_time = arr_dt - leave_dt\n",
    "\n",
    "            if (journey_time > dt.timedelta(minutes = 0)) & (journey_time < dt.timedelta(minutes = 30)):\n",
    "                item = []\n",
    "                item.append(journey_time)\n",
    "                \n",
    "                seconds = journey_time.total_seconds()\n",
    "                item.append(seconds)\n",
    "                \n",
    "                d = dt.datetime.strptime(match['expected_arrival'][:10], '%Y-%m-%d')\n",
    "                d = calendar.day_name[d.weekday()]\n",
    "                item.append(d)\n",
    "                \n",
    "                t = int(journey['expected_arrival'][11:13])\n",
    "                item.append(t)\n",
    "                \n",
    "                c = pre_lockdown(journey['expected_arrival'])\n",
    "                item.append(c)\n",
    "                \n",
    "                attrs.append(item)\n",
    "                break\n",
    "\n",
    "print(\"Getting journey times took {}\".format(time.time() - start))"
   ]
  },
  {
   "cell_type": "code",
   "execution_count": 248,
   "metadata": {},
   "outputs": [
    {
     "data": {
      "text/html": [
       "<div>\n",
       "<style scoped>\n",
       "    .dataframe tbody tr th:only-of-type {\n",
       "        vertical-align: middle;\n",
       "    }\n",
       "\n",
       "    .dataframe tbody tr th {\n",
       "        vertical-align: top;\n",
       "    }\n",
       "\n",
       "    .dataframe thead th {\n",
       "        text-align: right;\n",
       "    }\n",
       "</style>\n",
       "<table border=\"1\" class=\"dataframe\">\n",
       "  <thead>\n",
       "    <tr style=\"text-align: right;\">\n",
       "      <th></th>\n",
       "      <th>Journey Time</th>\n",
       "      <th>Journey Time (s)</th>\n",
       "      <th>Day of Week</th>\n",
       "      <th>Time of Day</th>\n",
       "      <th>Pre Lockdown</th>\n",
       "    </tr>\n",
       "  </thead>\n",
       "  <tbody>\n",
       "    <tr>\n",
       "      <td>0</td>\n",
       "      <td>00:03:49</td>\n",
       "      <td>229.0</td>\n",
       "      <td>Monday</td>\n",
       "      <td>5</td>\n",
       "      <td>False</td>\n",
       "    </tr>\n",
       "    <tr>\n",
       "      <td>1</td>\n",
       "      <td>00:03:30</td>\n",
       "      <td>210.0</td>\n",
       "      <td>Tuesday</td>\n",
       "      <td>7</td>\n",
       "      <td>False</td>\n",
       "    </tr>\n",
       "    <tr>\n",
       "      <td>2</td>\n",
       "      <td>00:04:04</td>\n",
       "      <td>244.0</td>\n",
       "      <td>Tuesday</td>\n",
       "      <td>6</td>\n",
       "      <td>False</td>\n",
       "    </tr>\n",
       "    <tr>\n",
       "      <td>3</td>\n",
       "      <td>00:04:41</td>\n",
       "      <td>281.0</td>\n",
       "      <td>Sunday</td>\n",
       "      <td>10</td>\n",
       "      <td>False</td>\n",
       "    </tr>\n",
       "    <tr>\n",
       "      <td>4</td>\n",
       "      <td>00:04:17</td>\n",
       "      <td>257.0</td>\n",
       "      <td>Friday</td>\n",
       "      <td>9</td>\n",
       "      <td>False</td>\n",
       "    </tr>\n",
       "  </tbody>\n",
       "</table>\n",
       "</div>"
      ],
      "text/plain": [
       "  Journey Time  Journey Time (s) Day of Week  Time of Day  Pre Lockdown\n",
       "0     00:03:49             229.0      Monday            5         False\n",
       "1     00:03:30             210.0     Tuesday            7         False\n",
       "2     00:04:04             244.0     Tuesday            6         False\n",
       "3     00:04:41             281.0      Sunday           10         False\n",
       "4     00:04:17             257.0      Friday            9         False"
      ]
     },
     "execution_count": 248,
     "metadata": {},
     "output_type": "execute_result"
    }
   ],
   "source": [
    "df = pd.DataFrame(attrs, columns = ['Journey Time', 'Journey Time (s)', 'Day of Week', 'Time of Day', 'Pre Lockdown'])\n",
    "df.head()"
   ]
  },
  {
   "cell_type": "code",
   "execution_count": 261,
   "metadata": {},
   "outputs": [
    {
     "data": {
      "text/plain": [
       "<matplotlib.axes._subplots.AxesSubplot at 0x1a326aced0>"
      ]
     },
     "execution_count": 261,
     "metadata": {},
     "output_type": "execute_result"
    },
    {
     "data": {
      "image/png": "[encoded data removed]",
      "text/plain": [
       "<Figure size 432x288 with 1 Axes>"
      ]
     },
     "metadata": {},
     "output_type": "display_data"
    }
   ],
   "source": [
    "sns.distplot(df['Journey Time (s)'])"
   ]
  },
  {
   "cell_type": "code",
   "execution_count": 249,
   "metadata": {},
   "outputs": [
    {
     "name": "stdout",
     "output_type": "stream",
     "text": [
      "Outlier indexes:  [8, 21, 22, 33, 59, 177, 240, 243, 473, 687]\n"
     ]
    }
   ],
   "source": [
    "# Get rid of outliers from dataset\n",
    "def detect_outlier_z_score(travel_times):\n",
    "    outlier_indexes = []\n",
    "    \n",
    "    threshold = 3\n",
    "    mean = np.mean(travel_times)\n",
    "    std = np.std(travel_times)\n",
    "    \n",
    "    for i, t in enumerate(travel_times):\n",
    "        z_score= (t - mean) / std\n",
    "        \n",
    "        if np.abs(z_score) > threshold:\n",
    "            outlier_indexes.append(i)\n",
    "    \n",
    "    return outlier_indexes\n",
    "\n",
    "outlier_indexes = detect_outlier_z_score(df['Journey Time (s)'])\n",
    "print(\"Outlier indexes: \", outlier_indexes)\n",
    "df = df.drop(outlier_indexes)"
   ]
  },
  {
   "cell_type": "code",
   "execution_count": 250,
   "metadata": {},
   "outputs": [
    {
     "data": {
      "text/html": [
       "<div>\n",
       "<style scoped>\n",
       "    .dataframe tbody tr th:only-of-type {\n",
       "        vertical-align: middle;\n",
       "    }\n",
       "\n",
       "    .dataframe tbody tr th {\n",
       "        vertical-align: top;\n",
       "    }\n",
       "\n",
       "    .dataframe thead th {\n",
       "        text-align: right;\n",
       "    }\n",
       "</style>\n",
       "<table border=\"1\" class=\"dataframe\">\n",
       "  <thead>\n",
       "    <tr style=\"text-align: right;\">\n",
       "      <th></th>\n",
       "      <th>Journey Time</th>\n",
       "      <th>Journey Time (s)</th>\n",
       "      <th>Time of Day</th>\n",
       "    </tr>\n",
       "  </thead>\n",
       "  <tbody>\n",
       "    <tr>\n",
       "      <td>count</td>\n",
       "      <td>820</td>\n",
       "      <td>820.000000</td>\n",
       "      <td>820.000000</td>\n",
       "    </tr>\n",
       "    <tr>\n",
       "      <td>mean</td>\n",
       "      <td>0 days 00:04:45.498780</td>\n",
       "      <td>285.498780</td>\n",
       "      <td>13.042683</td>\n",
       "    </tr>\n",
       "    <tr>\n",
       "      <td>std</td>\n",
       "      <td>0 days 00:01:17.117855</td>\n",
       "      <td>77.117855</td>\n",
       "      <td>4.302866</td>\n",
       "    </tr>\n",
       "    <tr>\n",
       "      <td>min</td>\n",
       "      <td>0 days 00:00:26</td>\n",
       "      <td>26.000000</td>\n",
       "      <td>5.000000</td>\n",
       "    </tr>\n",
       "    <tr>\n",
       "      <td>25%</td>\n",
       "      <td>0 days 00:03:59</td>\n",
       "      <td>239.000000</td>\n",
       "      <td>10.000000</td>\n",
       "    </tr>\n",
       "    <tr>\n",
       "      <td>50%</td>\n",
       "      <td>0 days 00:04:45</td>\n",
       "      <td>285.000000</td>\n",
       "      <td>13.000000</td>\n",
       "    </tr>\n",
       "    <tr>\n",
       "      <td>75%</td>\n",
       "      <td>0 days 00:05:25</td>\n",
       "      <td>325.000000</td>\n",
       "      <td>16.000000</td>\n",
       "    </tr>\n",
       "    <tr>\n",
       "      <td>max</td>\n",
       "      <td>0 days 00:09:04</td>\n",
       "      <td>544.000000</td>\n",
       "      <td>23.000000</td>\n",
       "    </tr>\n",
       "  </tbody>\n",
       "</table>\n",
       "</div>"
      ],
      "text/plain": [
       "                 Journey Time  Journey Time (s)  Time of Day\n",
       "count                     820        820.000000   820.000000\n",
       "mean   0 days 00:04:45.498780        285.498780    13.042683\n",
       "std    0 days 00:01:17.117855         77.117855     4.302866\n",
       "min           0 days 00:00:26         26.000000     5.000000\n",
       "25%           0 days 00:03:59        239.000000    10.000000\n",
       "50%           0 days 00:04:45        285.000000    13.000000\n",
       "75%           0 days 00:05:25        325.000000    16.000000\n",
       "max           0 days 00:09:04        544.000000    23.000000"
      ]
     },
     "execution_count": 250,
     "metadata": {},
     "output_type": "execute_result"
    }
   ],
   "source": [
    "df.describe()"
   ]
  },
  {
   "cell_type": "code",
   "execution_count": 251,
   "metadata": {},
   "outputs": [
    {
     "name": "stdout",
     "output_type": "stream",
     "text": [
      "[(0, 'Friday'), (1, 'Monday'), (2, 'Saturday'), (3, 'Sunday'), (4, 'Thursday'), (5, 'Tuesday'), (6, 'Wednesday')]\n",
      "[(0, False), (1, True)]\n",
      "Pearson Correlation Coefficient 'time of day' and 'day of 'week':  -0.015942909959803915\n",
      "Pearson Correlation Coefficient 'time of day' and 'pre lockdown:  -0.03904599312556675\n",
      "Pearson Correlation Coefficient 'day of week' and 'pre lockdown':  0.16561740766640717\n"
     ]
    },
    {
     "data": {
      "image/png": "[encoded data removed]",
      "text/plain": [
       "<Figure size 496.8x496.8 with 12 Axes>"
      ]
     },
     "metadata": {},
     "output_type": "display_data"
    }
   ],
   "source": [
    "from scipy.stats import pearsonr\n",
    "\n",
    "le = preprocessing.LabelEncoder()\n",
    "\n",
    "encoded = le.fit_transform(df['Day of Week'])\n",
    "df['Day of Week Encoded'] = encoded\n",
    "days_of_week_label = list(le.inverse_transform([0,1,2,3,4,5,6]))\n",
    "print(list(zip([0,1,2,3,4,5,6], days_of_week_label)))\n",
    "encoded = le.fit_transform(df['Pre Lockdown'])\n",
    "df['Pre Lockdown Encoded'] = encoded\n",
    "pre_lockdown_label = list(le.inverse_transform([0, 1]))\n",
    "print(list(zip([0, 1], pre_lockdown_label)))\n",
    "\n",
    "# Calculate correlation coefficient of the 3 variables\n",
    "corr_tod_dow, _ = pearsonr(df['Time of Day'], df['Day of Week Encoded'])\n",
    "corr_tod_pl, _ = pearsonr(df['Time of Day'], df['Pre Lockdown Encoded'])\n",
    "corr_dow_pl, _ = pearsonr(df['Day of Week Encoded'], df['Pre Lockdown Encoded'])\n",
    "print(\"Pearson Correlation Coefficient 'time of day' and 'day of 'week': \", corr_tod_dow)\n",
    "print(\"Pearson Correlation Coefficient 'time of day' and 'pre lockdown: \", corr_tod_pl)\n",
    "print(\"Pearson Correlation Coefficient 'day of week' and 'pre lockdown': \", corr_dow_pl)\n",
    "\n",
    "# Pairplot between pairs of features\n",
    "sns.pairplot(df[['Time of Day', 'Day of Week Encoded', 'Pre Lockdown Encoded']], height = 2.3);"
   ]
  },
  {
   "cell_type": "markdown",
   "metadata": {},
   "source": [
    "#### Feature correlation\n",
    "\n",
    "The above pairplot indicates that the features are not related to each other, i.e. they are independent of each other. This means that they can be used together in multivariate regression. This is supported by the Pearson Correlation Coefficients calculated for the three variables. The Pearson’s correlation coefficient is calculated as the covariance of the two variables divided by the product of the standard deviation of each data sample. It is the normalization of the covariance between the two variables to give an interpretable score. The coefficient returns a value between -1 and 1 that represents the limits of correlation from a full negative correlation to a full positive correlation. A value of 0 means no correlation. The value must be interpreted, where often a value below -0.5 or above 0.5 indicates a notable correlation, and values below those values suggests a less notable correlation.\n",
    "\n",
    "#### Feature information\n",
    "\n",
    "There is a lot more data that was collected post lockdown compared to pre lockdown (as can be seen by the bottom right graph that has a taller 0 = False bar).\n",
    "There is data for post lockdown on every day of the week, but for pre lockdown there is only data for Tuesday, Thursday, Wednesday.\n",
    "For post lockdown data there is data for all times of day that the bus runs, but for pre lockdown there is only data for between 1000 to approximately 1800.\n",
    "\n",
    "From the middle graph, it can be seen that there is the least amount of data collected on a Saturday.\n",
    "It can also be seen from the top middle graph that on Saturday and Sunday, there are gaps during the day where data has not been collected. For example, for both days there is no data after approximately 1800.\n",
    "\n",
    "From the top left graph, it can be seen that the early and late times of day have the least amount of data collected."
   ]
  },
  {
   "cell_type": "markdown",
   "metadata": {},
   "source": [
    "## Linear Regression\n",
    "\n",
    "Regression models are generally outperformed by other types of models, but they reveal which independent variable is less/more important for predicting travel times.\n",
    "\n",
    "Try regression models with one of the variables^2, or also do separate regression models for 1) peak weekdays vs 2) nonpeak weekdays and then 3) weekends?\n",
    "\n",
    "## Single predictor variable\n",
    "### Predict journey time based on time of day\n",
    "\n",
    "$j = b_0 + + b_1t + b_2t^2$\n",
    "\n",
    "where \n",
    "- $j$ is the predicted journey time\n",
    "- $t$ is the time of day\n",
    "\n",
    "This is still considered to be linear model as the coefficients/weights associated with the features are still linear. t² is only a feature. However the curve that we are fitting is quadratic in nature.\n",
    "\n",
    "#### Splitting the data into training and test sets.\n",
    "\n",
    "Need to ensure that the train and test sets are similar."
   ]
  },
  {
   "cell_type": "code",
   "execution_count": 302,
   "metadata": {},
   "outputs": [
    {
     "name": "stdout",
     "output_type": "stream",
     "text": [
      "(656, 7) (157, 7)\n"
     ]
    },
    {
     "data": {
      "text/html": [
       "<div>\n",
       "<style scoped>\n",
       "    .dataframe tbody tr th:only-of-type {\n",
       "        vertical-align: middle;\n",
       "    }\n",
       "\n",
       "    .dataframe tbody tr th {\n",
       "        vertical-align: top;\n",
       "    }\n",
       "\n",
       "    .dataframe thead th {\n",
       "        text-align: right;\n",
       "    }\n",
       "</style>\n",
       "<table border=\"1\" class=\"dataframe\">\n",
       "  <thead>\n",
       "    <tr style=\"text-align: right;\">\n",
       "      <th></th>\n",
       "      <th>Journey Time</th>\n",
       "      <th>Journey Time (s)</th>\n",
       "      <th>Day of Week</th>\n",
       "      <th>Time of Day</th>\n",
       "      <th>Pre Lockdown</th>\n",
       "      <th>Day of Week Encoded</th>\n",
       "      <th>Pre Lockdown Encoded</th>\n",
       "    </tr>\n",
       "  </thead>\n",
       "  <tbody>\n",
       "    <tr>\n",
       "      <td>826</td>\n",
       "      <td>00:01:55</td>\n",
       "      <td>115.0</td>\n",
       "      <td>Saturday</td>\n",
       "      <td>5</td>\n",
       "      <td>False</td>\n",
       "      <td>2</td>\n",
       "      <td>0</td>\n",
       "    </tr>\n",
       "    <tr>\n",
       "      <td>249</td>\n",
       "      <td>00:03:47</td>\n",
       "      <td>227.0</td>\n",
       "      <td>Monday</td>\n",
       "      <td>5</td>\n",
       "      <td>False</td>\n",
       "      <td>1</td>\n",
       "      <td>0</td>\n",
       "    </tr>\n",
       "    <tr>\n",
       "      <td>197</td>\n",
       "      <td>00:03:35</td>\n",
       "      <td>215.0</td>\n",
       "      <td>Thursday</td>\n",
       "      <td>6</td>\n",
       "      <td>False</td>\n",
       "      <td>4</td>\n",
       "      <td>0</td>\n",
       "    </tr>\n",
       "    <tr>\n",
       "      <td>215</td>\n",
       "      <td>00:03:34</td>\n",
       "      <td>214.0</td>\n",
       "      <td>Thursday</td>\n",
       "      <td>6</td>\n",
       "      <td>False</td>\n",
       "      <td>4</td>\n",
       "      <td>0</td>\n",
       "    </tr>\n",
       "    <tr>\n",
       "      <td>231</td>\n",
       "      <td>00:02:54</td>\n",
       "      <td>174.0</td>\n",
       "      <td>Thursday</td>\n",
       "      <td>6</td>\n",
       "      <td>False</td>\n",
       "      <td>4</td>\n",
       "      <td>0</td>\n",
       "    </tr>\n",
       "  </tbody>\n",
       "</table>\n",
       "</div>"
      ],
      "text/plain": [
       "    Journey Time  Journey Time (s) Day of Week  Time of Day  Pre Lockdown  \\\n",
       "826     00:01:55             115.0    Saturday            5         False   \n",
       "249     00:03:47             227.0      Monday            5         False   \n",
       "197     00:03:35             215.0    Thursday            6         False   \n",
       "215     00:03:34             214.0    Thursday            6         False   \n",
       "231     00:02:54             174.0    Thursday            6         False   \n",
       "\n",
       "     Day of Week Encoded  Pre Lockdown Encoded  \n",
       "826                    2                     0  \n",
       "249                    1                     0  \n",
       "197                    4                     0  \n",
       "215                    4                     0  \n",
       "231                    4                     0  "
      ]
     },
     "execution_count": 302,
     "metadata": {},
     "output_type": "execute_result"
    }
   ],
   "source": [
    "# Sort values by 'time of day'\n",
    "df_time_of_day = df.sort_values(\"Time of Day\")\n",
    "\n",
    "# partition data into 4 groups sorted by time of day\n",
    "group1 = df_time_of_day.iloc[:(int(df.shape[0] / 4))]\n",
    "group2 = df_time_of_day.iloc[(int(df.shape[0] / 4)):(int(2 * df.shape[0] / 4))]\n",
    "group3 = df_time_of_day.iloc[(int(2 * df.shape[0] / 4)):(int(3 * df.shape[0] / 4))]\n",
    "group4 = df_time_of_day.iloc[(int(3 * df.shape[0] / 4)):]\n",
    "\n",
    "# get a random sample of 80% from each group to ensure the train and test\n",
    "# have similar time of days\n",
    "training_time_of_day = group1.sample(frac = 0.8)\n",
    "training_time_of_day = training_time_of_day.append(group2.sample(frac = 0.8))\n",
    "training_time_of_day = training_time_of_day.append(group3.sample(frac = 0.8))\n",
    "training_time_of_day = training_time_of_day.append(group4.sample(frac = 0.8))\n",
    "\n",
    "# validation is all the remaining data that wasn't chosen for the training set\n",
    "validation_time_of_day = df_time_of_day[~df_time_of_day.apply(tuple,1).isin(training_time_of_day.apply(tuple,1))]\n",
    "print(training_time_of_day.shape, validation_time_of_day.shape)\n",
    "validation_time_of_day.head()"
   ]
  },
  {
   "cell_type": "code",
   "execution_count": 309,
   "metadata": {},
   "outputs": [
    {
     "name": "stdout",
     "output_type": "stream",
     "text": [
      "(656, 3)\n",
      "(157, 1)\n",
      "Slope/Coefficients:  [[ 0.         46.47221899 -1.70392748]]\n",
      "Intercept:  [1.57679615]\n",
      "The root mean squared error is:  74.03176620518671\n",
      "The coefficient of determination is:  0.13075768290557022\n",
      "(656, 4)\n",
      "(157, 1)\n",
      "Slope/Coefficients:  [[ 0.         28.58702306 -0.29270569 -0.03464332]]\n",
      "Intercept:  [71.13463912]\n",
      "The root mean squared error is:  74.5055271510753\n",
      "The coefficient of determination is:  0.11959677813405423\n"
     ]
    }
   ],
   "source": [
    "from sklearn.metrics import mean_squared_error, r2_score\n",
    "from sklearn.preprocessing import PolynomialFeatures\n",
    "\n",
    "def poly_regression_timeofday(degree):\n",
    "    poly = PolynomialFeatures(degree = degree)\n",
    "    poly.fit(training_time_of_day['Time of Day'][:, np.newaxis])\n",
    "\n",
    "    x_train = poly.transform(training_time_of_day['Time of Day'][:, np.newaxis])\n",
    "    x_test = poly.transform(validation_time_of_day['Time of Day'][:, np.newaxis])\n",
    "    y_train = training_time_of_day['Journey Time (s)'][:, np.newaxis]\n",
    "    y_test = validation_time_of_day['Journey Time (s)'][:, np.newaxis]\n",
    "    print(x_train.shape)\n",
    "\n",
    "    # Fit model\n",
    "    linreg = LinearRegression()\n",
    "    linreg.fit(x_train, y_train)\n",
    "\n",
    "    # Apply the model to the validation data to predict the ‘Journey Time’\n",
    "    y_pred = linreg.predict(x_test)\n",
    "    print(y_pred.shape)\n",
    "\n",
    "    # Calculate measures of success\n",
    "    mse = mean_squared_error(y_test, y_pred)\n",
    "    rmse = np.sqrt(mse)\n",
    "    r2 = r2_score(y_test, y_pred)\n",
    "\n",
    "    print('Slope/Coefficients: ', linreg.coef_)\n",
    "    print('Intercept: ', linreg.intercept_)\n",
    "    print('The root mean squared error is: ', rmse)\n",
    "    # coefficient of determination = 1 is perfect prediction\n",
    "    print('The coefficient of determination is: ', r2)\n",
    "    \n",
    "    return y_test, y_pred, rmse, r2\n",
    "\n",
    "y_test, y_pred_time_of_day2, rmse_time_of_day2, r2_time_of_day2 = poly_regression_timeofday(2)\n",
    "y_test, y_pred_time_of_day3, rmse_time_of_day3, r2_time_of_day3 = poly_regression_timeofday(3)"
   ]
  },
  {
   "cell_type": "code",
   "execution_count": 314,
   "metadata": {},
   "outputs": [
    {
     "data": {
      "image/png": "[encoded data removed]",
      "text/plain": [
       "<Figure size 864x360 with 2 Axes>"
      ]
     },
     "metadata": {},
     "output_type": "display_data"
    }
   ],
   "source": [
    "import operator\n",
    "\n",
    "x = validation_time_of_day['Time of Day'][:, np.newaxis]\n",
    "sort_axis = operator.itemgetter(0)\n",
    "sorted_zip2 = sorted(zip(x, y_pred_time_of_day2), key=sort_axis)\n",
    "sorted_zip3 = sorted(zip(x, y_pred_time_of_day3), key=sort_axis)\n",
    "x2, y_pred_2 = zip(*sorted_zip2)\n",
    "x3, y_pred_3 = zip(*sorted_zip3)\n",
    "\n",
    "# Plot outputs\n",
    "fig, ax = plt.subplots(figsize=(12,5), nrows = 1, ncols = 2)\n",
    "ax[0].scatter(x, y_test_time_of_day, label = \"Actual\", s = 10)\n",
    "ax[0].plot(x2, y_pred_2, label = \"Predicted degree = 2\", color = cs[5])\n",
    "ax[0].plot(x3, y_pred_3, label = \"Predicted degree = 3\", color = cs[3])\n",
    "ax[0].set_title(\"Linear Regression model based on time of day\")\n",
    "ax[0].set_xlabel(\"Time of Day\")\n",
    "ax[0].set_ylabel(\"Predicted journey time (s)\")\n",
    "ax[0].legend()\n",
    "\n",
    "ax[1].scatter(y_test, y_pred_time_of_day2, label = \"degree = 2\", alpha = 0.5, s = 10)\n",
    "ax[1].scatter(y_test, y_pred_time_of_day3, label = \"degree = 3\", color = cs[3], alpha = 0.5, s = 10)\n",
    "ax[1].set_title(\"Predicted vs actual journey time\")\n",
    "ax[1].set_xlabel(\"Actual journey time (s)\")\n",
    "ax[1].set_ylabel(\"Predicted journey time (s)\")\n",
    "ax[1].legend()\n",
    "plt.show()"
   ]
  },
  {
   "cell_type": "code",
   "execution_count": 299,
   "metadata": {},
   "outputs": [
    {
     "name": "stdout",
     "output_type": "stream",
     "text": [
      "(656, 3)\n",
      "(160, 1)\n",
      "Slope/Coefficients:  [[ 0.         46.83210623 -1.71972751]]\n",
      "Intercept:  [-0.29984484]\n",
      "The root mean squared error is:  73.43209176110888\n",
      "The coefficient of determination is:  0.08531760482507267\n"
     ]
    }
   ],
   "source": [
    "from sklearn.metrics import mean_squared_error, r2_score\n",
    "\n",
    "polynomial_features = PolynomialFeatures(degree = 2)\n",
    "polynomial_features.fit(training_time_of_day['Time of Day'][:, np.newaxis])\n",
    "\n",
    "x_train_time_of_day = polynomial_features.transform(training_time_of_day['Time of Day'][:, np.newaxis])\n",
    "x_test_time_of_day = polynomial_features.transform(validation_time_of_day['Time of Day'][:, np.newaxis])\n",
    "y_train_time_of_day = training_time_of_day['Journey Time (s)'][:, np.newaxis]\n",
    "y_test_time_of_day = validation_time_of_day['Journey Time (s)'][:, np.newaxis]\n",
    "print(x_train_time_of_day.shape)\n",
    "\n",
    "# Fit model\n",
    "linreg = LinearRegression()\n",
    "linreg.fit(x_train_time_of_day, y_train_time_of_day)\n",
    "\n",
    "# Apply the model to the validation data to predict the ‘Journey Time’\n",
    "y_pred_time_of_day = linreg.predict(x_test_time_of_day)\n",
    "print(y_pred_time_of_day.shape)\n",
    "\n",
    "# Calculate measures of success\n",
    "mse_time_of_day = mean_squared_error(y_test_time_of_day, y_pred_time_of_day)\n",
    "rmse_time_of_day = np.sqrt(mse_time_of_day)\n",
    "r2_score_time_of_day = r2_score(y_test_time_of_day, y_pred_time_of_day)\n",
    "\n",
    "print('Slope/Coefficients: ', linreg.coef_)\n",
    "print('Intercept: ', linreg.intercept_)\n",
    "print('The root mean squared error is: ', rmse_time_of_day)\n",
    "# coefficient of determination = 1 is perfect prediction\n",
    "print('The coefficient of determination is: ', r2_score_time_of_day)"
   ]
  },
  {
   "cell_type": "code",
   "execution_count": 300,
   "metadata": {},
   "outputs": [
    {
     "data": {
      "image/png": "[encoded data removed]",
      "text/plain": [
       "<Figure size 864x360 with 2 Axes>"
      ]
     },
     "metadata": {},
     "output_type": "display_data"
    }
   ],
   "source": [
    "x = validation_time_of_day['Time of Day'][:, np.newaxis]\n",
    "sort_axis = operator.itemgetter(0)\n",
    "sorted_zip = sorted(zip(x, y_pred_time_of_day), key=sort_axis)\n",
    "x1, y_poly_pred = zip(*sorted_zip)\n",
    "\n",
    "# Plot outputs\n",
    "fig, ax = plt.subplots(figsize=(12,5), nrows = 1, ncols = 2)\n",
    "ax[0].scatter(x, y_test_time_of_day, label = \"Actual\")\n",
    "ax[0].plot(x1, y_poly_pred, label = \"Predicted\", color='m')\n",
    "ax[0].set_title(\"Linear Regression model based on time of day\")\n",
    "ax[0].set_xlabel(\"Time of Day\")\n",
    "ax[0].set_ylabel(\"Predicted journey time (s)\")\n",
    "ax[0].legend()\n",
    "\n",
    "ax[1].scatter(y_test_time_of_day, y_pred_time_of_day)\n",
    "ax[1].set_title(\"Predicted vs actual journey time\")\n",
    "ax[1].set_xlabel(\"Actual journey time (s)\")\n",
    "ax[1].set_ylabel(\"Predicted journey time (s)\")\n",
    "plt.show()"
   ]
  },
  {
   "cell_type": "markdown",
   "metadata": {},
   "source": [
    "CONCLUSIONS:\n",
    "We can see that a linear regression model does not fit well with these parameters. There is not enough of a difference in journey times throughout the day"
   ]
  },
  {
   "cell_type": "markdown",
   "metadata": {},
   "source": [
    "### Predict journey time based on day of week\n",
    "\n",
    "#### Splitting the data into training and test sets.\n",
    "\n",
    "Need to ensure that the train and test sets are similar."
   ]
  },
  {
   "cell_type": "code",
   "execution_count": 206,
   "metadata": {},
   "outputs": [
    {
     "name": "stdout",
     "output_type": "stream",
     "text": [
      "(656, 7) (155, 7)\n"
     ]
    },
    {
     "data": {
      "text/html": [
       "<div>\n",
       "<style scoped>\n",
       "    .dataframe tbody tr th:only-of-type {\n",
       "        vertical-align: middle;\n",
       "    }\n",
       "\n",
       "    .dataframe tbody tr th {\n",
       "        vertical-align: top;\n",
       "    }\n",
       "\n",
       "    .dataframe thead th {\n",
       "        text-align: right;\n",
       "    }\n",
       "</style>\n",
       "<table border=\"1\" class=\"dataframe\">\n",
       "  <thead>\n",
       "    <tr style=\"text-align: right;\">\n",
       "      <th></th>\n",
       "      <th>Journey Time</th>\n",
       "      <th>Journey Time (s)</th>\n",
       "      <th>Day of Week</th>\n",
       "      <th>Time of Day</th>\n",
       "      <th>Pre Lockdown</th>\n",
       "      <th>Day of Week Encoded</th>\n",
       "      <th>Pre Lockdown Encoded</th>\n",
       "    </tr>\n",
       "  </thead>\n",
       "  <tbody>\n",
       "    <tr>\n",
       "      <td>414</td>\n",
       "      <td>00:06:04</td>\n",
       "      <td>364.0</td>\n",
       "      <td>Monday</td>\n",
       "      <td>3</td>\n",
       "      <td>False</td>\n",
       "      <td>1</td>\n",
       "      <td>0</td>\n",
       "    </tr>\n",
       "    <tr>\n",
       "      <td>419</td>\n",
       "      <td>00:03:44</td>\n",
       "      <td>224.0</td>\n",
       "      <td>Monday</td>\n",
       "      <td>3</td>\n",
       "      <td>False</td>\n",
       "      <td>1</td>\n",
       "      <td>0</td>\n",
       "    </tr>\n",
       "    <tr>\n",
       "      <td>483</td>\n",
       "      <td>00:04:41</td>\n",
       "      <td>281.0</td>\n",
       "      <td>Monday</td>\n",
       "      <td>6</td>\n",
       "      <td>False</td>\n",
       "      <td>1</td>\n",
       "      <td>0</td>\n",
       "    </tr>\n",
       "    <tr>\n",
       "      <td>480</td>\n",
       "      <td>00:06:10</td>\n",
       "      <td>370.0</td>\n",
       "      <td>Monday</td>\n",
       "      <td>6</td>\n",
       "      <td>False</td>\n",
       "      <td>1</td>\n",
       "      <td>0</td>\n",
       "    </tr>\n",
       "    <tr>\n",
       "      <td>607</td>\n",
       "      <td>00:07:44</td>\n",
       "      <td>464.0</td>\n",
       "      <td>Friday</td>\n",
       "      <td>5</td>\n",
       "      <td>False</td>\n",
       "      <td>0</td>\n",
       "      <td>0</td>\n",
       "    </tr>\n",
       "  </tbody>\n",
       "</table>\n",
       "</div>"
      ],
      "text/plain": [
       "    Journey Time  Journey Time (s) Day of Week  Time of Day  Pre Lockdown  \\\n",
       "414     00:06:04             364.0      Monday            3         False   \n",
       "419     00:03:44             224.0      Monday            3         False   \n",
       "483     00:04:41             281.0      Monday            6         False   \n",
       "480     00:06:10             370.0      Monday            6         False   \n",
       "607     00:07:44             464.0      Friday            5         False   \n",
       "\n",
       "     Day of Week Encoded  Pre Lockdown Encoded  \n",
       "414                    1                     0  \n",
       "419                    1                     0  \n",
       "483                    1                     0  \n",
       "480                    1                     0  \n",
       "607                    0                     0  "
      ]
     },
     "execution_count": 206,
     "metadata": {},
     "output_type": "execute_result"
    }
   ],
   "source": [
    "# partition data into 4 groups sorted by day of week\n",
    "df_day_of_week = df.sort_values(\"Day of Week\")\n",
    "group1 = df_day_of_week.iloc[:(int(df.shape[0] / 4))]\n",
    "group2 = df_day_of_week.iloc[(int(df.shape[0] / 4)):(int(2 * df.shape[0] / 4))]\n",
    "group3 = df_day_of_week.iloc[(int(2 * df.shape[0] / 4)):(int(3 * df.shape[0] / 4))]\n",
    "group4 = df_day_of_week.iloc[(int(3 * df.shape[0] / 4)):]\n",
    "\n",
    "# get a random sample of 80% from each group to ensure the train and test\n",
    "# have similar time of days\n",
    "training_day_of_week = group1.sample(frac = 0.8)\n",
    "training_day_of_week = training_day_of_week.append(group2.sample(frac = 0.8))\n",
    "training_day_of_week = training_day_of_week.append(group3.sample(frac = 0.8))\n",
    "training_day_of_week = training_day_of_week.append(group4.sample(frac = 0.8))\n",
    "\n",
    "# validation is all the remaining data that wasn't chosen for the training set\n",
    "validation_day_of_week = df[~df.apply(tuple,1).isin(training_day_of_week.apply(tuple,1))]\n",
    "print(training_day_of_week.shape, validation_day_of_week.shape)\n",
    "training_day_of_week.head()"
   ]
  },
  {
   "cell_type": "code",
   "execution_count": 208,
   "metadata": {},
   "outputs": [
    {
     "name": "stdout",
     "output_type": "stream",
     "text": [
      "Slope/Coefficients:  [0.80646711]\n",
      "Intercept:  284.483964732902\n",
      "The mean squared error is:  4858.246358383678\n",
      "The coefficient of determination is:  -0.015127046899852337\n"
     ]
    }
   ],
   "source": [
    "from sklearn.metrics import mean_squared_error, r2_score\n",
    "\n",
    "x_train_day_of_week = training_day_of_week[['Day of Week Encoded']]\n",
    "x_test_day_of_week = validation_day_of_week[['Day of Week Encoded']]\n",
    "y_train_day_of_week = training_day_of_week['Journey Time (s)']\n",
    "y_test_day_of_week = validation_day_of_week['Journey Time (s)']\n",
    "\n",
    "# Fit model\n",
    "linreg = LinearRegression()\n",
    "linreg.fit(x_train_day_of_week, y_train_day_of_week)\n",
    "\n",
    "# Apply the model to the validation data to predict the ‘Journey Time’\n",
    "y_pred_day_of_week = linreg.predict(x_test_day_of_week)\n",
    "\n",
    "# Calculate measures of success\n",
    "mse_day_of_week = mean_squared_error(y_test_day_of_week, y_pred_day_of_week)\n",
    "r2_score_day_of_week = r2_score(y_test_day_of_week, y_pred_day_of_week)\n",
    "\n",
    "print('Slope/Coefficients: ', linreg.coef_)\n",
    "print('Intercept: ', linreg.intercept_)\n",
    "print('The mean squared error is: ', mse_day_of_week)\n",
    "# coefficient of determination = 1 is perfect prediction\n",
    "print('The coefficient of determination is: ', r2_score_day_of_week)"
   ]
  },
  {
   "cell_type": "code",
   "execution_count": 209,
   "metadata": {},
   "outputs": [
    {
     "data": {
      "image/png": "[encoded data removed]",
      "text/plain": [
       "<Figure size 864x360 with 2 Axes>"
      ]
     },
     "metadata": {},
     "output_type": "display_data"
    }
   ],
   "source": [
    "# Plot outputs\n",
    "fig, ax = plt.subplots(figsize=(12,5), nrows = 1, ncols = 2)\n",
    "ax[0].scatter(x_test_day_of_week, y_test_day_of_week, label = \"Actual\")\n",
    "ax[0].plot(x_test_day_of_week, y_pred_day_of_week, label = \"Predicted\")\n",
    "ax[0].set_title(\"Linear Regression model based on day of week\")\n",
    "ax[0].set_xlabel(\"Time of Day\")\n",
    "ax[0].set_ylabel(\"Predicted journey time (s)\")\n",
    "ax[0].legend()\n",
    "ax[0].set_xticks([0, 1, 2, 3, 4, 5, 6])\n",
    "ax[0].set_xticklabels(days_of_week_label)\n",
    "\n",
    "ax[1].scatter(y_test_day_of_week, y_pred_day_of_week)\n",
    "ax[1].set_title(\"Predicted vs actual journey time\")\n",
    "ax[1].set_xlabel(\"Actual journey time (s)\")\n",
    "ax[1].set_ylabel(\"Predicted journey time (s)\")\n",
    "plt.show()"
   ]
  },
  {
   "cell_type": "markdown",
   "metadata": {},
   "source": [
    "CONCLUSIONS:\n",
    "We can see that a linear regression model does not fit well with these parameters. There is not enough of a difference in journey times over different days of the week"
   ]
  },
  {
   "cell_type": "markdown",
   "metadata": {},
   "source": [
    "## Multiple predictor variables == Multiple Linear Regression\n",
    "\n",
    "### Time of Day, Day of Week\n",
    "\n",
    "#### Splitting the data into training and test sets.\n",
    "\n",
    "Need to ensure that the train and test sets are similar."
   ]
  },
  {
   "cell_type": "code",
   "execution_count": 210,
   "metadata": {},
   "outputs": [
    {
     "name": "stdout",
     "output_type": "stream",
     "text": [
      "(656, 7) (154, 7)\n"
     ]
    },
    {
     "data": {
      "text/html": [
       "<div>\n",
       "<style scoped>\n",
       "    .dataframe tbody tr th:only-of-type {\n",
       "        vertical-align: middle;\n",
       "    }\n",
       "\n",
       "    .dataframe tbody tr th {\n",
       "        vertical-align: top;\n",
       "    }\n",
       "\n",
       "    .dataframe thead th {\n",
       "        text-align: right;\n",
       "    }\n",
       "</style>\n",
       "<table border=\"1\" class=\"dataframe\">\n",
       "  <thead>\n",
       "    <tr style=\"text-align: right;\">\n",
       "      <th></th>\n",
       "      <th>Journey Time</th>\n",
       "      <th>Journey Time (s)</th>\n",
       "      <th>Day of Week</th>\n",
       "      <th>Time of Day</th>\n",
       "      <th>Pre Lockdown</th>\n",
       "      <th>Day of Week Encoded</th>\n",
       "      <th>Pre Lockdown Encoded</th>\n",
       "    </tr>\n",
       "  </thead>\n",
       "  <tbody>\n",
       "    <tr>\n",
       "      <td>511</td>\n",
       "      <td>00:04:23</td>\n",
       "      <td>263.0</td>\n",
       "      <td>Tuesday</td>\n",
       "      <td>2</td>\n",
       "      <td>False</td>\n",
       "      <td>5</td>\n",
       "      <td>0</td>\n",
       "    </tr>\n",
       "    <tr>\n",
       "      <td>405</td>\n",
       "      <td>00:03:43</td>\n",
       "      <td>223.0</td>\n",
       "      <td>Monday</td>\n",
       "      <td>3</td>\n",
       "      <td>False</td>\n",
       "      <td>1</td>\n",
       "      <td>0</td>\n",
       "    </tr>\n",
       "    <tr>\n",
       "      <td>566</td>\n",
       "      <td>00:06:57</td>\n",
       "      <td>417.0</td>\n",
       "      <td>Friday</td>\n",
       "      <td>3</td>\n",
       "      <td>False</td>\n",
       "      <td>0</td>\n",
       "      <td>0</td>\n",
       "    </tr>\n",
       "    <tr>\n",
       "      <td>141</td>\n",
       "      <td>00:04:15</td>\n",
       "      <td>255.0</td>\n",
       "      <td>Thursday</td>\n",
       "      <td>2</td>\n",
       "      <td>False</td>\n",
       "      <td>4</td>\n",
       "      <td>0</td>\n",
       "    </tr>\n",
       "    <tr>\n",
       "      <td>643</td>\n",
       "      <td>00:04:14</td>\n",
       "      <td>254.0</td>\n",
       "      <td>Tuesday</td>\n",
       "      <td>2</td>\n",
       "      <td>False</td>\n",
       "      <td>5</td>\n",
       "      <td>0</td>\n",
       "    </tr>\n",
       "  </tbody>\n",
       "</table>\n",
       "</div>"
      ],
      "text/plain": [
       "    Journey Time  Journey Time (s) Day of Week  Time of Day  Pre Lockdown  \\\n",
       "511     00:04:23             263.0     Tuesday            2         False   \n",
       "405     00:03:43             223.0      Monday            3         False   \n",
       "566     00:06:57             417.0      Friday            3         False   \n",
       "141     00:04:15             255.0    Thursday            2         False   \n",
       "643     00:04:14             254.0     Tuesday            2         False   \n",
       "\n",
       "     Day of Week Encoded  Pre Lockdown Encoded  \n",
       "511                    5                     0  \n",
       "405                    1                     0  \n",
       "566                    0                     0  \n",
       "141                    4                     0  \n",
       "643                    5                     0  "
      ]
     },
     "execution_count": 210,
     "metadata": {},
     "output_type": "execute_result"
    }
   ],
   "source": [
    "# partition data into 4 groups\n",
    "df_mult = df.sort_values([\"Time of Day\", \"Day of Week\"])\n",
    "group1 = df_mult.iloc[:(int(df.shape[0] / 4))]\n",
    "group2 = df_mult.iloc[(int(df.shape[0] / 4)):(int(2 * df.shape[0] / 4))]\n",
    "group3 = df_mult.iloc[(int(2 * df.shape[0] / 4)):(int(3 * df.shape[0] / 4))]\n",
    "group4 = df_mult.iloc[(int(3 * df.shape[0] / 4)):]\n",
    "\n",
    "# get a random sample of 80% from each group to ensure the train and test\n",
    "# have similar time of days\n",
    "training_mult = group1.sample(frac = 0.8)\n",
    "training_mult = training_mult.append(group2.sample(frac = 0.8))\n",
    "training_mult = training_mult.append(group3.sample(frac = 0.8))\n",
    "training_mult = training_mult.append(group4.sample(frac = 0.8))\n",
    "\n",
    "# validation is all the remaining data that wasn't chosen for the training set\n",
    "validation_mult = df[~df.apply(tuple,1).isin(training_mult.apply(tuple,1))]\n",
    "print(training_mult.shape, validation_mult.shape)\n",
    "training_mult.head()"
   ]
  },
  {
   "cell_type": "code",
   "execution_count": 211,
   "metadata": {},
   "outputs": [
    {
     "name": "stdout",
     "output_type": "stream",
     "text": [
      "Slope/Coefficients:  [0.7924464  0.45575165]\n",
      "Intercept:  287.592987804878\n",
      "The mean squared error is:  6077.90159449855\n",
      "The coefficient of determination is:  -0.019924412064264097\n"
     ]
    }
   ],
   "source": [
    "from sklearn.metrics import mean_squared_error, r2_score\n",
    "\n",
    "x_train_mult = training_mult[['Day of Week Encoded', 'Time of Day']]\n",
    "x_test_mult = validation_mult[['Day of Week Encoded', 'Time of Day']]\n",
    "y_train_mult = training_mult['Journey Time (s)']\n",
    "y_test_mult = validation_mult['Journey Time (s)']\n",
    "\n",
    "# Scale the data\n",
    "scaler = preprocessing.StandardScaler()\n",
    "scaler = scaler.fit(x_train_mult)\n",
    "x_scaled = scaler.transform(x_train_mult)\n",
    "x_test_scaled = scaler.transform(x_test_mult)\n",
    "\n",
    "# Fit model\n",
    "linreg = LinearRegression()\n",
    "linreg.fit(x_scaled, y_train_mult)\n",
    "\n",
    "# Apply the model to the validation data to predict the ‘Journey Time’\n",
    "y_pred_mult = linreg.predict(x_test_scaled)\n",
    "\n",
    "# Calculate measures of success\n",
    "mse_mult = mean_squared_error(y_test_mult, y_pred_mult)\n",
    "r2_score_mult = r2_score(y_test_mult, y_pred_mult)\n",
    "\n",
    "print('Slope/Coefficients: ', linreg.coef_)\n",
    "print('Intercept: ', linreg.intercept_)\n",
    "print('The mean squared error is: ', mse_mult)\n",
    "# coefficient of determination = 1 is perfect prediction\n",
    "print('The coefficient of determination is: ', r2_score_mult)"
   ]
  },
  {
   "cell_type": "code",
   "execution_count": 212,
   "metadata": {},
   "outputs": [
    {
     "data": {
      "image/png": "[encoded data removed]",
      "text/plain": [
       "<Figure size 720x360 with 1 Axes>"
      ]
     },
     "metadata": {},
     "output_type": "display_data"
    }
   ],
   "source": [
    "# Plot outputs\n",
    "fig, ax = plt.subplots(figsize=(10,5))\n",
    "ax.scatter(y_test_mult, y_pred_mult)\n",
    "ax.set_title(\"Predicted vs actual journey time\")\n",
    "ax.set_xlabel(\"Actual journey time (s)\")\n",
    "ax.set_ylabel(\"Predicted journey time (s)\")\n",
    "plt.show()"
   ]
  },
  {
   "cell_type": "markdown",
   "metadata": {},
   "source": [
    "### Time of Day, Day of Week, Pre/Post Lockdown\n",
    "\n",
    "#### Splitting the data into training and test sets.\n",
    "\n",
    "Need to ensure that the train and test sets are similar."
   ]
  },
  {
   "cell_type": "code",
   "execution_count": 213,
   "metadata": {},
   "outputs": [
    {
     "name": "stdout",
     "output_type": "stream",
     "text": [
      "(656, 7) (143, 7)\n"
     ]
    },
    {
     "data": {
      "text/html": [
       "<div>\n",
       "<style scoped>\n",
       "    .dataframe tbody tr th:only-of-type {\n",
       "        vertical-align: middle;\n",
       "    }\n",
       "\n",
       "    .dataframe tbody tr th {\n",
       "        vertical-align: top;\n",
       "    }\n",
       "\n",
       "    .dataframe thead th {\n",
       "        text-align: right;\n",
       "    }\n",
       "</style>\n",
       "<table border=\"1\" class=\"dataframe\">\n",
       "  <thead>\n",
       "    <tr style=\"text-align: right;\">\n",
       "      <th></th>\n",
       "      <th>Journey Time</th>\n",
       "      <th>Journey Time (s)</th>\n",
       "      <th>Day of Week</th>\n",
       "      <th>Time of Day</th>\n",
       "      <th>Pre Lockdown</th>\n",
       "      <th>Day of Week Encoded</th>\n",
       "      <th>Pre Lockdown Encoded</th>\n",
       "    </tr>\n",
       "  </thead>\n",
       "  <tbody>\n",
       "    <tr>\n",
       "      <td>393</td>\n",
       "      <td>00:04:38</td>\n",
       "      <td>278.0</td>\n",
       "      <td>Monday</td>\n",
       "      <td>2</td>\n",
       "      <td>False</td>\n",
       "      <td>1</td>\n",
       "      <td>0</td>\n",
       "    </tr>\n",
       "    <tr>\n",
       "      <td>148</td>\n",
       "      <td>00:03:29</td>\n",
       "      <td>209.0</td>\n",
       "      <td>Tuesday</td>\n",
       "      <td>2</td>\n",
       "      <td>False</td>\n",
       "      <td>5</td>\n",
       "      <td>0</td>\n",
       "    </tr>\n",
       "    <tr>\n",
       "      <td>17</td>\n",
       "      <td>00:04:02</td>\n",
       "      <td>242.0</td>\n",
       "      <td>Monday</td>\n",
       "      <td>2</td>\n",
       "      <td>False</td>\n",
       "      <td>1</td>\n",
       "      <td>0</td>\n",
       "    </tr>\n",
       "    <tr>\n",
       "      <td>727</td>\n",
       "      <td>00:01:14</td>\n",
       "      <td>74.0</td>\n",
       "      <td>Wednesday</td>\n",
       "      <td>2</td>\n",
       "      <td>False</td>\n",
       "      <td>6</td>\n",
       "      <td>0</td>\n",
       "    </tr>\n",
       "    <tr>\n",
       "      <td>642</td>\n",
       "      <td>00:05:07</td>\n",
       "      <td>307.0</td>\n",
       "      <td>Tuesday</td>\n",
       "      <td>2</td>\n",
       "      <td>False</td>\n",
       "      <td>5</td>\n",
       "      <td>0</td>\n",
       "    </tr>\n",
       "  </tbody>\n",
       "</table>\n",
       "</div>"
      ],
      "text/plain": [
       "    Journey Time  Journey Time (s) Day of Week  Time of Day  Pre Lockdown  \\\n",
       "393     00:04:38             278.0      Monday            2         False   \n",
       "148     00:03:29             209.0     Tuesday            2         False   \n",
       "17      00:04:02             242.0      Monday            2         False   \n",
       "727     00:01:14              74.0   Wednesday            2         False   \n",
       "642     00:05:07             307.0     Tuesday            2         False   \n",
       "\n",
       "     Day of Week Encoded  Pre Lockdown Encoded  \n",
       "393                    1                     0  \n",
       "148                    5                     0  \n",
       "17                     1                     0  \n",
       "727                    6                     0  \n",
       "642                    5                     0  "
      ]
     },
     "execution_count": 213,
     "metadata": {},
     "output_type": "execute_result"
    }
   ],
   "source": [
    "# partition data into 4 groups\n",
    "df_mult = df.sort_values([\"Pre Lockdown\", \"Time of Day\", \"Day of Week\"])\n",
    "group1 = df_mult.iloc[:(int(df.shape[0] / 4))]\n",
    "group2 = df_mult.iloc[(int(df.shape[0] / 4)):(int(2 * df.shape[0] / 4))]\n",
    "group3 = df_mult.iloc[(int(2 * df.shape[0] / 4)):(int(3 * df.shape[0] / 4))]\n",
    "group4 = df_mult.iloc[(int(3 * df.shape[0] / 4)):]\n",
    "\n",
    "# get a random sample of 80% from each group to ensure the train and test\n",
    "# have similar time of days\n",
    "training_mult = group1.sample(frac = 0.8)\n",
    "training_mult = training_mult.append(group2.sample(frac = 0.8))\n",
    "training_mult = training_mult.append(group3.sample(frac = 0.8))\n",
    "training_mult = training_mult.append(group4.sample(frac = 0.8))\n",
    "\n",
    "# validation is all the remaining data that wasn't chosen for the training set\n",
    "validation_mult = df[~df.apply(tuple,1).isin(training_mult.apply(tuple,1))]\n",
    "print(training_mult.shape, validation_mult.shape)\n",
    "training_mult.head()"
   ]
  },
  {
   "cell_type": "code",
   "execution_count": 214,
   "metadata": {},
   "outputs": [
    {
     "name": "stdout",
     "output_type": "stream",
     "text": [
      "Slope/Coefficients:  [-2.14128795  0.16327158 22.81424645]\n",
      "Intercept:  283.2545731707317\n",
      "The mean squared error is:  6337.339667310188\n",
      "The coefficient of determination is:  -0.003805539918727341\n"
     ]
    }
   ],
   "source": [
    "from sklearn.metrics import mean_squared_error, r2_score\n",
    "\n",
    "x_train_mult = training_mult[['Day of Week Encoded', 'Time of Day', 'Pre Lockdown Encoded']]\n",
    "x_test_mult = validation_mult[['Day of Week Encoded', 'Time of Day', 'Pre Lockdown Encoded']]\n",
    "y_train_mult = training_mult['Journey Time (s)']\n",
    "y_test_mult = validation_mult['Journey Time (s)']\n",
    "\n",
    "# Scale the data\n",
    "scaler = preprocessing.StandardScaler()\n",
    "scaler = scaler.fit(x_train_mult)\n",
    "x_scaled = scaler.transform(x_train_mult)\n",
    "x_test_scaled = scaler.transform(x_test_mult)\n",
    "\n",
    "# Fit model\n",
    "linreg = LinearRegression()\n",
    "linreg.fit(x_scaled, y_train_mult)\n",
    "\n",
    "# Apply the model to the validation data to predict the ‘Journey Time’\n",
    "y_pred_mult = linreg.predict(x_test_scaled)\n",
    "\n",
    "# Calculate measures of success\n",
    "mse_mult = mean_squared_error(y_test_mult, y_pred_mult)\n",
    "r2_score_mult = r2_score(y_test_mult, y_pred_mult)\n",
    "\n",
    "print('Slope/Coefficients: ', linreg.coef_)\n",
    "print('Intercept: ', linreg.intercept_)\n",
    "print('The mean squared error is: ', mse_mult)\n",
    "# coefficient of determination = 1 is perfect prediction\n",
    "print('The coefficient of determination is: ', r2_score_mult)"
   ]
  },
  {
   "cell_type": "code",
   "execution_count": 215,
   "metadata": {},
   "outputs": [
    {
     "data": {
      "image/png": "[encoded data removed]",
      "text/plain": [
       "<Figure size 720x360 with 1 Axes>"
      ]
     },
     "metadata": {},
     "output_type": "display_data"
    }
   ],
   "source": [
    "# Plot outputs\n",
    "fig, ax = plt.subplots(figsize=(10,5))\n",
    "ax.scatter(y_test_mult, y_pred_mult)\n",
    "ax.set_title(\"Predicted vs actual journey time\")\n",
    "ax.set_xlabel(\"Actual journey time (s)\")\n",
    "ax.set_ylabel(\"Predicted journey time (s)\")\n",
    "plt.show()"
   ]
  },
  {
   "cell_type": "markdown",
   "metadata": {},
   "source": [
    "## Piecewise linear regression\n",
    "\n",
    "Split the data into chunks and perform the linear regression separately on the different chunks.\n",
    "\n",
    "Continuous piecewise linear regression -> can stick it together after"
   ]
  },
  {
   "cell_type": "code",
   "execution_count": null,
   "metadata": {},
   "outputs": [],
   "source": []
  }
 ],
 "metadata": {
  "kernelspec": {
   "display_name": "Python 3",
   "language": "python",
   "name": "python3"
  },
  "language_info": {
   "codemirror_mode": {
    "name": "ipython",
    "version": 3
   },
   "file_extension": ".py",
   "mimetype": "text/x-python",
   "name": "python",
   "nbconvert_exporter": "python",
   "pygments_lexer": "ipython3",
   "version": "3.7.4"
  }
 },
 "nbformat": 4,
 "nbformat_minor": 2
}
