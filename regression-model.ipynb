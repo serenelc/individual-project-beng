{
 "cells": [
  {
   "cell_type": "code",
   "execution_count": 7,
   "metadata": {},
   "outputs": [],
   "source": [
    "import pandas as pd\n",
    "import datetime as dt\n",
    "import numpy as np\n",
    "import time\n",
    "import calendar\n",
    "import urllib\n",
    "import matplotlib\n",
    "import matplotlib.pyplot as plt\n",
    "import seaborn as sns\n",
    "import collections\n",
    "import psycopg2\n",
    "import sklearn\n",
    "import sklearn.ensemble as ens\n",
    "from sklearn import preprocessing, metrics, cluster\n",
    "from scipy import stats\n",
    "from matplotlib.dates import DateFormatter\n",
    "from pandas.plotting import register_matplotlib_converters\n",
    "\n",
    "sns.set()\n",
    "colours = sns.color_palette(\"husl\", 8)\n",
    "sns.set_palette(sns.color_palette(colours))\n",
    "register_matplotlib_converters()"
   ]
  },
  {
   "cell_type": "markdown",
   "metadata": {},
   "source": [
    "# Load Data"
   ]
  },
  {
   "cell_type": "code",
   "execution_count": 8,
   "metadata": {},
   "outputs": [],
   "source": [
    "data = {}\n",
    "routes = [\"452\", \"9\", \"52\", \"267\", \"277\", \"7\", \"14\", \"35\", \"37\", \"69\", \"328\", \"6\"]\n",
    "\n",
    "b_452 = pd.read_csv(\"data/452 07-04-20.csv\")\n",
    "b_52 = pd.read_csv(\"data/52 07-04-20.csv\")\n",
    "b_7 = pd.read_csv(\"data/7 07-04-20.csv\")\n",
    "b_14 = pd.read_csv(\"data/14 07-04-20.csv\")\n",
    "b_9 = pd.read_csv(\"data/9 07-04-20.csv\")\n",
    "b_328 = pd.read_csv(\"data/328 07-04-20.csv\")\n",
    "b_69 = pd.read_csv(\"data/69 07-04-20.csv\")\n",
    "b_35 = pd.read_csv(\"data/35 07-04-20.csv\")\n",
    "b_37 = pd.read_csv(\"data/37 07-04-20.csv\")\n",
    "b_267 = pd.read_csv(\"data/267 07-04-20.csv\")\n",
    "b_277 = pd.read_csv(\"data/277 07-04-20.csv\")\n",
    "b_6 = pd.read_csv(\"data/6 07-04-20.csv\")\n",
    "\n",
    "data[\"452\"] = b_452\n",
    "data[\"52\"] = b_52\n",
    "data[\"7\"] = b_7\n",
    "data[\"9\"] = b_9\n",
    "data[\"14\"] = b_14\n",
    "data[\"328\"] = b_328\n",
    "data[\"267\"] = b_267\n",
    "data[\"277\"] = b_277\n",
    "data[\"35\"] = b_35\n",
    "data[\"37\"] = b_37\n",
    "data[\"69\"] = b_69\n",
    "data[\"6\"] = b_6\n",
    "\n",
    "# need to swap the inbound and outbound labels for data before 12/05/20 because \n",
    "# I noted them down wrong from the data collection stage\n",
    "def init_explore(df, route):\n",
    "    print(\"BUS ROUTE: \", route)\n",
    "    print(\"Shape: \", df.shape)\n",
    "    df = df.drop(columns = \"arrived\")\n",
    "    \n",
    "    df.loc[df['direction'] == 'out', 'direction'] = 'inbound'\n",
    "    df.loc[df['direction'] == 'in', 'direction'] = 'outbound'\n",
    "    df = df[[\"bus_stop_name\", \"expected_arrival\", \"vehicle_id\", \"time_of_req\", \"direction\"]]\n",
    "    return df"
   ]
  },
  {
   "cell_type": "code",
   "execution_count": 9,
   "metadata": {},
   "outputs": [],
   "source": [
    "def add_extra_data(route):\n",
    "    if route != \"6\":\n",
    "        more = pd.read_csv(\"data/\" + route + \" 22-04-20.csv\")\n",
    "        more.loc[more['arrived'] == 1, 'arrived'] = True\n",
    "        more = more[[\"arrived\", \"bus_stop_name\", \"expected_arrival\", \"vehicle_id\", \"time_of_req\", \"direction\"]]\n",
    "        data[route] = data[route].append(more, ignore_index = True)\n",
    "    \n",
    "    more = pd.read_csv(\"data/\" + route + \" 12-05-20.csv\")\n",
    "    more.loc[more['arrived'] == 1, 'arrived'] = True\n",
    "    more = more[[\"arrived\", \"bus_stop_name\", \"expected_arrival\", \"vehicle_id\", \"time_of_req\", \"direction\"]]\n",
    "    data[route] = data[route].append(more, ignore_index = True)"
   ]
  },
  {
   "cell_type": "code",
   "execution_count": 10,
   "metadata": {},
   "outputs": [],
   "source": [
    "for route in routes:\n",
    "    add_extra_data(route)"
   ]
  },
  {
   "cell_type": "code",
   "execution_count": 11,
   "metadata": {},
   "outputs": [
    {
     "name": "stdout",
     "output_type": "stream",
     "text": [
      "BUS ROUTE:  452\n",
      "Shape:  (56938, 6)\n",
      "BUS ROUTE:  9\n",
      "Shape:  (49935, 6)\n",
      "BUS ROUTE:  52\n",
      "Shape:  (92505, 6)\n",
      "BUS ROUTE:  267\n",
      "Shape:  (50939, 6)\n",
      "BUS ROUTE:  277\n",
      "Shape:  (71103, 6)\n",
      "BUS ROUTE:  7\n",
      "Shape:  (43271, 6)\n",
      "BUS ROUTE:  14\n",
      "Shape:  (80413, 6)\n",
      "BUS ROUTE:  35\n",
      "Shape:  (50120, 6)\n",
      "BUS ROUTE:  37\n",
      "Shape:  (78808, 6)\n",
      "BUS ROUTE:  69\n",
      "Shape:  (53844, 6)\n",
      "BUS ROUTE:  328\n",
      "Shape:  (41514, 6)\n",
      "BUS ROUTE:  6\n",
      "Shape:  (84330, 6)\n"
     ]
    }
   ],
   "source": [
    "for route in routes:\n",
    "    data[route] = init_explore(data[route], route)"
   ]
  },
  {
   "cell_type": "code",
   "execution_count": 12,
   "metadata": {
    "scrolled": true
   },
   "outputs": [
    {
     "name": "stdout",
     "output_type": "stream",
     "text": [
      "Making API call to get all stops on route  452\n",
      "Making API call to get all stops on route  452\n",
      "Making API call to get all stops on route  9\n",
      "Making API call to get all stops on route  9\n",
      "Making API call to get all stops on route  52\n",
      "Making API call to get all stops on route  52\n",
      "Making API call to get all stops on route  267\n",
      "Making API call to get all stops on route  267\n",
      "Making API call to get all stops on route  277\n",
      "Making API call to get all stops on route  277\n",
      "Making API call to get all stops on route  7\n",
      "Making API call to get all stops on route  7\n",
      "Making API call to get all stops on route  14\n",
      "Making API call to get all stops on route  14\n",
      "Making API call to get all stops on route  35\n",
      "Making API call to get all stops on route  35\n",
      "Making API call to get all stops on route  37\n",
      "Making API call to get all stops on route  37\n",
      "Making API call to get all stops on route  69\n",
      "Making API call to get all stops on route  69\n",
      "Making API call to get all stops on route  328\n",
      "Making API call to get all stops on route  328\n",
      "Making API call to get all stops on route  6\n",
      "Making API call to get all stops on route  6\n",
      "['Pound Lane / Willesden Bus Garage', 'Willesden Bus Garage', 'Villiers Road', 'Willesden Green Library', 'Hanover Road', 'All Souls Avenue', 'Okehampton Road', 'Whitmore Gardens', 'Kensal Rise Station', 'Station Terrace', 'Banister Road', 'Harrow Road / Kilburn Lane', \"Ladbroke Grove Sainsbury's\", 'Kensal House', 'Barlby Road', 'St Charles Square', 'Chesterton Road', 'Ladbroke Grove Station', 'Elgin Crescent', 'Portobello and Golborne Market', 'Chepstow Villas', 'Notting Hill Gate Station', 'Palace Gardens Terr / Notting Hill Gte', 'Sheffield Terrace', 'York House Place / Kensington High St', 'Kensington Palace', 'Palace Gate', \"Queen's Gate\", 'Royal Albert Hall', 'Prince Of Wales Gate', 'Rutland Gardens', 'Knightsbridge Station  / Harrods', 'Hyde Park Corner Station', 'Hyde Park Corner', 'Wilton Street', 'Buckingham Palace Rd / Bressenden Place', 'Victoria Bus Station']\n"
     ]
    }
   ],
   "source": [
    "import json\n",
    "\n",
    "stops_in_sequence_inbound = {}\n",
    "stops_in_sequence_outbound = {}\n",
    "\n",
    "for r in routes:\n",
    "    with urllib.request.urlopen(\"https://api.tfl.gov.uk/Line/\" + r + \"/Route/Sequence/inbound\") as api:\n",
    "        print(\"Making API call to get all stops on route \", r)\n",
    "        json_data = json.loads(api.read().decode())\n",
    "        seq = json_data.get(\"stopPointSequences\")\n",
    "        stops = []\n",
    "        for s in seq:\n",
    "            for stop in s.get(\"stopPoint\"):\n",
    "                name = stop.get(\"name\")\n",
    "                stops.append(name)\n",
    "        stops_in_sequence_inbound[r] = stops\n",
    "        \n",
    "    with urllib.request.urlopen(\"https://api.tfl.gov.uk/Line/\" + r + \"/Route/Sequence/outbound\") as api:\n",
    "        print(\"Making API call to get all stops on route \", r)\n",
    "        json_data = json.loads(api.read().decode())\n",
    "        seq = json_data.get(\"stopPointSequences\")\n",
    "        stops = []\n",
    "        for s in seq:\n",
    "            for stop in s.get(\"stopPoint\"):\n",
    "                name = stop.get(\"name\")\n",
    "                stops.append(name)\n",
    "        stops_in_sequence_outbound[r] = stops\n",
    "        \n",
    "print(stops_in_sequence_inbound.get(\"52\"))"
   ]
  },
  {
   "cell_type": "markdown",
   "metadata": {},
   "source": [
    "## Helper Functions"
   ]
  },
  {
   "cell_type": "code",
   "execution_count": 14,
   "metadata": {},
   "outputs": [],
   "source": [
    "def convert_time_to_datetime(given_time):\n",
    "    year = int(given_time[:4])\n",
    "    month = int(given_time[5:7])\n",
    "    day = int(given_time[8:10])\n",
    "    hour = int(given_time[11:13])\n",
    "    minute = int(given_time[14:16])\n",
    "    second = int(given_time[17:19])\n",
    "\n",
    "    date_time = dt.datetime(year, month, day, hour, minute, second)\n",
    "    return date_time"
   ]
  },
  {
   "cell_type": "code",
   "execution_count": 27,
   "metadata": {},
   "outputs": [],
   "source": [
    "def get_time_of_day_group(given_time):\n",
    "    hour = int(given_time[11:13])\n",
    "    if (hour < 3) & (hour >= 0):\n",
    "        return 0\n",
    "    elif (hour < 6) & (hour >= 3):\n",
    "        return 1\n",
    "    elif (hour < 9) & (hour >= 6):\n",
    "        return 2\n",
    "    elif (hour < 12) & (hour >= 9):\n",
    "        return 3\n",
    "    elif (hour < 15) & (hour >= 12):\n",
    "        return 4\n",
    "    elif (hour < 18) & (hour >= 15):\n",
    "        return 5\n",
    "    elif (hour < 21) & (hour >= 18):\n",
    "        return 6\n",
    "    elif hour >= 21:\n",
    "        return 7\n",
    "    \n",
    "colour_to_time_label = [\"00-03\", \"03-06\", \"06-09\", \"09-12\", \"12-15\", \"15-18\", \"18-21\", \"21-00\"]\n",
    "cs = [colours[i] for i in range(len(colours))]"
   ]
  },
  {
   "cell_type": "markdown",
   "metadata": {},
   "source": [
    "# Linear Regression Model"
   ]
  },
  {
   "cell_type": "markdown",
   "metadata": {},
   "source": [
    "Pick 2 stops on a route. Calculate all the journey times between them. Make a dataset with attributes time of day (choosing the time slot when the bus left if the bus straddles 2 time slots), journey time, day of week.\n",
    "\n",
    "Choose \"North End Road\" to \"Phillimore Gardens\" on route 9 inbound"
   ]
  },
  {
   "cell_type": "code",
   "execution_count": 90,
   "metadata": {},
   "outputs": [
    {
     "name": "stdout",
     "output_type": "stream",
     "text": [
      "(882, 5)\n",
      "(902, 5)\n"
     ]
    },
    {
     "data": {
      "text/html": [
       "<div>\n",
       "<style scoped>\n",
       "    .dataframe tbody tr th:only-of-type {\n",
       "        vertical-align: middle;\n",
       "    }\n",
       "\n",
       "    .dataframe tbody tr th {\n",
       "        vertical-align: top;\n",
       "    }\n",
       "\n",
       "    .dataframe thead th {\n",
       "        text-align: right;\n",
       "    }\n",
       "</style>\n",
       "<table border=\"1\" class=\"dataframe\">\n",
       "  <thead>\n",
       "    <tr style=\"text-align: right;\">\n",
       "      <th></th>\n",
       "      <th>bus_stop_name</th>\n",
       "      <th>expected_arrival</th>\n",
       "      <th>vehicle_id</th>\n",
       "      <th>time_of_req</th>\n",
       "      <th>direction</th>\n",
       "    </tr>\n",
       "  </thead>\n",
       "  <tbody>\n",
       "    <tr>\n",
       "      <td>6</td>\n",
       "      <td>North End Road</td>\n",
       "      <td>2020-04-02 11:42:14</td>\n",
       "      <td>15455_490010357F_2020-04-02_out_4</td>\n",
       "      <td>2020-04-02 11:12:42</td>\n",
       "      <td>inbound</td>\n",
       "    </tr>\n",
       "    <tr>\n",
       "      <td>143</td>\n",
       "      <td>North End Road</td>\n",
       "      <td>2020-03-19 10:39:04</td>\n",
       "      <td>15458_490010357F_2020-03-19_out_0</td>\n",
       "      <td>2020-03-19 10:23:21</td>\n",
       "      <td>inbound</td>\n",
       "    </tr>\n",
       "    <tr>\n",
       "      <td>147</td>\n",
       "      <td>North End Road</td>\n",
       "      <td>2020-03-31 07:33:30</td>\n",
       "      <td>14462_490010357F_2020-03-31_out_0</td>\n",
       "      <td>2020-03-31 07:33:39</td>\n",
       "      <td>inbound</td>\n",
       "    </tr>\n",
       "    <tr>\n",
       "      <td>231</td>\n",
       "      <td>North End Road</td>\n",
       "      <td>2020-04-01 10:46:17</td>\n",
       "      <td>14468_490010357F_2020-04-01_out_0</td>\n",
       "      <td>2020-04-01 10:45:08</td>\n",
       "      <td>inbound</td>\n",
       "    </tr>\n",
       "    <tr>\n",
       "      <td>239</td>\n",
       "      <td>North End Road</td>\n",
       "      <td>2020-04-02 10:17:16</td>\n",
       "      <td>14558_490010357F_2020-04-02_out_4</td>\n",
       "      <td>2020-04-02 09:50:43</td>\n",
       "      <td>inbound</td>\n",
       "    </tr>\n",
       "  </tbody>\n",
       "</table>\n",
       "</div>"
      ],
      "text/plain": [
       "      bus_stop_name     expected_arrival                         vehicle_id  \\\n",
       "6    North End Road  2020-04-02 11:42:14  15455_490010357F_2020-04-02_out_4   \n",
       "143  North End Road  2020-03-19 10:39:04  15458_490010357F_2020-03-19_out_0   \n",
       "147  North End Road  2020-03-31 07:33:30  14462_490010357F_2020-03-31_out_0   \n",
       "231  North End Road  2020-04-01 10:46:17  14468_490010357F_2020-04-01_out_0   \n",
       "239  North End Road  2020-04-02 10:17:16  14558_490010357F_2020-04-02_out_4   \n",
       "\n",
       "             time_of_req direction  \n",
       "6    2020-04-02 11:12:42   inbound  \n",
       "143  2020-03-19 10:23:21   inbound  \n",
       "147  2020-03-31 07:33:39   inbound  \n",
       "231  2020-04-01 10:45:08   inbound  \n",
       "239  2020-04-02 09:50:43   inbound  "
      ]
     },
     "execution_count": 90,
     "metadata": {},
     "output_type": "execute_result"
    }
   ],
   "source": [
    "from sklearn.metrics import mean_squared_error, r2_score\n",
    "from sklearn.linear_model import LinearRegression\n",
    "from sklearn import preprocessing\n",
    "\n",
    "b_9 = data.get(\"9\")\n",
    "north_end_rd = b_9.loc[(b_9['bus_stop_name'] == 'North End Road') & (b_9['direction'] == 'inbound')]\n",
    "phillimore_g = b_9.loc[(b_9['bus_stop_name'] == 'Phillimore Gardens') & (b_9['direction'] == 'inbound')]\n",
    "[_, north_end_rd_id, _, _, _] = north_end_rd.iloc[0]['vehicle_id'].split('_')\n",
    "[_, phillimore_id, _, _, _] = phillimore_g.iloc[0]['vehicle_id'].split('_')\n",
    "\n",
    "print(north_end_rd.shape)\n",
    "print(phillimore_g.shape)\n",
    "\n",
    "north_end_rd.head()"
   ]
  },
  {
   "cell_type": "code",
   "execution_count": 58,
   "metadata": {},
   "outputs": [
    {
     "name": "stdout",
     "output_type": "stream",
     "text": [
      "Getting journey times took 66.70650291442871\n"
     ]
    }
   ],
   "source": [
    "start = time.time()\n",
    "attrs = []\n",
    "\n",
    "for i, journey in phillimore_g.iterrows():\n",
    "    arr_dt = convert_time_to_datetime(journey['expected_arrival'])\n",
    "\n",
    "    [bus_id, phillimore_id, date, direction, _] = journey['vehicle_id'].split('_')\n",
    "    to_match_id = bus_id + '_' + north_end_rd_id + '_' + date + '_' + direction + '_'\n",
    "\n",
    "    for j, match in north_end_rd.iterrows():\n",
    "        if match['vehicle_id'].startswith(to_match_id):\n",
    "            leave_dt = convert_time_to_datetime(match['expected_arrival'])\n",
    "            journey_time = arr_dt - leave_dt\n",
    "\n",
    "            if (journey_time > dt.timedelta(minutes = 0)) & (journey_time < dt.timedelta(minutes = 50)):\n",
    "                item = []\n",
    "                item.append(journey_time)\n",
    "                \n",
    "                seconds = journey_time.total_seconds()\n",
    "                item.append(seconds)\n",
    "                \n",
    "                d = dt.datetime.strptime(match['expected_arrival'][:10], '%Y-%m-%d')\n",
    "                d = calendar.day_name[d.weekday()]\n",
    "                item.append(d)\n",
    "                \n",
    "                t = get_time_of_day_group(journey['expected_arrival'])\n",
    "                item.append(t)\n",
    "                \n",
    "                attrs.append(item)\n",
    "                break\n",
    "\n",
    "print(\"Getting journey times took {}\".format(time.time() - start))"
   ]
  },
  {
   "cell_type": "code",
   "execution_count": 59,
   "metadata": {},
   "outputs": [
    {
     "data": {
      "text/html": [
       "<div>\n",
       "<style scoped>\n",
       "    .dataframe tbody tr th:only-of-type {\n",
       "        vertical-align: middle;\n",
       "    }\n",
       "\n",
       "    .dataframe tbody tr th {\n",
       "        vertical-align: top;\n",
       "    }\n",
       "\n",
       "    .dataframe thead th {\n",
       "        text-align: right;\n",
       "    }\n",
       "</style>\n",
       "<table border=\"1\" class=\"dataframe\">\n",
       "  <thead>\n",
       "    <tr style=\"text-align: right;\">\n",
       "      <th></th>\n",
       "      <th>Journey Time</th>\n",
       "      <th>Journey Time (s)</th>\n",
       "      <th>Day of Week</th>\n",
       "      <th>Time of Day</th>\n",
       "    </tr>\n",
       "  </thead>\n",
       "  <tbody>\n",
       "    <tr>\n",
       "      <td>0</td>\n",
       "      <td>00:03:49</td>\n",
       "      <td>229.0</td>\n",
       "      <td>Monday</td>\n",
       "      <td>1</td>\n",
       "    </tr>\n",
       "    <tr>\n",
       "      <td>1</td>\n",
       "      <td>00:03:30</td>\n",
       "      <td>210.0</td>\n",
       "      <td>Tuesday</td>\n",
       "      <td>2</td>\n",
       "    </tr>\n",
       "    <tr>\n",
       "      <td>2</td>\n",
       "      <td>00:04:04</td>\n",
       "      <td>244.0</td>\n",
       "      <td>Tuesday</td>\n",
       "      <td>2</td>\n",
       "    </tr>\n",
       "    <tr>\n",
       "      <td>3</td>\n",
       "      <td>00:04:41</td>\n",
       "      <td>281.0</td>\n",
       "      <td>Sunday</td>\n",
       "      <td>3</td>\n",
       "    </tr>\n",
       "    <tr>\n",
       "      <td>4</td>\n",
       "      <td>00:04:17</td>\n",
       "      <td>257.0</td>\n",
       "      <td>Friday</td>\n",
       "      <td>3</td>\n",
       "    </tr>\n",
       "  </tbody>\n",
       "</table>\n",
       "</div>"
      ],
      "text/plain": [
       "  Journey Time  Journey Time (s) Day of Week  Time of Day\n",
       "0     00:03:49             229.0      Monday            1\n",
       "1     00:03:30             210.0     Tuesday            2\n",
       "2     00:04:04             244.0     Tuesday            2\n",
       "3     00:04:41             281.0      Sunday            3\n",
       "4     00:04:17             257.0      Friday            3"
      ]
     },
     "execution_count": 59,
     "metadata": {},
     "output_type": "execute_result"
    }
   ],
   "source": [
    "df = pd.DataFrame(attrs, columns = ['Journey Time', 'Journey Time (s)', 'Day of Week', 'Time of Day'])\n",
    "df.head()"
   ]
  },
  {
   "cell_type": "markdown",
   "metadata": {},
   "source": [
    "### Splitting the data into training and test sets.\n",
    "\n",
    "Need to ensure that the train and test sets are similar."
   ]
  },
  {
   "cell_type": "code",
   "execution_count": 60,
   "metadata": {},
   "outputs": [
    {
     "name": "stdout",
     "output_type": "stream",
     "text": [
      "(664, 4) (149, 4)\n"
     ]
    },
    {
     "data": {
      "text/html": [
       "<div>\n",
       "<style scoped>\n",
       "    .dataframe tbody tr th:only-of-type {\n",
       "        vertical-align: middle;\n",
       "    }\n",
       "\n",
       "    .dataframe tbody tr th {\n",
       "        vertical-align: top;\n",
       "    }\n",
       "\n",
       "    .dataframe thead th {\n",
       "        text-align: right;\n",
       "    }\n",
       "</style>\n",
       "<table border=\"1\" class=\"dataframe\">\n",
       "  <thead>\n",
       "    <tr style=\"text-align: right;\">\n",
       "      <th></th>\n",
       "      <th>Journey Time</th>\n",
       "      <th>Journey Time (s)</th>\n",
       "      <th>Day of Week</th>\n",
       "      <th>Time of Day</th>\n",
       "    </tr>\n",
       "  </thead>\n",
       "  <tbody>\n",
       "    <tr>\n",
       "      <td>113</td>\n",
       "      <td>00:04:11</td>\n",
       "      <td>251.0</td>\n",
       "      <td>Tuesday</td>\n",
       "      <td>2</td>\n",
       "    </tr>\n",
       "    <tr>\n",
       "      <td>404</td>\n",
       "      <td>00:00:47</td>\n",
       "      <td>47.0</td>\n",
       "      <td>Monday</td>\n",
       "      <td>3</td>\n",
       "    </tr>\n",
       "    <tr>\n",
       "      <td>829</td>\n",
       "      <td>00:04:01</td>\n",
       "      <td>241.0</td>\n",
       "      <td>Saturday</td>\n",
       "      <td>1</td>\n",
       "    </tr>\n",
       "    <tr>\n",
       "      <td>294</td>\n",
       "      <td>00:03:05</td>\n",
       "      <td>185.0</td>\n",
       "      <td>Wednesday</td>\n",
       "      <td>2</td>\n",
       "    </tr>\n",
       "    <tr>\n",
       "      <td>797</td>\n",
       "      <td>00:04:14</td>\n",
       "      <td>254.0</td>\n",
       "      <td>Friday</td>\n",
       "      <td>2</td>\n",
       "    </tr>\n",
       "  </tbody>\n",
       "</table>\n",
       "</div>"
      ],
      "text/plain": [
       "    Journey Time  Journey Time (s) Day of Week  Time of Day\n",
       "113     00:04:11             251.0     Tuesday            2\n",
       "404     00:00:47              47.0      Monday            3\n",
       "829     00:04:01             241.0    Saturday            1\n",
       "294     00:03:05             185.0   Wednesday            2\n",
       "797     00:04:14             254.0      Friday            2"
      ]
     },
     "execution_count": 60,
     "metadata": {},
     "output_type": "execute_result"
    }
   ],
   "source": [
    "# partition data into 4 groups sorted by time of day\n",
    "df = df.sort_values(\"Time of Day\")\n",
    "group1 = df.iloc[:(int(df.shape[0] / 4))]\n",
    "group2 = df.iloc[(int(df.shape[0] / 4)):(int(2 * df.shape[0] / 4))]\n",
    "group3 = df.iloc[(int(2 * df.shape[0] / 4)):(int(3 * df.shape[0] / 4))]\n",
    "group4 = df.iloc[(int(3 * df.shape[0] / 4)):]\n",
    "\n",
    "# get a random sample of 80% from each group to ensure the train and test\n",
    "# have similar time of days\n",
    "training = group1.sample(frac = 0.8)\n",
    "training = training.append(group2.sample(frac = 0.8))\n",
    "training = training.append(group3.sample(frac = 0.8))\n",
    "training = training.append(group4.sample(frac = 0.8))\n",
    "\n",
    "# validation is all the remaining data in merged_data that wasn't chosen for the training set\n",
    "validation = df[~df.apply(tuple,1).isin(training.apply(tuple,1))]\n",
    "print(training.shape, validation.shape)\n",
    "training.head()"
   ]
  },
  {
   "cell_type": "markdown",
   "metadata": {},
   "source": [
    "## Single predictor variable"
   ]
  },
  {
   "cell_type": "markdown",
   "metadata": {},
   "source": [
    "### Predict journey time based on time of day"
   ]
  },
  {
   "cell_type": "code",
   "execution_count": 93,
   "metadata": {},
   "outputs": [
    {
     "name": "stdout",
     "output_type": "stream",
     "text": [
      "Slope/Coefficients:  [3.43076759]\n",
      "Intercept:  278.85607702156994\n",
      "The mean squared error is:  47660.151290557886\n",
      "The coefficient of determination is:  -0.001612443574242839\n"
     ]
    }
   ],
   "source": [
    "from sklearn.metrics import mean_squared_error, r2_score\n",
    "\n",
    "x_train = training[['Time of Day']]\n",
    "x_test = validation[['Time of Day']]\n",
    "y_train = training['Journey Time (s)']\n",
    "y_test = validation['Journey Time (s)']\n",
    "\n",
    "# Fit model\n",
    "linreg = LinearRegression()\n",
    "linreg.fit(x_train, y_train)\n",
    "\n",
    "# Apply the model to the validation data to predict the ‘Journey Time’\n",
    "y_pred = linreg.predict(x_test)\n",
    "\n",
    "# Calculate measures of success\n",
    "mse = mean_squared_error(y_test, y_pred)\n",
    "r2_score = r2_score(y_test, y_pred)\n",
    "\n",
    "print('Slope/Coefficients: ', linreg.coef_)\n",
    "print('Intercept: ', linreg.intercept_)\n",
    "print('The mean squared error is: ', mse)\n",
    "# coefficient of determination = 1 is perfect prediction\n",
    "print('The coefficient of determination is: ', r2_score)"
   ]
  },
  {
   "cell_type": "code",
   "execution_count": 80,
   "metadata": {},
   "outputs": [
    {
     "data": {
      "image/png": "[encoded data removed]",
      "text/plain": [
       "<Figure size 720x360 with 1 Axes>"
      ]
     },
     "metadata": {},
     "output_type": "display_data"
    }
   ],
   "source": [
    "# Plot outputs\n",
    "fig, ax = plt.subplots(figsize=(10,5))\n",
    "ax.scatter(x_test, y_test, label = \"Actual\")\n",
    "ax.plot(x_test, y_pred, label = \"Predicted\")\n",
    "ax.set_title(\"Linear Regression model based on time of day\")\n",
    "ax.set_xlabel(\"Time of Day\")\n",
    "ax.set_ylabel(\"Predicted journey time (s)\")\n",
    "ax.legend()\n",
    "ax.set_xticks([0, 1, 2, 3, 4, 5, 6, 7])\n",
    "ax.set_xticklabels(colour_to_time_label)\n",
    "plt.show()"
   ]
  },
  {
   "cell_type": "markdown",
   "metadata": {},
   "source": [
    "CONCLUSIONS:\n",
    "We can see that a linear regression model does not fit well with these parameters. There is not enough of a difference in journey times throughout the day"
   ]
  },
  {
   "cell_type": "markdown",
   "metadata": {},
   "source": [
    "### Predict journey time based on day of week"
   ]
  },
  {
   "cell_type": "code",
   "execution_count": 96,
   "metadata": {},
   "outputs": [
    {
     "name": "stdout",
     "output_type": "stream",
     "text": [
      "Slope/Coefficients:  [1.59754612]\n",
      "Intercept:  287.11087256974605\n",
      "The mean squared error is:  47638.65860310082\n",
      "The coefficient of determination is:  -0.00116075925054826\n"
     ]
    }
   ],
   "source": [
    "from sklearn.metrics import mean_squared_error, r2_score\n",
    "\n",
    "y_train = training['Journey Time (s)']\n",
    "y_test = validation['Journey Time (s)']\n",
    "\n",
    "# Encode \n",
    "le = preprocessing.LabelEncoder()\n",
    "le.fit(training['Day of Week'])\n",
    "days_of_week_label = list(le.inverse_transform([0,1,2,3,4,5,6]))\n",
    "x_train = le.transform(training['Day of Week'])\n",
    "x_train = x_train.reshape(-1, 1)\n",
    "x_test = le.transform(validation['Day of Week'])\n",
    "x_test = x_test.reshape(-1, 1)\n",
    "\n",
    "# Fit model\n",
    "linreg = LinearRegression()\n",
    "linreg.fit(x_train, y_train)\n",
    "\n",
    "# Apply the model to the validation data to predict the ‘Journey Time’\n",
    "y_pred = linreg.predict(x_test)\n",
    "\n",
    "# Calculate measures of success\n",
    "mse = mean_squared_error(y_test, y_pred)\n",
    "r2_score = r2_score(y_test, y_pred)\n",
    "\n",
    "print('Slope/Coefficients: ', linreg.coef_)\n",
    "print('Intercept: ', linreg.intercept_)\n",
    "print('The mean squared error is: ', mse)\n",
    "# coefficient of determination = 1 is perfect prediction\n",
    "print('The coefficient of determination is: ', r2_score)"
   ]
  },
  {
   "cell_type": "code",
   "execution_count": 97,
   "metadata": {},
   "outputs": [
    {
     "data": {
      "image/png": "[encoded data removed]",
      "text/plain": [
       "<Figure size 720x360 with 1 Axes>"
      ]
     },
     "metadata": {},
     "output_type": "display_data"
    }
   ],
   "source": [
    "# Plot outputs\n",
    "fig, ax = plt.subplots(figsize=(10,5))\n",
    "ax.scatter(x_test, y_test, label = \"Actual\")\n",
    "ax.plot(x_test, y_pred, label = \"Predicted\")\n",
    "ax.set_title(\"Linear Regression model based on day of week\")\n",
    "ax.set_xlabel(\"Day of Week\")\n",
    "ax.set_ylabel(\"Predicted journey time (s)\")\n",
    "ax.legend()\n",
    "ax.set_xticks([0, 1, 2, 3, 4, 5, 6])\n",
    "ax.set_xticklabels(days_of_week_label)\n",
    "plt.show()"
   ]
  },
  {
   "cell_type": "markdown",
   "metadata": {},
   "source": [
    "CONCLUSIONS:\n",
    "We can see that a linear regression model does not fit well with these parameters. There is not enough of a difference in journey times over different days of the week"
   ]
  },
  {
   "cell_type": "markdown",
   "metadata": {},
   "source": [
    "## Multiple predictor variables == Multiple Linear Regression"
   ]
  },
  {
   "cell_type": "code",
   "execution_count": null,
   "metadata": {},
   "outputs": [],
   "source": [
    "from sklearn.metrics import mean_squared_error, r2_score\n",
    "\n",
    "y_train = training['Journey Time (s)']\n",
    "y_test = validation['Journey Time (s)']\n",
    "\n",
    "le = preprocessing.LabelEncoder()\n",
    "le.fit(training['Day of Week'])\n",
    "days_of_week_label = list(le.inverse_transform([0,1,2,3,4,5,6]))\n",
    "x_train = le.transform(training['Day of Week'])\n",
    "x_train = x_train.reshape(-1, 1)\n",
    "x_test = le.transform(validation['Day of Week'])\n",
    "x_test = x_test.reshape(-1, 1)\n",
    "\n",
    "# Scale the data\n",
    "scaler = preprocessing.StandardScaler()\n",
    "scaler = scaler.fit(X_train_linreg)\n",
    "X_scaled = scaler.transform(X_train_linreg)\n",
    "X_test_scaled = scaler.transform(X_test_linreg)\n",
    "\n",
    "# Fit model\n",
    "linreg = LinearRegression()\n",
    "linreg.fit(x_train, y_train)\n",
    "\n",
    "# Apply the model to the validation data to predict the ‘Journey Time’\n",
    "y_pred = linreg.predict(x_test)\n",
    "\n",
    "# Calculate measures of success\n",
    "mse = mean_squared_error(y_test, y_pred)\n",
    "r2_score = r2_score(y_test, y_pred)\n",
    "\n",
    "print('Slope/Coefficients: ', linreg.coef_)\n",
    "print('Intercept: ', linreg.intercept_)\n",
    "print('The mean squared error is: ', mse)\n",
    "# coefficient of determination = 1 is perfect prediction\n",
    "print('The coefficient of determination is: ', r2_score)"
   ]
  }
 ],
 "metadata": {
  "kernelspec": {
   "display_name": "Python 3",
   "language": "python",
   "name": "python3"
  },
  "language_info": {
   "codemirror_mode": {
    "name": "ipython",
    "version": 3
   },
   "file_extension": ".py",
   "mimetype": "text/x-python",
   "name": "python",
   "nbconvert_exporter": "python",
   "pygments_lexer": "ipython3",
   "version": "3.7.4"
  }
 },
 "nbformat": 4,
 "nbformat_minor": 2
}
