{
 "cells": [
  {
   "cell_type": "code",
   "execution_count": 14,
   "metadata": {},
   "outputs": [],
   "source": [
    "import pandas as pd\n",
    "import datetime as dt\n",
    "import numpy as np\n",
    "import time\n",
    "import calendar\n",
    "import urllib\n",
    "import matplotlib\n",
    "import matplotlib.pyplot as plt\n",
    "import seaborn as sns\n",
    "import collections\n",
    "import sklearn\n",
    "import sklearn.ensemble as ens\n",
    "from sklearn import preprocessing, metrics, cluster\n",
    "from scipy import stats\n",
    "from matplotlib.dates import DateFormatter\n",
    "from pandas.plotting import register_matplotlib_converters\n",
    "\n",
    "sns.set()\n",
    "colours = sns.color_palette(\"husl\", 8)\n",
    "cs = [colours[i] for i in range(len(colours))]\n",
    "sns.set_palette(sns.color_palette(colours))\n",
    "register_matplotlib_converters()"
   ]
  },
  {
   "cell_type": "markdown",
   "metadata": {},
   "source": [
    "# Load Data"
   ]
  },
  {
   "cell_type": "code",
   "execution_count": 15,
   "metadata": {},
   "outputs": [],
   "source": [
    "data = {}\n",
    "routes = [\"452\", \"9\", \"52\", \"267\", \"277\", \"7\", \"14\", \"35\", \"37\", \"69\", \"328\", \"6\"]\n",
    "\n",
    "b_452 = pd.read_csv(\"data/452 07-04-20.csv\")\n",
    "b_52 = pd.read_csv(\"data/52 07-04-20.csv\")\n",
    "b_7 = pd.read_csv(\"data/7 07-04-20.csv\")\n",
    "b_14 = pd.read_csv(\"data/14 07-04-20.csv\")\n",
    "b_9 = pd.read_csv(\"data/9 07-04-20.csv\")\n",
    "b_328 = pd.read_csv(\"data/328 07-04-20.csv\")\n",
    "b_69 = pd.read_csv(\"data/69 07-04-20.csv\")\n",
    "b_35 = pd.read_csv(\"data/35 07-04-20.csv\")\n",
    "b_37 = pd.read_csv(\"data/37 07-04-20.csv\")\n",
    "b_267 = pd.read_csv(\"data/267 07-04-20.csv\")\n",
    "b_277 = pd.read_csv(\"data/277 07-04-20.csv\")\n",
    "b_6 = pd.read_csv(\"data/6 07-04-20.csv\")\n",
    "\n",
    "data[\"452\"] = b_452\n",
    "data[\"52\"] = b_52\n",
    "data[\"7\"] = b_7\n",
    "data[\"9\"] = b_9\n",
    "data[\"14\"] = b_14\n",
    "data[\"328\"] = b_328\n",
    "data[\"267\"] = b_267\n",
    "data[\"277\"] = b_277\n",
    "data[\"35\"] = b_35\n",
    "data[\"37\"] = b_37\n",
    "data[\"69\"] = b_69\n",
    "data[\"6\"] = b_6\n",
    "\n",
    "# need to swap the inbound and outbound labels for data before 12/05/20 because \n",
    "# I noted them down wrong from the data collection stage\n",
    "def init_explore(df, route):\n",
    "    print(\"BUS ROUTE: \", route)\n",
    "    print(\"Shape: \", df.shape)\n",
    "    df = df.drop(columns = \"arrived\")\n",
    "    \n",
    "    df.loc[df['direction'] == 'out', 'direction'] = 'inbound'\n",
    "    df.loc[df['direction'] == 'in', 'direction'] = 'outbound'\n",
    "    df = df[[\"bus_stop_name\", \"expected_arrival\", \"vehicle_id\", \"time_of_req\", \"direction\"]]\n",
    "    \n",
    "    df.rename(columns={'expected_arrival':'time_of_arrival'}, inplace=True)\n",
    "    df = df.sort_values(by='time_of_arrival', ignore_index=True)\n",
    "    return df"
   ]
  },
  {
   "cell_type": "code",
   "execution_count": 16,
   "metadata": {},
   "outputs": [],
   "source": [
    "def add_extra_data(route):\n",
    "    if route != \"6\":\n",
    "        more = pd.read_csv(\"data/\" + route + \" 22-04-20.csv\")\n",
    "        more.loc[more['arrived'] == 1, 'arrived'] = True\n",
    "        more = more[[\"arrived\", \"bus_stop_name\", \"expected_arrival\", \"vehicle_id\", \"time_of_req\", \"direction\"]]\n",
    "        data[route] = data[route].append(more, ignore_index = True)\n",
    "    \n",
    "    more = pd.read_csv(\"data/\" + route + \" 12-05-20.csv\")\n",
    "    more.loc[more['arrived'] == 1, 'arrived'] = True\n",
    "    more = more[[\"arrived\", \"bus_stop_name\", \"expected_arrival\", \"vehicle_id\", \"time_of_req\", \"direction\"]]\n",
    "    data[route] = data[route].append(more, ignore_index = True)"
   ]
  },
  {
   "cell_type": "code",
   "execution_count": 17,
   "metadata": {},
   "outputs": [],
   "source": [
    "for route in routes:\n",
    "    add_extra_data(route)"
   ]
  },
  {
   "cell_type": "code",
   "execution_count": 18,
   "metadata": {
    "scrolled": true
   },
   "outputs": [
    {
     "name": "stdout",
     "output_type": "stream",
     "text": [
      "BUS ROUTE:  452\n",
      "Shape:  (56938, 6)\n",
      "BUS ROUTE:  9\n",
      "Shape:  (49935, 6)\n",
      "BUS ROUTE:  52\n",
      "Shape:  (92505, 6)\n",
      "BUS ROUTE:  267\n",
      "Shape:  (50939, 6)\n",
      "BUS ROUTE:  277\n",
      "Shape:  (71103, 6)\n",
      "BUS ROUTE:  7\n",
      "Shape:  (43271, 6)\n",
      "BUS ROUTE:  14\n",
      "Shape:  (80413, 6)\n",
      "BUS ROUTE:  35\n",
      "Shape:  (50120, 6)\n",
      "BUS ROUTE:  37\n",
      "Shape:  (78808, 6)\n",
      "BUS ROUTE:  69\n",
      "Shape:  (53844, 6)\n",
      "BUS ROUTE:  328\n",
      "Shape:  (41514, 6)\n",
      "BUS ROUTE:  6\n",
      "Shape:  (84330, 6)\n"
     ]
    }
   ],
   "source": [
    "for route in routes:\n",
    "    data[route] = init_explore(data[route], route)"
   ]
  },
  {
   "cell_type": "code",
   "execution_count": 19,
   "metadata": {
    "scrolled": true
   },
   "outputs": [
    {
     "name": "stdout",
     "output_type": "stream",
     "text": [
      "Making API call to get all stops on route  452\n",
      "Making API call to get all stops on route  452\n",
      "Making API call to get all stops on route  9\n",
      "Making API call to get all stops on route  9\n",
      "Making API call to get all stops on route  52\n",
      "Making API call to get all stops on route  52\n",
      "Making API call to get all stops on route  267\n",
      "Making API call to get all stops on route  267\n",
      "Making API call to get all stops on route  277\n",
      "Making API call to get all stops on route  277\n",
      "Making API call to get all stops on route  7\n",
      "Making API call to get all stops on route  7\n",
      "Making API call to get all stops on route  14\n",
      "Making API call to get all stops on route  14\n",
      "Making API call to get all stops on route  35\n",
      "Making API call to get all stops on route  35\n",
      "Making API call to get all stops on route  37\n",
      "Making API call to get all stops on route  37\n",
      "Making API call to get all stops on route  69\n",
      "Making API call to get all stops on route  69\n",
      "Making API call to get all stops on route  328\n",
      "Making API call to get all stops on route  328\n",
      "Making API call to get all stops on route  6\n",
      "Making API call to get all stops on route  6\n",
      "['Pound Lane / Willesden Bus Garage', 'Willesden Bus Garage', 'Villiers Road', 'Willesden Green Library', 'Hanover Road', 'All Souls Avenue', 'Okehampton Road', 'Whitmore Gardens', 'Kensal Rise Station', 'Station Terrace', 'Banister Road', 'Harrow Road / Kilburn Lane', \"Ladbroke Grove Sainsbury's\", 'Kensal House', 'Barlby Road', 'St Charles Square', 'Chesterton Road', 'Ladbroke Grove Station', 'Elgin Crescent', 'Portobello and Golborne Market', 'Chepstow Villas', 'Notting Hill Gate Station', 'Palace Gardens Terr / Notting Hill Gte', 'Sheffield Terrace', 'York House Place / Kensington High St', 'Kensington Palace', 'Palace Gate', \"Queen's Gate\", 'Royal Albert Hall', 'Prince Of Wales Gate', 'Rutland Gardens', 'Knightsbridge Station  / Harrods', 'Hyde Park Corner Station', 'Hyde Park Corner', 'Wilton Street', 'Buckingham Palace Rd / Bressenden Place', 'Victoria Bus Station']\n"
     ]
    }
   ],
   "source": [
    "import json\n",
    "\n",
    "stops_in_sequence_inbound = {}\n",
    "stops_in_sequence_outbound = {}\n",
    "\n",
    "for r in routes:\n",
    "    with urllib.request.urlopen(\"https://api.tfl.gov.uk/Line/\" + r + \"/Route/Sequence/inbound\") as api:\n",
    "        print(\"Making API call to get all stops on route \", r)\n",
    "        json_data = json.loads(api.read().decode())\n",
    "        seq = json_data.get(\"stopPointSequences\")\n",
    "        stops = []\n",
    "        for s in seq:\n",
    "            for stop in s.get(\"stopPoint\"):\n",
    "                name = stop.get(\"name\")\n",
    "                stops.append(name)\n",
    "        stops_in_sequence_inbound[r] = stops\n",
    "        \n",
    "    with urllib.request.urlopen(\"https://api.tfl.gov.uk/Line/\" + r + \"/Route/Sequence/outbound\") as api:\n",
    "        print(\"Making API call to get all stops on route \", r)\n",
    "        json_data = json.loads(api.read().decode())\n",
    "        seq = json_data.get(\"stopPointSequences\")\n",
    "        stops = []\n",
    "        for s in seq:\n",
    "            for stop in s.get(\"stopPoint\"):\n",
    "                name = stop.get(\"name\")\n",
    "                stops.append(name)\n",
    "        stops_in_sequence_outbound[r] = stops\n",
    "        \n",
    "print(stops_in_sequence_inbound.get(\"52\"))"
   ]
  },
  {
   "cell_type": "markdown",
   "metadata": {},
   "source": [
    "## Helper Functions"
   ]
  },
  {
   "cell_type": "code",
   "execution_count": 20,
   "metadata": {},
   "outputs": [],
   "source": [
    "def convert_time_to_datetime(given_time):\n",
    "    year = int(given_time[:4])\n",
    "    month = int(given_time[5:7])\n",
    "    day = int(given_time[8:10])\n",
    "    hour = int(given_time[11:13])\n",
    "    minute = int(given_time[14:16])\n",
    "    second = int(given_time[17:19])\n",
    "\n",
    "    date_time = dt.datetime(year, month, day, hour, minute, second)\n",
    "    return date_time"
   ]
  },
  {
   "cell_type": "code",
   "execution_count": 21,
   "metadata": {},
   "outputs": [],
   "source": [
    "def weekday_or_weekend(given_day):\n",
    "    if given_day in [\"Monday\", \"Tuesday\", \"Wednesday\", \"Thursday\", \"Friday\"]:\n",
    "        return \"weekday\"\n",
    "    else:\n",
    "        return \"weekend\""
   ]
  },
  {
   "cell_type": "code",
   "execution_count": 22,
   "metadata": {},
   "outputs": [],
   "source": [
    "def pre_lockdown(given_time):\n",
    "    month = int(given_time[5:7])\n",
    "    day = int(given_time[8:10])\n",
    "    \n",
    "    # lockdown = March 24th 2020\n",
    "    if month > 3:\n",
    "        return False\n",
    "    elif month == 3:\n",
    "        if day >= 24:\n",
    "            return False\n",
    "    \n",
    "    return True"
   ]
  },
  {
   "cell_type": "code",
   "execution_count": 109,
   "metadata": {},
   "outputs": [],
   "source": [
    "def get_attrs(gap, stop_a, stop_b, a_id):\n",
    "    start = time.time()\n",
    "    \n",
    "    # if gap == 5:\n",
    "    min_time = 1\n",
    "    max_time = 15\n",
    "    \n",
    "    if (gap > 5) and (gap <= 10):\n",
    "        min_time = 10\n",
    "        max_time = 22\n",
    "    elif (gap > 10) and (gap <= 15):\n",
    "        min_time = 15\n",
    "        max_time = 30\n",
    "    elif (gap > 15) and (gap <= 20):\n",
    "        min_time = 20\n",
    "        max_time = 40\n",
    "    elif (gap > 20) and (gap <= 25):\n",
    "        min_time = 31\n",
    "        max_time = 55\n",
    "    elif (gap > 25) and (gap <= 30):\n",
    "        min_time = 40\n",
    "        max_time = 70\n",
    "    elif (gap > 30):\n",
    "        min_time = 50\n",
    "        max_time = 90\n",
    "\n",
    "    attributes = []\n",
    "    for i, journey in stop_b.iterrows():\n",
    "\n",
    "        arr_dt = convert_time_to_datetime(journey['time_of_arrival'])\n",
    "        [bus_id, _, date, direction, _] = journey['vehicle_id'].split('_')\n",
    "        to_match_id = bus_id + '_' + a_id + '_' + date + '_' + direction + '_'\n",
    "\n",
    "        for j, match in stop_a.iterrows():\n",
    "            if match['vehicle_id'].startswith(to_match_id):\n",
    "                leave_dt = convert_time_to_datetime(match['time_of_arrival'])\n",
    "                journey_time = arr_dt - leave_dt\n",
    "\n",
    "                if (journey_time > dt.timedelta(minutes = min_time)) & (journey_time < dt.timedelta(minutes = max_time)):\n",
    "                    item = []\n",
    "                    item.append(journey_time)\n",
    "\n",
    "                    seconds = journey_time.total_seconds()\n",
    "                    item.append(seconds)\n",
    "\n",
    "                    d = dt.datetime.strptime(match['time_of_arrival'][:10], '%Y-%m-%d')\n",
    "                    d = calendar.day_name[d.weekday()]\n",
    "                    w = weekday_or_weekend(d)\n",
    "                    item.append(w)\n",
    "\n",
    "                    t = int(journey['time_of_arrival'][11:13])\n",
    "                    item.append(t)\n",
    "\n",
    "                    c = pre_lockdown(journey['time_of_arrival'])\n",
    "                    item.append(c)\n",
    "                    \n",
    "                    item.append(gap)\n",
    "                    item.append(match['time_of_arrival'])\n",
    "                    item.append(journey['time_of_arrival'])\n",
    "\n",
    "                    attributes.append(item)\n",
    "                    break\n",
    "\n",
    "    print(\"Getting journey times took {}\".format(time.time() - start))\n",
    "    \n",
    "    return attributes"
   ]
  },
  {
   "cell_type": "code",
   "execution_count": 110,
   "metadata": {},
   "outputs": [],
   "source": [
    "# Generate list of request times at minutes interval\n",
    "def generate_request_times(minutes, start, end):\n",
    "    \"\"\"\n",
    "    minutes: frequency of request times e.g. every 15 minutes\n",
    "    start: start time\n",
    "    end: end time\n",
    "    num_times: the number of times to generate\n",
    "    \"\"\"\n",
    "    start = convert_time_to_datetime(start)\n",
    "    end = convert_time_to_datetime(end)\n",
    "    req_times = [start]\n",
    "    \n",
    "    while start <= end:\n",
    "        new_time = start + dt.timedelta(minutes = minutes)\n",
    "        req_times.append(new_time)\n",
    "        start = new_time\n",
    "        \n",
    "    format = '%Y-%m-%d %H:%M:%S'\n",
    "    req_times_str = [t.strftime(format) for t in req_times]\n",
    "    return req_times_str"
   ]
  },
  {
   "cell_type": "markdown",
   "metadata": {},
   "source": [
    "## Data Preprocessing"
   ]
  },
  {
   "cell_type": "markdown",
   "metadata": {},
   "source": [
    "Pick 2 stops on a route. Calculate all the journey times between them. Make a dataset with attributes time of day (split into hour slots), journey time, day of week, pre lockdown.\n",
    "\n",
    "Choose multiple 2 stops\n",
    "\n",
    "1) gap of 5: North End Road -> Phillimore Gardens route 9\n",
    "\n",
    "2) gap of 10: Willesden Bus Garage -> Harrow Road / Kilburn Lane route 52\n",
    "\n",
    "3) gap of 15: Willesden Bus Garage -> Chesterton Road route 52\n",
    "\n",
    "4) gap of 20: Willesden Bus Garage -> Notting Hill Gate Station route 52\n",
    "\n",
    "5) gap of 25: Willesden Bus Garage -> Palace Gate route 52\n",
    "\n",
    "6) gap of 30: Willesden Bus Garage -> Knightsbridge Station  / Harrods route 52\n",
    "\n",
    "7) gap of 35: Willesden Bus Garage -> Victoria Bus Station route 52"
   ]
  },
  {
   "cell_type": "code",
   "execution_count": 111,
   "metadata": {},
   "outputs": [
    {
     "name": "stdout",
     "output_type": "stream",
     "text": [
      "7\n",
      "7\n",
      "7\n"
     ]
    }
   ],
   "source": [
    "stop_as = [\"North End Road\"] + [\"Willesden Bus Garage\" for i in range(0, 6)] \n",
    "stop_bs = [\"Phillimore Gardens\", \"Harrow Road / Kilburn Lane\", \"Chesterton Road\", \"Notting Hill Gate Station\", \"Palace Gate\", \"Knightsbridge Station  / Harrods\", \"Victoria Bus Station\"]\n",
    "route_ids = [\"9\"] + [\"52\" for i in range(0, 6)]\n",
    "\n",
    "print(len(stop_as))\n",
    "print(len(stop_bs))\n",
    "print(len(route_ids))"
   ]
  },
  {
   "cell_type": "code",
   "execution_count": 114,
   "metadata": {
    "scrolled": true
   },
   "outputs": [
    {
     "name": "stdout",
     "output_type": "stream",
     "text": [
      "North End Road to Phillimore Gardens\n",
      "Getting journey times took 76.25901198387146\n",
      "Willesden Bus Garage to Harrow Road / Kilburn Lane\n",
      "Getting journey times took 146.9749801158905\n",
      "Willesden Bus Garage to Chesterton Road\n",
      "Getting journey times took 267.58700799942017\n",
      "Willesden Bus Garage to Notting Hill Gate Station\n",
      "Getting journey times took 191.76352310180664\n",
      "Willesden Bus Garage to Palace Gate\n",
      "Getting journey times took 224.63887405395508\n",
      "Willesden Bus Garage to Knightsbridge Station  / Harrods\n",
      "Getting journey times took 219.12930583953857\n",
      "Willesden Bus Garage to Victoria Bus Station\n",
      "Getting journey times took 213.71391773223877\n"
     ]
    }
   ],
   "source": [
    "all_attrs = []\n",
    "\n",
    "for i, a in enumerate(stop_as):\n",
    "    bus = data.get(route_ids[i])\n",
    "    stop_a_data = bus.loc[(bus['bus_stop_name'] == a) & (bus['direction'] == 'inbound')]\n",
    "    [_, a_id, _, _, _] = stop_a_data.iloc[0]['vehicle_id'].split('_')\n",
    "    \n",
    "    stop_b_data = bus.loc[(bus['bus_stop_name'] == stop_bs[i]) & (bus['direction'] == 'inbound')]\n",
    "    \n",
    "    print(\"{} to {}\".format(a, stop_bs[i]))\n",
    "    attrs = get_attrs((i + 1) * 5, stop_a_data, stop_b_data, a_id)\n",
    "    all_attrs.append(attrs)"
   ]
  },
  {
   "cell_type": "code",
   "execution_count": 117,
   "metadata": {},
   "outputs": [
    {
     "data": {
      "text/plain": [
       "[825, 685, 543, 592, 176, 62, 37]"
      ]
     },
     "execution_count": 117,
     "metadata": {},
     "output_type": "execute_result"
    }
   ],
   "source": [
    "[len(x) for x in all_attrs]"
   ]
  },
  {
   "cell_type": "code",
   "execution_count": 120,
   "metadata": {},
   "outputs": [
    {
     "name": "stdout",
     "output_type": "stream",
     "text": [
      "2920\n"
     ]
    },
    {
     "data": {
      "text/html": [
       "<div>\n",
       "<style scoped>\n",
       "    .dataframe tbody tr th:only-of-type {\n",
       "        vertical-align: middle;\n",
       "    }\n",
       "\n",
       "    .dataframe tbody tr th {\n",
       "        vertical-align: top;\n",
       "    }\n",
       "\n",
       "    .dataframe thead th {\n",
       "        text-align: right;\n",
       "    }\n",
       "</style>\n",
       "<table border=\"1\" class=\"dataframe\">\n",
       "  <thead>\n",
       "    <tr style=\"text-align: right;\">\n",
       "      <th></th>\n",
       "      <th>Journey Time</th>\n",
       "      <th>Journey Time (s)</th>\n",
       "      <th>Day of Week</th>\n",
       "      <th>Time of Day</th>\n",
       "      <th>Pre Lockdown</th>\n",
       "      <th>Gap</th>\n",
       "      <th>Arrival at Stop A</th>\n",
       "      <th>Arrival at Stop B</th>\n",
       "    </tr>\n",
       "  </thead>\n",
       "  <tbody>\n",
       "    <tr>\n",
       "      <th>0</th>\n",
       "      <td>00:09:32</td>\n",
       "      <td>572.0</td>\n",
       "      <td>weekday</td>\n",
       "      <td>10</td>\n",
       "      <td>True</td>\n",
       "      <td>5</td>\n",
       "      <td>2020-03-10 10:25:02</td>\n",
       "      <td>2020-03-10 10:34:34</td>\n",
       "    </tr>\n",
       "    <tr>\n",
       "      <th>1</th>\n",
       "      <td>00:10:43</td>\n",
       "      <td>643.0</td>\n",
       "      <td>weekday</td>\n",
       "      <td>10</td>\n",
       "      <td>True</td>\n",
       "      <td>5</td>\n",
       "      <td>2020-03-10 10:29:40</td>\n",
       "      <td>2020-03-10 10:40:23</td>\n",
       "    </tr>\n",
       "    <tr>\n",
       "      <th>2</th>\n",
       "      <td>00:09:37</td>\n",
       "      <td>577.0</td>\n",
       "      <td>weekday</td>\n",
       "      <td>10</td>\n",
       "      <td>True</td>\n",
       "      <td>5</td>\n",
       "      <td>2020-03-10 10:38:36</td>\n",
       "      <td>2020-03-10 10:48:13</td>\n",
       "    </tr>\n",
       "    <tr>\n",
       "      <th>3</th>\n",
       "      <td>00:08:20</td>\n",
       "      <td>500.0</td>\n",
       "      <td>weekday</td>\n",
       "      <td>10</td>\n",
       "      <td>True</td>\n",
       "      <td>5</td>\n",
       "      <td>2020-03-10 10:46:27</td>\n",
       "      <td>2020-03-10 10:54:47</td>\n",
       "    </tr>\n",
       "    <tr>\n",
       "      <th>4</th>\n",
       "      <td>00:06:05</td>\n",
       "      <td>365.0</td>\n",
       "      <td>weekday</td>\n",
       "      <td>11</td>\n",
       "      <td>True</td>\n",
       "      <td>5</td>\n",
       "      <td>2020-03-10 10:57:55</td>\n",
       "      <td>2020-03-10 11:04:00</td>\n",
       "    </tr>\n",
       "  </tbody>\n",
       "</table>\n",
       "</div>"
      ],
      "text/plain": [
       "  Journey Time  Journey Time (s) Day of Week  Time of Day  Pre Lockdown  Gap  \\\n",
       "0     00:09:32             572.0     weekday           10          True    5   \n",
       "1     00:10:43             643.0     weekday           10          True    5   \n",
       "2     00:09:37             577.0     weekday           10          True    5   \n",
       "3     00:08:20             500.0     weekday           10          True    5   \n",
       "4     00:06:05             365.0     weekday           11          True    5   \n",
       "\n",
       "     Arrival at Stop A    Arrival at Stop B  \n",
       "0  2020-03-10 10:25:02  2020-03-10 10:34:34  \n",
       "1  2020-03-10 10:29:40  2020-03-10 10:40:23  \n",
       "2  2020-03-10 10:38:36  2020-03-10 10:48:13  \n",
       "3  2020-03-10 10:46:27  2020-03-10 10:54:47  \n",
       "4  2020-03-10 10:57:55  2020-03-10 11:04:00  "
      ]
     },
     "execution_count": 120,
     "metadata": {},
     "output_type": "execute_result"
    }
   ],
   "source": [
    "# append all the data together\n",
    "flattened = [item for sublist in all_attrs for item in sublist]\n",
    "print(len(flattened))\n",
    "df = pd.DataFrame(flattened, columns = ['Journey Time', 'Journey Time (s)', 'Day of Week', 'Time of Day', 'Pre Lockdown', 'Gap', 'Arrival at Stop A', 'Arrival at Stop B'])\n",
    "\n",
    "baby_dfs = [pd.DataFrame(journey, columns = ['Journey Time', 'Journey Time (s)', 'Day of Week', 'Time of Day', 'Pre Lockdown', 'Gap', 'Arrival at Stop A', 'Arrival at Stop B']) for journey in all_attrs]\n",
    "df.head()"
   ]
  },
  {
   "cell_type": "code",
   "execution_count": 101,
   "metadata": {},
   "outputs": [
    {
     "data": {
      "text/plain": [
       "<matplotlib.axes._subplots.AxesSubplot at 0x1a239b54d0>"
      ]
     },
     "execution_count": 101,
     "metadata": {},
     "output_type": "execute_result"
    },
    {
     "data": {
      "image/png": "[encoded data removed]",
      "text/plain": [
       "<Figure size 432x288 with 1 Axes>"
      ]
     },
     "metadata": {},
     "output_type": "display_data"
    }
   ],
   "source": [
    "sns.distplot(df['Journey Time (s)'])"
   ]
  },
  {
   "cell_type": "code",
   "execution_count": 102,
   "metadata": {},
   "outputs": [
    {
     "name": "stdout",
     "output_type": "stream",
     "text": [
      "Outlier indexes:  [2716, 2764, 2823, 2825, 2828, 2838, 2839, 2841, 2844, 2868, 2883, 2884, 2885, 2886, 2887, 2888, 2889, 2890, 2891, 2892, 2893, 2894, 2895, 2896, 2897, 2898, 2899, 2900, 2901, 2902, 2903, 2904, 2905, 2906, 2907, 2908, 2909, 2910, 2911, 2912, 2913, 2914, 2915, 2916, 2917, 2918, 2919]\n"
     ]
    }
   ],
   "source": [
    "# Get rid of outliers from dataset\n",
    "def detect_outlier_z_score(travel_times):\n",
    "    outlier_indexes = []\n",
    "    \n",
    "    threshold = 3\n",
    "    mean = np.mean(travel_times)\n",
    "    std = np.std(travel_times)\n",
    "    \n",
    "    for i, t in enumerate(travel_times):\n",
    "        z_score= (t - mean) / std\n",
    "        \n",
    "        if np.abs(z_score) > threshold:\n",
    "            outlier_indexes.append(i)\n",
    "    \n",
    "    return outlier_indexes\n",
    "\n",
    "outlier_indexes = detect_outlier_z_score(df['Journey Time (s)'])\n",
    "print(\"Outlier indexes: \", outlier_indexes)\n",
    "df = df.drop(outlier_indexes)"
   ]
  },
  {
   "cell_type": "code",
   "execution_count": 122,
   "metadata": {},
   "outputs": [
    {
     "name": "stdout",
     "output_type": "stream",
     "text": [
      "[(0, 'weekday'), (1, 'weekend')]\n",
      "[(0, False), (1, True)]\n"
     ]
    },
    {
     "data": {
      "text/html": [
       "<div>\n",
       "<style scoped>\n",
       "    .dataframe tbody tr th:only-of-type {\n",
       "        vertical-align: middle;\n",
       "    }\n",
       "\n",
       "    .dataframe tbody tr th {\n",
       "        vertical-align: top;\n",
       "    }\n",
       "\n",
       "    .dataframe thead th {\n",
       "        text-align: right;\n",
       "    }\n",
       "</style>\n",
       "<table border=\"1\" class=\"dataframe\">\n",
       "  <thead>\n",
       "    <tr style=\"text-align: right;\">\n",
       "      <th></th>\n",
       "      <th>Journey Time</th>\n",
       "      <th>Journey Time (s)</th>\n",
       "      <th>Day of Week</th>\n",
       "      <th>Time of Day</th>\n",
       "      <th>Pre Lockdown</th>\n",
       "      <th>Gap</th>\n",
       "      <th>Arrival at Stop A</th>\n",
       "      <th>Arrival at Stop B</th>\n",
       "      <th>Day of Week Encoded</th>\n",
       "      <th>Pre Lockdown Encoded</th>\n",
       "    </tr>\n",
       "  </thead>\n",
       "  <tbody>\n",
       "    <tr>\n",
       "      <th>0</th>\n",
       "      <td>00:09:32</td>\n",
       "      <td>572.0</td>\n",
       "      <td>weekday</td>\n",
       "      <td>10</td>\n",
       "      <td>True</td>\n",
       "      <td>5</td>\n",
       "      <td>2020-03-10 10:25:02</td>\n",
       "      <td>2020-03-10 10:34:34</td>\n",
       "      <td>0</td>\n",
       "      <td>1</td>\n",
       "    </tr>\n",
       "    <tr>\n",
       "      <th>1</th>\n",
       "      <td>00:10:43</td>\n",
       "      <td>643.0</td>\n",
       "      <td>weekday</td>\n",
       "      <td>10</td>\n",
       "      <td>True</td>\n",
       "      <td>5</td>\n",
       "      <td>2020-03-10 10:29:40</td>\n",
       "      <td>2020-03-10 10:40:23</td>\n",
       "      <td>0</td>\n",
       "      <td>1</td>\n",
       "    </tr>\n",
       "    <tr>\n",
       "      <th>2</th>\n",
       "      <td>00:09:37</td>\n",
       "      <td>577.0</td>\n",
       "      <td>weekday</td>\n",
       "      <td>10</td>\n",
       "      <td>True</td>\n",
       "      <td>5</td>\n",
       "      <td>2020-03-10 10:38:36</td>\n",
       "      <td>2020-03-10 10:48:13</td>\n",
       "      <td>0</td>\n",
       "      <td>1</td>\n",
       "    </tr>\n",
       "    <tr>\n",
       "      <th>3</th>\n",
       "      <td>00:08:20</td>\n",
       "      <td>500.0</td>\n",
       "      <td>weekday</td>\n",
       "      <td>10</td>\n",
       "      <td>True</td>\n",
       "      <td>5</td>\n",
       "      <td>2020-03-10 10:46:27</td>\n",
       "      <td>2020-03-10 10:54:47</td>\n",
       "      <td>0</td>\n",
       "      <td>1</td>\n",
       "    </tr>\n",
       "    <tr>\n",
       "      <th>4</th>\n",
       "      <td>00:06:05</td>\n",
       "      <td>365.0</td>\n",
       "      <td>weekday</td>\n",
       "      <td>11</td>\n",
       "      <td>True</td>\n",
       "      <td>5</td>\n",
       "      <td>2020-03-10 10:57:55</td>\n",
       "      <td>2020-03-10 11:04:00</td>\n",
       "      <td>0</td>\n",
       "      <td>1</td>\n",
       "    </tr>\n",
       "  </tbody>\n",
       "</table>\n",
       "</div>"
      ],
      "text/plain": [
       "  Journey Time  Journey Time (s) Day of Week  Time of Day  Pre Lockdown  Gap  \\\n",
       "0     00:09:32             572.0     weekday           10          True    5   \n",
       "1     00:10:43             643.0     weekday           10          True    5   \n",
       "2     00:09:37             577.0     weekday           10          True    5   \n",
       "3     00:08:20             500.0     weekday           10          True    5   \n",
       "4     00:06:05             365.0     weekday           11          True    5   \n",
       "\n",
       "     Arrival at Stop A    Arrival at Stop B  Day of Week Encoded  \\\n",
       "0  2020-03-10 10:25:02  2020-03-10 10:34:34                    0   \n",
       "1  2020-03-10 10:29:40  2020-03-10 10:40:23                    0   \n",
       "2  2020-03-10 10:38:36  2020-03-10 10:48:13                    0   \n",
       "3  2020-03-10 10:46:27  2020-03-10 10:54:47                    0   \n",
       "4  2020-03-10 10:57:55  2020-03-10 11:04:00                    0   \n",
       "\n",
       "   Pre Lockdown Encoded  \n",
       "0                     1  \n",
       "1                     1  \n",
       "2                     1  \n",
       "3                     1  \n",
       "4                     1  "
      ]
     },
     "execution_count": 122,
     "metadata": {},
     "output_type": "execute_result"
    }
   ],
   "source": [
    "dow_encoder = preprocessing.LabelEncoder()\n",
    "ld_encoder = preprocessing.LabelEncoder()\n",
    "dow_encoder.fit(df['Day of Week'])\n",
    "ld_encoder.fit(df['Pre Lockdown'])\n",
    "\n",
    "def encode_df(df):\n",
    "    encoded = dow_encoder.transform(df['Day of Week'])\n",
    "    df['Day of Week Encoded'] = encoded\n",
    "    encoded = ld_encoder.transform(df['Pre Lockdown'])\n",
    "    df['Pre Lockdown Encoded'] = encoded\n",
    "    return df\n",
    "\n",
    "df = encode_df(df)\n",
    "baby_dfs = [encode_df(baby) for baby in baby_dfs]\n",
    "\n",
    "days_of_week_label = list(dow_encoder.inverse_transform([0,1]))\n",
    "print(list(zip([0,1], days_of_week_label)))\n",
    "pre_lockdown_label = list(ld_encoder.inverse_transform([0, 1]))\n",
    "print(list(zip([0, 1], pre_lockdown_label)))\n",
    "\n",
    "unflattened = {\n",
    "    \"Phillimore Gardens\": baby_dfs[0],\n",
    "    \"Harrow Road / Kilburn Lane\": baby_dfs[1],\n",
    "    \"Chesterton Road\": baby_dfs[2],\n",
    "    \"Notting Hill Gate Station\": baby_dfs[3],\n",
    "    \"Palace Gate\": baby_dfs[4],\n",
    "    \"Knightsbridge Station  / Harrods\": baby_dfs[5],\n",
    "    \"Victoria Bus Station\": baby_dfs[6]\n",
    "}\n",
    "\n",
    "df.head()"
   ]
  },
  {
   "cell_type": "code",
   "execution_count": 125,
   "metadata": {},
   "outputs": [
    {
     "data": {
      "text/html": [
       "<div>\n",
       "<style scoped>\n",
       "    .dataframe tbody tr th:only-of-type {\n",
       "        vertical-align: middle;\n",
       "    }\n",
       "\n",
       "    .dataframe tbody tr th {\n",
       "        vertical-align: top;\n",
       "    }\n",
       "\n",
       "    .dataframe thead th {\n",
       "        text-align: right;\n",
       "    }\n",
       "</style>\n",
       "<table border=\"1\" class=\"dataframe\">\n",
       "  <thead>\n",
       "    <tr style=\"text-align: right;\">\n",
       "      <th></th>\n",
       "      <th>Journey Time</th>\n",
       "      <th>Journey Time (s)</th>\n",
       "      <th>Time of Day</th>\n",
       "      <th>Gap</th>\n",
       "      <th>Day of Week Encoded</th>\n",
       "      <th>Pre Lockdown Encoded</th>\n",
       "    </tr>\n",
       "  </thead>\n",
       "  <tbody>\n",
       "    <tr>\n",
       "      <th>count</th>\n",
       "      <td>2920</td>\n",
       "      <td>2920.000000</td>\n",
       "      <td>2920.000000</td>\n",
       "      <td>2920.000000</td>\n",
       "      <td>2920.000000</td>\n",
       "      <td>2920.000000</td>\n",
       "    </tr>\n",
       "    <tr>\n",
       "      <th>mean</th>\n",
       "      <td>0 days 00:15:36.173630</td>\n",
       "      <td>936.173630</td>\n",
       "      <td>12.431507</td>\n",
       "      <td>13.190068</td>\n",
       "      <td>0.143836</td>\n",
       "      <td>0.013699</td>\n",
       "    </tr>\n",
       "    <tr>\n",
       "      <th>std</th>\n",
       "      <td>0 days 00:10:26.129861</td>\n",
       "      <td>626.129861</td>\n",
       "      <td>4.058763</td>\n",
       "      <td>7.197348</td>\n",
       "      <td>0.350983</td>\n",
       "      <td>0.116257</td>\n",
       "    </tr>\n",
       "    <tr>\n",
       "      <th>min</th>\n",
       "      <td>0 days 00:01:08</td>\n",
       "      <td>68.000000</td>\n",
       "      <td>2.000000</td>\n",
       "      <td>5.000000</td>\n",
       "      <td>0.000000</td>\n",
       "      <td>0.000000</td>\n",
       "    </tr>\n",
       "    <tr>\n",
       "      <th>25%</th>\n",
       "      <td>0 days 00:06:13</td>\n",
       "      <td>373.000000</td>\n",
       "      <td>9.000000</td>\n",
       "      <td>5.000000</td>\n",
       "      <td>0.000000</td>\n",
       "      <td>0.000000</td>\n",
       "    </tr>\n",
       "    <tr>\n",
       "      <th>50%</th>\n",
       "      <td>0 days 00:13:43</td>\n",
       "      <td>823.000000</td>\n",
       "      <td>12.000000</td>\n",
       "      <td>10.000000</td>\n",
       "      <td>0.000000</td>\n",
       "      <td>0.000000</td>\n",
       "    </tr>\n",
       "    <tr>\n",
       "      <th>75%</th>\n",
       "      <td>0 days 00:21:19.250000</td>\n",
       "      <td>1279.250000</td>\n",
       "      <td>15.000000</td>\n",
       "      <td>20.000000</td>\n",
       "      <td>0.000000</td>\n",
       "      <td>0.000000</td>\n",
       "    </tr>\n",
       "    <tr>\n",
       "      <th>max</th>\n",
       "      <td>0 days 01:17:54</td>\n",
       "      <td>4674.000000</td>\n",
       "      <td>23.000000</td>\n",
       "      <td>35.000000</td>\n",
       "      <td>1.000000</td>\n",
       "      <td>1.000000</td>\n",
       "    </tr>\n",
       "  </tbody>\n",
       "</table>\n",
       "</div>"
      ],
      "text/plain": [
       "                 Journey Time  Journey Time (s)  Time of Day          Gap  \\\n",
       "count                    2920       2920.000000  2920.000000  2920.000000   \n",
       "mean   0 days 00:15:36.173630        936.173630    12.431507    13.190068   \n",
       "std    0 days 00:10:26.129861        626.129861     4.058763     7.197348   \n",
       "min           0 days 00:01:08         68.000000     2.000000     5.000000   \n",
       "25%           0 days 00:06:13        373.000000     9.000000     5.000000   \n",
       "50%           0 days 00:13:43        823.000000    12.000000    10.000000   \n",
       "75%    0 days 00:21:19.250000       1279.250000    15.000000    20.000000   \n",
       "max           0 days 01:17:54       4674.000000    23.000000    35.000000   \n",
       "\n",
       "       Day of Week Encoded  Pre Lockdown Encoded  \n",
       "count          2920.000000           2920.000000  \n",
       "mean              0.143836              0.013699  \n",
       "std               0.350983              0.116257  \n",
       "min               0.000000              0.000000  \n",
       "25%               0.000000              0.000000  \n",
       "50%               0.000000              0.000000  \n",
       "75%               0.000000              0.000000  \n",
       "max               1.000000              1.000000  "
      ]
     },
     "execution_count": 125,
     "metadata": {},
     "output_type": "execute_result"
    }
   ],
   "source": [
    "df.describe()"
   ]
  },
  {
   "cell_type": "code",
   "execution_count": 126,
   "metadata": {},
   "outputs": [
    {
     "data": {
      "text/plain": [
       "<seaborn.axisgrid.PairGrid at 0x1a2b0baf10>"
      ]
     },
     "execution_count": 126,
     "metadata": {},
     "output_type": "execute_result"
    },
    {
     "data": {
      "image/png": "[encoded data removed]",
      "text/plain": [
       "<Figure size 662.4x662.4 with 20 Axes>"
      ]
     },
     "metadata": {},
     "output_type": "display_data"
    }
   ],
   "source": [
    "from scipy.stats import pearsonr\n",
    "\n",
    "def corrfunc(x, y, **kws):\n",
    "    r, _ = stats.pearsonr(x, y)\n",
    "    ax = plt.gca()\n",
    "    ax.annotate(\"corr = {:.3f}\".format(r),\n",
    "                xy=(.25, .5), xycoords=ax.transAxes)\n",
    "    \n",
    "pp = sns.PairGrid(df[['Time of Day', 'Day of Week Encoded', 'Pre Lockdown Encoded', 'Gap']], height = 2.3, diag_sharey=False)\n",
    "pp.map_upper(plt.scatter, s=10)\n",
    "pp.map_diag(plt.hist)\n",
    "pp.map_lower(corrfunc)"
   ]
  },
  {
   "cell_type": "markdown",
   "metadata": {},
   "source": [
    "#### Feature correlation\n",
    "\n",
    "The above pairplot indicates that the features are not related to each other, i.e. they are independent of each other. This means that they can be used together in multivariate regression. This is supported by the Pearson Correlation Coefficients calculated for the three variables. The Pearson’s correlation coefficient is calculated as the covariance of the two variables divided by the product of the standard deviation of each data sample. It is the normalization of the covariance between the two variables to give an interpretable score. The coefficient returns a value between -1 and 1 that represents the limits of correlation from a full negative correlation to a full positive correlation. A value of 0 means no correlation. The value must be interpreted, where often a value below -0.5 or above 0.5 indicates a notable correlation, and values between those values suggests a less notable correlation.\n",
    "\n",
    "#### Feature information\n",
    "\n",
    "There is a lot more data that was collected post lockdown compared to pre lockdown (as can be seen by the bottom right graph that has a taller 0 = False bar).\n",
    "There is data for post lockdown for weekdays and weekends, but for pre lockdown there is only weekday data.\n",
    "For post lockdown data there is data for all times of day that the bus runs, but for pre lockdown there is only data for between 1000 to approximately 1800.\n",
    "\n",
    "From the middle graph, it can be seen that there is a lot more data collected on weekdays compared to weekends.\n",
    "It can also be seen from the top middle graph that on weekends, there are gaps during the day where data has not been collected. For example, there is no data after approximately 1800.\n",
    "\n",
    "From the top left graph, it can be seen that the data trend is 2 humps (perhaps morning peak and evening peak)."
   ]
  },
  {
   "cell_type": "markdown",
   "metadata": {},
   "source": [
    "## Linear Regression\n",
    "\n",
    "Regression models are generally outperformed by other types of models, but they reveal which independent variable is less/more important for predicting travel times. However, I won't have time to develop a neural network model (probably), so I'll just have to try and make the regression models as good as the historical models if possible.\n",
    "\n",
    "In order for the regression models to take into account recent data so that it is reactionary, the model is going to have to take in more limited data than it is currently. So it will have to do similar to the historical data e.g. the regression model will train only on the last 15 buses, or buses from the last 2 hours -> so will have to limit the data set depending on the request time. And then it can test on the request time.\n",
    "\n",
    "Based on the historical models, the best ones are 1) looking back 15 buses 2) looking back 10 buses 3) looking back 5 buses.\n",
    "\n",
    "So, because this is a regression model, it is possible that looking back 15 buses will not be as good as looking back x hours because there is fewer buses for the model to learn from and therefore it could underfit.\n",
    "\n",
    "#### Measures of success:\n",
    "\n",
    "- **r2 score**, also known as coefficient of determination. Best possible score is 1.0 and it can be negative (because the model can be arbitrarily worse). A constant model that always predicts the expected value of y, disregarding the input features, would get a R^2 score of 0.0.\n",
    "- **Root Mean Square Error** (rmse). Root Mean Square Error (RMSE) is the standard deviation of the residuals (prediction errors). Residuals are a measure of how far from the regression line data points are; RMSE is a measure of how spread out these residuals are. In other words, it tells you how concentrated the data is around the line of best fit. The smaller the better\n",
    "- **Mean Absolute Percentage Error** (MAPE): Worst is 100, lower values are better. https://scikit-learn.org/stable/modules/generated/sklearn.metrics.mean_absolute_error.html#sklearn.metrics.mean_absolute_error\n",
    "\n",
    "When standardized observations and forecasts are used as RMSE inputs, there is a direct relationship with the correlation coefficient. For example, if the correlation coefficient is 1, the RMSE will be 0, because all of the points lie on the regression line (and therefore there are no errors)."
   ]
  },
  {
   "cell_type": "code",
   "execution_count": 186,
   "metadata": {},
   "outputs": [],
   "source": [
    "from sklearn.preprocessing import PolynomialFeatures\n",
    "from sklearn.linear_model import LinearRegression\n",
    "\n",
    "def poly_regression_gap(degree, x_train, y_train, x_test, y_test):\n",
    "    poly = PolynomialFeatures(degree = degree)\n",
    "    poly.fit(x_train)\n",
    "    \n",
    "    temp = pd.DataFrame([y_test], columns = ['Journey Time (s)'])\n",
    "    y_test = temp['Journey Time (s)'][:, np.newaxis]\n",
    "\n",
    "    x_train = poly.transform(x_train)\n",
    "    x_test = poly.transform(x_test)\n",
    "\n",
    "    # Fit model\n",
    "    linreg = LinearRegression()\n",
    "    linreg.fit(x_train, y_train)\n",
    "\n",
    "    # Apply the model to the given  to predict the ‘Journey Time’\n",
    "    y_pred = linreg.predict(x_test)\n",
    "    \n",
    "    return y_test, y_pred"
   ]
  },
  {
   "cell_type": "code",
   "execution_count": 251,
   "metadata": {},
   "outputs": [],
   "source": [
    "def poly_regression_scale(degree, x_train, y_train, x_test, y_test):\n",
    "    poly = PolynomialFeatures(degree = degree)\n",
    "    poly.fit(x_train)\n",
    "    \n",
    "    temp = pd.DataFrame([y_test], columns = ['Journey Time (s)'])\n",
    "    y_test = temp['Journey Time (s)'][:, np.newaxis]\n",
    "\n",
    "    x_train = poly.transform(x_train)\n",
    "    x_test = poly.transform(x_test)\n",
    "    \n",
    "    # Scale the data\n",
    "    scaler = preprocessing.StandardScaler()\n",
    "    scaler = scaler.fit(x_train)\n",
    "    x_scaled = scaler.transform(x_train)\n",
    "    x_test_scaled = scaler.transform(x_test)\n",
    "\n",
    "    # Fit model\n",
    "    linreg = LinearRegression()\n",
    "    linreg.fit(x_scaled, y_train)\n",
    "\n",
    "    # Apply the model to the given  to predict the ‘Journey Time’\n",
    "    y_pred = linreg.predict(x_test_scaled)\n",
    "    \n",
    "    return y_test, y_pred"
   ]
  },
  {
   "cell_type": "code",
   "execution_count": 148,
   "metadata": {},
   "outputs": [],
   "source": [
    "def get_actual_times(most_recent_left_index, journeys):\n",
    "    \"\"\"\n",
    "    Returns the arrival time and journey time (seconds) of the first bus that arrives \n",
    "    at arr_stop immediately after req_time.\n",
    "    \"\"\"\n",
    "    rev = journeys.sort_values(by='Arrival at Stop B', ascending=False, ignore_index=True)\n",
    "    \n",
    "    actual_jrny = rev.loc[[most_recent_left_index] ,['Journey Time (s)']].values[0][0]\n",
    "    actual = rev.loc[[most_recent_left_index] ,:]\n",
    "        \n",
    "    return actual, actual_jrny"
   ]
  },
  {
   "cell_type": "code",
   "execution_count": 149,
   "metadata": {},
   "outputs": [],
   "source": [
    "def get_times_past_x_buses(journeys, req_time, buses_back):\n",
    "    \n",
    "    \"\"\"\n",
    "    most_recent_left\n",
    "        - is the last vehicle to leave stop a and arrive at stop b before req_time.\n",
    "    last_x_buses\n",
    "        - list of the last buses_back number of buses to use for the regression model.\n",
    "    \"\"\"\n",
    "\n",
    "    indices = []\n",
    "    last_x_buses = []\n",
    "    req_time = convert_time_to_datetime(req_time)\n",
    "    count = 0\n",
    "    \n",
    "    # reverse direction of arrivals at stop b\n",
    "    rev = journeys.sort_values(by='Arrival at Stop B', ascending=False, ignore_index=True)\n",
    "\n",
    "    for i, journey in rev.iterrows():\n",
    "        arr_dt = convert_time_to_datetime(journey['Arrival at Stop B'])\n",
    "        \n",
    "        if arr_dt < req_time:\n",
    "            # first one we encounter is the most recent arrived.\n",
    "            last_x_buses.append(journey)\n",
    "            count = count + 1\n",
    "            indices.append(i)\n",
    "            \n",
    "        if count == buses_back:\n",
    "            break\n",
    "    \n",
    "    most_recent_left = -1\n",
    "    if len(indices) > 0:\n",
    "        most_recent_left = indices[0]\n",
    "    \n",
    "    return most_recent_left, last_x_buses"
   ]
  },
  {
   "cell_type": "markdown",
   "metadata": {},
   "source": [
    "## Looking back 15 buses\n",
    "\n",
    "### 1) Predict journey time based on gap size between stops\n",
    "\n",
    "Wouldn't expect there to be a peak, but an increasing gradient so that the larger the gap the greater the predicted journey time. Let degree = 3 (based off the previous regression models - see github)"
   ]
  },
  {
   "cell_type": "code",
   "execution_count": null,
   "metadata": {
    "scrolled": false
   },
   "outputs": [
    {
     "name": "stdout",
     "output_type": "stream",
     "text": [
      "Gap 5 from North End Road to Phillimore Gardens\n",
      "Finished:  102.97268295288086\n",
      "Gap 10 from Willesden Bus Garage to Harrow Road / Kilburn Lane\n",
      "Finished:  71.87994599342346\n",
      "Gap 15 from Willesden Bus Garage to Chesterton Road\n",
      "Finished:  76.94385409355164\n",
      "Gap 20 from Willesden Bus Garage to Notting Hill Gate Station\n",
      "Finished:  59.01116967201233\n",
      "Gap 25 from Willesden Bus Garage to Palace Gate\n",
      "Finished:  96.72556710243225\n",
      "Gap 30 from Willesden Bus Garage to Knightsbridge Station  / Harrods\n"
     ]
    }
   ],
   "source": [
    "req_times = generate_request_times(30, \"2020-05-03 02:00:00\", \"2020-05-08 23:59:59\")\n",
    "\n",
    "pred_gaps = []\n",
    "actual_gaps = []\n",
    "\n",
    "for i, req_b in enumerate(stop_bs):\n",
    "\n",
    "    start = time.time()\n",
    "    print(\"Gap {} from {} to {}\".format(((i+1)*5), stop_as[i], req_b))\n",
    "    y_pred_gaps = []\n",
    "    y_test_gaps = []\n",
    "\n",
    "    for req_time in req_times:\n",
    "        x_test = 0\n",
    "        y_test = 0\n",
    "        df_gaps = []\n",
    "\n",
    "        for b in stop_bs:\n",
    "            journeys = unflattened.get(b)\n",
    "            most_recent_left_index, last_x_buses = get_times_past_x_buses(journeys, req_time, 15)\n",
    "            actual, actual_jrny = get_actual_times(most_recent_left_index, journeys)\n",
    "            df_gaps.append(last_x_buses)\n",
    "\n",
    "            if b == req_b:\n",
    "                x_test = actual\n",
    "                y_test = actual_jrny\n",
    "\n",
    "        x_test = x_test['Gap'][:, np.newaxis]\n",
    "\n",
    "        flat = [item for sublist in df_gaps for item in sublist]\n",
    "        x_gap = [item['Gap'] for item in flat]\n",
    "        y_gap = [item['Journey Time (s)'] for item in flat]\n",
    "\n",
    "        df_gap = pd.DataFrame(x_gap, columns = ['Gap'])\n",
    "        x_gap = df_gap['Gap'][:, np.newaxis]\n",
    "\n",
    "        df_gap = pd.DataFrame(y_gap, columns = ['Journey Time (s)'])\n",
    "        y_gap = df_gap['Journey Time (s)'][:, np.newaxis]\n",
    "\n",
    "        y_test_gap, y_pred_gap = poly_regression_gap(3, x_gap, y_gap, x_test, y_test)\n",
    "\n",
    "        y_pred_gaps.append(y_pred_gap)\n",
    "        y_test_gaps.append(y_test_gap)\n",
    "        \n",
    "    pred_gaps.append(y_pred_gaps)\n",
    "    actual_gaps.append(y_test_gaps)\n",
    "    \n",
    "    print(\"Finished: \", (time.time() - start))"
   ]
  },
  {
   "cell_type": "code",
   "execution_count": null,
   "metadata": {},
   "outputs": [],
   "source": [
    "from sklearn.metrics import mean_squared_error, mean_absolute_error, r2_score\n",
    "\n",
    "actual_gaps = [[m[0][0] for m in n] for n in actual_gaps]\n",
    "pred_gaps = [[m[0][0] for m in n] for n in pred_gaps]\n",
    "\n",
    "# Calculate measures of success\n",
    "rmse_gaps = []\n",
    "mape_gaps = []\n",
    "\n",
    "for i, p in enumerate(pred_gaps):\n",
    "    mse = mean_squared_error(actual_gaps[i], p)\n",
    "    rmse = np.sqrt(mse)\n",
    "    r2 = r2_score(actual_gaps[i], p)\n",
    "    mape = mean_absolute_error(actual_gaps[i], p)\n",
    "\n",
    "    print('The coefficient of determination is: ', r2)\n",
    "    rmse_gaps.append(rmse)\n",
    "    mape_gaps.append(mape)"
   ]
  },
  {
   "cell_type": "code",
   "execution_count": null,
   "metadata": {},
   "outputs": [],
   "source": [
    "fig, ax = plt.subplots(figsize=(12,5), nrows = 1, ncols = 2)\n",
    "\n",
    "ax[0].plot([((i + 1)*5) for i in range(0, len(rmse_gaps))], rmse_gaps)\n",
    "ax[0].set_title(\"RMSE score as gap between stops increases\")\n",
    "ax[0].set_xlabel(\"Gap\")\n",
    "ax[0].set_ylabel(\"RMSE (seconds)\")\n",
    "\n",
    "ax[1].plot([((i + 1)*5) for i in range(0, len(rmse_gaps))], mape_gaps)\n",
    "ax[1].set_title(\"MAPE score as gap between stops increases\")\n",
    "ax[1].set_xlabel(\"Gap\")\n",
    "ax[1].set_ylabel(\"MAPE (seconds)\")\n",
    "\n",
    "fig.suptitle(\"Regression Model with Gap size as independent variables\", fontsize=14)\n",
    "plt.show()"
   ]
  },
  {
   "cell_type": "code",
   "execution_count": null,
   "metadata": {},
   "outputs": [],
   "source": [
    "times = [convert_time_to_datetime(t) for t in req_times]\n",
    "\n",
    "pred_minutes_gap10 = [x/60 for x in pred_gaps[1]]\n",
    "actual_minutes_gap10 = [x/60 for x in actual_gaps[1]]\n",
    "\n",
    "pred_minutes_gap20 = [x/60 for x in pred_gaps[3]]\n",
    "actual_minutes_gap20 = [x/60 for x in actual_gaps[3]]\n",
    "\n",
    "fig, ax = plt.subplots(figsize=(15,12), nrows=2, ncols=1)\n",
    "\n",
    "ax[0].plot(times, actual_minutes_gap10, label=\"Actual journey time\")\n",
    "ax[0].plot(times, pred_minutes_gap10, label=\"Predicted journey time\")\n",
    "ax[0].set_xlabel(\"Time of request\")\n",
    "ax[0].set_ylabel(\"Journey Time (minutes)\")\n",
    "ax[0].set_ylim(0, 40)\n",
    "ax[0].set_title(\"Journey time of a bus from Willesden Bus Garage to Harrow Road / Kilburn Lane on route 52 (gap = 10)\")\n",
    "ax[0].legend()\n",
    "\n",
    "ax[1].plot(times, actual_minutes_gap20, label=\"Actual journey time\")\n",
    "ax[1].plot(times, pred_minutes_gap20, label=\"Predicted journey time\")\n",
    "ax[1].set_xlabel(\"Time of request\")\n",
    "ax[1].set_ylabel(\"Journey Time (minutes)\")\n",
    "ax[1].set_ylim(0, 40)\n",
    "ax[1].set_title(\"Journey time of a bus from Willesden Bus Garage to Nottinghill Gate Station on route 52 (gap = 20)\")\n",
    "ax[1].legend()\n",
    "\n",
    "fig.suptitle(\"Regression Model with Gap size as independent variables\", fontsize=14)\n",
    "plt.show()"
   ]
  },
  {
   "cell_type": "markdown",
   "metadata": {},
   "source": [
    "### 2) Predict journey time based on gap size between stops and day of week\n",
    "\n",
    "Would expect there to be 1 peak for weekdays and a dip during the weekend (or maybe vice versa). Let degree = 8"
   ]
  },
  {
   "cell_type": "code",
   "execution_count": 250,
   "metadata": {},
   "outputs": [
    {
     "name": "stdout",
     "output_type": "stream",
     "text": [
      "Gap 5 from North End Road to Phillimore Gardens\n",
      "Finished:  177.88810110092163\n",
      "Gap 10 from Willesden Bus Garage to Harrow Road / Kilburn Lane\n",
      "Finished:  155.5276598930359\n",
      "Gap 15 from Willesden Bus Garage to Chesterton Road\n",
      "Finished:  158.15139603614807\n",
      "Gap 20 from Willesden Bus Garage to Notting Hill Gate Station\n",
      "Finished:  145.4540078639984\n",
      "Gap 25 from Willesden Bus Garage to Palace Gate\n",
      "Finished:  174.77568316459656\n",
      "Gap 30 from Willesden Bus Garage to Knightsbridge Station  / Harrods\n",
      "Finished:  140.67570805549622\n",
      "Gap 35 from Willesden Bus Garage to Victoria Bus Station\n",
      "Finished:  93.1937038898468\n"
     ]
    }
   ],
   "source": [
    "req_times = generate_request_times(30, \"2020-05-03 02:00:00\", \"2020-05-08 23:59:59\")\n",
    "\n",
    "pred_dow_gaps = []\n",
    "actual_dow_gaps = []\n",
    "\n",
    "for i, req_b in enumerate(stop_bs):\n",
    "\n",
    "    start = time.time()\n",
    "    print(\"Gap {} from {} to {}\".format(((i+1)*5), stop_as[i], req_b))\n",
    "    y_pred_gaps = []\n",
    "    y_test_gaps = []\n",
    "\n",
    "    for req_time in req_times:\n",
    "\n",
    "        x_test = 0\n",
    "        y_test = 0\n",
    "        df = []\n",
    "\n",
    "        for b in stop_bs:\n",
    "            journeys = unflattened.get(b)\n",
    "            most_recent_left_index, last_x_buses = get_times_past_x_buses(journeys, req_time, 15)\n",
    "            actual, actual_jrny = get_actual_times(most_recent_left_index, journeys)\n",
    "            df.append(last_x_buses)\n",
    "\n",
    "            if b == req_b:\n",
    "                x_test = actual\n",
    "                y_test = actual_jrny\n",
    "\n",
    "        x_test = x_test.loc[:, ['Day of Week Encoded', 'Gap']]\n",
    "\n",
    "        flat = [item for sublist in df for item in sublist]\n",
    "        x_gap = [item[['Day of Week Encoded', 'Gap']] for item in flat]\n",
    "        y_gap = [item['Journey Time (s)'] for item in flat]\n",
    "\n",
    "        df_x = pd.DataFrame(x_gap, columns = ['Day of Week Encoded', 'Gap'])\n",
    "        x_gap = df_x[['Day of Week Encoded', 'Gap']]\n",
    "\n",
    "        df_y = pd.DataFrame(y_gap, columns = ['Journey Time (s)'])\n",
    "        y_gap = df_y['Journey Time (s)'][:, np.newaxis]\n",
    "\n",
    "        y_test_gap, y_pred_gap = poly_regression_scale(8, x_gap, y_gap, x_test, y_test)\n",
    "\n",
    "        y_pred_gaps.append(y_pred_gap)\n",
    "        y_test_gaps.append(y_test_gap)\n",
    "\n",
    "    pred_dow_gaps.append(y_pred_gaps)\n",
    "    actual_dow_gaps.append(y_test_gaps)\n",
    "\n",
    "    print(\"Finished: \", (time.time() - start))"
   ]
  },
  {
   "cell_type": "code",
   "execution_count": 252,
   "metadata": {},
   "outputs": [
    {
     "name": "stdout",
     "output_type": "stream",
     "text": [
      "The coefficient of determination is:  0.0\n",
      "The coefficient of determination is:  -0.17920675794413032\n",
      "The coefficient of determination is:  -0.4988970806737054\n",
      "The coefficient of determination is:  0.12414000691966076\n",
      "The coefficient of determination is:  0.0984808653105812\n",
      "The coefficient of determination is:  -0.2102475470053009\n",
      "The coefficient of determination is:  0.8170990198767247\n"
     ]
    }
   ],
   "source": [
    "from sklearn.metrics import mean_squared_error, mean_absolute_error, r2_score\n",
    "\n",
    "actual_dow_gaps = [[m[0][0] for m in n] for n in actual_dow_gaps]\n",
    "pred_dow_gaps = [[m[0][0] for m in n] for n in pred_dow_gaps]\n",
    "\n",
    "# Calculate measures of success\n",
    "rmse_dow_gaps = []\n",
    "mape_dow_gaps = []\n",
    "\n",
    "for i, p in enumerate(pred_dow_gaps):\n",
    "    mse = mean_squared_error(actual_dow_gaps[i], p)\n",
    "    rmse = np.sqrt(mse)\n",
    "    r2 = r2_score(actual_dow_gaps[i], p)\n",
    "    mape = mean_absolute_error(actual_dow_gaps[i], p)\n",
    "\n",
    "    print('The coefficient of determination is: ', r2)\n",
    "    rmse_dow_gaps.append(rmse)\n",
    "    mape_dow_gaps.append(mape)"
   ]
  },
  {
   "cell_type": "code",
   "execution_count": 253,
   "metadata": {
    "scrolled": false
   },
   "outputs": [
    {
     "data": {
      "image/png": "[encoded data removed]",
      "text/plain": [
       "<Figure size 864x360 with 2 Axes>"
      ]
     },
     "metadata": {},
     "output_type": "display_data"
    }
   ],
   "source": [
    "fig, ax = plt.subplots(figsize=(12,5), nrows = 1, ncols = 2)\n",
    "\n",
    "ax[0].plot([((i + 1)*5) for i in range(0, len(rmse_dow_gaps))], rmse_dow_gaps)\n",
    "ax[0].set_title(\"RMSE score as gap between stops increases\")\n",
    "ax[0].set_xlabel(\"Gap\")\n",
    "ax[0].set_ylabel(\"RMSE (seconds)\")\n",
    "\n",
    "ax[1].plot([((i + 1)*5) for i in range(0, len(rmse_dow_gaps))], mape_dow_gaps)\n",
    "ax[1].set_title(\"MAPE score as gap between stops increases\")\n",
    "ax[1].set_xlabel(\"Gap\")\n",
    "ax[1].set_ylabel(\"MAPE (seconds)\")\n",
    "\n",
    "fig.suptitle(\"Regression Model with Gap size and Day of Week as independent variables\", fontsize=14)\n",
    "plt.show()"
   ]
  },
  {
   "cell_type": "code",
   "execution_count": 255,
   "metadata": {},
   "outputs": [
    {
     "data": {
      "image/png": "[encoded data removed]",
      "text/plain": [
       "<Figure size 1080x864 with 2 Axes>"
      ]
     },
     "metadata": {},
     "output_type": "display_data"
    }
   ],
   "source": [
    "times = [convert_time_to_datetime(t) for t in req_times]\n",
    "\n",
    "pred_minutes_gap10_dow = [x/60 for x in pred_dow_gaps[1]]\n",
    "actual_minutes_gap10 = [x/60 for x in actual_dow_gaps[1]]\n",
    "\n",
    "pred_minutes_gap20_dow = [x/60 for x in pred_dow_gaps[3]]\n",
    "actual_minutes_gap20 = [x/60 for x in actual_dow_gaps[3]]\n",
    "\n",
    "fig, ax = plt.subplots(figsize=(15,12), nrows=2, ncols=1)\n",
    "\n",
    "ax[0].plot(times, actual_minutes_gap10, label=\"Actual journey time\")\n",
    "ax[0].plot(times, pred_minutes_gap10_dow, label=\"Predicted journey time\")\n",
    "ax[0].set_xlabel(\"Time of request\")\n",
    "ax[0].set_ylabel(\"Journey Time (minutes)\")\n",
    "ax[0].set_ylim(0, 40)\n",
    "ax[0].set_title(\"Journey time of a bus from Willesden Bus Garage to Harrow Road / Kilburn Lane on route 52 (gap = 10)\")\n",
    "ax[0].legend()\n",
    "\n",
    "ax[1].plot(times, actual_minutes_gap20, label=\"Actual journey time\")\n",
    "ax[1].plot(times, pred_minutes_gap20_dow, label=\"Predicted journey time\")\n",
    "ax[1].set_xlabel(\"Time of request\")\n",
    "ax[1].set_ylabel(\"Journey Time (minutes)\")\n",
    "ax[1].set_ylim(0, 40)\n",
    "ax[1].set_title(\"Journey time of a bus from Willesden Bus Garage to Nottinghill Gate Station on route 52 (gap = 20)\")\n",
    "ax[1].legend()\n",
    "\n",
    "fig.suptitle(\"Regression Model with Gap size and Day of Week as independent variables\", fontsize=14)\n",
    "plt.show()"
   ]
  },
  {
   "cell_type": "markdown",
   "metadata": {},
   "source": [
    "### 3) Predict journey time based on gap size between stops and time of day\n",
    "\n",
    "Would expect there to be 2 peaks for morning peak and evening peak, and then dips in between. Let degree = 3"
   ]
  },
  {
   "cell_type": "code",
   "execution_count": null,
   "metadata": {},
   "outputs": [],
   "source": [
    "req_times = generate_request_times(30, \"2020-05-03 02:00:00\", \"2020-05-08 23:59:59\")\n",
    "\n",
    "pred_tod_gaps = []\n",
    "actual_tod_gaps = []\n",
    "\n",
    "for i, req_b in enumerate(stop_bs):\n",
    "\n",
    "    start = time.time()\n",
    "    print(\"Gap {} from {} to {}\".format(((i+1)*5), stop_as[i], req_b))\n",
    "    y_pred_gaps = []\n",
    "    y_test_gaps = []\n",
    "\n",
    "    for req_time in req_times:\n",
    "\n",
    "        x_test = 0\n",
    "        y_test = 0\n",
    "        df = []\n",
    "\n",
    "        for b in stop_bs:\n",
    "            journeys = unflattened.get(b)\n",
    "            most_recent_left_index, last_x_buses = get_times_past_x_buses(journeys, req_time, 15)\n",
    "            actual, actual_jrny = get_actual_times(most_recent_left_index, journeys)\n",
    "            df.append(last_x_buses)\n",
    "\n",
    "            if b == req_b:\n",
    "                x_test = actual\n",
    "                y_test = actual_jrny\n",
    "\n",
    "        x_test = x_test.loc[:, ['Time of Day', 'Gap']]\n",
    "\n",
    "        flat = [item for sublist in df for item in sublist]\n",
    "        x_gap = [item[['Time of Day', 'Gap']] for item in flat]\n",
    "        y_gap = [item['Journey Time (s)'] for item in flat]\n",
    "\n",
    "        df_x = pd.DataFrame(x_gap, columns = ['Time of Day', 'Gap'])\n",
    "        x_gap = df_x[['Time of Day', 'Gap']]\n",
    "\n",
    "        df_y = pd.DataFrame(y_gap, columns = ['Journey Time (s)'])\n",
    "        y_gap = df_y['Journey Time (s)'][:, np.newaxis]\n",
    "\n",
    "        y_test_gap, y_pred_gap = poly_regression_scale(3, x_gap, y_gap, x_test, y_test)\n",
    "\n",
    "        y_pred_gaps.append(y_pred_gap)\n",
    "        y_test_gaps.append(y_test_gap)\n",
    "\n",
    "    pred_tod_gaps.append(y_pred_gaps)\n",
    "    actual_tod_gaps.append(y_test_gaps)\n",
    "\n",
    "    print(\"Finished: \", (time.time() - start))"
   ]
  },
  {
   "cell_type": "code",
   "execution_count": null,
   "metadata": {},
   "outputs": [],
   "source": [
    "from sklearn.metrics import mean_squared_error, mean_absolute_error, r2_score\n",
    "\n",
    "actual_tod_gaps = [[m[0][0] for m in n] for n in actual_tod_gaps]\n",
    "pred_tod_gaps = [[m[0][0] for m in n] for n in pred_tod_gaps]\n",
    "\n",
    "# Calculate measures of success\n",
    "rmse_tod_gaps = []\n",
    "mape_tod_gaps = []\n",
    "\n",
    "for i, p in enumerate(pred_tod_gaps):\n",
    "    mse = mean_squared_error(actual_tod_gaps[i], p)\n",
    "    rmse = np.sqrt(mse)\n",
    "    r2 = r2_score(actual_tod_gaps[i], p)\n",
    "    mape = mean_absolute_error(actual_tod_gaps[i], p)\n",
    "\n",
    "    print('The coefficient of determination is: ', r2)\n",
    "    rmse_gaps.append(rmse)\n",
    "    mape_gaps.append(mape)"
   ]
  },
  {
   "cell_type": "code",
   "execution_count": null,
   "metadata": {},
   "outputs": [],
   "source": [
    "fig, ax = plt.subplots(figsize=(12,5), nrows = 1, ncols = 2)\n",
    "\n",
    "ax[0].plot([i for i in range(1, len(rmse_tod_gap) + 1)], rmse_tod_gap)\n",
    "ax[0].set_title(\"RMSE score as degree increases\")\n",
    "ax[0].set_xlabel(\"Degree\")\n",
    "ax[0].set_ylabel(\"RMSE (seconds)\")\n",
    "ax[0].set_ylim(90, 130)\n",
    "\n",
    "ax[1].plot([i for i in range(1, len(mape_tod_gap) + 1)], mape_tod_gap)\n",
    "ax[1].set_title(\"MAPE score as degree increases\")\n",
    "ax[1].set_xlabel(\"Degree\")\n",
    "ax[1].set_ylabel(\"MAPE (seconds)\")\n",
    "ax[1].set_ylim(60, 100)\n",
    "\n",
    "fig.suptitle(\"Regression Model with Time of Day and Gap size as independent variables\", fontsize=14)\n",
    "plt.show()"
   ]
  },
  {
   "cell_type": "code",
   "execution_count": null,
   "metadata": {},
   "outputs": [],
   "source": [
    "times = [convert_time_to_datetime(t) for t in req_times]\n",
    "\n",
    "pred_minutes_gap10_tod = [x/60 for x in pred_tod_gaps[1]]\n",
    "actual_minutes_gap10 = [x/60 for x in actual_tod_gaps[1]]\n",
    "\n",
    "pred_minutes_gap20_tod = [x/60 for x in pred_tod_gaps[3]]\n",
    "actual_minutes_gap20 = [x/60 for x in actual_tod_gaps[3]]\n",
    "\n",
    "fig, ax = plt.subplots(figsize=(15,12), nrows=2, ncols=1)\n",
    "\n",
    "ax[0].plot(times, actual_minutes_gap10, label=\"Actual journey time\")\n",
    "ax[0].plot(times, pred_minutes_gap10_tod, label=\"Predicted journey time\")\n",
    "ax[0].set_xlabel(\"Time of request\")\n",
    "ax[0].set_ylabel(\"Journey Time (minutes)\")\n",
    "ax[0].set_ylim(0, 40)\n",
    "ax[0].set_title(\"Journey time of a bus from Willesden Bus Garage to Harrow Road / Kilburn Lane on route 52 (gap = 10)\")\n",
    "ax[0].legend()\n",
    "\n",
    "ax[1].plot(times, actual_minutes_gap20, label=\"Actual journey time\")\n",
    "ax[1].plot(times, pred_minutes_gap20_tod, label=\"Predicted journey time\")\n",
    "ax[1].set_xlabel(\"Time of request\")\n",
    "ax[1].set_ylabel(\"Journey Time (minutes)\")\n",
    "ax[1].set_ylim(0, 40)\n",
    "ax[1].set_title(\"Journey time of a bus from Willesden Bus Garage to Nottinghill Gate Station on route 52 (gap = 20)\")\n",
    "ax[1].legend()\n",
    "\n",
    "fig.suptitle(\"Regression Model with Gap size and Time of Day as independent variables\", fontsize=14)\n",
    "plt.show()"
   ]
  },
  {
   "cell_type": "markdown",
   "metadata": {},
   "source": [
    "### 4) Predict journey time based on gap size between stops, time of day, day of week\n",
    "\n",
    "Let degree = 6"
   ]
  },
  {
   "cell_type": "code",
   "execution_count": null,
   "metadata": {},
   "outputs": [],
   "source": [
    "req_times = generate_request_times(30, \"2020-05-03 02:00:00\", \"2020-05-08 23:59:59\")\n",
    "\n",
    "pred_tod_dow_gaps = []\n",
    "actual_tod_dow_gaps = []\n",
    "\n",
    "for i, req_b in enumerate(stop_bs):\n",
    "\n",
    "    start = time.time()\n",
    "    print(\"Gap {} from {} to {}\".format(((i+1)*5), stop_as[i], req_b))\n",
    "    y_pred_gaps = []\n",
    "    y_test_gaps = []\n",
    "\n",
    "    for req_time in req_times:\n",
    "\n",
    "        x_test = 0\n",
    "        y_test = 0\n",
    "        df = []\n",
    "\n",
    "        for b in stop_bs:\n",
    "            journeys = unflattened.get(b)\n",
    "            most_recent_left_index, last_x_buses = get_times_past_x_buses(journeys, req_time, 15)\n",
    "            actual, actual_jrny = get_actual_times(most_recent_left_index, journeys)\n",
    "            df.append(last_x_buses)\n",
    "\n",
    "            if b == req_b:\n",
    "                x_test = actual\n",
    "                y_test = actual_jrny\n",
    "\n",
    "        x_test = x_test.loc[:, ['Time of Day', 'Day of Week Encoded', 'Gap']]\n",
    "\n",
    "        flat = [item for sublist in df for item in sublist]\n",
    "        x_gap = [item[['Time of Day', 'Day of Week Encoded', 'Gap']] for item in flat]\n",
    "        y_gap = [item['Journey Time (s)'] for item in flat]\n",
    "\n",
    "        df_x = pd.DataFrame(x_gap, columns = ['Time of Day', 'Day of Week Encoded', 'Gap'])\n",
    "        x_gap = df_x[['Time of Day', 'Day of Week Encoded', 'Gap']]\n",
    "\n",
    "        df_y = pd.DataFrame(y_gap, columns = ['Journey Time (s)'])\n",
    "        y_gap = df_y['Journey Time (s)'][:, np.newaxis]\n",
    "\n",
    "        y_test_gap, y_pred_gap = poly_regression_scale(6, x_gap, y_gap, x_test, y_test)\n",
    "\n",
    "        y_pred_gaps.append(y_pred_gap)\n",
    "        y_test_gaps.append(y_test_gap)\n",
    "\n",
    "    pred_tod_dow_gaps.append(y_pred_gaps)\n",
    "    actual_tod_dow_gaps.append(y_test_gaps)\n",
    "\n",
    "    print(\"Finished: \", (time.time() - start))"
   ]
  },
  {
   "cell_type": "code",
   "execution_count": null,
   "metadata": {},
   "outputs": [],
   "source": [
    "from sklearn.metrics import mean_squared_error, mean_absolute_error, r2_score\n",
    "\n",
    "actual_tod_dow_gaps = [[m[0][0] for m in n] for n in actual_tod_dow_gaps]\n",
    "pred_tod_dow_gaps = [[m[0][0] for m in n] for n in pred_tod_dow_gaps]\n",
    "\n",
    "# Calculate measures of success\n",
    "rmse_tod_dow_gaps = []\n",
    "mape_tod_dow_gaps = []\n",
    "\n",
    "for i, p in enumerate(pred_tod_dow_gaps):\n",
    "    mse = mean_squared_error(actual_tod_dow_gaps[i], p)\n",
    "    rmse = np.sqrt(mse)\n",
    "    r2 = r2_score(actual_tod_dow_gaps[i], p)\n",
    "    mape = mean_absolute_error(actual_tod_dow_gaps[i], p)\n",
    "\n",
    "    print('The coefficient of determination is: ', r2)\n",
    "    rmse_tod_dow_gaps.append(rmse)\n",
    "    mape_tod_dow_gaps.append(mape)"
   ]
  },
  {
   "cell_type": "code",
   "execution_count": null,
   "metadata": {},
   "outputs": [],
   "source": [
    "fig, ax = plt.subplots(figsize=(12,5), nrows = 1, ncols = 2)\n",
    "\n",
    "ax[0].plot([((i + 1)*5) for i in range(0, len(rmse_tod_dow_gaps))], rmse_tod_dow_gaps)\n",
    "ax[0].set_title(\"RMSE score as gap between stops increases\")\n",
    "ax[0].set_xlabel(\"Gap\")\n",
    "ax[0].set_ylabel(\"RMSE (seconds)\")\n",
    "\n",
    "ax[1].plot([((i + 1)*5) for i in range(0, len(rmse_tod_dow_gaps))], mape_tod_dow_gaps)\n",
    "ax[1].set_title(\"MAPE score as gap between stops increases\")\n",
    "ax[1].set_xlabel(\"Gap\")\n",
    "ax[1].set_ylabel(\"MAPE (seconds)\")\n",
    "\n",
    "fig.suptitle(\"Regression Model with Gap size, Time of Day and Day of Week as independent variables\", fontsize=14)\n",
    "plt.show()"
   ]
  },
  {
   "cell_type": "code",
   "execution_count": 74,
   "metadata": {},
   "outputs": [
    {
     "name": "stdout",
     "output_type": "stream",
     "text": [
      "5 6\n"
     ]
    }
   ],
   "source": [
    "times = [convert_time_to_datetime(t) for t in req_times]\n",
    "\n",
    "pred_minutes_gap10_tod_dow = [x/60 for x in pred_tod_dow_gaps[1]]\n",
    "actual_minutes_gap10 = [x/60 for x in actual_tod_dow_gaps[1]]\n",
    "\n",
    "pred_minutes_gap20_tod_dow = [x/60 for x in pred_tod_dow_gaps[3]]\n",
    "actual_minutes_gap20 = [x/60 for x in actual_tod_dow_gaps[3]]\n",
    "\n",
    "fig, ax = plt.subplots(figsize=(15,12), nrows=2, ncols=1)\n",
    "\n",
    "ax[0].plot(times, actual_minutes_gap10, label=\"Actual journey time\")\n",
    "ax[0].plot(times, pred_minutes_gap10_tod_dow, label=\"Predicted journey time\")\n",
    "ax[0].set_xlabel(\"Time of request\")\n",
    "ax[0].set_ylabel(\"Journey Time (minutes)\")\n",
    "ax[0].set_ylim(0, 40)\n",
    "ax[0].set_title(\"Journey time of a bus from Willesden Bus Garage to Harrow Road / Kilburn Lane on route 52 (gap = 10)\")\n",
    "ax[0].legend()\n",
    "\n",
    "ax[1].plot(times, actual_minutes_gap20, label=\"Actual journey time\")\n",
    "ax[1].plot(times, pred_minutes_gap20_tod_dow, label=\"Predicted journey time\")\n",
    "ax[1].set_xlabel(\"Time of request\")\n",
    "ax[1].set_ylabel(\"Journey Time (minutes)\")\n",
    "ax[1].set_ylim(0, 40)\n",
    "ax[1].set_title(\"Journey time of a bus from Willesden Bus Garage to Nottinghill Gate Station on route 52 (gap = 20)\")\n",
    "ax[1].legend()\n",
    "\n",
    "fig.suptitle(\"Regression Model with Gap size, Time of Day and Day of Week as independent variables\", fontsize=14)\n",
    "plt.show()"
   ]
  },
  {
   "cell_type": "markdown",
   "metadata": {},
   "source": [
    "### 5) Predict journey time based on gap size between stops, time of day, day of week and pre lockdown.\n",
    "\n",
    "Let degree = 3"
   ]
  },
  {
   "cell_type": "code",
   "execution_count": null,
   "metadata": {},
   "outputs": [],
   "source": [
    "req_times = generate_request_times(30, \"2020-05-03 02:00:00\", \"2020-05-08 23:59:59\")\n",
    "\n",
    "pred_tod_dow_ld_gaps = []\n",
    "actual_tod_dow_ld_gaps = []\n",
    "\n",
    "for i, req_b in enumerate(stop_bs):\n",
    "\n",
    "    start = time.time()\n",
    "    print(\"Gap {} from {} to {}\".format(((i+1)*5), stop_as[i], req_b))\n",
    "    y_pred_gaps = []\n",
    "    y_test_gaps = []\n",
    "\n",
    "    for req_time in req_times:\n",
    "\n",
    "        x_test = 0\n",
    "        y_test = 0\n",
    "        df = []\n",
    "\n",
    "        for b in stop_bs:\n",
    "            journeys = unflattened.get(b)\n",
    "            most_recent_left_index, last_x_buses = get_times_past_x_buses(journeys, req_time, 15)\n",
    "            actual, actual_jrny = get_actual_times(most_recent_left_index, journeys)\n",
    "            df.append(last_x_buses)\n",
    "\n",
    "            if b == req_b:\n",
    "                x_test = actual\n",
    "                y_test = actual_jrny\n",
    "\n",
    "        x_test = x_test.loc[:, ['Time of Day', 'Day of Week Encoded', 'Gap', 'Pre Lockdown']]\n",
    "\n",
    "        flat = [item for sublist in df for item in sublist]\n",
    "        x_gap = [item[['Time of Day', 'Day of Week Encoded', 'Gap', 'Pre Lockdown']] for item in flat]\n",
    "        y_gap = [item['Journey Time (s)'] for item in flat]\n",
    "\n",
    "        df_x = pd.DataFrame(x_gap, columns = ['Time of Day', 'Day of Week Encoded', 'Gap', 'Pre Lockdown'])\n",
    "        x_gap = df_x[['Time of Day', 'Day of Week Encoded', 'Gap', 'Pre Lockdown']]\n",
    "\n",
    "        df_y = pd.DataFrame(y_gap, columns = ['Journey Time (s)'])\n",
    "        y_gap = df_y['Journey Time (s)'][:, np.newaxis]\n",
    "\n",
    "        y_test_gap, y_pred_gap = poly_regression_scale(3, x_gap, y_gap, x_test, y_test)\n",
    "\n",
    "        y_pred_gaps.append(y_pred_gap)\n",
    "        y_test_gaps.append(y_test_gap)\n",
    "\n",
    "    pred_tod_dow_ld_gaps.append(y_pred_gaps)\n",
    "    actual_tod_dow_ld_gaps.append(y_test_gaps)\n",
    "\n",
    "    print(\"Finished: \", (time.time() - start))"
   ]
  },
  {
   "cell_type": "code",
   "execution_count": null,
   "metadata": {},
   "outputs": [],
   "source": [
    "from sklearn.metrics import mean_squared_error, mean_absolute_error, r2_score\n",
    "\n",
    "actual_tod_dow_ld_gaps = [[m[0][0] for m in n] for n in actual_tod_dow_ld_gaps]\n",
    "pred_tod_dow_ld_gaps = [[m[0][0] for m in n] for n in pred_tod_dow_ld_gaps]\n",
    "\n",
    "# Calculate measures of success\n",
    "rmse_tod_dow_ld_gaps = []\n",
    "mape_tod_dow_ld_gaps = []\n",
    "\n",
    "for i, p in enumerate(pred_tod_dow_ld_gaps):\n",
    "    mse = mean_squared_error(actual_tod_dow_ld_gaps[i], p)\n",
    "    rmse = np.sqrt(mse)\n",
    "    r2 = r2_score(actual_tod_dow_ld_gaps[i], p)\n",
    "    mape = mean_absolute_error(actual_tod_dow_ld_gaps[i], p)\n",
    "\n",
    "    print('The coefficient of determination is: ', r2)\n",
    "    rmse_tod_dow_ld_gaps.append(rmse)\n",
    "    mape_tod_dow_ld_gaps.append(mape)"
   ]
  },
  {
   "cell_type": "code",
   "execution_count": null,
   "metadata": {},
   "outputs": [],
   "source": [
    "fig, ax = plt.subplots(figsize=(12,5), nrows = 1, ncols = 2)\n",
    "\n",
    "ax[0].plot([((i + 1)*5) for i in range(0, len(rmse_tod_dow_ld_gaps))], rmse_tod_dow_ld_gaps)\n",
    "ax[0].set_title(\"RMSE score as gap between stops increases\")\n",
    "ax[0].set_xlabel(\"Gap\")\n",
    "ax[0].set_ylabel(\"RMSE (seconds)\")\n",
    "\n",
    "ax[1].plot([((i + 1)*5) for i in range(0, len(rmse_tod_dow_ld_gaps))], mape_tod_dow_ld_gaps)\n",
    "ax[1].set_title(\"MAPE score as gap between stops increases\")\n",
    "ax[1].set_xlabel(\"Gap\")\n",
    "ax[1].set_ylabel(\"MAPE (seconds)\")\n",
    "\n",
    "fig.suptitle(\"Regression Model with Gap size, Time of Day, Day of Week and Pre Lockdown as independent variables\", fontsize=14)\n",
    "plt.show()"
   ]
  },
  {
   "cell_type": "code",
   "execution_count": 80,
   "metadata": {},
   "outputs": [
    {
     "name": "stdout",
     "output_type": "stream",
     "text": [
      "3 3\n"
     ]
    }
   ],
   "source": [
    "times = [convert_time_to_datetime(t) for t in req_times]\n",
    "\n",
    "pred_minutes_gap10_tod_dow_ld = [x/60 for x in pred_tod_dow_ld_gaps[1]]\n",
    "actual_minutes_gap10 = [x/60 for x in actual_tod_dow_ld_gaps[1]]\n",
    "\n",
    "pred_minutes_gap20_tod_dow_ld = [x/60 for x in pred_tod_dow_ld_gaps[3]]\n",
    "actual_minutes_gap20 = [x/60 for x in actual_tod_dow_ld_gaps[3]]\n",
    "\n",
    "fig, ax = plt.subplots(figsize=(15,12), nrows=2, ncols=1)\n",
    "\n",
    "ax[0].plot(times, actual_minutes_gap10, label=\"Actual journey time\")\n",
    "ax[0].plot(times, pred_minutes_gap10_tod_dow_ld, label=\"Predicted journey time\")\n",
    "ax[0].set_xlabel(\"Time of request\")\n",
    "ax[0].set_ylabel(\"Journey Time (minutes)\")\n",
    "ax[0].set_ylim(0, 40)\n",
    "ax[0].set_title(\"Journey time of a bus from Willesden Bus Garage to Harrow Road / Kilburn Lane on route 52 (gap = 10)\")\n",
    "ax[0].legend()\n",
    "\n",
    "ax[1].plot(times, actual_minutes_gap20, label=\"Actual journey time\")\n",
    "ax[1].plot(times, pred_minutes_gap20_tod_dow_ld, label=\"Predicted journey time\")\n",
    "ax[1].set_xlabel(\"Time of request\")\n",
    "ax[1].set_ylabel(\"Journey Time (minutes)\")\n",
    "ax[1].set_ylim(0, 40)\n",
    "ax[1].set_title(\"Journey time of a bus from Willesden Bus Garage to Nottinghill Gate Station on route 52 (gap = 20)\")\n",
    "ax[1].legend()\n",
    "\n",
    "fig.suptitle(\"Regression Model with Gap size, Time of Day, Day of Week and Pre Lockdown as independent variables\", fontsize=14)\n",
    "plt.show()"
   ]
  },
  {
   "cell_type": "markdown",
   "metadata": {},
   "source": [
    "## Compare the models"
   ]
  },
  {
   "cell_type": "code",
   "execution_count": 83,
   "metadata": {},
   "outputs": [
    {
     "name": "stdout",
     "output_type": "stream",
     "text": [
      "[(82.9809683059284, 4, 'Gap size'), (71.18240813462792, 3, 'ToD + Gap'), (81.13496564675364, 9, 'DoW + Gap'), (81.21171145013297, 7, 'ToD + DoW + Gap'), (70.72319274931752, 4, 'ToD + DoW + Gap + Lockdown')]\n",
      "[(123.508846745984, 14, 'Gap size'), (99.75086725343662, 4, 'ToD + Gap'), (112.62664753791688, 12, 'DoW + Gap'), (123.81649873328425, 6, 'ToD + DoW + Gap'), (102.65345875101492, 4, 'ToD + DoW + Gap + Lockdown')]\n"
     ]
    }
   ],
   "source": [
    "compare_mapes = [best_mape_gap, best_mape_tod_gap, best_mape_dow_gap, best_mape_tod_dow_gap, best_mape_tod_dow_gap_ld]\n",
    "compare_rmses = [best_rmse_gap, best_rmse_tod_gap, best_rmse_dow_gap, best_rmse_tod_dow_gap, best_rmse_tod_dow_gap_ld]\n",
    "compare_mapes_indices = [best_mape_gap_index, best_mape_tod_gap_index, best_mape_dow_gap_index, best_mape_tod_dow_gap_index, best_mape_tod_dow_gap_ld_index]\n",
    "compare_rmses_indices = [best_rmse_gap_index, best_rmse_tod_gap_index, best_rmse_dow_gap_index, best_rmse_tod_dow_gap_index, best_rmse_tod_dow_gap_ld_index]\n",
    "compare_mapes_degree = [x + 1 for x in compare_mapes_indices]\n",
    "compare_rmses_degree = [x + 1 for x in compare_rmses_indices]\n",
    "\n",
    "compare_labels = [\"Gap size\", \"ToD + Gap\", \"DoW + Gap\", \"ToD + DoW + Gap\", \"ToD + DoW + Gap + Lockdown\"]\n",
    "best_mapes_zipped = list(zip(compare_mapes, compare_mapes_degree, compare_labels))\n",
    "best_rmses_zipped = list(zip(compare_rmses, compare_rmses_degree, compare_labels))\n",
    "print(best_mapes_zipped)\n",
    "print(best_rmses_zipped)"
   ]
  },
  {
   "cell_type": "code",
   "execution_count": 84,
   "metadata": {},
   "outputs": [
    {
     "data": {
      "image/png": "[encoded data removed]",
      "text/plain": [
       "<Figure size 864x360 with 2 Axes>"
      ]
     },
     "metadata": {},
     "output_type": "display_data"
    }
   ],
   "source": [
    "fig, ax = plt.subplots(figsize=(12,5), nrows = 1, ncols = 2)\n",
    "plt.xticks(rotation=45)\n",
    "\n",
    "ax[0].bar(compare_labels, compare_rmses)\n",
    "ax[0].set_title(\"RMSE score for different models\")\n",
    "ax[0].set_xlabel(\"Model\")\n",
    "ax[0].set_ylabel(\"RMSE (seconds)\")\n",
    "\n",
    "for tick in ax[0].get_xticklabels():\n",
    "    tick.set_rotation(45)\n",
    "\n",
    "rects_rmse = ax[0].patches\n",
    "# labels_rmse = [round(best_rmse_tod, 2), round(best_rmse_dow, 2), round(best_rmse_mult, 2), round(best_rmse_mult2, 2)]\n",
    "labels_rmse = [round(best, 2) for best in compare_rmses]\n",
    "\n",
    "for rect, label in zip(rects_rmse, labels_rmse):\n",
    "    height = rect.get_height()\n",
    "    ax[0].text(rect.get_x() + rect.get_width() / 2, height - 5, label,\n",
    "            ha='center', va='bottom')\n",
    "    \n",
    "ax[1].bar(compare_labels, compare_mapes)\n",
    "ax[1].set_title(\"MAPE score for different models\")\n",
    "ax[1].set_xlabel(\"Model\")\n",
    "ax[1].set_ylabel(\"MAPE (seconds)\")\n",
    "\n",
    "rects_mape = ax[1].patches\n",
    "# labels_mape = [round(best_mape_tod, 2), round(best_mape_dow, 2), round(best_mape_mult, 2), round(best_mape_mult2, 2)]\n",
    "labels_mape = [round(best, 2) for best in compare_mapes]\n",
    "\n",
    "for rect, label in zip(rects_mape, labels_mape):\n",
    "    height = rect.get_height()\n",
    "    ax[1].text(rect.get_x() + rect.get_width() / 2, height - 5, label,\n",
    "            ha='center', va='bottom')\n",
    "\n",
    "fig.suptitle('Regression Model', fontsize=14)\n",
    "plt.show()"
   ]
  },
  {
   "cell_type": "markdown",
   "metadata": {},
   "source": [
    "According to both MAPE and RMSE, the best model is the one that has time of day and day of week as independent variables in the multilinear regression model with degree 3 and 7 respectively\n",
    "\n",
    "TODO: In this case, is MAPE or RMSE a better measure of success?\n",
    "\n",
    "The above values change depending on the split of training and testing -> might be necessary to do k-fold cross validation and get the average MAPE and average RMSE? Can email Peter to discuss"
   ]
  },
  {
   "cell_type": "code",
   "execution_count": 85,
   "metadata": {},
   "outputs": [
    {
     "name": "stdout",
     "output_type": "stream",
     "text": [
      "Stored 'regression_mapes' (list)\n",
      "Stored 'regression_rmses' (list)\n"
     ]
    }
   ],
   "source": [
    "regression_mapes = compare_mapes\n",
    "regression_rmses = compare_rmses\n",
    "\n",
    "%store regression_mapes regression_rmses"
   ]
  },
  {
   "cell_type": "markdown",
   "metadata": {},
   "source": [
    "## Testing out best model with random gaps and random routes\n",
    "\n",
    "Test the best 2 models"
   ]
  },
  {
   "cell_type": "code",
   "execution_count": 442,
   "metadata": {},
   "outputs": [
    {
     "name": "stdout",
     "output_type": "stream",
     "text": [
      "(52.665604711352856, 2, 'ToD + DoW + Lockdown')\n",
      "(56.08190548407646, 13, 'ToD + DoW')\n"
     ]
    }
   ],
   "source": [
    "best_model1, best_model2 = sorted(best_mapes_zipped, key = lambda t: t[0])[:2]\n",
    "print(best_model1)\n",
    "print(best_model2)\n",
    "\n",
    "all_models = {\n",
    "    \"ToD\": model_tods,\n",
    "    \"DoW\": model_dows,\n",
    "    \"ToD + DoW\": model_mults,\n",
    "    \"ToD + DoW + Lockdown\": model_mults2\n",
    "}\n",
    "\n",
    "model1_degree = best_model1[1]\n",
    "model1 = all_models.get(best_model1[2])[model1_degree - 1]\n",
    "\n",
    "model2_degree = best_model2[1]\n",
    "model2 = all_models.get(best_model2[2])[model2_degree - 1]"
   ]
  },
  {
   "cell_type": "markdown",
   "metadata": {},
   "source": [
    "### Gaps from size 5 to 35"
   ]
  },
  {
   "cell_type": "markdown",
   "metadata": {},
   "source": [
    "### 1st best model"
   ]
  },
  {
   "cell_type": "code",
   "execution_count": 451,
   "metadata": {
    "scrolled": true
   },
   "outputs": [
    {
     "name": "stdout",
     "output_type": "stream",
     "text": [
      "Gap = 5\n",
      "Getting journey times took 188.26101207733154\n",
      "107.50956930583848 87.10300523726522\n",
      "Gap = 10\n",
      "Getting journey times took 145.89141297340393\n",
      "426.18650653927955 417.3202777283249\n",
      "Gap = 15\n",
      "Getting journey times took 156.50052905082703\n",
      "750.5426924568935 740.2400395274673\n",
      "Gap = 20\n",
      "Getting journey times took 279.50642585754395\n",
      "1092.831596199362 1084.1104976928148\n",
      "Gap = 25\n",
      "Getting journey times took 280.73078203201294\n",
      "1745.8211195725478 1735.7619872505543\n",
      "Gap = 30\n",
      "Getting journey times took 221.38657784461975\n",
      "2352.4959361700076 2332.565597954367\n",
      "Gap = 35\n",
      "Getting journey times took 226.06498289108276\n"
     ]
    },
    {
     "ename": "ValueError",
     "evalue": "Found array with 0 sample(s) (shape=(0, 3)) while a minimum of 1 is required.",
     "output_type": "error",
     "traceback": [
      "\u001b[0;31m---------------------------------------------------------------------------\u001b[0m",
      "\u001b[0;31mValueError\u001b[0m                                Traceback (most recent call last)",
      "\u001b[0;32m<ipython-input-451-e43241d3e470>\u001b[0m in \u001b[0;36m<module>\u001b[0;34m\u001b[0m\n\u001b[1;32m     12\u001b[0m     \u001b[0mpoly1\u001b[0m \u001b[0;34m=\u001b[0m \u001b[0mPolynomialFeatures\u001b[0m\u001b[0;34m(\u001b[0m\u001b[0mdegree\u001b[0m \u001b[0;34m=\u001b[0m \u001b[0mmodel1_degree\u001b[0m\u001b[0;34m)\u001b[0m\u001b[0;34m\u001b[0m\u001b[0;34m\u001b[0m\u001b[0m\n\u001b[1;32m     13\u001b[0m \u001b[0;34m\u001b[0m\u001b[0m\n\u001b[0;32m---> 14\u001b[0;31m     \u001b[0mx_test_gap\u001b[0m \u001b[0;34m=\u001b[0m \u001b[0mpoly1\u001b[0m\u001b[0;34m.\u001b[0m\u001b[0mfit_transform\u001b[0m\u001b[0;34m(\u001b[0m\u001b[0mdf_gap\u001b[0m\u001b[0;34m[\u001b[0m\u001b[0;34m[\u001b[0m\u001b[0;34m'Day of Week Encoded'\u001b[0m\u001b[0;34m,\u001b[0m \u001b[0;34m'Time of Day'\u001b[0m\u001b[0;34m,\u001b[0m \u001b[0;34m'Pre Lockdown Encoded'\u001b[0m\u001b[0;34m]\u001b[0m\u001b[0;34m]\u001b[0m\u001b[0;34m)\u001b[0m\u001b[0;34m\u001b[0m\u001b[0;34m\u001b[0m\u001b[0m\n\u001b[0m\u001b[1;32m     15\u001b[0m     \u001b[0my_test_gap\u001b[0m \u001b[0;34m=\u001b[0m \u001b[0mdf_gap\u001b[0m\u001b[0;34m[\u001b[0m\u001b[0;34m'Journey Time (s)'\u001b[0m\u001b[0;34m]\u001b[0m\u001b[0;34m[\u001b[0m\u001b[0;34m:\u001b[0m\u001b[0;34m,\u001b[0m \u001b[0mnp\u001b[0m\u001b[0;34m.\u001b[0m\u001b[0mnewaxis\u001b[0m\u001b[0;34m]\u001b[0m\u001b[0;34m\u001b[0m\u001b[0;34m\u001b[0m\u001b[0m\n\u001b[1;32m     16\u001b[0m \u001b[0;34m\u001b[0m\u001b[0m\n",
      "\u001b[0;32m~/anaconda3/lib/python3.7/site-packages/sklearn/base.py\u001b[0m in \u001b[0;36mfit_transform\u001b[0;34m(self, X, y, **fit_params)\u001b[0m\n\u001b[1;32m    569\u001b[0m         \u001b[0;32mif\u001b[0m \u001b[0my\u001b[0m \u001b[0;32mis\u001b[0m \u001b[0;32mNone\u001b[0m\u001b[0;34m:\u001b[0m\u001b[0;34m\u001b[0m\u001b[0;34m\u001b[0m\u001b[0m\n\u001b[1;32m    570\u001b[0m             \u001b[0;31m# fit method of arity 1 (unsupervised transformation)\u001b[0m\u001b[0;34m\u001b[0m\u001b[0;34m\u001b[0m\u001b[0;34m\u001b[0m\u001b[0m\n\u001b[0;32m--> 571\u001b[0;31m             \u001b[0;32mreturn\u001b[0m \u001b[0mself\u001b[0m\u001b[0;34m.\u001b[0m\u001b[0mfit\u001b[0m\u001b[0;34m(\u001b[0m\u001b[0mX\u001b[0m\u001b[0;34m,\u001b[0m \u001b[0;34m**\u001b[0m\u001b[0mfit_params\u001b[0m\u001b[0;34m)\u001b[0m\u001b[0;34m.\u001b[0m\u001b[0mtransform\u001b[0m\u001b[0;34m(\u001b[0m\u001b[0mX\u001b[0m\u001b[0;34m)\u001b[0m\u001b[0;34m\u001b[0m\u001b[0;34m\u001b[0m\u001b[0m\n\u001b[0m\u001b[1;32m    572\u001b[0m         \u001b[0;32melse\u001b[0m\u001b[0;34m:\u001b[0m\u001b[0;34m\u001b[0m\u001b[0;34m\u001b[0m\u001b[0m\n\u001b[1;32m    573\u001b[0m             \u001b[0;31m# fit method of arity 2 (supervised transformation)\u001b[0m\u001b[0;34m\u001b[0m\u001b[0;34m\u001b[0m\u001b[0;34m\u001b[0m\u001b[0m\n",
      "\u001b[0;32m~/anaconda3/lib/python3.7/site-packages/sklearn/preprocessing/_data.py\u001b[0m in \u001b[0;36mfit\u001b[0;34m(self, X, y)\u001b[0m\n\u001b[1;32m   1506\u001b[0m         \u001b[0mself\u001b[0m \u001b[0;34m:\u001b[0m \u001b[0minstance\u001b[0m\u001b[0;34m\u001b[0m\u001b[0;34m\u001b[0m\u001b[0m\n\u001b[1;32m   1507\u001b[0m         \"\"\"\n\u001b[0;32m-> 1508\u001b[0;31m         \u001b[0mn_samples\u001b[0m\u001b[0;34m,\u001b[0m \u001b[0mn_features\u001b[0m \u001b[0;34m=\u001b[0m \u001b[0mcheck_array\u001b[0m\u001b[0;34m(\u001b[0m\u001b[0mX\u001b[0m\u001b[0;34m,\u001b[0m \u001b[0maccept_sparse\u001b[0m\u001b[0;34m=\u001b[0m\u001b[0;32mTrue\u001b[0m\u001b[0;34m)\u001b[0m\u001b[0;34m.\u001b[0m\u001b[0mshape\u001b[0m\u001b[0;34m\u001b[0m\u001b[0;34m\u001b[0m\u001b[0m\n\u001b[0m\u001b[1;32m   1509\u001b[0m         combinations = self._combinations(n_features, self.degree,\n\u001b[1;32m   1510\u001b[0m                                           \u001b[0mself\u001b[0m\u001b[0;34m.\u001b[0m\u001b[0minteraction_only\u001b[0m\u001b[0;34m,\u001b[0m\u001b[0;34m\u001b[0m\u001b[0;34m\u001b[0m\u001b[0m\n",
      "\u001b[0;32m~/anaconda3/lib/python3.7/site-packages/sklearn/utils/validation.py\u001b[0m in \u001b[0;36mcheck_array\u001b[0;34m(array, accept_sparse, accept_large_sparse, dtype, order, copy, force_all_finite, ensure_2d, allow_nd, ensure_min_samples, ensure_min_features, warn_on_dtype, estimator)\u001b[0m\n\u001b[1;32m    584\u001b[0m                              \u001b[0;34m\" minimum of %d is required%s.\"\u001b[0m\u001b[0;34m\u001b[0m\u001b[0;34m\u001b[0m\u001b[0m\n\u001b[1;32m    585\u001b[0m                              % (n_samples, array.shape, ensure_min_samples,\n\u001b[0;32m--> 586\u001b[0;31m                                 context))\n\u001b[0m\u001b[1;32m    587\u001b[0m \u001b[0;34m\u001b[0m\u001b[0m\n\u001b[1;32m    588\u001b[0m     \u001b[0;32mif\u001b[0m \u001b[0mensure_min_features\u001b[0m \u001b[0;34m>\u001b[0m \u001b[0;36m0\u001b[0m \u001b[0;32mand\u001b[0m \u001b[0marray\u001b[0m\u001b[0;34m.\u001b[0m\u001b[0mndim\u001b[0m \u001b[0;34m==\u001b[0m \u001b[0;36m2\u001b[0m\u001b[0;34m:\u001b[0m\u001b[0;34m\u001b[0m\u001b[0;34m\u001b[0m\u001b[0m\n",
      "\u001b[0;31mValueError\u001b[0m: Found array with 0 sample(s) (shape=(0, 3)) while a minimum of 1 is required."
     ]
    }
   ],
   "source": [
    "from sklearn.preprocessing import PolynomialFeatures, StandardScaler\n",
    "from sklearn.metrics import mean_squared_error, mean_absolute_error\n",
    "\n",
    "mapes_gap = []\n",
    "rmses_gap = []\n",
    "\n",
    "for i, b in enumerate(stop_bs):\n",
    "    print(\"Gap = {}\".format((i + 1) * 5))\n",
    "    res = get_attrs((i + 1) * 5, stop_a, b, a_id)\n",
    "    \n",
    "    df_gap = res.sort_values([\"Time of Day\", \"Day of Week\", \"Pre Lockdown\"])\n",
    "    poly1 = PolynomialFeatures(degree = model1_degree)\n",
    "\n",
    "    x_test_gap = poly1.fit_transform(df_gap[['Day of Week Encoded', 'Time of Day', 'Pre Lockdown Encoded']])\n",
    "    y_test_gap = df_gap['Journey Time (s)'][:, np.newaxis]\n",
    "\n",
    "    # Scale the data\n",
    "    scaler = StandardScaler()\n",
    "    x_gap_scaled = scaler.fit_transform(x_test_gap)\n",
    "\n",
    "    # Predict. Model is already trained.\n",
    "    y_pred_gap = model1.predict(x_gap_scaled)\n",
    "\n",
    "    # Calculate measures of success\n",
    "    mse = mean_squared_error(y_test_gap, y_pred_gap)\n",
    "    rmse = np.sqrt(mse)\n",
    "    mape = mean_absolute_error(y_test_gap, y_pred_gap)\n",
    "    mapes_gap.append(mape)\n",
    "    rmses_gap.append(rmse)\n",
    "\n",
    "    print(rmse, mape)"
   ]
  },
  {
   "cell_type": "markdown",
   "metadata": {},
   "source": [
    "Ok so the regression models not generalising well to larger gaps makes sense because the model that I am using learnt model which has only learnt on gaps of 5 so it will only ever predict stuff for like between 10 mins or so. So what I need to do, is give it a different training set -> the training set needs to include gap_size as a learnable parameter and this needs to be part of the training process."
   ]
  },
  {
   "cell_type": "code",
   "execution_count": 455,
   "metadata": {},
   "outputs": [
    {
     "name": "stdout",
     "output_type": "stream",
     "text": [
      "Getting journey times took 174.98966097831726\n",
      "120887.03343646442 347.68812668318776 336.8264353036169\n"
     ]
    }
   ],
   "source": [
    "test = get_attrs((i + 1) * 5, stop_a, stop_bs[1], a_id)\n",
    "    \n",
    "df_gap = test.sort_values([\"Time of Day\", \"Day of Week\", \"Pre Lockdown\"])\n",
    "poly1 = PolynomialFeatures(degree = model1_degree)\n",
    "\n",
    "x_test_gap = poly1.fit_transform(df_gap[['Day of Week Encoded', 'Time of Day', 'Pre Lockdown Encoded']])\n",
    "y_test_gap = df_gap['Journey Time (s)'][:, np.newaxis]\n",
    "\n",
    "# Scale the data\n",
    "scaler = StandardScaler()\n",
    "x_gap_scaled = scaler.fit_transform(x_test_gap)\n",
    "\n",
    "# Predict. Model is already trained.\n",
    "y_pred_gap = model1.predict(x_gap_scaled)\n",
    "\n",
    "# Calculate measures of success\n",
    "mse = mean_squared_error(y_test_gap, y_pred_gap)\n",
    "rmse = np.sqrt(mse)\n",
    "mape = mean_absolute_error(y_test_gap, y_pred_gap)\n",
    "print(mse, rmse, mape)"
   ]
  },
  {
   "cell_type": "code",
   "execution_count": 457,
   "metadata": {},
   "outputs": [
    {
     "name": "stdout",
     "output_type": "stream",
     "text": [
      "[[135.19140399]\n",
      " [135.19140399]\n",
      " [135.19140399]\n",
      " [ 80.69140399]\n",
      " [ 80.69140399]\n",
      " [ 80.69140399]\n",
      " [166.82299705]\n",
      " [166.82299705]\n",
      " [166.82299705]\n",
      " [166.82299705]]\n"
     ]
    }
   ],
   "source": [
    "print(y_pred_gap[:10])"
   ]
  },
  {
   "cell_type": "code",
   "execution_count": null,
   "metadata": {},
   "outputs": [],
   "source": [
    "poly = PolynomialFeatures(degree = degree)\n",
    "poly.fit(training_mult2[['Day of Week Encoded', 'Time of Day', 'Pre Lockdown Encoded']])\n",
    "\n",
    "x_train = poly.transform(tr[['Day of Week Encoded', 'Time of Day', 'Pre Lockdown Encoded']])\n",
    "x_test = poly.transform(va[['Day of Week Encoded', 'Time of Day', 'Pre Lockdown Encoded']])\n",
    "y_train = tr['Journey Time (s)'][:, np.newaxis]\n",
    "y_test = va['Journey Time (s)'][:, np.newaxis]\n",
    "\n",
    "# Scale the data\n",
    "scaler = preprocessing.StandardScaler()\n",
    "scaler = scaler.fit(x_train)\n",
    "x_scaled = scaler.transform(x_train)\n",
    "x_test_scaled = scaler.transform(x_test)\n",
    "\n",
    "# Fit model\n",
    "linreg = LinearRegression()\n",
    "linreg.fit(x_scaled, y_train)\n",
    "\n",
    "# Apply the model to the validation data to predict the ‘Journey Time’\n",
    "y_pred = linreg.predict(x_test_scaled)\n",
    "\n",
    "# Calculate measures of success\n",
    "mse = mean_squared_error(y_test, y_pred)\n",
    "rmse = np.sqrt(mse)\n",
    "r2 = r2_score(y_test, y_pred)\n",
    "mape = mean_absolute_error(y_test, y_pred)"
   ]
  }
 ],
 "metadata": {
  "kernelspec": {
   "display_name": "Python 3",
   "language": "python",
   "name": "python3"
  },
  "language_info": {
   "codemirror_mode": {
    "name": "ipython",
    "version": 3
   },
   "file_extension": ".py",
   "mimetype": "text/x-python",
   "name": "python",
   "nbconvert_exporter": "python",
   "pygments_lexer": "ipython3",
   "version": "3.7.6"
  }
 },
 "nbformat": 4,
 "nbformat_minor": 2
}
