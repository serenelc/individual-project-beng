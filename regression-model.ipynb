{
 "cells": [
  {
   "cell_type": "code",
   "execution_count": 1,
   "metadata": {},
   "outputs": [],
   "source": [
    "import pandas as pd\n",
    "import datetime as dt\n",
    "import numpy as np\n",
    "import time\n",
    "import calendar\n",
    "import urllib\n",
    "import matplotlib\n",
    "import matplotlib.pyplot as plt\n",
    "import seaborn as sns\n",
    "import collections\n",
    "import psycopg2\n",
    "import sklearn\n",
    "import sklearn.ensemble as ens\n",
    "from sklearn import preprocessing, metrics, cluster\n",
    "from scipy import stats\n",
    "from matplotlib.dates import DateFormatter\n",
    "from pandas.plotting import register_matplotlib_converters\n",
    "\n",
    "sns.set()\n",
    "colours = sns.color_palette(\"husl\", 8)\n",
    "sns.set_palette(sns.color_palette(colours))\n",
    "register_matplotlib_converters()"
   ]
  },
  {
   "cell_type": "markdown",
   "metadata": {},
   "source": [
    "# Load Data"
   ]
  },
  {
   "cell_type": "code",
   "execution_count": 2,
   "metadata": {},
   "outputs": [],
   "source": [
    "data = {}\n",
    "routes = [\"452\", \"9\", \"52\", \"267\", \"277\", \"7\", \"14\", \"35\", \"37\", \"69\", \"328\", \"6\"]\n",
    "\n",
    "b_452 = pd.read_csv(\"data/452 07-04-20.csv\")\n",
    "b_52 = pd.read_csv(\"data/52 07-04-20.csv\")\n",
    "b_7 = pd.read_csv(\"data/7 07-04-20.csv\")\n",
    "b_14 = pd.read_csv(\"data/14 07-04-20.csv\")\n",
    "b_9 = pd.read_csv(\"data/9 07-04-20.csv\")\n",
    "b_328 = pd.read_csv(\"data/328 07-04-20.csv\")\n",
    "b_69 = pd.read_csv(\"data/69 07-04-20.csv\")\n",
    "b_35 = pd.read_csv(\"data/35 07-04-20.csv\")\n",
    "b_37 = pd.read_csv(\"data/37 07-04-20.csv\")\n",
    "b_267 = pd.read_csv(\"data/267 07-04-20.csv\")\n",
    "b_277 = pd.read_csv(\"data/277 07-04-20.csv\")\n",
    "b_6 = pd.read_csv(\"data/6 07-04-20.csv\")\n",
    "\n",
    "data[\"452\"] = b_452\n",
    "data[\"52\"] = b_52\n",
    "data[\"7\"] = b_7\n",
    "data[\"9\"] = b_9\n",
    "data[\"14\"] = b_14\n",
    "data[\"328\"] = b_328\n",
    "data[\"267\"] = b_267\n",
    "data[\"277\"] = b_277\n",
    "data[\"35\"] = b_35\n",
    "data[\"37\"] = b_37\n",
    "data[\"69\"] = b_69\n",
    "data[\"6\"] = b_6\n",
    "\n",
    "# need to swap the inbound and outbound labels for data before 12/05/20 because \n",
    "# I noted them down wrong from the data collection stage\n",
    "def init_explore(df, route):\n",
    "    print(\"BUS ROUTE: \", route)\n",
    "    print(\"Shape: \", df.shape)\n",
    "    df = df.drop(columns = \"arrived\")\n",
    "    \n",
    "    df.loc[df['direction'] == 'out', 'direction'] = 'inbound'\n",
    "    df.loc[df['direction'] == 'in', 'direction'] = 'outbound'\n",
    "    df = df[[\"bus_stop_name\", \"expected_arrival\", \"vehicle_id\", \"time_of_req\", \"direction\"]]\n",
    "    return df"
   ]
  },
  {
   "cell_type": "code",
   "execution_count": 3,
   "metadata": {},
   "outputs": [],
   "source": [
    "def add_extra_data(route):\n",
    "    if route != \"6\":\n",
    "        more = pd.read_csv(\"data/\" + route + \" 22-04-20.csv\")\n",
    "        more.loc[more['arrived'] == 1, 'arrived'] = True\n",
    "        more = more[[\"arrived\", \"bus_stop_name\", \"expected_arrival\", \"vehicle_id\", \"time_of_req\", \"direction\"]]\n",
    "        data[route] = data[route].append(more, ignore_index = True)\n",
    "    \n",
    "    more = pd.read_csv(\"data/\" + route + \" 12-05-20.csv\")\n",
    "    more.loc[more['arrived'] == 1, 'arrived'] = True\n",
    "    more = more[[\"arrived\", \"bus_stop_name\", \"expected_arrival\", \"vehicle_id\", \"time_of_req\", \"direction\"]]\n",
    "    data[route] = data[route].append(more, ignore_index = True)"
   ]
  },
  {
   "cell_type": "code",
   "execution_count": 4,
   "metadata": {},
   "outputs": [],
   "source": [
    "for route in routes:\n",
    "    add_extra_data(route)"
   ]
  },
  {
   "cell_type": "code",
   "execution_count": 5,
   "metadata": {},
   "outputs": [
    {
     "name": "stdout",
     "output_type": "stream",
     "text": [
      "BUS ROUTE:  452\n",
      "Shape:  (56938, 6)\n",
      "BUS ROUTE:  9\n",
      "Shape:  (49935, 6)\n",
      "BUS ROUTE:  52\n",
      "Shape:  (92505, 6)\n",
      "BUS ROUTE:  267\n",
      "Shape:  (50939, 6)\n",
      "BUS ROUTE:  277\n",
      "Shape:  (71103, 6)\n",
      "BUS ROUTE:  7\n",
      "Shape:  (43271, 6)\n",
      "BUS ROUTE:  14\n",
      "Shape:  (80413, 6)\n",
      "BUS ROUTE:  35\n",
      "Shape:  (50120, 6)\n",
      "BUS ROUTE:  37\n",
      "Shape:  (78808, 6)\n",
      "BUS ROUTE:  69\n",
      "Shape:  (53844, 6)\n",
      "BUS ROUTE:  328\n",
      "Shape:  (41514, 6)\n",
      "BUS ROUTE:  6\n",
      "Shape:  (84330, 6)\n"
     ]
    }
   ],
   "source": [
    "for route in routes:\n",
    "    data[route] = init_explore(data[route], route)"
   ]
  },
  {
   "cell_type": "code",
   "execution_count": 6,
   "metadata": {},
   "outputs": [
    {
     "name": "stdout",
     "output_type": "stream",
     "text": [
      "Making API call to get all stops on route  452\n",
      "Making API call to get all stops on route  452\n",
      "Making API call to get all stops on route  9\n",
      "Making API call to get all stops on route  9\n",
      "Making API call to get all stops on route  52\n",
      "Making API call to get all stops on route  52\n",
      "Making API call to get all stops on route  267\n",
      "Making API call to get all stops on route  267\n",
      "Making API call to get all stops on route  277\n",
      "Making API call to get all stops on route  277\n",
      "Making API call to get all stops on route  7\n",
      "Making API call to get all stops on route  7\n",
      "Making API call to get all stops on route  14\n",
      "Making API call to get all stops on route  14\n",
      "Making API call to get all stops on route  35\n",
      "Making API call to get all stops on route  35\n",
      "Making API call to get all stops on route  37\n",
      "Making API call to get all stops on route  37\n",
      "Making API call to get all stops on route  69\n",
      "Making API call to get all stops on route  69\n",
      "Making API call to get all stops on route  328\n",
      "Making API call to get all stops on route  328\n",
      "Making API call to get all stops on route  6\n",
      "Making API call to get all stops on route  6\n",
      "['Pound Lane / Willesden Bus Garage', 'Willesden Bus Garage', 'Villiers Road', 'Willesden Green Library', 'Hanover Road', 'All Souls Avenue', 'Okehampton Road', 'Whitmore Gardens', 'Kensal Rise Station', 'Station Terrace', 'Banister Road', 'Harrow Road / Kilburn Lane', \"Ladbroke Grove Sainsbury's\", 'Kensal House', 'Barlby Road', 'St Charles Square', 'Chesterton Road', 'Ladbroke Grove Station', 'Elgin Crescent', 'Portobello and Golborne Market', 'Chepstow Villas', 'Notting Hill Gate Station', 'Palace Gardens Terr / Notting Hill Gte', 'Sheffield Terrace', 'York House Place / Kensington High St', 'Kensington Palace', 'Palace Gate', \"Queen's Gate\", 'Royal Albert Hall', 'Prince Of Wales Gate', 'Rutland Gardens', 'Knightsbridge Station  / Harrods', 'Hyde Park Corner Station', 'Hyde Park Corner', 'Wilton Street', 'Buckingham Palace Rd / Bressenden Place', 'Victoria Bus Station']\n"
     ]
    }
   ],
   "source": [
    "import json\n",
    "\n",
    "stops_in_sequence_inbound = {}\n",
    "stops_in_sequence_outbound = {}\n",
    "\n",
    "for r in routes:\n",
    "    with urllib.request.urlopen(\"https://api.tfl.gov.uk/Line/\" + r + \"/Route/Sequence/inbound\") as api:\n",
    "        print(\"Making API call to get all stops on route \", r)\n",
    "        json_data = json.loads(api.read().decode())\n",
    "        seq = json_data.get(\"stopPointSequences\")\n",
    "        stops = []\n",
    "        for s in seq:\n",
    "            for stop in s.get(\"stopPoint\"):\n",
    "                name = stop.get(\"name\")\n",
    "                stops.append(name)\n",
    "        stops_in_sequence_inbound[r] = stops\n",
    "        \n",
    "    with urllib.request.urlopen(\"https://api.tfl.gov.uk/Line/\" + r + \"/Route/Sequence/outbound\") as api:\n",
    "        print(\"Making API call to get all stops on route \", r)\n",
    "        json_data = json.loads(api.read().decode())\n",
    "        seq = json_data.get(\"stopPointSequences\")\n",
    "        stops = []\n",
    "        for s in seq:\n",
    "            for stop in s.get(\"stopPoint\"):\n",
    "                name = stop.get(\"name\")\n",
    "                stops.append(name)\n",
    "        stops_in_sequence_outbound[r] = stops\n",
    "        \n",
    "print(stops_in_sequence_inbound.get(\"52\"))"
   ]
  },
  {
   "cell_type": "code",
   "execution_count": null,
   "metadata": {},
   "outputs": [],
   "source": []
  }
 ],
 "metadata": {
  "kernelspec": {
   "display_name": "Python 3",
   "language": "python",
   "name": "python3"
  },
  "language_info": {
   "codemirror_mode": {
    "name": "ipython",
    "version": 3
   },
   "file_extension": ".py",
   "mimetype": "text/x-python",
   "name": "python",
   "nbconvert_exporter": "python",
   "pygments_lexer": "ipython3",
   "version": "3.7.4"
  }
 },
 "nbformat": 4,
 "nbformat_minor": 2
}
