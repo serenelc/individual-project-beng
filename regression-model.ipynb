{
 "cells": [
  {
   "cell_type": "code",
   "execution_count": 14,
   "metadata": {},
   "outputs": [],
   "source": [
    "import pandas as pd\n",
    "import datetime as dt\n",
    "import numpy as np\n",
    "import time\n",
    "import calendar\n",
    "import urllib\n",
    "import matplotlib\n",
    "import matplotlib.pyplot as plt\n",
    "import seaborn as sns\n",
    "import collections\n",
    "import sklearn\n",
    "import sklearn.ensemble as ens\n",
    "from sklearn import preprocessing, metrics, cluster\n",
    "from scipy import stats\n",
    "from matplotlib.dates import DateFormatter\n",
    "from pandas.plotting import register_matplotlib_converters\n",
    "\n",
    "sns.set()\n",
    "colours = sns.color_palette(\"husl\", 8)\n",
    "cs = [colours[i] for i in range(len(colours))]\n",
    "sns.set_palette(sns.color_palette(colours))\n",
    "register_matplotlib_converters()"
   ]
  },
  {
   "cell_type": "markdown",
   "metadata": {},
   "source": [
    "# Load Data"
   ]
  },
  {
   "cell_type": "code",
   "execution_count": 15,
   "metadata": {},
   "outputs": [],
   "source": [
    "data = {}\n",
    "routes = [\"452\", \"9\", \"52\", \"267\", \"277\", \"7\", \"14\", \"35\", \"37\", \"69\", \"328\", \"6\"]\n",
    "\n",
    "b_452 = pd.read_csv(\"data/452 07-04-20.csv\")\n",
    "b_52 = pd.read_csv(\"data/52 07-04-20.csv\")\n",
    "b_7 = pd.read_csv(\"data/7 07-04-20.csv\")\n",
    "b_14 = pd.read_csv(\"data/14 07-04-20.csv\")\n",
    "b_9 = pd.read_csv(\"data/9 07-04-20.csv\")\n",
    "b_328 = pd.read_csv(\"data/328 07-04-20.csv\")\n",
    "b_69 = pd.read_csv(\"data/69 07-04-20.csv\")\n",
    "b_35 = pd.read_csv(\"data/35 07-04-20.csv\")\n",
    "b_37 = pd.read_csv(\"data/37 07-04-20.csv\")\n",
    "b_267 = pd.read_csv(\"data/267 07-04-20.csv\")\n",
    "b_277 = pd.read_csv(\"data/277 07-04-20.csv\")\n",
    "b_6 = pd.read_csv(\"data/6 07-04-20.csv\")\n",
    "\n",
    "data[\"452\"] = b_452\n",
    "data[\"52\"] = b_52\n",
    "data[\"7\"] = b_7\n",
    "data[\"9\"] = b_9\n",
    "data[\"14\"] = b_14\n",
    "data[\"328\"] = b_328\n",
    "data[\"267\"] = b_267\n",
    "data[\"277\"] = b_277\n",
    "data[\"35\"] = b_35\n",
    "data[\"37\"] = b_37\n",
    "data[\"69\"] = b_69\n",
    "data[\"6\"] = b_6\n",
    "\n",
    "# need to swap the inbound and outbound labels for data before 12/05/20 because \n",
    "# I noted them down wrong from the data collection stage\n",
    "def init_explore(df, route):\n",
    "    print(\"BUS ROUTE: \", route)\n",
    "    print(\"Shape: \", df.shape)\n",
    "    df = df.drop(columns = \"arrived\")\n",
    "    \n",
    "    df.loc[df['direction'] == 'out', 'direction'] = 'inbound'\n",
    "    df.loc[df['direction'] == 'in', 'direction'] = 'outbound'\n",
    "    df = df[[\"bus_stop_name\", \"expected_arrival\", \"vehicle_id\", \"time_of_req\", \"direction\"]]\n",
    "    \n",
    "    df.rename(columns={'expected_arrival':'time_of_arrival'}, inplace=True)\n",
    "    df = df.sort_values(by='time_of_arrival', ignore_index=True)\n",
    "    return df"
   ]
  },
  {
   "cell_type": "code",
   "execution_count": 16,
   "metadata": {},
   "outputs": [],
   "source": [
    "def add_extra_data(route):\n",
    "    if route != \"6\":\n",
    "        more = pd.read_csv(\"data/\" + route + \" 22-04-20.csv\")\n",
    "        more.loc[more['arrived'] == 1, 'arrived'] = True\n",
    "        more = more[[\"arrived\", \"bus_stop_name\", \"expected_arrival\", \"vehicle_id\", \"time_of_req\", \"direction\"]]\n",
    "        data[route] = data[route].append(more, ignore_index = True)\n",
    "    \n",
    "    more = pd.read_csv(\"data/\" + route + \" 12-05-20.csv\")\n",
    "    more.loc[more['arrived'] == 1, 'arrived'] = True\n",
    "    more = more[[\"arrived\", \"bus_stop_name\", \"expected_arrival\", \"vehicle_id\", \"time_of_req\", \"direction\"]]\n",
    "    data[route] = data[route].append(more, ignore_index = True)"
   ]
  },
  {
   "cell_type": "code",
   "execution_count": 17,
   "metadata": {},
   "outputs": [],
   "source": [
    "for route in routes:\n",
    "    add_extra_data(route)"
   ]
  },
  {
   "cell_type": "code",
   "execution_count": 18,
   "metadata": {
    "scrolled": true
   },
   "outputs": [
    {
     "name": "stdout",
     "output_type": "stream",
     "text": [
      "BUS ROUTE:  452\n",
      "Shape:  (56938, 6)\n",
      "BUS ROUTE:  9\n",
      "Shape:  (49935, 6)\n",
      "BUS ROUTE:  52\n",
      "Shape:  (92505, 6)\n",
      "BUS ROUTE:  267\n",
      "Shape:  (50939, 6)\n",
      "BUS ROUTE:  277\n",
      "Shape:  (71103, 6)\n",
      "BUS ROUTE:  7\n",
      "Shape:  (43271, 6)\n",
      "BUS ROUTE:  14\n",
      "Shape:  (80413, 6)\n",
      "BUS ROUTE:  35\n",
      "Shape:  (50120, 6)\n",
      "BUS ROUTE:  37\n",
      "Shape:  (78808, 6)\n",
      "BUS ROUTE:  69\n",
      "Shape:  (53844, 6)\n",
      "BUS ROUTE:  328\n",
      "Shape:  (41514, 6)\n",
      "BUS ROUTE:  6\n",
      "Shape:  (84330, 6)\n"
     ]
    }
   ],
   "source": [
    "for route in routes:\n",
    "    data[route] = init_explore(data[route], route)"
   ]
  },
  {
   "cell_type": "code",
   "execution_count": 19,
   "metadata": {
    "scrolled": true
   },
   "outputs": [
    {
     "name": "stdout",
     "output_type": "stream",
     "text": [
      "Making API call to get all stops on route  452\n",
      "Making API call to get all stops on route  452\n",
      "Making API call to get all stops on route  9\n",
      "Making API call to get all stops on route  9\n",
      "Making API call to get all stops on route  52\n",
      "Making API call to get all stops on route  52\n",
      "Making API call to get all stops on route  267\n",
      "Making API call to get all stops on route  267\n",
      "Making API call to get all stops on route  277\n",
      "Making API call to get all stops on route  277\n",
      "Making API call to get all stops on route  7\n",
      "Making API call to get all stops on route  7\n",
      "Making API call to get all stops on route  14\n",
      "Making API call to get all stops on route  14\n",
      "Making API call to get all stops on route  35\n",
      "Making API call to get all stops on route  35\n",
      "Making API call to get all stops on route  37\n",
      "Making API call to get all stops on route  37\n",
      "Making API call to get all stops on route  69\n",
      "Making API call to get all stops on route  69\n",
      "Making API call to get all stops on route  328\n",
      "Making API call to get all stops on route  328\n",
      "Making API call to get all stops on route  6\n",
      "Making API call to get all stops on route  6\n",
      "['Pound Lane / Willesden Bus Garage', 'Willesden Bus Garage', 'Villiers Road', 'Willesden Green Library', 'Hanover Road', 'All Souls Avenue', 'Okehampton Road', 'Whitmore Gardens', 'Kensal Rise Station', 'Station Terrace', 'Banister Road', 'Harrow Road / Kilburn Lane', \"Ladbroke Grove Sainsbury's\", 'Kensal House', 'Barlby Road', 'St Charles Square', 'Chesterton Road', 'Ladbroke Grove Station', 'Elgin Crescent', 'Portobello and Golborne Market', 'Chepstow Villas', 'Notting Hill Gate Station', 'Palace Gardens Terr / Notting Hill Gte', 'Sheffield Terrace', 'York House Place / Kensington High St', 'Kensington Palace', 'Palace Gate', \"Queen's Gate\", 'Royal Albert Hall', 'Prince Of Wales Gate', 'Rutland Gardens', 'Knightsbridge Station  / Harrods', 'Hyde Park Corner Station', 'Hyde Park Corner', 'Wilton Street', 'Buckingham Palace Rd / Bressenden Place', 'Victoria Bus Station']\n"
     ]
    }
   ],
   "source": [
    "import json\n",
    "\n",
    "stops_in_sequence_inbound = {}\n",
    "stops_in_sequence_outbound = {}\n",
    "\n",
    "for r in routes:\n",
    "    with urllib.request.urlopen(\"https://api.tfl.gov.uk/Line/\" + r + \"/Route/Sequence/inbound\") as api:\n",
    "        print(\"Making API call to get all stops on route \", r)\n",
    "        json_data = json.loads(api.read().decode())\n",
    "        seq = json_data.get(\"stopPointSequences\")\n",
    "        stops = []\n",
    "        for s in seq:\n",
    "            for stop in s.get(\"stopPoint\"):\n",
    "                name = stop.get(\"name\")\n",
    "                stops.append(name)\n",
    "        stops_in_sequence_inbound[r] = stops\n",
    "        \n",
    "    with urllib.request.urlopen(\"https://api.tfl.gov.uk/Line/\" + r + \"/Route/Sequence/outbound\") as api:\n",
    "        print(\"Making API call to get all stops on route \", r)\n",
    "        json_data = json.loads(api.read().decode())\n",
    "        seq = json_data.get(\"stopPointSequences\")\n",
    "        stops = []\n",
    "        for s in seq:\n",
    "            for stop in s.get(\"stopPoint\"):\n",
    "                name = stop.get(\"name\")\n",
    "                stops.append(name)\n",
    "        stops_in_sequence_outbound[r] = stops\n",
    "        \n",
    "print(stops_in_sequence_inbound.get(\"52\"))"
   ]
  },
  {
   "cell_type": "markdown",
   "metadata": {},
   "source": [
    "## Helper Functions"
   ]
  },
  {
   "cell_type": "code",
   "execution_count": 20,
   "metadata": {},
   "outputs": [],
   "source": [
    "def convert_time_to_datetime(given_time):\n",
    "    year = int(given_time[:4])\n",
    "    month = int(given_time[5:7])\n",
    "    day = int(given_time[8:10])\n",
    "    hour = int(given_time[11:13])\n",
    "    minute = int(given_time[14:16])\n",
    "    second = int(given_time[17:19])\n",
    "\n",
    "    date_time = dt.datetime(year, month, day, hour, minute, second)\n",
    "    return date_time"
   ]
  },
  {
   "cell_type": "code",
   "execution_count": 21,
   "metadata": {},
   "outputs": [],
   "source": [
    "def weekday_or_weekend(given_day):\n",
    "    if given_day in [\"Monday\", \"Tuesday\", \"Wednesday\", \"Thursday\", \"Friday\"]:\n",
    "        return \"weekday\"\n",
    "    else:\n",
    "        return \"weekend\""
   ]
  },
  {
   "cell_type": "code",
   "execution_count": 22,
   "metadata": {},
   "outputs": [],
   "source": [
    "def pre_lockdown(given_time):\n",
    "    month = int(given_time[5:7])\n",
    "    day = int(given_time[8:10])\n",
    "    \n",
    "    # lockdown = March 24th 2020\n",
    "    if month > 3:\n",
    "        return False\n",
    "    elif month == 3:\n",
    "        if day >= 24:\n",
    "            return False\n",
    "    \n",
    "    return True"
   ]
  },
  {
   "cell_type": "code",
   "execution_count": 23,
   "metadata": {},
   "outputs": [],
   "source": [
    "def train_test_split(data):\n",
    "    \n",
    "    # partition data into 4 groups\n",
    "    group1 = data.iloc[:(int(data.shape[0] / 4))]\n",
    "    group2 = data.iloc[(int(data.shape[0] / 4)):(int(2 * data.shape[0] / 4))]\n",
    "    group3 = data.iloc[(int(2 * data.shape[0] / 4)):(int(3 * data.shape[0] / 4))]\n",
    "    group4 = data.iloc[(int(3 * data.shape[0] / 4)):]\n",
    "    print(group1.shape, group2.shape, group3.shape, group4.shape)\n",
    "\n",
    "    # get a random sample of 80% from each group to ensure the train and test\n",
    "    # have similar features\n",
    "    training = group1.sample(frac = 0.8)\n",
    "    training = training.append(group2.sample(frac = 0.8))\n",
    "    training = training.append(group3.sample(frac = 0.8))\n",
    "    training = training.append(group4.sample(frac = 0.8))\n",
    "\n",
    "    # validation is all the remaining data that wasn't chosen for the training set\n",
    "    validation = data[~data.apply(tuple,1).isin(training.apply(tuple,1))]\n",
    "    print(training.shape, validation.shape)\n",
    "    return training, validation"
   ]
  },
  {
   "cell_type": "code",
   "execution_count": 24,
   "metadata": {},
   "outputs": [],
   "source": [
    "def get_attrs(gap, stop_a, stop_b, a_id):\n",
    "    start = time.time()\n",
    "    \n",
    "    # if gap == 5:\n",
    "    min_time = 1\n",
    "    max_time = 15\n",
    "    \n",
    "    if (gap > 5) and (gap <= 10):\n",
    "        min_time = 10\n",
    "        max_time = 22\n",
    "    elif (gap > 10) and (gap <= 15):\n",
    "        min_time = 15\n",
    "        max_time = 30\n",
    "    elif (gap > 15) and (gap <= 20):\n",
    "        min_time = 20\n",
    "        max_time = 40\n",
    "    elif (gap > 20) and (gap <= 25):\n",
    "        min_time = 31\n",
    "        max_time = 55\n",
    "    elif (gap > 25) and (gap <= 30):\n",
    "        min_time = 40\n",
    "        max_time = 70\n",
    "    elif (gap > 30):\n",
    "        min_time = 50\n",
    "        max_time = 90\n",
    "\n",
    "    attributes = []\n",
    "    for i, journey in stop_b.iterrows():\n",
    "\n",
    "        arr_dt = convert_time_to_datetime(journey['time_of_arrival'])\n",
    "        [bus_id, _, date, direction, _] = journey['vehicle_id'].split('_')\n",
    "        to_match_id = bus_id + '_' + a_id + '_' + date + '_' + direction + '_'\n",
    "\n",
    "        for j, match in stop_a.iterrows():\n",
    "            if match['vehicle_id'].startswith(to_match_id):\n",
    "                leave_dt = convert_time_to_datetime(match['time_of_arrival'])\n",
    "                journey_time = arr_dt - leave_dt\n",
    "\n",
    "                if (journey_time > dt.timedelta(minutes = min_time)) & (journey_time < dt.timedelta(minutes = max_time)):\n",
    "                    item = []\n",
    "                    item.append(journey_time)\n",
    "\n",
    "                    seconds = journey_time.total_seconds()\n",
    "                    item.append(seconds)\n",
    "\n",
    "                    d = dt.datetime.strptime(match['time_of_arrival'][:10], '%Y-%m-%d')\n",
    "                    d = calendar.day_name[d.weekday()]\n",
    "                    w = weekday_or_weekend(d)\n",
    "                    item.append(w)\n",
    "\n",
    "                    t = int(journey['time_of_arrival'][11:13])\n",
    "                    item.append(t)\n",
    "\n",
    "                    c = pre_lockdown(journey['time_of_arrival'])\n",
    "                    item.append(c)\n",
    "                    \n",
    "                    item.append(gap)\n",
    "\n",
    "                    attributes.append(item)\n",
    "                    break\n",
    "\n",
    "    print(\"Getting journey times took {}\".format(time.time() - start))\n",
    "    \n",
    "    return attributes"
   ]
  },
  {
   "cell_type": "markdown",
   "metadata": {},
   "source": [
    "## Data Preprocessing"
   ]
  },
  {
   "cell_type": "markdown",
   "metadata": {},
   "source": [
    "Pick 2 stops on a route. Calculate all the journey times between them. Make a dataset with attributes time of day (split into hour slots), journey time, day of week, pre lockdown.\n",
    "\n",
    "Choose multiple 2 stops\n",
    "\n",
    "1) gap of 5: North End Road -> Phillimore Gardens route 9\n",
    "\n",
    "2) gap of 10: Willesden Bus Garage -> Harrow Road / Kilburn Lane route 52\n",
    "\n",
    "3) gap of 15: Willesden Bus Garage -> Chesterton Road route 52\n",
    "\n",
    "4) gap of 20: Willesden Bus Garage -> Notting Hill Gate Station route 52\n",
    "\n",
    "5) gap of 25: Willesden Bus Garage -> Palace Gate route 52\n",
    "\n",
    "6) gap of 30: Willesden Bus Garage -> Knightsbridge Station  / Harrods route 52\n",
    "\n",
    "7) gap of 35: Willesden Bus Garage -> Victoria Bus Station route 52\n",
    "\n",
    "8) gap of 2: Nigel Road -> East Dulwich Road / Peckham Rye route 37\n",
    "\n",
    "9) gap of 8: Townley Road -> Chaucer Road / Effra Parade route 37\n",
    "\n",
    "10) gap of 12: North Dulwich Station -> Solon Road route 37\n",
    "\n",
    "11) gap of 16: North Dulwich Station -> Long Road / Clapham Common route 37\n",
    "\n",
    "12) gap of 28: Hammersmith Bus Station -> Charing Cross Stn / Trafalgar Square route 9"
   ]
  },
  {
   "cell_type": "code",
   "execution_count": 25,
   "metadata": {},
   "outputs": [
    {
     "name": "stdout",
     "output_type": "stream",
     "text": [
      "12\n",
      "12\n",
      "12\n"
     ]
    }
   ],
   "source": [
    "stop_as = [\"North End Road\"] + [\"Willesden Bus Garage\" for i in range(0, 6)] + [\"Nigel Road\", \"Townley Road\", \"North Dulwich Station\", \"North Dulwich Station\", \"Hammersmith Bus Station\"]\n",
    "stop_bs = [\"Phillimore Gardens\", \"Harrow Road / Kilburn Lane\", \"Chesterton Road\", \"Notting Hill Gate Station\", \"Palace Gate\", \"Knightsbridge Station  / Harrods\", \"Victoria Bus Station\", \"East Dulwich Road / Peckham Rye\", \"Chaucer Road / Effra Parade\", \"Solon Road\", \"Long Road / Clapham Common\", \"Charing Cross Stn / Trafalgar Square\"]\n",
    "route_ids = [\"9\"] + [\"52\" for i in range(0, 6)] + [\"37\", \"37\", \"37\", \"37\", \"9\"]\n",
    "\n",
    "print(len(stop_as))\n",
    "print(len(stop_bs))\n",
    "print(len(route_ids))"
   ]
  },
  {
   "cell_type": "code",
   "execution_count": null,
   "metadata": {},
   "outputs": [
    {
     "name": "stdout",
     "output_type": "stream",
     "text": [
      "North End Road to Phillimore Gardens\n"
     ]
    }
   ],
   "source": [
    "all_attrs = []\n",
    "\n",
    "for i, a in enumerate(stop_as):\n",
    "    bus = data.get(route_ids[i])\n",
    "    stop_a_data = bus.loc[(bus['bus_stop_name'] == a) & (bus['direction'] == 'inbound')]\n",
    "    [_, a_id, _, _, _] = stop_a_data.iloc[0]['vehicle_id'].split('_')\n",
    "    \n",
    "    stop_b_data = bus.loc[(bus['bus_stop_name'] == stop_bs[i]) & (bus['direction'] == 'inbound')]\n",
    "    \n",
    "    print(\"{} to {}\".format(a, stop_bs[i]))\n",
    "    attrs = get_attrs((i + 1) * 5, stop_a_data, stop_b_data, a_id)\n",
    "    all_attrs.append(attrs)"
   ]
  },
  {
   "cell_type": "code",
   "execution_count": 522,
   "metadata": {},
   "outputs": [
    {
     "name": "stdout",
     "output_type": "stream",
     "text": [
      "2931\n"
     ]
    },
    {
     "data": {
      "text/html": [
       "<div>\n",
       "<style scoped>\n",
       "    .dataframe tbody tr th:only-of-type {\n",
       "        vertical-align: middle;\n",
       "    }\n",
       "\n",
       "    .dataframe tbody tr th {\n",
       "        vertical-align: top;\n",
       "    }\n",
       "\n",
       "    .dataframe thead th {\n",
       "        text-align: right;\n",
       "    }\n",
       "</style>\n",
       "<table border=\"1\" class=\"dataframe\">\n",
       "  <thead>\n",
       "    <tr style=\"text-align: right;\">\n",
       "      <th></th>\n",
       "      <th>Journey Time</th>\n",
       "      <th>Journey Time (s)</th>\n",
       "      <th>Day of Week</th>\n",
       "      <th>Time of Day</th>\n",
       "      <th>Pre Lockdown</th>\n",
       "      <th>Gap</th>\n",
       "    </tr>\n",
       "  </thead>\n",
       "  <tbody>\n",
       "    <tr>\n",
       "      <th>0</th>\n",
       "      <td>00:09:32</td>\n",
       "      <td>572.0</td>\n",
       "      <td>weekday</td>\n",
       "      <td>10</td>\n",
       "      <td>True</td>\n",
       "      <td>5</td>\n",
       "    </tr>\n",
       "    <tr>\n",
       "      <th>1</th>\n",
       "      <td>00:10:43</td>\n",
       "      <td>643.0</td>\n",
       "      <td>weekday</td>\n",
       "      <td>10</td>\n",
       "      <td>True</td>\n",
       "      <td>5</td>\n",
       "    </tr>\n",
       "    <tr>\n",
       "      <th>2</th>\n",
       "      <td>00:09:37</td>\n",
       "      <td>577.0</td>\n",
       "      <td>weekday</td>\n",
       "      <td>10</td>\n",
       "      <td>True</td>\n",
       "      <td>5</td>\n",
       "    </tr>\n",
       "    <tr>\n",
       "      <th>3</th>\n",
       "      <td>00:08:20</td>\n",
       "      <td>500.0</td>\n",
       "      <td>weekday</td>\n",
       "      <td>10</td>\n",
       "      <td>True</td>\n",
       "      <td>5</td>\n",
       "    </tr>\n",
       "    <tr>\n",
       "      <th>4</th>\n",
       "      <td>00:06:05</td>\n",
       "      <td>365.0</td>\n",
       "      <td>weekday</td>\n",
       "      <td>11</td>\n",
       "      <td>True</td>\n",
       "      <td>5</td>\n",
       "    </tr>\n",
       "  </tbody>\n",
       "</table>\n",
       "</div>"
      ],
      "text/plain": [
       "  Journey Time  Journey Time (s) Day of Week  Time of Day  Pre Lockdown  Gap\n",
       "0     00:09:32             572.0     weekday           10          True    5\n",
       "1     00:10:43             643.0     weekday           10          True    5\n",
       "2     00:09:37             577.0     weekday           10          True    5\n",
       "3     00:08:20             500.0     weekday           10          True    5\n",
       "4     00:06:05             365.0     weekday           11          True    5"
      ]
     },
     "execution_count": 522,
     "metadata": {},
     "output_type": "execute_result"
    }
   ],
   "source": [
    "#append all the data together\n",
    "\n",
    "flattened = [item for sublist in all_attrs for item in sublist]\n",
    "print(len(flattened))\n",
    "df = pd.DataFrame(flattened, columns = ['Journey Time', 'Journey Time (s)', 'Day of Week', 'Time of Day', 'Pre Lockdown', 'Gap'])\n",
    "df.head()"
   ]
  },
  {
   "cell_type": "code",
   "execution_count": 523,
   "metadata": {},
   "outputs": [
    {
     "data": {
      "text/plain": [
       "<matplotlib.axes._subplots.AxesSubplot at 0x1a3102fe90>"
      ]
     },
     "execution_count": 523,
     "metadata": {},
     "output_type": "execute_result"
    },
    {
     "data": {
      "image/png": "[encoded data removed]",
      "text/plain": [
       "<Figure size 432x288 with 1 Axes>"
      ]
     },
     "metadata": {},
     "output_type": "display_data"
    }
   ],
   "source": [
    "sns.distplot(df['Journey Time (s)'])"
   ]
  },
  {
   "cell_type": "code",
   "execution_count": 524,
   "metadata": {},
   "outputs": [
    {
     "name": "stdout",
     "output_type": "stream",
     "text": [
      "Outlier indexes:  [2716, 2823, 2825, 2828, 2838, 2841, 2844, 2868, 2883, 2884, 2885, 2886, 2887, 2888, 2889, 2890, 2891, 2892, 2893, 2894, 2895, 2896, 2897, 2898, 2899, 2900, 2901, 2902, 2903, 2904, 2905, 2906, 2907, 2908, 2909, 2910, 2911, 2912, 2913, 2914, 2915, 2916, 2917, 2918, 2919, 2920, 2921, 2922, 2923, 2924, 2925, 2926, 2927, 2928, 2929, 2930]\n"
     ]
    }
   ],
   "source": [
    "# Get rid of outliers from dataset\n",
    "def detect_outlier_z_score(travel_times):\n",
    "    outlier_indexes = []\n",
    "    \n",
    "    threshold = 3\n",
    "    mean = np.mean(travel_times)\n",
    "    std = np.std(travel_times)\n",
    "    \n",
    "    for i, t in enumerate(travel_times):\n",
    "        z_score= (t - mean) / std\n",
    "        \n",
    "        if np.abs(z_score) > threshold:\n",
    "            outlier_indexes.append(i)\n",
    "    \n",
    "    return outlier_indexes\n",
    "\n",
    "outlier_indexes = detect_outlier_z_score(df['Journey Time (s)'])\n",
    "print(\"Outlier indexes: \", outlier_indexes)\n",
    "df = df.drop(outlier_indexes)"
   ]
  },
  {
   "cell_type": "code",
   "execution_count": 525,
   "metadata": {},
   "outputs": [
    {
     "data": {
      "text/html": [
       "<div>\n",
       "<style scoped>\n",
       "    .dataframe tbody tr th:only-of-type {\n",
       "        vertical-align: middle;\n",
       "    }\n",
       "\n",
       "    .dataframe tbody tr th {\n",
       "        vertical-align: top;\n",
       "    }\n",
       "\n",
       "    .dataframe thead th {\n",
       "        text-align: right;\n",
       "    }\n",
       "</style>\n",
       "<table border=\"1\" class=\"dataframe\">\n",
       "  <thead>\n",
       "    <tr style=\"text-align: right;\">\n",
       "      <th></th>\n",
       "      <th>Journey Time</th>\n",
       "      <th>Journey Time (s)</th>\n",
       "      <th>Time of Day</th>\n",
       "      <th>Gap</th>\n",
       "    </tr>\n",
       "  </thead>\n",
       "  <tbody>\n",
       "    <tr>\n",
       "      <th>count</th>\n",
       "      <td>2875</td>\n",
       "      <td>2875.000000</td>\n",
       "      <td>2875.000000</td>\n",
       "      <td>2875.000000</td>\n",
       "    </tr>\n",
       "    <tr>\n",
       "      <th>mean</th>\n",
       "      <td>0 days 00:14:58.643130</td>\n",
       "      <td>898.643130</td>\n",
       "      <td>12.400000</td>\n",
       "      <td>12.864348</td>\n",
       "    </tr>\n",
       "    <tr>\n",
       "      <th>std</th>\n",
       "      <td>0 days 00:09:11.129705</td>\n",
       "      <td>551.129705</td>\n",
       "      <td>4.067113</td>\n",
       "      <td>6.756195</td>\n",
       "    </tr>\n",
       "    <tr>\n",
       "      <th>min</th>\n",
       "      <td>0 days 00:01:08</td>\n",
       "      <td>68.000000</td>\n",
       "      <td>2.000000</td>\n",
       "      <td>5.000000</td>\n",
       "    </tr>\n",
       "    <tr>\n",
       "      <th>25%</th>\n",
       "      <td>0 days 00:06:06.500000</td>\n",
       "      <td>366.500000</td>\n",
       "      <td>9.000000</td>\n",
       "      <td>5.000000</td>\n",
       "    </tr>\n",
       "    <tr>\n",
       "      <th>50%</th>\n",
       "      <td>0 days 00:13:09</td>\n",
       "      <td>789.000000</td>\n",
       "      <td>12.000000</td>\n",
       "      <td>10.000000</td>\n",
       "    </tr>\n",
       "    <tr>\n",
       "      <th>75%</th>\n",
       "      <td>0 days 00:21:01</td>\n",
       "      <td>1261.000000</td>\n",
       "      <td>15.000000</td>\n",
       "      <td>20.000000</td>\n",
       "    </tr>\n",
       "    <tr>\n",
       "      <th>max</th>\n",
       "      <td>0 days 00:47:49</td>\n",
       "      <td>2869.000000</td>\n",
       "      <td>23.000000</td>\n",
       "      <td>30.000000</td>\n",
       "    </tr>\n",
       "  </tbody>\n",
       "</table>\n",
       "</div>"
      ],
      "text/plain": [
       "                 Journey Time  Journey Time (s)  Time of Day          Gap\n",
       "count                    2875       2875.000000  2875.000000  2875.000000\n",
       "mean   0 days 00:14:58.643130        898.643130    12.400000    12.864348\n",
       "std    0 days 00:09:11.129705        551.129705     4.067113     6.756195\n",
       "min           0 days 00:01:08         68.000000     2.000000     5.000000\n",
       "25%    0 days 00:06:06.500000        366.500000     9.000000     5.000000\n",
       "50%           0 days 00:13:09        789.000000    12.000000    10.000000\n",
       "75%           0 days 00:21:01       1261.000000    15.000000    20.000000\n",
       "max           0 days 00:47:49       2869.000000    23.000000    30.000000"
      ]
     },
     "execution_count": 525,
     "metadata": {},
     "output_type": "execute_result"
    }
   ],
   "source": [
    "df.describe()"
   ]
  },
  {
   "cell_type": "code",
   "execution_count": 526,
   "metadata": {},
   "outputs": [
    {
     "name": "stdout",
     "output_type": "stream",
     "text": [
      "[(0, 'weekday'), (1, 'weekend')]\n",
      "[(0, False), (1, True)]\n"
     ]
    }
   ],
   "source": [
    "dow_encoder = preprocessing.LabelEncoder()\n",
    "ld_encoder = preprocessing.LabelEncoder()\n",
    "\n",
    "dow_encoder.fit(df['Day of Week'])\n",
    "encoded = dow_encoder.transform(df['Day of Week'])\n",
    "df['Day of Week Encoded'] = encoded\n",
    "days_of_week_label = list(dow_encoder.inverse_transform([0,1]))\n",
    "print(list(zip([0,1], days_of_week_label)))\n",
    "encoded = ld_encoder.fit_transform(df['Pre Lockdown'])\n",
    "df['Pre Lockdown Encoded'] = encoded\n",
    "pre_lockdown_label = list(ld_encoder.inverse_transform([0, 1]))\n",
    "print(list(zip([0, 1], pre_lockdown_label)))"
   ]
  },
  {
   "cell_type": "code",
   "execution_count": 527,
   "metadata": {},
   "outputs": [
    {
     "data": {
      "text/plain": [
       "<seaborn.axisgrid.PairGrid at 0x1a38eabc10>"
      ]
     },
     "execution_count": 527,
     "metadata": {},
     "output_type": "execute_result"
    },
    {
     "data": {
      "image/png": "[encoded data removed]",
      "text/plain": [
       "<Figure size 662.4x662.4 with 20 Axes>"
      ]
     },
     "metadata": {},
     "output_type": "display_data"
    }
   ],
   "source": [
    "from scipy.stats import pearsonr\n",
    "\n",
    "def corrfunc(x, y, **kws):\n",
    "    r, _ = stats.pearsonr(x, y)\n",
    "    ax = plt.gca()\n",
    "    ax.annotate(\"corr = {:.3f}\".format(r),\n",
    "                xy=(.25, .5), xycoords=ax.transAxes)\n",
    "    \n",
    "pp = sns.PairGrid(df[['Time of Day', 'Day of Week Encoded', 'Pre Lockdown Encoded', 'Gap']], height = 2.3, diag_sharey=False)\n",
    "pp.map_upper(plt.scatter, s=10)\n",
    "pp.map_diag(plt.hist)\n",
    "pp.map_lower(corrfunc)"
   ]
  },
  {
   "cell_type": "markdown",
   "metadata": {},
   "source": [
    "#### Feature correlation\n",
    "\n",
    "The above pairplot indicates that the features are not related to each other, i.e. they are independent of each other. This means that they can be used together in multivariate regression. This is supported by the Pearson Correlation Coefficients calculated for the three variables. The Pearson’s correlation coefficient is calculated as the covariance of the two variables divided by the product of the standard deviation of each data sample. It is the normalization of the covariance between the two variables to give an interpretable score. The coefficient returns a value between -1 and 1 that represents the limits of correlation from a full negative correlation to a full positive correlation. A value of 0 means no correlation. The value must be interpreted, where often a value below -0.5 or above 0.5 indicates a notable correlation, and values between those values suggests a less notable correlation.\n",
    "\n",
    "#### Feature information\n",
    "\n",
    "There is a lot more data that was collected post lockdown compared to pre lockdown (as can be seen by the bottom right graph that has a taller 0 = False bar).\n",
    "There is data for post lockdown for weekdays and weekends, but for pre lockdown there is only weekday data.\n",
    "For post lockdown data there is data for all times of day that the bus runs, but for pre lockdown there is only data for between 1000 to approximately 1800.\n",
    "\n",
    "From the middle graph, it can be seen that there is a lot more data collected on weekdays compared to weekends.\n",
    "It can also be seen from the top middle graph that on weekends, there are gaps during the day where data has not been collected. For example, there is no data after approximately 1800.\n",
    "\n",
    "From the top left graph, it can be seen that the data trend is 2 humps (perhaps morning peak and evening peak)."
   ]
  },
  {
   "cell_type": "markdown",
   "metadata": {},
   "source": [
    "## Linear Regression\n",
    "\n",
    "Regression models are generally outperformed by other types of models, but they reveal which independent variable is less/more important for predicting travel times.\n",
    "\n",
    "Try regression models with one of the variables^2, or also do separate regression models for 1) peak weekdays vs 2) nonpeak weekdays and then 3) weekends?\n",
    "\n",
    "#### Measures of success:\n",
    "\n",
    "- **r2 score**, also known as coefficient of determination. Best possible score is 1.0 and it can be negative (because the model can be arbitrarily worse). A constant model that always predicts the expected value of y, disregarding the input features, would get a R^2 score of 0.0.\n",
    "- **Root Mean Square Error** (rmse). Root Mean Square Error (RMSE) is the standard deviation of the residuals (prediction errors). Residuals are a measure of how far from the regression line data points are; RMSE is a measure of how spread out these residuals are. In other words, it tells you how concentrated the data is around the line of best fit. The smaller the better\n",
    "- **Explained variance regression score** function: Best possible score is 1.0, lower values are worse. https://scikit-learn.org/stable/modules/model_evaluation.html#explained-variance-score \n",
    "- **Mean Absolute Percentage Error** (MAPE): Worst is 100, lower values are better. https://scikit-learn.org/stable/modules/generated/sklearn.metrics.mean_absolute_error.html#sklearn.metrics.mean_absolute_error\n",
    "\n",
    "When standardized observations and forecasts are used as RMSE inputs, there is a direct relationship with the correlation coefficient. For example, if the correlation coefficient is 1, the RMSE will be 0, because all of the points lie on the regression line (and therefore there are no errors).\n",
    "\n",
    "## Single predictor variable\n",
    "\n",
    "### Predict journey time based on gap size between stops\n",
    "\n",
    "$j = b_0 + b_1g$\n",
    "\n",
    "$j = b_0 + b_1g + b_2g^2$\n",
    "\n",
    "$j = b_0 + b_1g + b_2g^2 + b_3g^3$\n",
    "\n",
    "where \n",
    "- $j$ is the predicted journey time\n",
    "- $d$ is the gap size between the 2 stops\n",
    "\n",
    "Wouldn't expect there to be a peak, but an increasing gradient so that the larger the gap the greater the predicted journey time.\n",
    "\n",
    "#### Splitting the data into training and test sets.\n",
    "\n",
    "Need to ensure that the train and test sets are similar."
   ]
  },
  {
   "cell_type": "code",
   "execution_count": 533,
   "metadata": {},
   "outputs": [
    {
     "name": "stdout",
     "output_type": "stream",
     "text": [
      "(718, 8) (719, 8) (719, 8) (719, 8)\n",
      "(2299, 8) (426, 8)\n"
     ]
    },
    {
     "data": {
      "text/html": [
       "<div>\n",
       "<style scoped>\n",
       "    .dataframe tbody tr th:only-of-type {\n",
       "        vertical-align: middle;\n",
       "    }\n",
       "\n",
       "    .dataframe tbody tr th {\n",
       "        vertical-align: top;\n",
       "    }\n",
       "\n",
       "    .dataframe thead th {\n",
       "        text-align: right;\n",
       "    }\n",
       "</style>\n",
       "<table border=\"1\" class=\"dataframe\">\n",
       "  <thead>\n",
       "    <tr style=\"text-align: right;\">\n",
       "      <th></th>\n",
       "      <th>Journey Time</th>\n",
       "      <th>Journey Time (s)</th>\n",
       "      <th>Day of Week</th>\n",
       "      <th>Time of Day</th>\n",
       "      <th>Pre Lockdown</th>\n",
       "      <th>Gap</th>\n",
       "      <th>Day of Week Encoded</th>\n",
       "      <th>Pre Lockdown Encoded</th>\n",
       "    </tr>\n",
       "  </thead>\n",
       "  <tbody>\n",
       "    <tr>\n",
       "      <th>552</th>\n",
       "      <td>00:05:39</td>\n",
       "      <td>339.0</td>\n",
       "      <td>weekday</td>\n",
       "      <td>10</td>\n",
       "      <td>False</td>\n",
       "      <td>5</td>\n",
       "      <td>0</td>\n",
       "      <td>0</td>\n",
       "    </tr>\n",
       "    <tr>\n",
       "      <th>138</th>\n",
       "      <td>00:03:29</td>\n",
       "      <td>209.0</td>\n",
       "      <td>weekday</td>\n",
       "      <td>19</td>\n",
       "      <td>False</td>\n",
       "      <td>5</td>\n",
       "      <td>0</td>\n",
       "      <td>0</td>\n",
       "    </tr>\n",
       "    <tr>\n",
       "      <th>715</th>\n",
       "      <td>00:04:56</td>\n",
       "      <td>296.0</td>\n",
       "      <td>weekday</td>\n",
       "      <td>21</td>\n",
       "      <td>False</td>\n",
       "      <td>5</td>\n",
       "      <td>0</td>\n",
       "      <td>0</td>\n",
       "    </tr>\n",
       "    <tr>\n",
       "      <th>776</th>\n",
       "      <td>00:04:38</td>\n",
       "      <td>278.0</td>\n",
       "      <td>weekday</td>\n",
       "      <td>18</td>\n",
       "      <td>False</td>\n",
       "      <td>5</td>\n",
       "      <td>0</td>\n",
       "      <td>0</td>\n",
       "    </tr>\n",
       "    <tr>\n",
       "      <th>781</th>\n",
       "      <td>00:03:59</td>\n",
       "      <td>239.0</td>\n",
       "      <td>weekday</td>\n",
       "      <td>20</td>\n",
       "      <td>False</td>\n",
       "      <td>5</td>\n",
       "      <td>0</td>\n",
       "      <td>0</td>\n",
       "    </tr>\n",
       "  </tbody>\n",
       "</table>\n",
       "</div>"
      ],
      "text/plain": [
       "    Journey Time  Journey Time (s) Day of Week  Time of Day  Pre Lockdown  \\\n",
       "552     00:05:39             339.0     weekday           10         False   \n",
       "138     00:03:29             209.0     weekday           19         False   \n",
       "715     00:04:56             296.0     weekday           21         False   \n",
       "776     00:04:38             278.0     weekday           18         False   \n",
       "781     00:03:59             239.0     weekday           20         False   \n",
       "\n",
       "     Gap  Day of Week Encoded  Pre Lockdown Encoded  \n",
       "552    5                    0                     0  \n",
       "138    5                    0                     0  \n",
       "715    5                    0                     0  \n",
       "776    5                    0                     0  \n",
       "781    5                    0                     0  "
      ]
     },
     "execution_count": 533,
     "metadata": {},
     "output_type": "execute_result"
    }
   ],
   "source": [
    "# partition data into 4 groups sorted by gap\n",
    "df_gap = df.sort_values(\"Gap\")\n",
    "training_gap, validation_gap = train_test_split(df_gap)\n",
    "training_gap.head()"
   ]
  },
  {
   "cell_type": "code",
   "execution_count": 536,
   "metadata": {
    "scrolled": true
   },
   "outputs": [
    {
     "name": "stdout",
     "output_type": "stream",
     "text": [
      "Slope/Coefficients:  [[ 0.         79.18667583]]\n",
      "Intercept:  [-121.644253]\n",
      "The root mean squared error is:  151.38397656224512\n",
      "The coefficient of determination is:  0.9352666460115754\n",
      "Slope/Coefficients:  [[ 0.         49.23513594  1.04115459]]\n",
      "Intercept:  [43.5279046]\n",
      "The root mean squared error is:  141.0304892702087\n",
      "The coefficient of determination is:  0.9438183724441561\n",
      "Slope/Coefficients:  [[ 0.00000000e+00  1.35663062e+02 -5.22970802e+00  1.31215792e-01]]\n",
      "Intercept:  [-272.80286656]\n",
      "The root mean squared error is:  141.84555650869996\n",
      "The coefficient of determination is:  0.9431671072017256\n",
      "Slope/Coefficients:  [[ 0.00000000e+00  3.20189745e+02 -2.62017619e+01  1.06279211e+00\n",
      "  -1.40414372e-02]]\n",
      "Intercept:  [-785.47396452]\n",
      "The root mean squared error is:  138.03845312749638\n",
      "The coefficient of determination is:  0.946176930837698\n",
      "Slope/Coefficients:  [[ 0.00000000e+00 -3.16969008e+02  6.94599442e+01 -5.41607326e+00\n",
      "   1.88066012e-01 -2.35692890e-03]]\n",
      "Intercept:  [701.60981441]\n",
      "The root mean squared error is:  136.8171995367274\n",
      "The coefficient of determination is:  0.9471250846987381\n",
      "Slope/Coefficients:  [[ 0.00000000e+00  1.97789396e+00  1.07332130e+01 -1.00291562e-01\n",
      "  -6.50664499e-02  3.71825019e-03 -5.78588485e-05]]\n",
      "Intercept:  [50.69776945]\n",
      "The root mean squared error is:  136.8171995397846\n",
      "The coefficient of determination is:  0.9471250846963751\n",
      "Slope/Coefficients:  [[ 0.00000000e+00  6.72411428e-02  5.83192097e-01  2.39331574e+00\n",
      "  -3.16694692e-01  1.63799622e-02 -3.71733909e-04  3.05190516e-06]]\n",
      "Intercept:  [124.66631203]\n",
      "The root mean squared error is:  136.81719954055987\n",
      "The coefficient of determination is:  0.9471250846957759\n",
      "Slope/Coefficients:  [[ 0.00000000e+00  1.19532777e-03  1.28652940e-02  8.55950335e-02\n",
      "   3.17631479e-01 -5.11391244e-02  3.13071458e-03 -8.54473246e-05\n",
      "   8.71600524e-07]]\n",
      "Intercept:  [194.11086414]\n",
      "The root mean squared error is:  136.81719954087382\n",
      "The coefficient of determination is:  0.9471250846955334\n",
      "Slope/Coefficients:  [[ 0.00000000e+00  1.75365690e-05  2.12772995e-04  1.76311420e-03\n",
      "   1.06660091e-02  3.77861213e-02 -6.60194117e-03  4.28074517e-04\n",
      "  -1.22498340e-05  1.30231591e-07]]\n",
      "Intercept:  [235.69913611]\n",
      "The root mean squared error is:  136.81719954048813\n",
      "The coefficient of determination is:  0.9471250846958315\n",
      "Slope/Coefficients:  [[ 0.00000000e+00  2.30832590e-07  3.00920958e-06  2.81830785e-05\n",
      "   2.12905865e-04  1.23383741e-03  4.27041086e-03 -7.79784058e-04\n",
      "   5.20907194e-05 -1.52446013e-06  1.64983212e-08]]\n",
      "Intercept:  [259.10153518]\n",
      "The root mean squared error is:  136.81719954056337\n",
      "The coefficient of determination is:  0.9471250846957733\n",
      "Slope/Coefficients:  [[ 0.00000000e+00  2.69521943e-09  3.84247682e-08  3.87814856e-07\n",
      "   3.31770837e-06  2.40541311e-05  1.36491349e-04  4.66732677e-04\n",
      "  -8.75087093e-05  5.95124135e-06 -1.76467267e-07  1.92907949e-09]]\n",
      "Intercept:  [271.94530638]\n",
      "The root mean squared error is:  136.81719954314124\n",
      "The coefficient of determination is:  0.9471250846937808\n",
      "Slope/Coefficients:  [[ 0.00000000e+00 -4.37300979e-12  4.56719071e-10  4.83651680e-09\n",
      "   4.46556060e-08  3.67137720e-07  2.60951027e-06  1.46499452e-05\n",
      "   4.97793810e-05 -9.49009439e-06  6.52827433e-07 -1.95206742e-08\n",
      "   2.14752043e-10]]\n",
      "Intercept:  [278.8593291]\n",
      "The root mean squared error is:  136.81719952631164\n",
      "The coefficient of determination is:  0.9471250847067888\n",
      "Slope/Coefficients:  [[ 0.00000000e+00  5.13122512e-12  5.17468397e-12  5.63780945e-11\n",
      "   5.46730788e-10  4.85619724e-09  3.91750205e-08  2.75699064e-07\n",
      "   1.53935282e-06  5.21325977e-06 -1.00467394e-06  6.96354613e-08\n",
      "  -2.09382874e-09  2.31319926e-11]]\n",
      "Intercept:  [282.51850181]\n",
      "The root mean squared error is:  136.8171995825189\n",
      "The coefficient of determination is:  0.9471250846633447\n",
      "Slope/Coefficients:  [[ 0.00000000e+00 -1.45676499e-12  5.50377144e-14  6.26941265e-13\n",
      "   6.28035391e-12  5.86343361e-11  5.11345039e-10  4.08654506e-09\n",
      "   2.86159503e-08  1.59328826e-07  5.38653580e-07 -1.04549057e-07\n",
      "   7.28312859e-09 -2.19814858e-10  2.43538822e-12]]\n",
      "Intercept:  [284.42738388]\n",
      "The root mean squared error is:  136.81719942464363\n",
      "The coefficient of determination is:  0.9471250847853708\n"
     ]
    }
   ],
   "source": [
    "from sklearn.metrics import mean_squared_error, r2_score, mean_absolute_error\n",
    "from sklearn.preprocessing import PolynomialFeatures\n",
    "\n",
    "def poly_regression_gap(degree):\n",
    "    poly = PolynomialFeatures(degree = degree)\n",
    "    poly.fit(training_gap['Gap'][:, np.newaxis])\n",
    "\n",
    "    x_train = poly.transform(training_gap['Gap'][:, np.newaxis])\n",
    "    x_test = poly.transform(validation_gap['Gap'][:, np.newaxis])\n",
    "    y_train = training_gap['Journey Time (s)'][:, np.newaxis]\n",
    "    y_test = validation_gap['Journey Time (s)'][:, np.newaxis]\n",
    "\n",
    "    # Fit model\n",
    "    linreg = LinearRegression()\n",
    "    linreg.fit(x_train, y_train)\n",
    "\n",
    "    # Apply the model to the validation data to predict the ‘Journey Time’\n",
    "    y_pred = linreg.predict(x_test)\n",
    "\n",
    "    # Calculate measures of success\n",
    "    mse = mean_squared_error(y_test, y_pred)\n",
    "    rmse = np.sqrt(mse)\n",
    "    r2 = r2_score(y_test, y_pred)\n",
    "    mape = mean_absolute_error(y_test, y_pred)\n",
    "\n",
    "    # coefficient of determination = 1 is perfect prediction\n",
    "    print('The coefficient of determination is: ', r2)\n",
    "    \n",
    "    return y_test, y_pred, rmse, mape, linreg\n",
    "\n",
    "y_pred_gaps = []\n",
    "rmse_gaps = []\n",
    "mape_gaps = []\n",
    "y_test_gap = []\n",
    "model_gaps = []\n",
    "\n",
    "for i in range(1, 15):\n",
    "    y_test_gap, y_pred_gap, rmse_gap, mape_gap, model_gap = poly_regression_gap(i)\n",
    "\n",
    "    y_pred_gaps.append(y_pred_gap)\n",
    "    rmse_gaps.append(rmse_gap)\n",
    "    mape_gaps.append(mape_gap)\n",
    "    model_gaps.append(model_gap)"
   ]
  },
  {
   "cell_type": "code",
   "execution_count": 539,
   "metadata": {},
   "outputs": [
    {
     "data": {
      "image/png": "[encoded data removed]",
      "text/plain": [
       "<Figure size 864x360 with 2 Axes>"
      ]
     },
     "metadata": {},
     "output_type": "display_data"
    }
   ],
   "source": [
    "fig, ax = plt.subplots(figsize=(12,5), nrows = 1, ncols = 2)\n",
    "\n",
    "ax[0].plot([i for i in range(1, len(rmse_gaps) + 1)], rmse_gaps)\n",
    "ax[0].set_title(\"RMSE score as degree increases\")\n",
    "ax[0].set_xlabel(\"Degree\")\n",
    "ax[0].set_ylabel(\"RMSE (seconds)\")\n",
    "ax[0].set_ylim(130,160)\n",
    "\n",
    "ax[1].plot([i for i in range(1, len(mape_gaps) + 1)], mape_gaps)\n",
    "ax[1].set_title(\"MAPE score as degree increases\")\n",
    "ax[1].set_xlabel(\"Degree\")\n",
    "ax[1].set_ylabel(\"MAPE (seconds)\")\n",
    "ax[1].set_ylim(80,110)\n",
    "\n",
    "fig.suptitle(\"Regression Model with Gap Size as the independent variable\", fontsize=14)\n",
    "plt.show()"
   ]
  },
  {
   "cell_type": "code",
   "execution_count": 540,
   "metadata": {},
   "outputs": [
    {
     "name": "stdout",
     "output_type": "stream",
     "text": [
      "13 13\n"
     ]
    }
   ],
   "source": [
    "best_rmse_gap = min(rmse_gaps)\n",
    "best_mape_gap = min(mape_gaps)\n",
    "best_rmse_gap_index = rmse_gaps.index(best_rmse_gap)\n",
    "best_mape_gap_index = mape_gaps.index(best_mape_gap)\n",
    "print(best_rmse_gap_index, best_mape_gap_index)"
   ]
  },
  {
   "cell_type": "code",
   "execution_count": 544,
   "metadata": {},
   "outputs": [
    {
     "data": {
      "image/png": "[encoded data removed]",
      "text/plain": [
       "<Figure size 864x360 with 2 Axes>"
      ]
     },
     "metadata": {},
     "output_type": "display_data"
    }
   ],
   "source": [
    "import operator\n",
    "\n",
    "x = validation_gap['Gap'][:, np.newaxis]\n",
    "sort_axis = operator.itemgetter(0)\n",
    "sorted_zip_mape = sorted(zip(x, y_pred_gaps[best_mape_gap_index]), key=sort_axis)\n",
    "x_mape, y_pred_mape = zip(*sorted_zip_mape)\n",
    "sorted_zip_rmse = sorted(zip(x, y_pred_gaps[best_rmse_gap_index]), key=sort_axis)\n",
    "x_rmse, y_pred_rmse = zip(*sorted_zip_rmse)\n",
    "\n",
    "# Plot outputs\n",
    "fig, ax = plt.subplots(figsize=(12,5), nrows = 1, ncols = 2)\n",
    "ax[0].scatter(x, y_test_gap, label = \"Actual\", s = 10)\n",
    "ax[0].plot(x_rmse, y_pred_rmse, label = \"Predicted degree = {}\".format(best_rmse_gap_index + 1), color = cs[6])\n",
    "if best_rmse_gap_index != best_mape_gap_index:\n",
    "    ax[0].plot(x_mape, y_pred_mape, label = \"Predicted degree = {}\".format(best_mape_gap_index + 1), color = cs[3])\n",
    "ax[0].set_title(\"Regression model based on gap size\")\n",
    "ax[0].set_xlabel(\"Gap size\")\n",
    "ax[0].set_ylabel(\"Predicted journey time (seconds)\")\n",
    "ax[0].legend()\n",
    "\n",
    "ax[1].scatter(y_test_gap, y_pred_rmse, label = \"degree = {}\".format(best_rmse_gap_index + 1), color = cs[6], alpha = 0.7, s = 10)\n",
    "if best_rmse_gap_index != best_mape_gap_index:\n",
    "    ax[1].scatter(y_test_gap, y_pred_mape, label = \"degree = {}\".format(best_mape_gap_index + 1), color = cs[3], alpha = 0.7, s = 10)\n",
    "ax[1].set_title(\"Predicted vs actual journey time\")\n",
    "ax[1].set_xlabel(\"Actual journey time (seconds)\")\n",
    "ax[1].set_ylabel(\"Predicted journey time (seconds)\")\n",
    "ax[1].set_xlim(0, 3000)\n",
    "ax[1].set_ylim(0, 3000)\n",
    "ax[1].legend()\n",
    "\n",
    "fig.suptitle(\"Regression Model with Gap size as the independent variable\", fontsize=14)\n",
    "plt.show()"
   ]
  },
  {
   "cell_type": "markdown",
   "metadata": {},
   "source": [
    "## Multiple predictor variables == Multiple Linear Regression\n",
    "\n",
    "### Day of Week and Gap\n",
    "\n",
    "$j = b_0 + b_1d + b_2g$\n",
    "\n",
    "$j = b_0 + b_1d^2 + b_2dg + b_3g^2$\n",
    "\n",
    "$j = b_0 + b_1d^3 + b_2d^2g + b_3dg^2 + b_4g^3$\n",
    "\n",
    "where \n",
    "- $j$ is the predicted journey time\n",
    "- $d$ is the day of week\n",
    "- $t$ is the time of day"
   ]
  },
  {
   "cell_type": "code",
   "execution_count": 545,
   "metadata": {},
   "outputs": [
    {
     "name": "stdout",
     "output_type": "stream",
     "text": [
      "(718, 8) (719, 8) (719, 8) (719, 8)\n",
      "(2299, 8) (416, 8)\n"
     ]
    },
    {
     "data": {
      "text/html": [
       "<div>\n",
       "<style scoped>\n",
       "    .dataframe tbody tr th:only-of-type {\n",
       "        vertical-align: middle;\n",
       "    }\n",
       "\n",
       "    .dataframe tbody tr th {\n",
       "        vertical-align: top;\n",
       "    }\n",
       "\n",
       "    .dataframe thead th {\n",
       "        text-align: right;\n",
       "    }\n",
       "</style>\n",
       "<table border=\"1\" class=\"dataframe\">\n",
       "  <thead>\n",
       "    <tr style=\"text-align: right;\">\n",
       "      <th></th>\n",
       "      <th>Journey Time</th>\n",
       "      <th>Journey Time (s)</th>\n",
       "      <th>Day of Week</th>\n",
       "      <th>Time of Day</th>\n",
       "      <th>Pre Lockdown</th>\n",
       "      <th>Gap</th>\n",
       "      <th>Day of Week Encoded</th>\n",
       "      <th>Pre Lockdown Encoded</th>\n",
       "    </tr>\n",
       "  </thead>\n",
       "  <tbody>\n",
       "    <tr>\n",
       "      <th>553</th>\n",
       "      <td>00:05:09</td>\n",
       "      <td>309.0</td>\n",
       "      <td>weekday</td>\n",
       "      <td>10</td>\n",
       "      <td>False</td>\n",
       "      <td>5</td>\n",
       "      <td>0</td>\n",
       "      <td>0</td>\n",
       "    </tr>\n",
       "    <tr>\n",
       "      <th>483</th>\n",
       "      <td>00:03:47</td>\n",
       "      <td>227.0</td>\n",
       "      <td>weekday</td>\n",
       "      <td>20</td>\n",
       "      <td>False</td>\n",
       "      <td>5</td>\n",
       "      <td>0</td>\n",
       "      <td>0</td>\n",
       "    </tr>\n",
       "    <tr>\n",
       "      <th>178</th>\n",
       "      <td>00:04:58</td>\n",
       "      <td>298.0</td>\n",
       "      <td>weekday</td>\n",
       "      <td>10</td>\n",
       "      <td>False</td>\n",
       "      <td>5</td>\n",
       "      <td>0</td>\n",
       "      <td>0</td>\n",
       "    </tr>\n",
       "    <tr>\n",
       "      <th>9</th>\n",
       "      <td>00:07:50</td>\n",
       "      <td>470.0</td>\n",
       "      <td>weekday</td>\n",
       "      <td>11</td>\n",
       "      <td>True</td>\n",
       "      <td>5</td>\n",
       "      <td>0</td>\n",
       "      <td>1</td>\n",
       "    </tr>\n",
       "    <tr>\n",
       "      <th>30</th>\n",
       "      <td>00:06:13</td>\n",
       "      <td>373.0</td>\n",
       "      <td>weekday</td>\n",
       "      <td>10</td>\n",
       "      <td>True</td>\n",
       "      <td>5</td>\n",
       "      <td>0</td>\n",
       "      <td>1</td>\n",
       "    </tr>\n",
       "  </tbody>\n",
       "</table>\n",
       "</div>"
      ],
      "text/plain": [
       "    Journey Time  Journey Time (s) Day of Week  Time of Day  Pre Lockdown  \\\n",
       "553     00:05:09             309.0     weekday           10         False   \n",
       "483     00:03:47             227.0     weekday           20         False   \n",
       "178     00:04:58             298.0     weekday           10         False   \n",
       "9       00:07:50             470.0     weekday           11          True   \n",
       "30      00:06:13             373.0     weekday           10          True   \n",
       "\n",
       "     Gap  Day of Week Encoded  Pre Lockdown Encoded  \n",
       "553    5                    0                     0  \n",
       "483    5                    0                     0  \n",
       "178    5                    0                     0  \n",
       "9      5                    0                     1  \n",
       "30     5                    0                     1  "
      ]
     },
     "execution_count": 545,
     "metadata": {},
     "output_type": "execute_result"
    }
   ],
   "source": [
    "# partition data into 4 groups\n",
    "df_dow_gap = df.sort_values([\"Gap\", \"Day of Week\"])\n",
    "training_dow_gap, validation_dow_gap = train_test_split(df_dow_gap)\n",
    "training_dow_gap.head()"
   ]
  },
  {
   "cell_type": "code",
   "execution_count": 552,
   "metadata": {
    "scrolled": true
   },
   "outputs": [
    {
     "name": "stdout",
     "output_type": "stream",
     "text": [
      "Slope/Coefficients:  [[  0.         -14.41971511 531.78687676]]\n",
      "Intercept:  [895.09743367]\n",
      "The root mean squared error is:  144.16173088680088\n",
      "The coefficient of determination is:  0.9446678404982413\n",
      "Slope/Coefficients:  [[  0.           4.11312262 341.35096846   4.11312262 -20.41941556\n",
      "  198.8309452 ]]\n",
      "Intercept:  [895.09743367]\n",
      "The root mean squared error is:  131.50348383729028\n",
      "The coefficient of determination is:  0.9539582140991051\n",
      "Slope/Coefficients:  [[ 0.00000000e+00  6.73536845e-01  8.87269620e+02  6.73536845e-01\n",
      "  -9.57969821e+00 -9.71710843e+02  6.73536845e-01 -9.57969821e+00\n",
      "   5.18100528e+00  6.51801970e+02]]\n",
      "Intercept:  [895.09743367]\n",
      "The root mean squared error is:  127.66209990386461\n",
      "The coefficient of determination is:  0.9566088049096854\n",
      "Slope/Coefficients:  [[ 0.00000000e+00 -5.25429234e-01  2.08737662e+03 -5.25429234e-01\n",
      "  -4.55887795e+00 -4.98772844e+03 -5.25429234e-01 -4.55887795e+00\n",
      "   2.98452331e+00  5.38483902e+03 -5.25429234e-01 -4.55887795e+00\n",
      "   2.98452331e+00 -2.39810434e+00 -1.92028916e+03]]\n",
      "Intercept:  [895.09743367]\n",
      "The root mean squared error is:  122.77198954578026\n",
      "The coefficient of determination is:  0.9598693465402817\n",
      "Slope/Coefficients:  [[ 0.00000000e+00 -3.79315504e+13 -1.83956365e+03  9.49936278e+12\n",
      "  -1.05710803e+14  1.23599460e+04  9.27680110e+12 -1.03528664e+14\n",
      "   1.44465213e+14 -2.57634978e+04  9.57844683e+12 -1.03039542e+14\n",
      "   1.40968064e+14  9.54674989e+14  2.42046852e+04  9.57693972e+12\n",
      "   3.12279009e+14 -2.85433277e+14 -9.54674989e+14 -1.36078069e+02\n",
      "  -8.42402181e+03]]\n",
      "Intercept:  [895.09743367]\n",
      "The root mean squared error is:  120.17071100977512\n",
      "The coefficient of determination is:  0.9615518980024255\n",
      "Slope/Coefficients:  [[ 4.03463830e+12 -2.28314884e+14  2.13472824e+13 -2.17205424e+14\n",
      "   1.09464982e+14 -1.15450308e+14 -1.94538983e+14  1.06233774e+14\n",
      "   4.83416193e+14  2.76655128e+14 -1.95975778e+14  1.05936953e+14\n",
      "   4.78573834e+14  8.64040042e+14 -3.53813932e+14 -1.95964330e+14\n",
      "  -1.60817855e+14 -4.80995013e+14 -4.32020021e+14  4.38197954e+09\n",
      "   2.34568964e+14  1.03199940e+15 -1.60817855e+14 -4.80995013e+14\n",
      "  -4.32020021e+14 -4.38197386e+09 -1.69600573e+03 -6.32200645e+13]]\n",
      "Intercept:  [895.25079136]\n",
      "The root mean squared error is:  120.40690812848885\n",
      "The coefficient of determination is:  0.961400608964134\n",
      "Slope/Coefficients:  [[-4.57787055e+12 -8.23958962e+14 -3.53148883e+13 -8.08714366e+14\n",
      "   7.57963604e+14  1.78607263e+14 -7.17170286e+14  4.10593758e+14\n",
      "  -2.18205422e+14 -3.78840290e+14  6.59948852e+14 -1.91817602e+14\n",
      "  -3.10398728e+14 -6.17470106e+14  3.73096854e+14  3.65918153e+14\n",
      "  -2.30890982e+14 -4.26519292e+14 -3.56566147e+14  7.13260068e+13\n",
      "  -9.39865664e+13  6.64285584e+14 -5.47143230e+14  5.32810432e+14\n",
      "  -3.56566147e+14  7.94761453e+13 -6.79680159e+13 -1.01339968e+14\n",
      "   6.64285584e+14 -2.30875975e+14  5.32810432e+14  1.11969889e+15\n",
      "   7.94761453e+13 -6.79408949e+13  3.37333110e+13  5.76173526e+13]]\n",
      "Intercept:  [895.41411257]\n",
      "The root mean squared error is:  120.37028454096503\n",
      "The coefficient of determination is:  0.9614240865736279\n",
      "Slope/Coefficients:  [[-1.05829585e+13 -6.58005174e+14 -3.88674926e+13 -7.30073215e+14\n",
      "   5.55212519e+14  1.90789710e+14 -6.45238751e+14  3.26237598e+14\n",
      "  -2.86928700e+14 -3.81175977e+14  4.66509332e+14 -1.36551170e+14\n",
      "  -3.19775725e+14 -6.38983409e+14  3.18987420e+14  1.13316135e+14\n",
      "  -1.35960424e+14 -4.34036140e+14 -4.11429459e+14  3.33786901e+13\n",
      "   1.21261934e+13  4.83230352e+14 -3.06957653e+14  3.30534958e+14\n",
      "  -4.11429459e+14  3.89121844e+13 -9.54350868e+13 -1.75888362e+14\n",
      "   4.83230352e+14 -1.39996846e+14  3.30534958e+14  7.36097404e+14\n",
      "   3.89121844e+13 -9.54960795e+13  1.10784048e+14  6.72164669e+13\n",
      "   4.83230352e+14 -1.39996846e+14  3.30534958e+14  7.36097404e+14\n",
      "   3.89121844e+13 -9.54960795e+13  1.10784048e+14 -6.47338560e+13\n",
      "   6.62821585e+12]]\n",
      "Intercept:  [895.22755757]\n",
      "The root mean squared error is:  120.74476290993813\n",
      "The coefficient of determination is:  0.9611836897664972\n",
      "Slope/Coefficients:  [[-8.79020681e+12 -5.04399037e+14 -1.96860818e+13 -5.56433934e+14\n",
      "   3.21067902e+14  1.18415999e+14 -7.44211420e+14  3.74196287e+14\n",
      "  -3.35053040e+14 -3.04973281e+14  3.79952584e+14 -6.72608113e+13\n",
      "  -2.96676896e+14 -5.89943009e+14  3.54534295e+14  4.01516880e+13\n",
      "  -6.48271049e+13 -3.79316408e+14 -3.51219600e+14  5.49008568e+13\n",
      "  -3.48745684e+13  3.47788722e+14 -2.39981525e+14  2.85930259e+14\n",
      "  -3.51219600e+14  4.74652456e+13 -4.87295248e+13 -2.98907418e+14\n",
      "   3.47788722e+14 -6.23402759e+13  2.85930259e+14  7.05536444e+14\n",
      "   4.74652456e+13 -4.85633033e+13  5.58254706e+13  1.62532422e+14\n",
      "   3.47788722e+14 -6.23402759e+13  2.85930259e+14  7.05536444e+14\n",
      "   4.74652456e+13 -4.85633033e+13  5.58254706e+13 -5.89366006e+13\n",
      "   1.00075316e+14  3.47788722e+14 -2.39981525e+14  2.85930259e+14\n",
      "  -3.51219600e+14  4.74652456e+13 -4.85633033e+13  5.58254706e+13\n",
      "  -6.43085099e+13  4.06789283e+13 -7.71879695e+13]]\n",
      "Intercept:  [895.16347829]\n",
      "The root mean squared error is:  120.4963687277535\n",
      "The coefficient of determination is:  0.9613432300725412\n",
      "Slope/Coefficients:  [[-6.16238199e+12 -7.14680187e+14 -3.13926248e+13 -5.50585677e+14\n",
      "   4.65832742e+14  1.32991112e+14 -4.45460257e+14  4.20568064e+12\n",
      "  -1.67823958e+14 -2.08774860e+14  3.15112175e+14 -1.88571564e+13\n",
      "  -1.64222846e+14 -5.44450621e+14  1.18372398e+14  9.80473655e+13\n",
      "  -2.98483612e+13 -1.47511845e+14 -3.58673228e+14  7.64923157e+13\n",
      "  -9.63449062e+12  3.10132273e+14 -2.71268182e+14  3.06576515e+14\n",
      "  -3.58673228e+14  7.80229243e+13 -4.01978068e+13 -1.85604078e+13\n",
      "   3.10132273e+14 -3.16849064e+13  3.06576515e+14  5.92481196e+14\n",
      "   7.80229243e+13 -4.03305534e+13  7.21305005e+13  1.45406116e+14\n",
      "   3.10132273e+14 -3.16849064e+13  3.06576515e+14  5.92481196e+14\n",
      "   7.80229243e+13 -4.03305534e+13  7.21305005e+13  2.28287414e+14\n",
      "  -1.47988870e+14  3.10132273e+14 -2.71268182e+14  3.06576515e+14\n",
      "  -3.58673228e+14  7.80229243e+13 -4.03305534e+13  7.21305005e+13\n",
      "   2.28287414e+14  4.59288898e+13 -6.34958357e+13  9.20523628e+13\n",
      "  -3.16849064e+13 -1.47511845e+14 -3.58673228e+14  7.80229243e+13\n",
      "  -4.03305534e+13  7.21305005e+13 -4.56538296e+14 -4.59296727e+14\n",
      "   2.36614165e+14  8.29194072e+13]]\n",
      "Intercept:  [894.79270928]\n",
      "The root mean squared error is:  120.52308059449669\n",
      "The coefficient of determination is:  0.9613260891586416\n",
      "Slope/Coefficients:  [[-4.08339925e+12 -4.81283790e+14 -1.32656928e+13 -3.75592934e+14\n",
      "   6.82450237e+13  5.34539194e+13 -3.17232750e+14 -9.78934574e+13\n",
      "  -1.30618074e+14 -6.92719739e+13  1.46370222e+14  1.93358526e+13\n",
      "  -3.56085924e+13 -3.72433140e+14  1.13818890e+13  2.32944749e+14\n",
      "  -2.87791856e+13  2.06315274e+13 -3.94733678e+14  9.57585589e+13\n",
      "  -3.26083285e+13  1.29508904e+14 -2.04525690e+14  3.99659222e+14\n",
      "  -3.94733678e+14  9.69995909e+13 -3.51630355e+13  1.86591480e+14\n",
      "   1.29508904e+14 -2.75976854e+13  3.99659222e+14  2.41736144e+14\n",
      "   9.69995909e+13 -3.52546249e+13  7.87461451e+13 -9.89267389e+13\n",
      "   1.29508904e+14 -2.75976854e+13  3.99659222e+14  2.41736144e+14\n",
      "   9.69995909e+13 -3.52546249e+13  7.87461451e+13  3.57042985e+13\n",
      "  -1.96743454e+14  1.29508904e+14 -2.04525690e+14  3.99659222e+14\n",
      "  -3.94733678e+14  9.69995909e+13 -3.52546249e+13  7.87461451e+13\n",
      "   3.57042985e+13 -1.82072027e+14  1.53011818e+14  2.39525899e+14\n",
      "  -2.75976854e+13  2.06315274e+13 -3.94733678e+14  9.69995909e+13\n",
      "  -3.52546249e+13  7.87461451e+13  2.37313069e+14 -9.38945877e+13\n",
      "  -2.93456345e+14  6.87249245e+13  1.29508904e+14 -2.75976854e+13\n",
      "   2.06315274e+13 -3.94733678e+14  3.88692852e+14 -1.78224691e+14\n",
      "   7.87461451e+13  3.57042985e+13 -1.82072027e+14 -2.93456345e+14\n",
      "   5.28126803e+14 -6.24342657e+13]]\n",
      "Intercept:  [894.41512372]\n",
      "The root mean squared error is:  120.66642349517421\n",
      "The coefficient of determination is:  0.961234041607857\n",
      "Slope/Coefficients:  [[ 2.85036713e+12 -3.55612909e+14 -3.77401980e+12 -2.58313631e+14\n",
      "  -7.32573250e+13 -5.40917686e+12 -3.77542265e+14 -1.78660611e+14\n",
      "   3.48640192e+13  7.58245976e+13  1.22694817e+14 -3.76963288e+13\n",
      "  -1.81804244e+13 -3.22913238e+14 -1.29136551e+14  1.38179974e+14\n",
      "  -4.89139452e+12  5.65538084e+13 -3.51344407e+14  1.27604969e+14\n",
      "  -3.16895245e+13  1.07766366e+14 -1.00939727e+14  3.45188223e+14\n",
      "  -3.51344407e+14  1.14927166e+14 -8.70874659e+12  2.06063714e+14\n",
      "   1.07766366e+14 -4.10579879e+12  3.45188223e+14  2.27957546e+14\n",
      "   1.14927166e+14 -8.77604128e+12  8.15570809e+13 -3.31929671e+13\n",
      "   1.07766366e+14 -4.10579879e+12  3.45188223e+14  2.27957546e+14\n",
      "   1.14927166e+14 -8.77604128e+12  8.15570809e+13  8.76470352e+13\n",
      "  -2.13299108e+14  1.07766366e+14 -1.00939727e+14  3.45188223e+14\n",
      "  -3.51344407e+14  1.14927166e+14 -8.77604128e+12  8.15570809e+13\n",
      "   8.96316962e+13 -2.17619618e+14  2.08705991e+14  1.46868645e+14\n",
      "  -4.10579879e+12  5.65538084e+13 -3.51344407e+14  1.14927166e+14\n",
      "  -8.77604128e+12  8.15570809e+13  1.14186177e+13 -4.40428183e+13\n",
      "  -2.96527067e+14  8.76807655e+12  1.07766366e+14 -4.10579879e+12\n",
      "   5.65538084e+13 -3.51344407e+14  1.49644197e+14 -3.17620208e+14\n",
      "   8.15570809e+13  8.76470352e+13 -2.15330131e+14 -2.96527067e+14\n",
      "   3.02717092e+14 -2.13716255e+14  1.46868645e+14 -1.00939727e+14\n",
      "   5.65538084e+13 -3.51344407e+14  1.14927166e+14 -8.77604128e+12\n",
      "   8.15570809e+13  8.76470352e+13 -4.40428183e+13 -4.34155874e+13\n",
      "   2.43373171e+14  2.66207751e+13  1.30837682e+14]]\n",
      "Intercept:  [894.48415347]\n",
      "The root mean squared error is:  120.403372058561\n",
      "The coefficient of determination is:  0.9614028760789334\n",
      "Slope/Coefficients:  [[-4.32078907e+11 -3.17283667e+14 -9.39562366e+13 -4.10642610e+14\n",
      "  -6.73220970e+13  3.15089839e+14 -3.53398015e+14 -1.28238810e+14\n",
      "   9.37759195e+13 -2.70246833e+14  9.40078184e+13 -1.04906978e+14\n",
      "   1.20401264e+14 -3.77949168e+14 -8.50614013e+13  1.64241248e+14\n",
      "  -9.29792945e+13  1.19627243e+14 -3.65803199e+14  1.15307471e+14\n",
      "  -5.55066811e+13  1.10844713e+14 -8.28345015e+12  3.65393842e+14\n",
      "  -3.65803199e+14  1.02504828e+14 -6.90655309e+13  2.74004917e+14\n",
      "   1.10844713e+14 -8.60066842e+13  3.65393842e+14 -8.47789547e+13\n",
      "   1.02504828e+14 -6.91293433e+13  1.87882821e+14 -2.40902713e+12\n",
      "   1.10844713e+14 -8.60066842e+13  3.65393842e+14 -8.47789547e+13\n",
      "   1.02504828e+14 -6.91293433e+13  1.87882821e+14 -6.06057736e+13\n",
      "  -8.01065255e+13  1.10844713e+14 -8.28345015e+12  3.65393842e+14\n",
      "  -3.65803199e+14  1.02504828e+14 -6.91293433e+13  1.87882821e+14\n",
      "  -6.06057736e+13 -1.36643377e+14  4.83052709e+14  1.48941446e+14\n",
      "  -8.60066842e+13  1.19627243e+14 -3.68097679e+14  1.00955624e+14\n",
      "  -6.89425874e+13  1.87882821e+14 -2.98472433e+13 -1.87660782e+14\n",
      "  -8.46039750e+13 -1.55515521e+13  1.10844713e+14 -8.60066842e+13\n",
      "   1.19627243e+14 -3.65803199e+14  3.67580230e+14 -2.36517956e+14\n",
      "   1.87882821e+14 -6.06057736e+13 -1.36643377e+14 -8.46039750e+13\n",
      "   8.01708446e+13 -7.83098820e+14  1.48941446e+14 -8.28345015e+12\n",
      "   1.19627243e+14 -3.65803199e+14  1.02504828e+14 -6.91293433e+13\n",
      "   1.87882821e+14 -6.06057736e+13 -1.87660782e+14  2.81562626e+14\n",
      "   8.01708446e+13  2.38157535e+14 -5.22062682e+14  1.10844713e+14\n",
      "  -8.60066842e+13  1.19627243e+14 -8.47789547e+13  3.67580230e+14\n",
      "  -6.91293433e+13  1.87882821e+14 -6.06057736e+13 -1.36643377e+14\n",
      "  -8.46039750e+13  8.01708446e+13 -2.25178115e+14  4.46228156e+13\n",
      "   8.35625134e+14]]\n",
      "Intercept:  [895.09279367]\n",
      "The root mean squared error is:  121.10686735086267\n",
      "The coefficient of determination is:  0.9609505262941199\n",
      "Slope/Coefficients:  [[ 3.98089372e+12 -2.62712788e+14 -8.87857611e+13 -3.48614977e+14\n",
      "   1.86083488e+13  2.73703959e+14 -2.23822209e+14  3.22777602e+13\n",
      "   1.17319860e+13 -1.99174210e+14  7.96266535e+13 -1.52869391e+14\n",
      "   7.18289876e+13 -2.57313394e+14  2.91988650e+13  2.56019853e+13\n",
      "  -1.11773884e+14  1.52641979e+14 -2.69466437e+14  3.89220841e+13\n",
      "  -4.12158054e+14  1.11582527e+14 -3.55035118e+13  3.01382594e+14\n",
      "  -2.69466437e+14  3.46727555e+13 -3.45623619e+13  3.35682412e+14\n",
      "   1.11582527e+14 -9.33552029e+13  3.01382594e+14 -8.83552198e+13\n",
      "   3.46727555e+13 -3.45604243e+13  1.06781745e+14  1.73765650e+14\n",
      "   1.11582527e+14 -9.33552029e+13  3.01382594e+14 -8.83552198e+13\n",
      "   3.46727555e+13 -3.45604243e+13  1.06781745e+14  1.51383629e+14\n",
      "   1.07433178e+14  1.11582527e+14 -3.55035118e+13  3.01382594e+14\n",
      "  -2.69466437e+14  3.46727555e+13 -3.45604243e+13  1.06781745e+14\n",
      "   1.51383629e+14 -2.08147286e+14  3.58239491e+14  4.97285984e+13\n",
      "  -9.33552029e+13  1.52641979e+14 -2.69466437e+14  3.46727555e+13\n",
      "  -3.45604243e+13  1.06781745e+14  2.04842366e+14 -1.65894677e+14\n",
      "  -1.62731054e+14 -9.72544597e+13  1.11582527e+14 -9.33552029e+13\n",
      "   1.52641979e+14 -2.69466437e+14  3.34702348e+14 -1.57830555e+14\n",
      "   1.06781745e+14  1.51383629e+14 -2.08147286e+14 -1.62731054e+14\n",
      "  -8.32828544e+12 -6.51065911e+14  4.97285984e+13 -3.55035118e+13\n",
      "   1.52641979e+14 -2.69466437e+14  3.46727555e+13 -3.45604243e+13\n",
      "   1.06781745e+14  1.51383629e+14 -1.65894677e+14  3.14722626e+14\n",
      "  -8.32828544e+12  4.39073666e+13 -3.96362141e+14  1.11582527e+14\n",
      "  -9.33552029e+13  1.52641979e+14 -8.83552198e+13  3.34702348e+14\n",
      "  -3.45604243e+13  1.06781745e+14  1.51383629e+14 -2.08147286e+14\n",
      "  -1.62731054e+14 -8.32828544e+12 -1.54599790e+14  1.70199151e+14\n",
      "  -1.61271211e+14  1.11582527e+14 -9.33552029e+13  1.52641979e+14\n",
      "  -2.69466437e+14  3.46727555e+13 -1.57830555e+14 -1.09467507e+14\n",
      "   1.51383629e+14 -2.08147286e+14 -1.62731054e+14 -8.32828544e+12\n",
      "   4.39073666e+13  2.92298779e+14 -7.01308545e+13  7.28047571e+14]]\n",
      "Intercept:  [892.01606078]\n",
      "The root mean squared error is:  120.87365151778529\n",
      "The coefficient of determination is:  0.9611007768471347\n"
     ]
    }
   ],
   "source": [
    "from sklearn.metrics import mean_squared_error, mean_absolute_error, r2_score\n",
    "from sklearn.preprocessing import PolynomialFeatures\n",
    "\n",
    "def poly_regression_mult(degree):\n",
    "    poly = PolynomialFeatures(degree = degree)\n",
    "    poly.fit(training_dow_gap[['Day of Week Encoded', 'Gap']])\n",
    "\n",
    "    x_train = poly.transform(training_dow_gap[['Day of Week Encoded', 'Gap']])\n",
    "    x_test = poly.transform(validation_dow_gap[['Day of Week Encoded', 'Gap']])\n",
    "    y_train = training_dow_gap['Journey Time (s)'][:, np.newaxis]\n",
    "    y_test = validation_dow_gap['Journey Time (s)'][:, np.newaxis]\n",
    "    \n",
    "    # Scale the data\n",
    "    scaler = preprocessing.StandardScaler()\n",
    "    scaler = scaler.fit(x_train)\n",
    "    x_scaled = scaler.transform(x_train)\n",
    "    x_test_scaled = scaler.transform(x_test)\n",
    "\n",
    "    # Fit model\n",
    "    linreg = LinearRegression()\n",
    "    linreg.fit(x_scaled, y_train)\n",
    "\n",
    "    # Apply the model to the validation data to predict the ‘Journey Time’\n",
    "    y_pred = linreg.predict(x_test_scaled)\n",
    "\n",
    "    # Calculate measures of success\n",
    "    mse = mean_squared_error(y_test, y_pred)\n",
    "    rmse = np.sqrt(mse)\n",
    "    r2 = r2_score(y_test, y_pred)\n",
    "    mape = mean_absolute_error(y_test, y_pred)\n",
    "\n",
    "    print('The coefficient of determination is: ', r2)\n",
    "    \n",
    "    return y_test, y_pred, rmse, mape, linreg\n",
    "\n",
    "y_pred_dow_gap = []\n",
    "rmse_dow_gap = []\n",
    "mape_dow_gap = []\n",
    "y_test_dow_gap = []\n",
    "model_dow_gap = []\n",
    "\n",
    "for i in range(1, 15):\n",
    "    y_test_dow_gap, y_pred_mult, rmse_mult, mape_mult, model_mult = poly_regression_mult(i)\n",
    "    y_pred_dow_gap.append(y_pred_mult)\n",
    "    rmse_dow_gap.append(rmse_mult)\n",
    "    mape_dow_gap.append(mape_mult)\n",
    "    model_dow_gap.append(model_mult)"
   ]
  },
  {
   "cell_type": "code",
   "execution_count": 553,
   "metadata": {},
   "outputs": [
    {
     "data": {
      "image/png": "[encoded data removed]",
      "text/plain": [
       "<Figure size 864x360 with 2 Axes>"
      ]
     },
     "metadata": {},
     "output_type": "display_data"
    }
   ],
   "source": [
    "fig, ax = plt.subplots(figsize=(12,5), nrows = 1, ncols = 2)\n",
    "\n",
    "ax[0].plot([i for i in range(1, len(rmse_dow_gap) + 1)], rmse_dow_gap)\n",
    "ax[0].set_title(\"RMSE score as degree increases\")\n",
    "ax[0].set_xlabel(\"Degree\")\n",
    "ax[0].set_ylabel(\"RMSE (seconds)\")\n",
    "ax[0].set_ylim(110, 150)\n",
    "\n",
    "ax[1].plot([i for i in range(1, len(mape_dow_gap) + 1)], mape_dow_gap)\n",
    "ax[1].set_title(\"MAPE score as degree increases\")\n",
    "ax[1].set_xlabel(\"Degree\")\n",
    "ax[1].set_ylabel(\"MAPE (seconds)\")\n",
    "ax[1].set_ylim(70, 110)\n",
    "\n",
    "fig.suptitle(\"Regression Model with Day of Week and Gap size as independent variables\", fontsize=14)\n",
    "plt.show()"
   ]
  },
  {
   "cell_type": "code",
   "execution_count": 554,
   "metadata": {},
   "outputs": [
    {
     "name": "stdout",
     "output_type": "stream",
     "text": [
      "4 3\n"
     ]
    }
   ],
   "source": [
    "best_rmse_dow_gap = min(rmse_dow_gap)\n",
    "best_mape_dow_gap = min(mape_dow_gap)\n",
    "best_rmse_dow_gap_index = rmse_dow_gap.index(best_rmse_dow_gap)\n",
    "best_mape_dow_gap_index = mape_dow_gap.index(best_mape_dow_gap)\n",
    "print(best_rmse_dow_gap_index, best_mape_dow_gap_index)"
   ]
  },
  {
   "cell_type": "code",
   "execution_count": 557,
   "metadata": {},
   "outputs": [
    {
     "data": {
      "image/png": "[encoded data removed]",
      "text/plain": [
       "<Figure size 432x360 with 1 Axes>"
      ]
     },
     "metadata": {},
     "output_type": "display_data"
    }
   ],
   "source": [
    "fig, ax = plt.subplots(figsize=(6,5))\n",
    "ax.scatter(y_test_dow_gap, y_pred_dow_gap[best_rmse_dow_gap_index], label = \"degree = {}\".format(best_rmse_dow_gap_index + 1), color = cs[6], s = 10)\n",
    "if best_rmse_dow_gap_index != best_mape_dow_gap_index:\n",
    "    ax.scatter(y_test_dow_gap, y_pred_dow_gap[best_mape_dow_gap_index], label = \"degree = {}\".format(best_mape_dow_gap_index + 1), color = cs[3], alpha = 0.7, s = 10)\n",
    "ax.set_title(\"Predicted vs actual journey time\")\n",
    "ax.set_xlabel(\"Actual journey time (seconds)\")\n",
    "ax.set_ylabel(\"Predicted journey time (seconds)\")\n",
    "ax.set_xlim(0, 3000)\n",
    "ax.set_ylim(0, 3000)\n",
    "ax.legend()\n",
    "\n",
    "fig.suptitle(\"Regression Model with Day of Week and Gap size as independent variables\", fontsize=14)\n",
    "plt.show()"
   ]
  },
  {
   "cell_type": "markdown",
   "metadata": {},
   "source": [
    "### Time of Day and Gap"
   ]
  },
  {
   "cell_type": "code",
   "execution_count": null,
   "metadata": {},
   "outputs": [],
   "source": [
    "# partition data into 4 groups\n",
    "df_tod_gap = df.sort_values([\"Gap\", \"Time of Day\"])\n",
    "training_tod_gap, validation_tod_gap = train_test_split(df_tod_gap)\n",
    "training_tod_gap.head()"
   ]
  },
  {
   "cell_type": "code",
   "execution_count": null,
   "metadata": {},
   "outputs": [],
   "source": [
    "from sklearn.metrics import mean_squared_error, mean_absolute_error, r2_score\n",
    "from sklearn.preprocessing import PolynomialFeatures\n",
    "\n",
    "def poly_regression_mult2(degree):\n",
    "    poly = PolynomialFeatures(degree = degree)\n",
    "    poly.fit(training_tod_gap[['Time of Day', 'Gap']])\n",
    "\n",
    "    x_train = poly.transform(training_tod_gap[['Time of Day', 'Gap']])\n",
    "    x_test = poly.transform(validation_tod_gap[['Time of Day', 'Gap']])\n",
    "    y_train = training_tod_gap['Journey Time (s)'][:, np.newaxis]\n",
    "    y_test = validation_tod_gap['Journey Time (s)'][:, np.newaxis]\n",
    "    \n",
    "    # Scale the data\n",
    "    scaler = preprocessing.StandardScaler()\n",
    "    scaler = scaler.fit(x_train)\n",
    "    x_scaled = scaler.transform(x_train)\n",
    "    x_test_scaled = scaler.transform(x_test)\n",
    "\n",
    "    # Fit model\n",
    "    linreg = LinearRegression()\n",
    "    linreg.fit(x_scaled, y_train)\n",
    "\n",
    "    # Apply the model to the validation data to predict the ‘Journey Time’\n",
    "    y_pred = linreg.predict(x_test_scaled)\n",
    "\n",
    "    # Calculate measures of success\n",
    "    mse = mean_squared_error(y_test, y_pred)\n",
    "    rmse = np.sqrt(mse)\n",
    "    r2 = r2_score(y_test, y_pred)\n",
    "    mape = mean_absolute_error(y_test, y_pred)\n",
    "\n",
    "    # coefficient of determination = 1 is perfect prediction\n",
    "    print('The coefficient of determination is: ', r2)\n",
    "    \n",
    "    return y_test, y_pred, rmse, mape, linreg\n",
    "\n",
    "y_pred_tod_gap = []\n",
    "rmse_tod_gap = []\n",
    "mape_tod_gap = []\n",
    "y_test_tod_gap = []\n",
    "model_tod_gap = []\n",
    "\n",
    "for i in range(1, 15):\n",
    "    y_test_tod_gap, y_pred_mult2, rmse_mult2, mape_mult2, model_mult2 = poly_regression_mult2(i)\n",
    "    \n",
    "    y_pred_tod_gap.append(y_pred_mult2)\n",
    "    rmse_tod_gap.append(rmse_mult2)\n",
    "    mape_tod_gap.append(mape_mult2)\n",
    "    model_tod_gap.append(model_mult2)"
   ]
  },
  {
   "cell_type": "code",
   "execution_count": null,
   "metadata": {},
   "outputs": [],
   "source": [
    "fig, ax = plt.subplots(figsize=(12,5), nrows = 1, ncols = 2)\n",
    "\n",
    "ax[0].plot([i for i in range(1, len(rmse_tod_gap) + 1)], rmse_tod_gap)\n",
    "ax[0].set_title(\"RMSE score as degree increases\")\n",
    "ax[0].set_xlabel(\"Degree\")\n",
    "ax[0].set_ylabel(\"RMSE (seconds)\")\n",
    "# ax[0].set_ylim(65, 90)\n",
    "\n",
    "ax[1].plot([i for i in range(1, len(mape_tod_gap) + 1)], mape_tod_gap)\n",
    "ax[1].set_title(\"MAPE score as degree increases\")\n",
    "ax[1].set_xlabel(\"Degree\")\n",
    "ax[1].set_ylabel(\"MAPE (seconds)\")\n",
    "# ax[1].set_ylim(50, 70)\n",
    "\n",
    "fig.suptitle(\"Regression Model with Time of Day and Gap size as independent variables\", fontsize=14)\n",
    "plt.show()"
   ]
  },
  {
   "cell_type": "code",
   "execution_count": 395,
   "metadata": {},
   "outputs": [
    {
     "name": "stdout",
     "output_type": "stream",
     "text": [
      "1 1\n"
     ]
    }
   ],
   "source": [
    "best_rmse_tod_gap = min(rmse_tod_gap)\n",
    "best_mape_tod_gap = min(mape_tod_gap)\n",
    "best_rmse_tod_gap_index = rmse_tod_gap.index(best_rmse_tod_gap)\n",
    "best_mape_tod_gap_index = mape_tod_gap.index(best_mape_tod_gap)\n",
    "print(best_rmse_tod_gap_index, best_mape_tod_gap_index)"
   ]
  },
  {
   "cell_type": "code",
   "execution_count": 396,
   "metadata": {},
   "outputs": [
    {
     "data": {
      "image/png": "[encoded data removed]",
      "text/plain": [
       "<Figure size 432x360 with 1 Axes>"
      ]
     },
     "metadata": {},
     "output_type": "display_data"
    }
   ],
   "source": [
    "fig, ax = plt.subplots(figsize=(6,5))\n",
    "ax.scatter(y_test_tod_gap, y_pred_tod_gap[best_rmse_tod_gap_index], label = \"degree = {}\".format(best_rmse_tod_gap_index + 1), color = cs[6], alpha = 0.7, s = 10)\n",
    "if best_rmse_tod_gap_index != best_mape_tod_gap_index:\n",
    "    ax.scatter(y_test_tod_gap, y_pred_tod_gap[best_mape_tod_gap_index], label = \"degree = {}\".format(best_mape_tod_gap_index + 1), color = cs[3], alpha = 0.7, s = 10)\n",
    "ax.set_title(\"Predicted vs actual journey time\")\n",
    "ax.set_xlabel(\"Actual journey time (seconds)\")\n",
    "ax.set_ylabel(\"Predicted journey time (seconds)\")\n",
    "# ax.set_xlim(0, 600)\n",
    "# ax.set_ylim(0, 600)\n",
    "ax.legend()\n",
    "\n",
    "fig.suptitle(\"Regression Model with Time of Day and Gap size as independent variables\", fontsize=14)\n",
    "plt.show()"
   ]
  },
  {
   "cell_type": "markdown",
   "metadata": {},
   "source": [
    "### Time of Day, Day of Week and Gap"
   ]
  },
  {
   "cell_type": "code",
   "execution_count": null,
   "metadata": {},
   "outputs": [],
   "source": [
    "# partition data into 4 groups\n",
    "df_tod_dow_gap = df.sort_values([\"Gap\", \"Time of Day\", \"Day of Week\"])\n",
    "training_tod_dow_gap, validation_tod_dow_gap = train_test_split(df_tod_dow_gap)\n",
    "training_tod_dow_gap.head()"
   ]
  },
  {
   "cell_type": "code",
   "execution_count": null,
   "metadata": {},
   "outputs": [],
   "source": [
    "from sklearn.metrics import mean_squared_error, mean_absolute_error, r2_score\n",
    "from sklearn.preprocessing import PolynomialFeatures\n",
    "\n",
    "def poly_regression_mult3(degree):\n",
    "    poly = PolynomialFeatures(degree = degree)\n",
    "    poly.fit(training_tod_dow_gap[['Time of Day', 'Day of Week Encoded', 'Gap']])\n",
    "\n",
    "    x_train = poly.transform(training_tod_dow_gap[['Time of Day', 'Day of Week Encoded', 'Gap']])\n",
    "    x_test = poly.transform(validation_tod_dow_gap[['Time of Day', 'Day of Week Encoded', 'Gap']])\n",
    "    y_train = training_tod_dow_gap['Journey Time (s)'][:, np.newaxis]\n",
    "    y_test = validation_tod_dow_gap['Journey Time (s)'][:, np.newaxis]\n",
    "    \n",
    "    # Scale the data\n",
    "    scaler = preprocessing.StandardScaler()\n",
    "    scaler = scaler.fit(x_train)\n",
    "    x_scaled = scaler.transform(x_train)\n",
    "    x_test_scaled = scaler.transform(x_test)\n",
    "\n",
    "    # Fit model\n",
    "    linreg = LinearRegression()\n",
    "    linreg.fit(x_scaled, y_train)\n",
    "\n",
    "    # Apply the model to the validation data to predict the ‘Journey Time’\n",
    "    y_pred = linreg.predict(x_test_scaled)\n",
    "\n",
    "    # Calculate measures of success\n",
    "    mse = mean_squared_error(y_test, y_pred)\n",
    "    rmse = np.sqrt(mse)\n",
    "    r2 = r2_score(y_test, y_pred)\n",
    "    mape = mean_absolute_error(y_test, y_pred)\n",
    "\n",
    "    # coefficient of determination = 1 is perfect prediction\n",
    "    print('The coefficient of determination is: ', r2)\n",
    "    \n",
    "    return y_test, y_pred, rmse, mape, linreg\n",
    "\n",
    "y_pred_tod_dow_gap = []\n",
    "rmse_tod_dow_gap = []\n",
    "mape_tod_dow_gap = []\n",
    "y_test_tod_dow_gap = []\n",
    "model_tod_dow_gap = []\n",
    "\n",
    "for i in range(1, 15):\n",
    "    y_test_tod_dow_gap, y_pred_mult3, rmse_mult3, mape_mult3, model_mult3 = poly_regression_mult3(i)\n",
    "    \n",
    "    y_pred_tod_dow_gap.append(y_pred_mult3)\n",
    "    rmse_tod_dow_gap.append(rmse_mult3)\n",
    "    mape_tod_dow_gap.append(mape_mult3)\n",
    "    model_tod_dow_gap.append(model_mult3)"
   ]
  },
  {
   "cell_type": "code",
   "execution_count": null,
   "metadata": {},
   "outputs": [],
   "source": [
    "fig, ax = plt.subplots(figsize=(12,5), nrows = 1, ncols = 2)\n",
    "\n",
    "ax[0].plot([i for i in range(1, len(rmse_tod_dow_gap) + 1)], rmse_tod_dow_gap)\n",
    "ax[0].set_title(\"RMSE score as degree increases\")\n",
    "ax[0].set_xlabel(\"Degree\")\n",
    "ax[0].set_ylabel(\"RMSE (seconds)\")\n",
    "# ax[0].set_ylim(65, 90)\n",
    "\n",
    "ax[1].plot([i for i in range(1, len(mape_tod_dow_gap) + 1)], mape_tod_dow_gap)\n",
    "ax[1].set_title(\"MAPE score as degree increases\")\n",
    "ax[1].set_xlabel(\"Degree\")\n",
    "ax[1].set_ylabel(\"MAPE (seconds)\")\n",
    "# ax[1].set_ylim(50, 70)\n",
    "\n",
    "fig.suptitle(\"Regression Model with Time of Day, Day of Week and Gap size as independent variables\", fontsize=14)\n",
    "plt.show()"
   ]
  },
  {
   "cell_type": "code",
   "execution_count": null,
   "metadata": {},
   "outputs": [],
   "source": [
    "best_rmse_tod_dow_gap = min(rmse_tod_dow_gap)\n",
    "best_mape_tod_dow_gap = min(mape_tod_dow_gap)\n",
    "best_rmse_tod_dow_gap_index = rmse_tod_dow_gap.index(best_rmse_tod_dow_gap)\n",
    "best_mape_tod_dow_gap_index = mape_tod_dow_gap.index(best_mape_tod_dow_gap)\n",
    "print(best_rmse_tod_dow_gap_index, best_mape_tod_dow_gap_index)"
   ]
  },
  {
   "cell_type": "code",
   "execution_count": null,
   "metadata": {},
   "outputs": [],
   "source": [
    "fig, ax = plt.subplots(figsize=(6,5))\n",
    "ax.scatter(y_test_tod_dow_gap, y_pred_tod_dow_gap[best_rmse_tod_dow_gap_index], label = \"degree = {}\".format(best_rmse_tod_dow_gap_index + 1), color = cs[6], alpha = 0.7, s = 10)\n",
    "if best_rmse_tod_dow_gap_index != best_mape_tod_dow_gap_index:\n",
    "    ax.scatter(y_test_tod_dow_gap, y_pred_tod_dow_gap[best_mape_tod_dow_gap_index], label = \"degree = {}\".format(best_mape_tod_dow_gap_index + 1), color = cs[3], alpha = 0.7, s = 10)\n",
    "ax.set_title(\"Predicted vs actual journey time\")\n",
    "ax.set_xlabel(\"Actual journey time (seconds)\")\n",
    "ax.set_ylabel(\"Predicted journey time (seconds)\")\n",
    "# ax.set_xlim(0, 600)\n",
    "# ax.set_ylim(0, 600)\n",
    "ax.legend()\n",
    "\n",
    "fig.suptitle(\"Regression Model with Time of Day, Day of Week and Gap size as independent variables\", fontsize=14)\n",
    "plt.show()"
   ]
  },
  {
   "cell_type": "markdown",
   "metadata": {},
   "source": [
    "## Compare the models"
   ]
  },
  {
   "cell_type": "code",
   "execution_count": 429,
   "metadata": {},
   "outputs": [
    {
     "name": "stdout",
     "output_type": "stream",
     "text": [
      "[(58.44862981476179, 2, 'Time of day'), (65.70403661826637, 14, 'Day of week'), (56.08190548407646, 13, 'ToD + DoW'), (52.665604711352856, 2, 'ToD + DoW + Lockdown')]\n",
      "[(77.7857208969304, 8, 'Time of day'), (83.93109179527758, 5, 'Day of week'), (75.97719359157101, 14, 'ToD + DoW'), (69.79338376930846, 2, 'ToD + DoW + Lockdown')]\n"
     ]
    }
   ],
   "source": [
    "compare_mapes = [best_mape_tod, best_mape_dow, best_mape_mult, best_mape_mult2]\n",
    "compare_rmses = [best_rmse_tod, best_rmse_dow, best_rmse_mult, best_rmse_mult2]\n",
    "compare_mapes_indices = [best_mape_tod_index, best_mape_dow_index, best_mape_mult_index, best_mape_mult2_index]\n",
    "compare_rmses_indices = [best_rmse_tod_index, best_rmse_dow_index, best_rmse_mult_index, best_rmse_mult2_index]\n",
    "compare_mapes_degree = [x + 1 for x in compare_mapes_indices]\n",
    "compare_rmses_degree = [x + 1 for x in compare_rmses_indices]\n",
    "\n",
    "compare_labels = [\"Time of day\", \"Day of week\", \"ToD + DoW\", \"ToD + DoW + Lockdown\"]\n",
    "best_mapes_zipped = list(zip(compare_mapes, compare_mapes_degree, compare_labels))\n",
    "best_rmses_zipped = list(zip(compare_rmses, compare_rmses_degree, compare_labels))\n",
    "print(best_mapes_zipped)\n",
    "print(best_rmses_zipped)"
   ]
  },
  {
   "cell_type": "code",
   "execution_count": 432,
   "metadata": {},
   "outputs": [
    {
     "data": {
      "image/png": "[encoded data removed]",
      "text/plain": [
       "<Figure size 864x360 with 2 Axes>"
      ]
     },
     "metadata": {},
     "output_type": "display_data"
    }
   ],
   "source": [
    "fig, ax = plt.subplots(figsize=(12,5), nrows = 1, ncols = 2)\n",
    "plt.xticks(rotation=45)\n",
    "\n",
    "ax[0].bar(compare_labels, compare_rmses)\n",
    "ax[0].set_title(\"RMSE score for different models\")\n",
    "ax[0].set_xlabel(\"Model\")\n",
    "ax[0].set_ylabel(\"RMSE (seconds)\")\n",
    "\n",
    "for tick in ax[0].get_xticklabels():\n",
    "    tick.set_rotation(45)\n",
    "\n",
    "rects_rmse = ax[0].patches\n",
    "labels_rmse = [round(best_rmse_tod, 2), round(best_rmse_dow, 2), round(best_rmse_mult, 2), round(best_rmse_mult2, 2)]\n",
    "\n",
    "for rect, label in zip(rects_rmse, labels_rmse):\n",
    "    height = rect.get_height()\n",
    "    ax[0].text(rect.get_x() + rect.get_width() / 2, height - 5, label,\n",
    "            ha='center', va='bottom')\n",
    "    \n",
    "ax[1].bar(compare_labels, compare_mapes)\n",
    "ax[1].set_title(\"MAPE score for different models\")\n",
    "ax[1].set_xlabel(\"Model\")\n",
    "ax[1].set_ylabel(\"MAPE (seconds)\")\n",
    "\n",
    "rects_mape = ax[1].patches\n",
    "labels_mape = [round(best_mape_tod, 2), round(best_mape_dow, 2), round(best_mape_mult, 2), round(best_mape_mult2, 2)]\n",
    "\n",
    "for rect, label in zip(rects_mape, labels_mape):\n",
    "    height = rect.get_height()\n",
    "    ax[1].text(rect.get_x() + rect.get_width() / 2, height - 5, label,\n",
    "            ha='center', va='bottom')\n",
    "\n",
    "fig.suptitle('Regression Model', fontsize=14)\n",
    "plt.show()"
   ]
  },
  {
   "cell_type": "markdown",
   "metadata": {},
   "source": [
    "According to both MAPE and RMSE, the best model is the one that has time of day and day of week as independent variables in the multilinear regression model with degree 3 and 7 respectively\n",
    "\n",
    "TODO: In this case, is MAPE or RMSE a better measure of success?\n",
    "\n",
    "The above values change depending on the split of training and testing -> might be necessary to do k-fold cross validation and get the average MAPE and average RMSE? Can email Peter to discuss"
   ]
  },
  {
   "cell_type": "code",
   "execution_count": 400,
   "metadata": {},
   "outputs": [
    {
     "name": "stdout",
     "output_type": "stream",
     "text": [
      "Stored 'regression_mapes' (list)\n",
      "Stored 'regression_rmses' (list)\n"
     ]
    }
   ],
   "source": [
    "regression_mapes = compare_mapes\n",
    "regression_rmses = compare_rmses\n",
    "\n",
    "%store regression_mapes regression_rmses"
   ]
  },
  {
   "cell_type": "markdown",
   "metadata": {},
   "source": [
    "## Testing out best model with random gaps and random routes\n",
    "\n",
    "Test the best 2 models"
   ]
  },
  {
   "cell_type": "code",
   "execution_count": 442,
   "metadata": {},
   "outputs": [
    {
     "name": "stdout",
     "output_type": "stream",
     "text": [
      "(52.665604711352856, 2, 'ToD + DoW + Lockdown')\n",
      "(56.08190548407646, 13, 'ToD + DoW')\n"
     ]
    }
   ],
   "source": [
    "best_model1, best_model2 = sorted(best_mapes_zipped, key = lambda t: t[0])[:2]\n",
    "print(best_model1)\n",
    "print(best_model2)\n",
    "\n",
    "all_models = {\n",
    "    \"ToD\": model_tods,\n",
    "    \"DoW\": model_dows,\n",
    "    \"ToD + DoW\": model_mults,\n",
    "    \"ToD + DoW + Lockdown\": model_mults2\n",
    "}\n",
    "\n",
    "model1_degree = best_model1[1]\n",
    "model1 = all_models.get(best_model1[2])[model1_degree - 1]\n",
    "\n",
    "model2_degree = best_model2[1]\n",
    "model2 = all_models.get(best_model2[2])[model2_degree - 1]"
   ]
  },
  {
   "cell_type": "markdown",
   "metadata": {},
   "source": [
    "### Gaps from size 5 to 35"
   ]
  },
  {
   "cell_type": "markdown",
   "metadata": {},
   "source": [
    "### 1st best model"
   ]
  },
  {
   "cell_type": "code",
   "execution_count": 451,
   "metadata": {
    "scrolled": true
   },
   "outputs": [
    {
     "name": "stdout",
     "output_type": "stream",
     "text": [
      "Gap = 5\n",
      "Getting journey times took 188.26101207733154\n",
      "107.50956930583848 87.10300523726522\n",
      "Gap = 10\n",
      "Getting journey times took 145.89141297340393\n",
      "426.18650653927955 417.3202777283249\n",
      "Gap = 15\n",
      "Getting journey times took 156.50052905082703\n",
      "750.5426924568935 740.2400395274673\n",
      "Gap = 20\n",
      "Getting journey times took 279.50642585754395\n",
      "1092.831596199362 1084.1104976928148\n",
      "Gap = 25\n",
      "Getting journey times took 280.73078203201294\n",
      "1745.8211195725478 1735.7619872505543\n",
      "Gap = 30\n",
      "Getting journey times took 221.38657784461975\n",
      "2352.4959361700076 2332.565597954367\n",
      "Gap = 35\n",
      "Getting journey times took 226.06498289108276\n"
     ]
    },
    {
     "ename": "ValueError",
     "evalue": "Found array with 0 sample(s) (shape=(0, 3)) while a minimum of 1 is required.",
     "output_type": "error",
     "traceback": [
      "\u001b[0;31m---------------------------------------------------------------------------\u001b[0m",
      "\u001b[0;31mValueError\u001b[0m                                Traceback (most recent call last)",
      "\u001b[0;32m<ipython-input-451-e43241d3e470>\u001b[0m in \u001b[0;36m<module>\u001b[0;34m\u001b[0m\n\u001b[1;32m     12\u001b[0m     \u001b[0mpoly1\u001b[0m \u001b[0;34m=\u001b[0m \u001b[0mPolynomialFeatures\u001b[0m\u001b[0;34m(\u001b[0m\u001b[0mdegree\u001b[0m \u001b[0;34m=\u001b[0m \u001b[0mmodel1_degree\u001b[0m\u001b[0;34m)\u001b[0m\u001b[0;34m\u001b[0m\u001b[0;34m\u001b[0m\u001b[0m\n\u001b[1;32m     13\u001b[0m \u001b[0;34m\u001b[0m\u001b[0m\n\u001b[0;32m---> 14\u001b[0;31m     \u001b[0mx_test_gap\u001b[0m \u001b[0;34m=\u001b[0m \u001b[0mpoly1\u001b[0m\u001b[0;34m.\u001b[0m\u001b[0mfit_transform\u001b[0m\u001b[0;34m(\u001b[0m\u001b[0mdf_gap\u001b[0m\u001b[0;34m[\u001b[0m\u001b[0;34m[\u001b[0m\u001b[0;34m'Day of Week Encoded'\u001b[0m\u001b[0;34m,\u001b[0m \u001b[0;34m'Time of Day'\u001b[0m\u001b[0;34m,\u001b[0m \u001b[0;34m'Pre Lockdown Encoded'\u001b[0m\u001b[0;34m]\u001b[0m\u001b[0;34m]\u001b[0m\u001b[0;34m)\u001b[0m\u001b[0;34m\u001b[0m\u001b[0;34m\u001b[0m\u001b[0m\n\u001b[0m\u001b[1;32m     15\u001b[0m     \u001b[0my_test_gap\u001b[0m \u001b[0;34m=\u001b[0m \u001b[0mdf_gap\u001b[0m\u001b[0;34m[\u001b[0m\u001b[0;34m'Journey Time (s)'\u001b[0m\u001b[0;34m]\u001b[0m\u001b[0;34m[\u001b[0m\u001b[0;34m:\u001b[0m\u001b[0;34m,\u001b[0m \u001b[0mnp\u001b[0m\u001b[0;34m.\u001b[0m\u001b[0mnewaxis\u001b[0m\u001b[0;34m]\u001b[0m\u001b[0;34m\u001b[0m\u001b[0;34m\u001b[0m\u001b[0m\n\u001b[1;32m     16\u001b[0m \u001b[0;34m\u001b[0m\u001b[0m\n",
      "\u001b[0;32m~/anaconda3/lib/python3.7/site-packages/sklearn/base.py\u001b[0m in \u001b[0;36mfit_transform\u001b[0;34m(self, X, y, **fit_params)\u001b[0m\n\u001b[1;32m    569\u001b[0m         \u001b[0;32mif\u001b[0m \u001b[0my\u001b[0m \u001b[0;32mis\u001b[0m \u001b[0;32mNone\u001b[0m\u001b[0;34m:\u001b[0m\u001b[0;34m\u001b[0m\u001b[0;34m\u001b[0m\u001b[0m\n\u001b[1;32m    570\u001b[0m             \u001b[0;31m# fit method of arity 1 (unsupervised transformation)\u001b[0m\u001b[0;34m\u001b[0m\u001b[0;34m\u001b[0m\u001b[0;34m\u001b[0m\u001b[0m\n\u001b[0;32m--> 571\u001b[0;31m             \u001b[0;32mreturn\u001b[0m \u001b[0mself\u001b[0m\u001b[0;34m.\u001b[0m\u001b[0mfit\u001b[0m\u001b[0;34m(\u001b[0m\u001b[0mX\u001b[0m\u001b[0;34m,\u001b[0m \u001b[0;34m**\u001b[0m\u001b[0mfit_params\u001b[0m\u001b[0;34m)\u001b[0m\u001b[0;34m.\u001b[0m\u001b[0mtransform\u001b[0m\u001b[0;34m(\u001b[0m\u001b[0mX\u001b[0m\u001b[0;34m)\u001b[0m\u001b[0;34m\u001b[0m\u001b[0;34m\u001b[0m\u001b[0m\n\u001b[0m\u001b[1;32m    572\u001b[0m         \u001b[0;32melse\u001b[0m\u001b[0;34m:\u001b[0m\u001b[0;34m\u001b[0m\u001b[0;34m\u001b[0m\u001b[0m\n\u001b[1;32m    573\u001b[0m             \u001b[0;31m# fit method of arity 2 (supervised transformation)\u001b[0m\u001b[0;34m\u001b[0m\u001b[0;34m\u001b[0m\u001b[0;34m\u001b[0m\u001b[0m\n",
      "\u001b[0;32m~/anaconda3/lib/python3.7/site-packages/sklearn/preprocessing/_data.py\u001b[0m in \u001b[0;36mfit\u001b[0;34m(self, X, y)\u001b[0m\n\u001b[1;32m   1506\u001b[0m         \u001b[0mself\u001b[0m \u001b[0;34m:\u001b[0m \u001b[0minstance\u001b[0m\u001b[0;34m\u001b[0m\u001b[0;34m\u001b[0m\u001b[0m\n\u001b[1;32m   1507\u001b[0m         \"\"\"\n\u001b[0;32m-> 1508\u001b[0;31m         \u001b[0mn_samples\u001b[0m\u001b[0;34m,\u001b[0m \u001b[0mn_features\u001b[0m \u001b[0;34m=\u001b[0m \u001b[0mcheck_array\u001b[0m\u001b[0;34m(\u001b[0m\u001b[0mX\u001b[0m\u001b[0;34m,\u001b[0m \u001b[0maccept_sparse\u001b[0m\u001b[0;34m=\u001b[0m\u001b[0;32mTrue\u001b[0m\u001b[0;34m)\u001b[0m\u001b[0;34m.\u001b[0m\u001b[0mshape\u001b[0m\u001b[0;34m\u001b[0m\u001b[0;34m\u001b[0m\u001b[0m\n\u001b[0m\u001b[1;32m   1509\u001b[0m         combinations = self._combinations(n_features, self.degree,\n\u001b[1;32m   1510\u001b[0m                                           \u001b[0mself\u001b[0m\u001b[0;34m.\u001b[0m\u001b[0minteraction_only\u001b[0m\u001b[0;34m,\u001b[0m\u001b[0;34m\u001b[0m\u001b[0;34m\u001b[0m\u001b[0m\n",
      "\u001b[0;32m~/anaconda3/lib/python3.7/site-packages/sklearn/utils/validation.py\u001b[0m in \u001b[0;36mcheck_array\u001b[0;34m(array, accept_sparse, accept_large_sparse, dtype, order, copy, force_all_finite, ensure_2d, allow_nd, ensure_min_samples, ensure_min_features, warn_on_dtype, estimator)\u001b[0m\n\u001b[1;32m    584\u001b[0m                              \u001b[0;34m\" minimum of %d is required%s.\"\u001b[0m\u001b[0;34m\u001b[0m\u001b[0;34m\u001b[0m\u001b[0m\n\u001b[1;32m    585\u001b[0m                              % (n_samples, array.shape, ensure_min_samples,\n\u001b[0;32m--> 586\u001b[0;31m                                 context))\n\u001b[0m\u001b[1;32m    587\u001b[0m \u001b[0;34m\u001b[0m\u001b[0m\n\u001b[1;32m    588\u001b[0m     \u001b[0;32mif\u001b[0m \u001b[0mensure_min_features\u001b[0m \u001b[0;34m>\u001b[0m \u001b[0;36m0\u001b[0m \u001b[0;32mand\u001b[0m \u001b[0marray\u001b[0m\u001b[0;34m.\u001b[0m\u001b[0mndim\u001b[0m \u001b[0;34m==\u001b[0m \u001b[0;36m2\u001b[0m\u001b[0;34m:\u001b[0m\u001b[0;34m\u001b[0m\u001b[0;34m\u001b[0m\u001b[0m\n",
      "\u001b[0;31mValueError\u001b[0m: Found array with 0 sample(s) (shape=(0, 3)) while a minimum of 1 is required."
     ]
    }
   ],
   "source": [
    "from sklearn.preprocessing import PolynomialFeatures, StandardScaler\n",
    "from sklearn.metrics import mean_squared_error, mean_absolute_error\n",
    "\n",
    "mapes_gap = []\n",
    "rmses_gap = []\n",
    "\n",
    "for i, b in enumerate(stop_bs):\n",
    "    print(\"Gap = {}\".format((i + 1) * 5))\n",
    "    res = get_attrs((i + 1) * 5, stop_a, b, a_id)\n",
    "    \n",
    "    df_gap = res.sort_values([\"Time of Day\", \"Day of Week\", \"Pre Lockdown\"])\n",
    "    poly1 = PolynomialFeatures(degree = model1_degree)\n",
    "\n",
    "    x_test_gap = poly1.fit_transform(df_gap[['Day of Week Encoded', 'Time of Day', 'Pre Lockdown Encoded']])\n",
    "    y_test_gap = df_gap['Journey Time (s)'][:, np.newaxis]\n",
    "\n",
    "    # Scale the data\n",
    "    scaler = StandardScaler()\n",
    "    x_gap_scaled = scaler.fit_transform(x_test_gap)\n",
    "\n",
    "    # Predict. Model is already trained.\n",
    "    y_pred_gap = model1.predict(x_gap_scaled)\n",
    "\n",
    "    # Calculate measures of success\n",
    "    mse = mean_squared_error(y_test_gap, y_pred_gap)\n",
    "    rmse = np.sqrt(mse)\n",
    "    mape = mean_absolute_error(y_test_gap, y_pred_gap)\n",
    "    mapes_gap.append(mape)\n",
    "    rmses_gap.append(rmse)\n",
    "\n",
    "    print(rmse, mape)"
   ]
  },
  {
   "cell_type": "markdown",
   "metadata": {},
   "source": [
    "Ok so the regression models not generalising well to larger gaps makes sense because the model that I am using learnt model which has only learnt on gaps of 5 so it will only ever predict stuff for like between 10 mins or so. So what I need to do, is give it a different training set -> the training set needs to include gap_size as a learnable parameter and this needs to be part of the training process."
   ]
  },
  {
   "cell_type": "code",
   "execution_count": 455,
   "metadata": {},
   "outputs": [
    {
     "name": "stdout",
     "output_type": "stream",
     "text": [
      "Getting journey times took 174.98966097831726\n",
      "120887.03343646442 347.68812668318776 336.8264353036169\n"
     ]
    }
   ],
   "source": [
    "test = get_attrs((i + 1) * 5, stop_a, stop_bs[1], a_id)\n",
    "    \n",
    "df_gap = test.sort_values([\"Time of Day\", \"Day of Week\", \"Pre Lockdown\"])\n",
    "poly1 = PolynomialFeatures(degree = model1_degree)\n",
    "\n",
    "x_test_gap = poly1.fit_transform(df_gap[['Day of Week Encoded', 'Time of Day', 'Pre Lockdown Encoded']])\n",
    "y_test_gap = df_gap['Journey Time (s)'][:, np.newaxis]\n",
    "\n",
    "# Scale the data\n",
    "scaler = StandardScaler()\n",
    "x_gap_scaled = scaler.fit_transform(x_test_gap)\n",
    "\n",
    "# Predict. Model is already trained.\n",
    "y_pred_gap = model1.predict(x_gap_scaled)\n",
    "\n",
    "# Calculate measures of success\n",
    "mse = mean_squared_error(y_test_gap, y_pred_gap)\n",
    "rmse = np.sqrt(mse)\n",
    "mape = mean_absolute_error(y_test_gap, y_pred_gap)\n",
    "print(mse, rmse, mape)"
   ]
  },
  {
   "cell_type": "code",
   "execution_count": 457,
   "metadata": {},
   "outputs": [
    {
     "name": "stdout",
     "output_type": "stream",
     "text": [
      "[[135.19140399]\n",
      " [135.19140399]\n",
      " [135.19140399]\n",
      " [ 80.69140399]\n",
      " [ 80.69140399]\n",
      " [ 80.69140399]\n",
      " [166.82299705]\n",
      " [166.82299705]\n",
      " [166.82299705]\n",
      " [166.82299705]]\n"
     ]
    }
   ],
   "source": [
    "print(y_pred_gap[:10])"
   ]
  },
  {
   "cell_type": "code",
   "execution_count": null,
   "metadata": {},
   "outputs": [],
   "source": [
    "poly = PolynomialFeatures(degree = degree)\n",
    "poly.fit(training_mult2[['Day of Week Encoded', 'Time of Day', 'Pre Lockdown Encoded']])\n",
    "\n",
    "x_train = poly.transform(tr[['Day of Week Encoded', 'Time of Day', 'Pre Lockdown Encoded']])\n",
    "x_test = poly.transform(va[['Day of Week Encoded', 'Time of Day', 'Pre Lockdown Encoded']])\n",
    "y_train = tr['Journey Time (s)'][:, np.newaxis]\n",
    "y_test = va['Journey Time (s)'][:, np.newaxis]\n",
    "\n",
    "# Scale the data\n",
    "scaler = preprocessing.StandardScaler()\n",
    "scaler = scaler.fit(x_train)\n",
    "x_scaled = scaler.transform(x_train)\n",
    "x_test_scaled = scaler.transform(x_test)\n",
    "\n",
    "# Fit model\n",
    "linreg = LinearRegression()\n",
    "linreg.fit(x_scaled, y_train)\n",
    "\n",
    "# Apply the model to the validation data to predict the ‘Journey Time’\n",
    "y_pred = linreg.predict(x_test_scaled)\n",
    "\n",
    "# Calculate measures of success\n",
    "mse = mean_squared_error(y_test, y_pred)\n",
    "rmse = np.sqrt(mse)\n",
    "r2 = r2_score(y_test, y_pred)\n",
    "mape = mean_absolute_error(y_test, y_pred)"
   ]
  }
 ],
 "metadata": {
  "kernelspec": {
   "display_name": "Python 3",
   "language": "python",
   "name": "python3"
  },
  "language_info": {
   "codemirror_mode": {
    "name": "ipython",
    "version": 3
   },
   "file_extension": ".py",
   "mimetype": "text/x-python",
   "name": "python",
   "nbconvert_exporter": "python",
   "pygments_lexer": "ipython3",
   "version": "3.7.6"
  }
 },
 "nbformat": 4,
 "nbformat_minor": 2
}
